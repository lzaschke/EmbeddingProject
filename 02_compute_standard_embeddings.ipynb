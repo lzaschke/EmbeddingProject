{
 "cells": [
  {
   "cell_type": "code",
   "execution_count": 1,
   "id": "a1338ec2-a3ba-42e1-82d8-c6213b531a2a",
   "metadata": {
    "tags": []
   },
   "outputs": [
    {
     "name": "stderr",
     "output_type": "stream",
     "text": [
      "/data/cephfs-1/home/users/lzaschk_m/work/miniforge3/envs/elephant_analysis_env/lib/python3.11/site-packages/tqdm/auto.py:21: TqdmWarning: IProgress not found. Please update jupyter and ipywidgets. See https://ipywidgets.readthedocs.io/en/stable/user_install.html\n",
      "  from .autonotebook import tqdm as notebook_tqdm\n"
     ]
    }
   ],
   "source": [
    "import numpy as np\n",
    "import anndata\n",
    "\n",
    "from sklearn.decomposition import PCA\n",
    "from umap import UMAP\n",
    "from openTSNE import TSNE"
   ]
  },
  {
   "cell_type": "markdown",
   "id": "7d90cf10-db51-42e7-bb99-49f7a0cf76ac",
   "metadata": {},
   "source": [
    "### Load datasets"
   ]
  },
  {
   "cell_type": "code",
   "execution_count": 21,
   "id": "906bf1da-ffde-46ba-83a1-c44bdbcff1e5",
   "metadata": {
    "tags": []
   },
   "outputs": [],
   "source": [
    "import scipy.sparse as sp"
   ]
  },
  {
   "cell_type": "code",
   "execution_count": 41,
   "id": "3b2a5d3a-ac01-409d-b3d8-570a0bf0153d",
   "metadata": {
    "tags": []
   },
   "outputs": [],
   "source": [
    "adata_own = anndata.read_h5ad(\"../data/preprocessed/O_RTK1_m_2a+b_adata.h5ad\")"
   ]
  },
  {
   "cell_type": "code",
   "execution_count": 25,
   "id": "c95e269f-7827-4282-b8d8-1c7c4441742a",
   "metadata": {
    "tags": []
   },
   "outputs": [],
   "source": [
    "adata_own_a = anndata.read_h5ad(\"../data/preprocessed/O_RTK1_m_2a_adata.h5ad\")\n",
    "adata_own_b = anndata.read_h5ad(\"../data/preprocessed/O_RTK1_m_2b_adata.h5ad\")"
   ]
  },
  {
   "cell_type": "code",
   "execution_count": 53,
   "id": "e5f43168-62ba-4a5a-b8ff-dc000be928be",
   "metadata": {
    "tags": []
   },
   "outputs": [],
   "source": [
    "datasets = [adata_own, adata_own_a, adata_own_b]"
   ]
  },
  {
   "cell_type": "code",
   "execution_count": 54,
   "id": "741df9d4-fe79-46d3-9c1c-4d77b6640599",
   "metadata": {
    "tags": []
   },
   "outputs": [
    {
     "name": "stdout",
     "output_type": "stream",
     "text": [
      "O_RTK1_m_2a+b 64\n",
      "O_RTK1_m_2a 33\n",
      "O_RTK1_m_2b 31\n"
     ]
    }
   ],
   "source": [
    "#number of classes per dataset\n",
    "for ad in datasets:\n",
    "    print(ad.uns['dataset'],len(np.unique(ad.obs['clusterlabels'])),sep=' ')"
   ]
  },
  {
   "cell_type": "code",
   "execution_count": 50,
   "id": "56607cbe-bd39-462b-88ba-5b2339efa7b8",
   "metadata": {
    "tags": []
   },
   "outputs": [],
   "source": [
    "adata_own.X = adata_own.X.toarray() if isinstance(adata_own.X, sp.spmatrix) else adata_own.X\n",
    "adata_own.layers['X_scaled'] = adata_own.layers['X_scaled'].toarray() if isinstance(adata_own.layers['X_scaled'], sp.spmatrix) else adata_own.layers['X_scaled']"
   ]
  },
  {
   "cell_type": "code",
   "execution_count": 55,
   "id": "5bed3012-b00d-408f-9528-4e2fc2221cf1",
   "metadata": {
    "tags": []
   },
   "outputs": [
    {
     "name": "stdout",
     "output_type": "stream",
     "text": [
      "running on scaled and unscaled data for O_RTK1_m_2a+b\n",
      "O_RTK1_m_2a+b seed: 0 scaled: False\n",
      "PCA2\n",
      "PCA50\n",
      "UMAP\n",
      "UMAP(random_state=0, verbose=True)\n",
      "Sat Mar  8 19:46:51 2025 Construct fuzzy simplicial set\n",
      "Sat Mar  8 19:46:51 2025 Finding Nearest Neighbors\n",
      "Sat Mar  8 19:46:51 2025 Building RP forest with 13 trees\n",
      "Sat Mar  8 19:46:51 2025 NN descent for 15 iterations\n"
     ]
    },
    {
     "name": "stderr",
     "output_type": "stream",
     "text": [
      "/data/cephfs-1/home/users/lzaschk_m/work/miniforge3/envs/elephant_analysis_env/lib/python3.11/site-packages/umap/umap_.py:1943: UserWarning: n_jobs value -1 overridden to 1 by setting random_state. Use no seed for parallelism.\n",
      "  warn(f\"n_jobs value {self.n_jobs} overridden to 1 by setting random_state. Use no seed for parallelism.\")\n"
     ]
    },
    {
     "name": "stdout",
     "output_type": "stream",
     "text": [
      "\t 1  /  15\n",
      "\t 2  /  15\n",
      "\t 3  /  15\n",
      "\t 4  /  15\n",
      "\tStopping threshold met -- exiting after 4 iterations\n",
      "Sat Mar  8 19:46:52 2025 Finished Nearest Neighbor Search\n",
      "Sat Mar  8 19:46:52 2025 Construct embedding\n"
     ]
    },
    {
     "name": "stderr",
     "output_type": "stream",
     "text": [
      "Epochs completed:   2%| ▏          4/200 [00:00]"
     ]
    },
    {
     "name": "stdout",
     "output_type": "stream",
     "text": [
      "\tcompleted  0  /  200 epochs\n"
     ]
    },
    {
     "name": "stderr",
     "output_type": "stream",
     "text": [
      "Epochs completed:  12%| █▏         24/200 [00:02]"
     ]
    },
    {
     "name": "stdout",
     "output_type": "stream",
     "text": [
      "\tcompleted  20  /  200 epochs\n"
     ]
    },
    {
     "name": "stderr",
     "output_type": "stream",
     "text": [
      "Epochs completed:  21%| ██         42/200 [00:03]"
     ]
    },
    {
     "name": "stdout",
     "output_type": "stream",
     "text": [
      "\tcompleted  40  /  200 epochs\n"
     ]
    },
    {
     "name": "stderr",
     "output_type": "stream",
     "text": [
      "Epochs completed:  33%| ███▎       66/200 [00:05]"
     ]
    },
    {
     "name": "stdout",
     "output_type": "stream",
     "text": [
      "\tcompleted  60  /  200 epochs\n"
     ]
    },
    {
     "name": "stderr",
     "output_type": "stream",
     "text": [
      "Epochs completed:  42%| ████▏      84/200 [00:06]"
     ]
    },
    {
     "name": "stdout",
     "output_type": "stream",
     "text": [
      "\tcompleted  80  /  200 epochs\n"
     ]
    },
    {
     "name": "stderr",
     "output_type": "stream",
     "text": [
      "Epochs completed:  53%| █████▎     106/200 [00:08]"
     ]
    },
    {
     "name": "stdout",
     "output_type": "stream",
     "text": [
      "\tcompleted  100  /  200 epochs\n"
     ]
    },
    {
     "name": "stderr",
     "output_type": "stream",
     "text": [
      "Epochs completed:  62%| ██████▏    124/200 [00:09]"
     ]
    },
    {
     "name": "stdout",
     "output_type": "stream",
     "text": [
      "\tcompleted  120  /  200 epochs\n"
     ]
    },
    {
     "name": "stderr",
     "output_type": "stream",
     "text": [
      "Epochs completed:  72%| ███████▏   144/200 [00:11]"
     ]
    },
    {
     "name": "stdout",
     "output_type": "stream",
     "text": [
      "\tcompleted  140  /  200 epochs\n"
     ]
    },
    {
     "name": "stderr",
     "output_type": "stream",
     "text": [
      "Epochs completed:  82%| ████████▏  164/200 [00:12]"
     ]
    },
    {
     "name": "stdout",
     "output_type": "stream",
     "text": [
      "\tcompleted  160  /  200 epochs\n"
     ]
    },
    {
     "name": "stderr",
     "output_type": "stream",
     "text": [
      "Epochs completed:  92%| █████████▏ 184/200 [00:14]"
     ]
    },
    {
     "name": "stdout",
     "output_type": "stream",
     "text": [
      "\tcompleted  180  /  200 epochs\n"
     ]
    },
    {
     "name": "stderr",
     "output_type": "stream",
     "text": [
      "Epochs completed: 100%| ██████████ 200/200 [00:15]\n"
     ]
    },
    {
     "name": "stdout",
     "output_type": "stream",
     "text": [
      "Sat Mar  8 19:47:09 2025 Finished embedding\n",
      "TSNE\n",
      "--------------------------------------------------------------------------------\n",
      "TSNE(early_exaggeration=12, random_state=0, verbose=True)\n",
      "--------------------------------------------------------------------------------\n",
      "===> Finding 90 nearest neighbors using Annoy approximate search using euclidean distance...\n",
      "   --> Time elapsed: 11.82 seconds\n",
      "===> Calculating affinity matrix...\n",
      "   --> Time elapsed: 0.76 seconds\n",
      "===> Calculating PCA-based initialization...\n",
      "   --> Time elapsed: 0.07 seconds\n",
      "===> Running optimization with exaggeration=12.00, lr=2042.83 for 250 iterations...\n",
      "Iteration   50, KL divergence 4.7982, 50 iterations in 2.3674 sec\n",
      "Iteration  100, KL divergence 4.6951, 50 iterations in 2.3395 sec\n",
      "Iteration  150, KL divergence 4.6428, 50 iterations in 2.3283 sec\n",
      "Iteration  200, KL divergence 4.6199, 50 iterations in 2.3389 sec\n",
      "Iteration  250, KL divergence 4.6085, 50 iterations in 2.3326 sec\n",
      "   --> Time elapsed: 11.71 seconds\n",
      "===> Running optimization with exaggeration=1.00, lr=24514.00 for 500 iterations...\n",
      "Iteration   50, KL divergence 2.8004, 50 iterations in 2.4020 sec\n",
      "Iteration  100, KL divergence 2.6070, 50 iterations in 3.1241 sec\n",
      "Iteration  150, KL divergence 2.5180, 50 iterations in 4.0025 sec\n",
      "Iteration  200, KL divergence 2.4647, 50 iterations in 5.0360 sec\n",
      "Iteration  250, KL divergence 2.4270, 50 iterations in 5.9971 sec\n",
      "Iteration  300, KL divergence 2.3997, 50 iterations in 6.8632 sec\n",
      "Iteration  350, KL divergence 2.3775, 50 iterations in 7.6003 sec\n",
      "Iteration  400, KL divergence 2.3598, 50 iterations in 8.6890 sec\n",
      "Iteration  450, KL divergence 2.3452, 50 iterations in 8.8850 sec\n",
      "Iteration  500, KL divergence 2.3330, 50 iterations in 10.2467 sec\n",
      "   --> Time elapsed: 62.85 seconds\n",
      "O_RTK1_m_2a+b seed: 1 scaled: False\n",
      "PCA2\n",
      "PCA50\n",
      "UMAP\n",
      "UMAP(random_state=1, verbose=True)\n",
      "Sat Mar  8 19:48:38 2025 Construct fuzzy simplicial set\n",
      "Sat Mar  8 19:48:38 2025 Finding Nearest Neighbors\n",
      "Sat Mar  8 19:48:38 2025 Building RP forest with 13 trees\n",
      "Sat Mar  8 19:48:38 2025 NN descent for 15 iterations\n"
     ]
    },
    {
     "name": "stderr",
     "output_type": "stream",
     "text": [
      "/data/cephfs-1/home/users/lzaschk_m/work/miniforge3/envs/elephant_analysis_env/lib/python3.11/site-packages/umap/umap_.py:1943: UserWarning: n_jobs value -1 overridden to 1 by setting random_state. Use no seed for parallelism.\n",
      "  warn(f\"n_jobs value {self.n_jobs} overridden to 1 by setting random_state. Use no seed for parallelism.\")\n"
     ]
    },
    {
     "name": "stdout",
     "output_type": "stream",
     "text": [
      "\t 1  /  15\n",
      "\t 2  /  15\n",
      "\t 3  /  15\n",
      "\t 4  /  15\n",
      "\tStopping threshold met -- exiting after 4 iterations\n",
      "Sat Mar  8 19:48:39 2025 Finished Nearest Neighbor Search\n",
      "Sat Mar  8 19:48:39 2025 Construct embedding\n"
     ]
    },
    {
     "name": "stderr",
     "output_type": "stream",
     "text": [
      "Epochs completed:   3%| ▎          6/200 [00:00]"
     ]
    },
    {
     "name": "stdout",
     "output_type": "stream",
     "text": [
      "\tcompleted  0  /  200 epochs\n"
     ]
    },
    {
     "name": "stderr",
     "output_type": "stream",
     "text": [
      "Epochs completed:  12%| █▏         24/200 [00:02]"
     ]
    },
    {
     "name": "stdout",
     "output_type": "stream",
     "text": [
      "\tcompleted  20  /  200 epochs\n"
     ]
    },
    {
     "name": "stderr",
     "output_type": "stream",
     "text": [
      "Epochs completed:  22%| ██▏        44/200 [00:03]"
     ]
    },
    {
     "name": "stdout",
     "output_type": "stream",
     "text": [
      "\tcompleted  40  /  200 epochs\n"
     ]
    },
    {
     "name": "stderr",
     "output_type": "stream",
     "text": [
      "Epochs completed:  33%| ███▎       66/200 [00:05]"
     ]
    },
    {
     "name": "stdout",
     "output_type": "stream",
     "text": [
      "\tcompleted  60  /  200 epochs\n"
     ]
    },
    {
     "name": "stderr",
     "output_type": "stream",
     "text": [
      "Epochs completed:  42%| ████▏      84/200 [00:06]"
     ]
    },
    {
     "name": "stdout",
     "output_type": "stream",
     "text": [
      "\tcompleted  80  /  200 epochs\n"
     ]
    },
    {
     "name": "stderr",
     "output_type": "stream",
     "text": [
      "Epochs completed:  51%| █████      102/200 [00:08]"
     ]
    },
    {
     "name": "stdout",
     "output_type": "stream",
     "text": [
      "\tcompleted  100  /  200 epochs\n"
     ]
    },
    {
     "name": "stderr",
     "output_type": "stream",
     "text": [
      "Epochs completed:  62%| ██████▏    124/200 [00:09]"
     ]
    },
    {
     "name": "stdout",
     "output_type": "stream",
     "text": [
      "\tcompleted  120  /  200 epochs\n"
     ]
    },
    {
     "name": "stderr",
     "output_type": "stream",
     "text": [
      "Epochs completed:  72%| ███████▏   144/200 [00:11]"
     ]
    },
    {
     "name": "stdout",
     "output_type": "stream",
     "text": [
      "\tcompleted  140  /  200 epochs\n"
     ]
    },
    {
     "name": "stderr",
     "output_type": "stream",
     "text": [
      "Epochs completed:  82%| ████████▏  164/200 [00:12]"
     ]
    },
    {
     "name": "stdout",
     "output_type": "stream",
     "text": [
      "\tcompleted  160  /  200 epochs\n"
     ]
    },
    {
     "name": "stderr",
     "output_type": "stream",
     "text": [
      "Epochs completed:  91%| █████████  182/200 [00:14]"
     ]
    },
    {
     "name": "stdout",
     "output_type": "stream",
     "text": [
      "\tcompleted  180  /  200 epochs\n"
     ]
    },
    {
     "name": "stderr",
     "output_type": "stream",
     "text": [
      "Epochs completed: 100%| ██████████ 200/200 [00:15]\n"
     ]
    },
    {
     "name": "stdout",
     "output_type": "stream",
     "text": [
      "Sat Mar  8 19:48:55 2025 Finished embedding\n",
      "TSNE\n",
      "--------------------------------------------------------------------------------\n",
      "TSNE(early_exaggeration=12, random_state=1, verbose=True)\n",
      "--------------------------------------------------------------------------------\n",
      "===> Finding 90 nearest neighbors using Annoy approximate search using euclidean distance...\n",
      "   --> Time elapsed: 11.86 seconds\n",
      "===> Calculating affinity matrix...\n",
      "   --> Time elapsed: 0.74 seconds\n",
      "===> Calculating PCA-based initialization...\n",
      "   --> Time elapsed: 0.07 seconds\n",
      "===> Running optimization with exaggeration=12.00, lr=2042.83 for 250 iterations...\n",
      "Iteration   50, KL divergence 4.8010, 50 iterations in 2.3713 sec\n",
      "Iteration  100, KL divergence 4.6926, 50 iterations in 2.3546 sec\n",
      "Iteration  150, KL divergence 4.6430, 50 iterations in 2.3652 sec\n",
      "Iteration  200, KL divergence 4.6092, 50 iterations in 2.3389 sec\n",
      "Iteration  250, KL divergence 4.5969, 50 iterations in 2.3345 sec\n",
      "   --> Time elapsed: 11.76 seconds\n",
      "===> Running optimization with exaggeration=1.00, lr=24514.00 for 500 iterations...\n",
      "Iteration   50, KL divergence 2.7849, 50 iterations in 2.4367 sec\n",
      "Iteration  100, KL divergence 2.5922, 50 iterations in 3.1398 sec\n",
      "Iteration  150, KL divergence 2.5037, 50 iterations in 3.9837 sec\n",
      "Iteration  200, KL divergence 2.4515, 50 iterations in 4.9396 sec\n",
      "Iteration  250, KL divergence 2.4140, 50 iterations in 5.9812 sec\n",
      "Iteration  300, KL divergence 2.3862, 50 iterations in 6.7298 sec\n",
      "Iteration  350, KL divergence 2.3643, 50 iterations in 7.4376 sec\n",
      "Iteration  400, KL divergence 2.3465, 50 iterations in 8.1464 sec\n",
      "Iteration  450, KL divergence 2.3322, 50 iterations in 9.0928 sec\n",
      "Iteration  500, KL divergence 2.3204, 50 iterations in 9.3447 sec\n",
      "   --> Time elapsed: 61.23 seconds\n",
      "O_RTK1_m_2a+b seed: 2 scaled: False\n",
      "PCA2\n",
      "PCA50\n",
      "UMAP\n",
      "UMAP(random_state=2, verbose=True)\n",
      "Sat Mar  8 19:50:23 2025 Construct fuzzy simplicial set\n",
      "Sat Mar  8 19:50:23 2025 Finding Nearest Neighbors\n",
      "Sat Mar  8 19:50:23 2025 Building RP forest with 13 trees\n",
      "Sat Mar  8 19:50:23 2025 NN descent for 15 iterations\n"
     ]
    },
    {
     "name": "stderr",
     "output_type": "stream",
     "text": [
      "/data/cephfs-1/home/users/lzaschk_m/work/miniforge3/envs/elephant_analysis_env/lib/python3.11/site-packages/umap/umap_.py:1943: UserWarning: n_jobs value -1 overridden to 1 by setting random_state. Use no seed for parallelism.\n",
      "  warn(f\"n_jobs value {self.n_jobs} overridden to 1 by setting random_state. Use no seed for parallelism.\")\n"
     ]
    },
    {
     "name": "stdout",
     "output_type": "stream",
     "text": [
      "\t 1  /  15\n",
      "\t 2  /  15\n",
      "\t 3  /  15\n",
      "\t 4  /  15\n",
      "\tStopping threshold met -- exiting after 4 iterations\n",
      "Sat Mar  8 19:50:24 2025 Finished Nearest Neighbor Search\n",
      "Sat Mar  8 19:50:24 2025 Construct embedding\n"
     ]
    },
    {
     "name": "stderr",
     "output_type": "stream",
     "text": [
      "Epochs completed:   2%| ▏          4/200 [00:00]"
     ]
    },
    {
     "name": "stdout",
     "output_type": "stream",
     "text": [
      "\tcompleted  0  /  200 epochs\n"
     ]
    },
    {
     "name": "stderr",
     "output_type": "stream",
     "text": [
      "Epochs completed:  12%| █▏         24/200 [00:02]"
     ]
    },
    {
     "name": "stdout",
     "output_type": "stream",
     "text": [
      "\tcompleted  20  /  200 epochs\n"
     ]
    },
    {
     "name": "stderr",
     "output_type": "stream",
     "text": [
      "Epochs completed:  22%| ██▏        44/200 [00:03]"
     ]
    },
    {
     "name": "stdout",
     "output_type": "stream",
     "text": [
      "\tcompleted  40  /  200 epochs\n"
     ]
    },
    {
     "name": "stderr",
     "output_type": "stream",
     "text": [
      "Epochs completed:  31%| ███        62/200 [00:05]"
     ]
    },
    {
     "name": "stdout",
     "output_type": "stream",
     "text": [
      "\tcompleted  60  /  200 epochs\n"
     ]
    },
    {
     "name": "stderr",
     "output_type": "stream",
     "text": [
      "Epochs completed:  42%| ████▏      84/200 [00:06]"
     ]
    },
    {
     "name": "stdout",
     "output_type": "stream",
     "text": [
      "\tcompleted  80  /  200 epochs\n"
     ]
    },
    {
     "name": "stderr",
     "output_type": "stream",
     "text": [
      "Epochs completed:  51%| █████      102/200 [00:08]"
     ]
    },
    {
     "name": "stdout",
     "output_type": "stream",
     "text": [
      "\tcompleted  100  /  200 epochs\n"
     ]
    },
    {
     "name": "stderr",
     "output_type": "stream",
     "text": [
      "Epochs completed:  62%| ██████▏    124/200 [00:09]"
     ]
    },
    {
     "name": "stdout",
     "output_type": "stream",
     "text": [
      "\tcompleted  120  /  200 epochs\n"
     ]
    },
    {
     "name": "stderr",
     "output_type": "stream",
     "text": [
      "Epochs completed:  72%| ███████▏   144/200 [00:11]"
     ]
    },
    {
     "name": "stdout",
     "output_type": "stream",
     "text": [
      "\tcompleted  140  /  200 epochs\n"
     ]
    },
    {
     "name": "stderr",
     "output_type": "stream",
     "text": [
      "Epochs completed:  82%| ████████▏  164/200 [00:13]"
     ]
    },
    {
     "name": "stdout",
     "output_type": "stream",
     "text": [
      "\tcompleted  160  /  200 epochs\n"
     ]
    },
    {
     "name": "stderr",
     "output_type": "stream",
     "text": [
      "Epochs completed:  92%| █████████▏ 184/200 [00:14]"
     ]
    },
    {
     "name": "stdout",
     "output_type": "stream",
     "text": [
      "\tcompleted  180  /  200 epochs\n"
     ]
    },
    {
     "name": "stderr",
     "output_type": "stream",
     "text": [
      "Epochs completed: 100%| ██████████ 200/200 [00:15]\n"
     ]
    },
    {
     "name": "stdout",
     "output_type": "stream",
     "text": [
      "Sat Mar  8 19:50:41 2025 Finished embedding\n",
      "TSNE\n",
      "--------------------------------------------------------------------------------\n",
      "TSNE(early_exaggeration=12, random_state=2, verbose=True)\n",
      "--------------------------------------------------------------------------------\n",
      "===> Finding 90 nearest neighbors using Annoy approximate search using euclidean distance...\n",
      "   --> Time elapsed: 11.76 seconds\n",
      "===> Calculating affinity matrix...\n",
      "   --> Time elapsed: 0.74 seconds\n",
      "===> Calculating PCA-based initialization...\n",
      "   --> Time elapsed: 0.06 seconds\n",
      "===> Running optimization with exaggeration=12.00, lr=2042.83 for 250 iterations...\n",
      "Iteration   50, KL divergence 4.8136, 50 iterations in 2.3676 sec\n",
      "Iteration  100, KL divergence 4.6890, 50 iterations in 2.3379 sec\n",
      "Iteration  150, KL divergence 4.6394, 50 iterations in 2.3332 sec\n",
      "Iteration  200, KL divergence 4.6172, 50 iterations in 2.3343 sec\n",
      "Iteration  250, KL divergence 4.6045, 50 iterations in 2.3305 sec\n",
      "   --> Time elapsed: 11.70 seconds\n",
      "===> Running optimization with exaggeration=1.00, lr=24514.00 for 500 iterations...\n",
      "Iteration   50, KL divergence 2.7956, 50 iterations in 2.3738 sec\n",
      "Iteration  100, KL divergence 2.5977, 50 iterations in 3.0796 sec\n",
      "Iteration  150, KL divergence 2.5084, 50 iterations in 3.9588 sec\n",
      "Iteration  200, KL divergence 2.4549, 50 iterations in 4.9590 sec\n",
      "Iteration  250, KL divergence 2.4171, 50 iterations in 5.9347 sec\n",
      "Iteration  300, KL divergence 2.3899, 50 iterations in 6.7491 sec\n",
      "Iteration  350, KL divergence 2.3676, 50 iterations in 7.4490 sec\n",
      "Iteration  400, KL divergence 2.3497, 50 iterations in 8.4522 sec\n",
      "Iteration  450, KL divergence 2.3352, 50 iterations in 8.8051 sec\n",
      "Iteration  500, KL divergence 2.3230, 50 iterations in 9.9184 sec\n",
      "   --> Time elapsed: 61.68 seconds\n",
      "O_RTK1_m_2a+b seed: 3 scaled: False\n",
      "PCA2\n",
      "PCA50\n",
      "UMAP\n",
      "UMAP(random_state=3, verbose=True)\n",
      "Sat Mar  8 19:52:09 2025 Construct fuzzy simplicial set\n",
      "Sat Mar  8 19:52:09 2025 Finding Nearest Neighbors\n",
      "Sat Mar  8 19:52:09 2025 Building RP forest with 13 trees\n",
      "Sat Mar  8 19:52:09 2025 NN descent for 15 iterations\n"
     ]
    },
    {
     "name": "stderr",
     "output_type": "stream",
     "text": [
      "/data/cephfs-1/home/users/lzaschk_m/work/miniforge3/envs/elephant_analysis_env/lib/python3.11/site-packages/umap/umap_.py:1943: UserWarning: n_jobs value -1 overridden to 1 by setting random_state. Use no seed for parallelism.\n",
      "  warn(f\"n_jobs value {self.n_jobs} overridden to 1 by setting random_state. Use no seed for parallelism.\")\n"
     ]
    },
    {
     "name": "stdout",
     "output_type": "stream",
     "text": [
      "\t 1  /  15\n",
      "\t 2  /  15\n",
      "\t 3  /  15\n",
      "\t 4  /  15\n",
      "\tStopping threshold met -- exiting after 4 iterations\n",
      "Sat Mar  8 19:52:09 2025 Finished Nearest Neighbor Search\n",
      "Sat Mar  8 19:52:10 2025 Construct embedding\n"
     ]
    },
    {
     "name": "stderr",
     "output_type": "stream",
     "text": [
      "Epochs completed:   2%| ▏          4/200 [00:00]"
     ]
    },
    {
     "name": "stdout",
     "output_type": "stream",
     "text": [
      "\tcompleted  0  /  200 epochs\n"
     ]
    },
    {
     "name": "stderr",
     "output_type": "stream",
     "text": [
      "Epochs completed:  12%| █▏         24/200 [00:02]"
     ]
    },
    {
     "name": "stdout",
     "output_type": "stream",
     "text": [
      "\tcompleted  20  /  200 epochs\n"
     ]
    },
    {
     "name": "stderr",
     "output_type": "stream",
     "text": [
      "Epochs completed:  21%| ██         42/200 [00:03]"
     ]
    },
    {
     "name": "stdout",
     "output_type": "stream",
     "text": [
      "\tcompleted  40  /  200 epochs\n"
     ]
    },
    {
     "name": "stderr",
     "output_type": "stream",
     "text": [
      "Epochs completed:  32%| ███▏       64/200 [00:05]"
     ]
    },
    {
     "name": "stdout",
     "output_type": "stream",
     "text": [
      "\tcompleted  60  /  200 epochs\n"
     ]
    },
    {
     "name": "stderr",
     "output_type": "stream",
     "text": [
      "Epochs completed:  42%| ████▏      84/200 [00:06]"
     ]
    },
    {
     "name": "stdout",
     "output_type": "stream",
     "text": [
      "\tcompleted  80  /  200 epochs\n"
     ]
    },
    {
     "name": "stderr",
     "output_type": "stream",
     "text": [
      "Epochs completed:  52%| █████▏     104/200 [00:08]"
     ]
    },
    {
     "name": "stdout",
     "output_type": "stream",
     "text": [
      "\tcompleted  100  /  200 epochs\n"
     ]
    },
    {
     "name": "stderr",
     "output_type": "stream",
     "text": [
      "Epochs completed:  62%| ██████▏    124/200 [00:09]"
     ]
    },
    {
     "name": "stdout",
     "output_type": "stream",
     "text": [
      "\tcompleted  120  /  200 epochs\n"
     ]
    },
    {
     "name": "stderr",
     "output_type": "stream",
     "text": [
      "Epochs completed:  72%| ███████▏   144/200 [00:11]"
     ]
    },
    {
     "name": "stdout",
     "output_type": "stream",
     "text": [
      "\tcompleted  140  /  200 epochs\n"
     ]
    },
    {
     "name": "stderr",
     "output_type": "stream",
     "text": [
      "Epochs completed:  82%| ████████▏  164/200 [00:12]"
     ]
    },
    {
     "name": "stdout",
     "output_type": "stream",
     "text": [
      "\tcompleted  160  /  200 epochs\n"
     ]
    },
    {
     "name": "stderr",
     "output_type": "stream",
     "text": [
      "Epochs completed:  92%| █████████▏ 184/200 [00:14]"
     ]
    },
    {
     "name": "stdout",
     "output_type": "stream",
     "text": [
      "\tcompleted  180  /  200 epochs\n"
     ]
    },
    {
     "name": "stderr",
     "output_type": "stream",
     "text": [
      "Epochs completed: 100%| ██████████ 200/200 [00:15]\n"
     ]
    },
    {
     "name": "stdout",
     "output_type": "stream",
     "text": [
      "Sat Mar  8 19:52:26 2025 Finished embedding\n",
      "TSNE\n",
      "--------------------------------------------------------------------------------\n",
      "TSNE(early_exaggeration=12, random_state=3, verbose=True)\n",
      "--------------------------------------------------------------------------------\n",
      "===> Finding 90 nearest neighbors using Annoy approximate search using euclidean distance...\n",
      "   --> Time elapsed: 11.84 seconds\n",
      "===> Calculating affinity matrix...\n",
      "   --> Time elapsed: 0.74 seconds\n",
      "===> Calculating PCA-based initialization...\n",
      "   --> Time elapsed: 0.06 seconds\n",
      "===> Running optimization with exaggeration=12.00, lr=2042.83 for 250 iterations...\n",
      "Iteration   50, KL divergence 4.7911, 50 iterations in 2.3691 sec\n",
      "Iteration  100, KL divergence 4.6949, 50 iterations in 2.3367 sec\n",
      "Iteration  150, KL divergence 4.6449, 50 iterations in 2.3299 sec\n",
      "Iteration  200, KL divergence 4.6224, 50 iterations in 2.3320 sec\n",
      "Iteration  250, KL divergence 4.6037, 50 iterations in 2.3314 sec\n",
      "   --> Time elapsed: 11.70 seconds\n",
      "===> Running optimization with exaggeration=1.00, lr=24514.00 for 500 iterations...\n",
      "Iteration   50, KL divergence 2.7998, 50 iterations in 2.3677 sec\n",
      "Iteration  100, KL divergence 2.6010, 50 iterations in 3.0811 sec\n",
      "Iteration  150, KL divergence 2.5107, 50 iterations in 4.0216 sec\n",
      "Iteration  200, KL divergence 2.4560, 50 iterations in 5.1472 sec\n",
      "Iteration  250, KL divergence 2.4172, 50 iterations in 6.0269 sec\n",
      "Iteration  300, KL divergence 2.3895, 50 iterations in 6.9644 sec\n",
      "Iteration  350, KL divergence 2.3669, 50 iterations in 7.6496 sec\n",
      "Iteration  400, KL divergence 2.3490, 50 iterations in 8.7274 sec\n",
      "Iteration  450, KL divergence 2.3342, 50 iterations in 8.9103 sec\n",
      "Iteration  500, KL divergence 2.3218, 50 iterations in 10.4308 sec\n",
      "   --> Time elapsed: 63.33 seconds\n",
      "O_RTK1_m_2a+b seed: 4 scaled: False\n",
      "PCA2\n",
      "PCA50\n",
      "UMAP\n",
      "UMAP(random_state=4, verbose=True)\n",
      "Sat Mar  8 19:53:56 2025 Construct fuzzy simplicial set\n",
      "Sat Mar  8 19:53:56 2025 Finding Nearest Neighbors\n",
      "Sat Mar  8 19:53:56 2025 Building RP forest with 13 trees\n",
      "Sat Mar  8 19:53:56 2025 NN descent for 15 iterations\n"
     ]
    },
    {
     "name": "stderr",
     "output_type": "stream",
     "text": [
      "/data/cephfs-1/home/users/lzaschk_m/work/miniforge3/envs/elephant_analysis_env/lib/python3.11/site-packages/umap/umap_.py:1943: UserWarning: n_jobs value -1 overridden to 1 by setting random_state. Use no seed for parallelism.\n",
      "  warn(f\"n_jobs value {self.n_jobs} overridden to 1 by setting random_state. Use no seed for parallelism.\")\n"
     ]
    },
    {
     "name": "stdout",
     "output_type": "stream",
     "text": [
      "\t 1  /  15\n",
      "\t 2  /  15\n",
      "\t 3  /  15\n",
      "\t 4  /  15\n",
      "\tStopping threshold met -- exiting after 4 iterations\n",
      "Sat Mar  8 19:53:57 2025 Finished Nearest Neighbor Search\n",
      "Sat Mar  8 19:53:57 2025 Construct embedding\n"
     ]
    },
    {
     "name": "stderr",
     "output_type": "stream",
     "text": [
      "Epochs completed:   2%| ▏          4/200 [00:00]"
     ]
    },
    {
     "name": "stdout",
     "output_type": "stream",
     "text": [
      "\tcompleted  0  /  200 epochs\n"
     ]
    },
    {
     "name": "stderr",
     "output_type": "stream",
     "text": [
      "Epochs completed:  12%| █▏         24/200 [00:02]"
     ]
    },
    {
     "name": "stdout",
     "output_type": "stream",
     "text": [
      "\tcompleted  20  /  200 epochs\n"
     ]
    },
    {
     "name": "stderr",
     "output_type": "stream",
     "text": [
      "Epochs completed:  22%| ██▏        44/200 [00:03]"
     ]
    },
    {
     "name": "stdout",
     "output_type": "stream",
     "text": [
      "\tcompleted  40  /  200 epochs\n"
     ]
    },
    {
     "name": "stderr",
     "output_type": "stream",
     "text": [
      "Epochs completed:  32%| ███▏       64/200 [00:05]"
     ]
    },
    {
     "name": "stdout",
     "output_type": "stream",
     "text": [
      "\tcompleted  60  /  200 epochs\n"
     ]
    },
    {
     "name": "stderr",
     "output_type": "stream",
     "text": [
      "Epochs completed:  41%| ████       82/200 [00:06]"
     ]
    },
    {
     "name": "stdout",
     "output_type": "stream",
     "text": [
      "\tcompleted  80  /  200 epochs\n"
     ]
    },
    {
     "name": "stderr",
     "output_type": "stream",
     "text": [
      "Epochs completed:  52%| █████▏     104/200 [00:08]"
     ]
    },
    {
     "name": "stdout",
     "output_type": "stream",
     "text": [
      "\tcompleted  100  /  200 epochs\n"
     ]
    },
    {
     "name": "stderr",
     "output_type": "stream",
     "text": [
      "Epochs completed:  62%| ██████▏    124/200 [00:09]"
     ]
    },
    {
     "name": "stdout",
     "output_type": "stream",
     "text": [
      "\tcompleted  120  /  200 epochs\n"
     ]
    },
    {
     "name": "stderr",
     "output_type": "stream",
     "text": [
      "Epochs completed:  72%| ███████▏   144/200 [00:11]"
     ]
    },
    {
     "name": "stdout",
     "output_type": "stream",
     "text": [
      "\tcompleted  140  /  200 epochs\n"
     ]
    },
    {
     "name": "stderr",
     "output_type": "stream",
     "text": [
      "Epochs completed:  82%| ████████▏  164/200 [00:12]"
     ]
    },
    {
     "name": "stdout",
     "output_type": "stream",
     "text": [
      "\tcompleted  160  /  200 epochs\n"
     ]
    },
    {
     "name": "stderr",
     "output_type": "stream",
     "text": [
      "Epochs completed:  92%| █████████▏ 184/200 [00:14]"
     ]
    },
    {
     "name": "stdout",
     "output_type": "stream",
     "text": [
      "\tcompleted  180  /  200 epochs\n"
     ]
    },
    {
     "name": "stderr",
     "output_type": "stream",
     "text": [
      "Epochs completed: 100%| ██████████ 200/200 [00:15]\n"
     ]
    },
    {
     "name": "stdout",
     "output_type": "stream",
     "text": [
      "Sat Mar  8 19:54:13 2025 Finished embedding\n",
      "TSNE\n",
      "--------------------------------------------------------------------------------\n",
      "TSNE(early_exaggeration=12, random_state=4, verbose=True)\n",
      "--------------------------------------------------------------------------------\n",
      "===> Finding 90 nearest neighbors using Annoy approximate search using euclidean distance...\n",
      "   --> Time elapsed: 11.85 seconds\n",
      "===> Calculating affinity matrix...\n",
      "   --> Time elapsed: 0.71 seconds\n",
      "===> Calculating PCA-based initialization...\n",
      "   --> Time elapsed: 0.06 seconds\n",
      "===> Running optimization with exaggeration=12.00, lr=2042.83 for 250 iterations...\n",
      "Iteration   50, KL divergence 4.7914, 50 iterations in 2.3684 sec\n",
      "Iteration  100, KL divergence 4.6908, 50 iterations in 2.3415 sec\n",
      "Iteration  150, KL divergence 4.6440, 50 iterations in 2.3343 sec\n",
      "Iteration  200, KL divergence 4.6146, 50 iterations in 2.3349 sec\n",
      "Iteration  250, KL divergence 4.5977, 50 iterations in 2.3390 sec\n",
      "   --> Time elapsed: 11.72 seconds\n",
      "===> Running optimization with exaggeration=1.00, lr=24514.00 for 500 iterations...\n",
      "Iteration   50, KL divergence 2.7933, 50 iterations in 2.3794 sec\n",
      "Iteration  100, KL divergence 2.5989, 50 iterations in 3.1657 sec\n",
      "Iteration  150, KL divergence 2.5100, 50 iterations in 4.1239 sec\n",
      "Iteration  200, KL divergence 2.4570, 50 iterations in 5.2768 sec\n",
      "Iteration  250, KL divergence 2.4190, 50 iterations in 6.0111 sec\n",
      "Iteration  300, KL divergence 2.3918, 50 iterations in 7.0931 sec\n",
      "Iteration  350, KL divergence 2.3694, 50 iterations in 7.8146 sec\n",
      "Iteration  400, KL divergence 2.3517, 50 iterations in 8.7569 sec\n",
      "Iteration  450, KL divergence 2.3372, 50 iterations in 8.8797 sec\n",
      "Iteration  500, KL divergence 2.3250, 50 iterations in 10.3905 sec\n",
      "   --> Time elapsed: 63.89 seconds\n",
      "O_RTK1_m_2a+b seed: 0 scaled: True\n",
      "PCA2\n",
      "PCA50\n",
      "UMAP\n",
      "UMAP(random_state=0, verbose=True)\n",
      "Sat Mar  8 19:55:43 2025 Construct fuzzy simplicial set\n",
      "Sat Mar  8 19:55:43 2025 Finding Nearest Neighbors\n",
      "Sat Mar  8 19:55:43 2025 Building RP forest with 13 trees\n",
      "Sat Mar  8 19:55:44 2025 NN descent for 15 iterations\n"
     ]
    },
    {
     "name": "stderr",
     "output_type": "stream",
     "text": [
      "/data/cephfs-1/home/users/lzaschk_m/work/miniforge3/envs/elephant_analysis_env/lib/python3.11/site-packages/umap/umap_.py:1943: UserWarning: n_jobs value -1 overridden to 1 by setting random_state. Use no seed for parallelism.\n",
      "  warn(f\"n_jobs value {self.n_jobs} overridden to 1 by setting random_state. Use no seed for parallelism.\")\n"
     ]
    },
    {
     "name": "stdout",
     "output_type": "stream",
     "text": [
      "\t 1  /  15\n",
      "\t 2  /  15\n",
      "\t 3  /  15\n",
      "\t 4  /  15\n",
      "\tStopping threshold met -- exiting after 4 iterations\n",
      "Sat Mar  8 19:55:44 2025 Finished Nearest Neighbor Search\n",
      "Sat Mar  8 19:55:44 2025 Construct embedding\n"
     ]
    },
    {
     "name": "stderr",
     "output_type": "stream",
     "text": [
      "Epochs completed:   3%| ▎          6/200 [00:00]"
     ]
    },
    {
     "name": "stdout",
     "output_type": "stream",
     "text": [
      "\tcompleted  0  /  200 epochs\n"
     ]
    },
    {
     "name": "stderr",
     "output_type": "stream",
     "text": [
      "Epochs completed:  12%| █▏         24/200 [00:02]"
     ]
    },
    {
     "name": "stdout",
     "output_type": "stream",
     "text": [
      "\tcompleted  20  /  200 epochs\n"
     ]
    },
    {
     "name": "stderr",
     "output_type": "stream",
     "text": [
      "Epochs completed:  22%| ██▏        44/200 [00:03]"
     ]
    },
    {
     "name": "stdout",
     "output_type": "stream",
     "text": [
      "\tcompleted  40  /  200 epochs\n"
     ]
    },
    {
     "name": "stderr",
     "output_type": "stream",
     "text": [
      "Epochs completed:  31%| ███        62/200 [00:05]"
     ]
    },
    {
     "name": "stdout",
     "output_type": "stream",
     "text": [
      "\tcompleted  60  /  200 epochs\n"
     ]
    },
    {
     "name": "stderr",
     "output_type": "stream",
     "text": [
      "Epochs completed:  43%| ████▎      86/200 [00:06]"
     ]
    },
    {
     "name": "stdout",
     "output_type": "stream",
     "text": [
      "\tcompleted  80  /  200 epochs\n"
     ]
    },
    {
     "name": "stderr",
     "output_type": "stream",
     "text": [
      "Epochs completed:  52%| █████▏     104/200 [00:08]"
     ]
    },
    {
     "name": "stdout",
     "output_type": "stream",
     "text": [
      "\tcompleted  100  /  200 epochs\n"
     ]
    },
    {
     "name": "stderr",
     "output_type": "stream",
     "text": [
      "Epochs completed:  61%| ██████     122/200 [00:09]"
     ]
    },
    {
     "name": "stdout",
     "output_type": "stream",
     "text": [
      "\tcompleted  120  /  200 epochs\n"
     ]
    },
    {
     "name": "stderr",
     "output_type": "stream",
     "text": [
      "Epochs completed:  72%| ███████▏   144/200 [00:11]"
     ]
    },
    {
     "name": "stdout",
     "output_type": "stream",
     "text": [
      "\tcompleted  140  /  200 epochs\n"
     ]
    },
    {
     "name": "stderr",
     "output_type": "stream",
     "text": [
      "Epochs completed:  81%| ████████   162/200 [00:12]"
     ]
    },
    {
     "name": "stdout",
     "output_type": "stream",
     "text": [
      "\tcompleted  160  /  200 epochs\n"
     ]
    },
    {
     "name": "stderr",
     "output_type": "stream",
     "text": [
      "Epochs completed:  92%| █████████▏ 184/200 [00:14]"
     ]
    },
    {
     "name": "stdout",
     "output_type": "stream",
     "text": [
      "\tcompleted  180  /  200 epochs\n"
     ]
    },
    {
     "name": "stderr",
     "output_type": "stream",
     "text": [
      "Epochs completed: 100%| ██████████ 200/200 [00:15]\n"
     ]
    },
    {
     "name": "stdout",
     "output_type": "stream",
     "text": [
      "Sat Mar  8 19:56:01 2025 Finished embedding\n",
      "TSNE\n",
      "--------------------------------------------------------------------------------\n",
      "TSNE(early_exaggeration=12, random_state=0, verbose=True)\n",
      "--------------------------------------------------------------------------------\n",
      "===> Finding 90 nearest neighbors using Annoy approximate search using euclidean distance...\n",
      "   --> Time elapsed: 11.53 seconds\n",
      "===> Calculating affinity matrix...\n",
      "   --> Time elapsed: 0.75 seconds\n",
      "===> Calculating PCA-based initialization...\n",
      "   --> Time elapsed: 0.07 seconds\n",
      "===> Running optimization with exaggeration=12.00, lr=2042.83 for 250 iterations...\n",
      "Iteration   50, KL divergence 4.5899, 50 iterations in 2.3604 sec\n",
      "Iteration  100, KL divergence 4.4055, 50 iterations in 2.3355 sec\n",
      "Iteration  150, KL divergence 4.3127, 50 iterations in 2.3371 sec\n",
      "Iteration  200, KL divergence 4.2702, 50 iterations in 2.3218 sec\n",
      "Iteration  250, KL divergence 4.2453, 50 iterations in 2.3232 sec\n",
      "   --> Time elapsed: 11.68 seconds\n",
      "===> Running optimization with exaggeration=1.00, lr=24514.00 for 500 iterations...\n",
      "Iteration   50, KL divergence 2.4751, 50 iterations in 2.4417 sec\n",
      "Iteration  100, KL divergence 2.2464, 50 iterations in 3.4444 sec\n",
      "Iteration  150, KL divergence 2.1419, 50 iterations in 4.6103 sec\n",
      "Iteration  200, KL divergence 2.0780, 50 iterations in 5.8220 sec\n",
      "Iteration  250, KL divergence 2.0348, 50 iterations in 6.8375 sec\n",
      "Iteration  300, KL divergence 2.0019, 50 iterations in 7.7597 sec\n",
      "Iteration  350, KL divergence 1.9765, 50 iterations in 8.8381 sec\n",
      "Iteration  400, KL divergence 1.9570, 50 iterations in 9.3423 sec\n",
      "Iteration  450, KL divergence 1.9402, 50 iterations in 10.8368 sec\n",
      "Iteration  500, KL divergence 1.9258, 50 iterations in 11.0883 sec\n",
      "   --> Time elapsed: 71.02 seconds\n",
      "O_RTK1_m_2a+b seed: 1 scaled: True\n",
      "PCA2\n",
      "PCA50\n",
      "UMAP\n",
      "UMAP(random_state=1, verbose=True)\n",
      "Sat Mar  8 19:57:38 2025 Construct fuzzy simplicial set\n",
      "Sat Mar  8 19:57:38 2025 Finding Nearest Neighbors\n",
      "Sat Mar  8 19:57:38 2025 Building RP forest with 13 trees\n",
      "Sat Mar  8 19:57:38 2025 NN descent for 15 iterations\n"
     ]
    },
    {
     "name": "stderr",
     "output_type": "stream",
     "text": [
      "/data/cephfs-1/home/users/lzaschk_m/work/miniforge3/envs/elephant_analysis_env/lib/python3.11/site-packages/umap/umap_.py:1943: UserWarning: n_jobs value -1 overridden to 1 by setting random_state. Use no seed for parallelism.\n",
      "  warn(f\"n_jobs value {self.n_jobs} overridden to 1 by setting random_state. Use no seed for parallelism.\")\n"
     ]
    },
    {
     "name": "stdout",
     "output_type": "stream",
     "text": [
      "\t 1  /  15\n",
      "\t 2  /  15\n",
      "\t 3  /  15\n",
      "\t 4  /  15\n",
      "\tStopping threshold met -- exiting after 4 iterations\n",
      "Sat Mar  8 19:57:39 2025 Finished Nearest Neighbor Search\n",
      "Sat Mar  8 19:57:39 2025 Construct embedding\n"
     ]
    },
    {
     "name": "stderr",
     "output_type": "stream",
     "text": [
      "Epochs completed:   2%| ▏          4/200 [00:00]"
     ]
    },
    {
     "name": "stdout",
     "output_type": "stream",
     "text": [
      "\tcompleted  0  /  200 epochs\n"
     ]
    },
    {
     "name": "stderr",
     "output_type": "stream",
     "text": [
      "Epochs completed:  12%| █▏         24/200 [00:02]"
     ]
    },
    {
     "name": "stdout",
     "output_type": "stream",
     "text": [
      "\tcompleted  20  /  200 epochs\n"
     ]
    },
    {
     "name": "stderr",
     "output_type": "stream",
     "text": [
      "Epochs completed:  21%| ██         42/200 [00:03]"
     ]
    },
    {
     "name": "stdout",
     "output_type": "stream",
     "text": [
      "\tcompleted  40  /  200 epochs\n"
     ]
    },
    {
     "name": "stderr",
     "output_type": "stream",
     "text": [
      "Epochs completed:  32%| ███▏       64/200 [00:05]"
     ]
    },
    {
     "name": "stdout",
     "output_type": "stream",
     "text": [
      "\tcompleted  60  /  200 epochs\n"
     ]
    },
    {
     "name": "stderr",
     "output_type": "stream",
     "text": [
      "Epochs completed:  42%| ████▏      84/200 [00:06]"
     ]
    },
    {
     "name": "stdout",
     "output_type": "stream",
     "text": [
      "\tcompleted  80  /  200 epochs\n"
     ]
    },
    {
     "name": "stderr",
     "output_type": "stream",
     "text": [
      "Epochs completed:  52%| █████▏     104/200 [00:08]"
     ]
    },
    {
     "name": "stdout",
     "output_type": "stream",
     "text": [
      "\tcompleted  100  /  200 epochs\n"
     ]
    },
    {
     "name": "stderr",
     "output_type": "stream",
     "text": [
      "Epochs completed:  62%| ██████▏    124/200 [00:09]"
     ]
    },
    {
     "name": "stdout",
     "output_type": "stream",
     "text": [
      "\tcompleted  120  /  200 epochs\n"
     ]
    },
    {
     "name": "stderr",
     "output_type": "stream",
     "text": [
      "Epochs completed:  72%| ███████▏   144/200 [00:11]"
     ]
    },
    {
     "name": "stdout",
     "output_type": "stream",
     "text": [
      "\tcompleted  140  /  200 epochs\n"
     ]
    },
    {
     "name": "stderr",
     "output_type": "stream",
     "text": [
      "Epochs completed:  82%| ████████▏  164/200 [00:12]"
     ]
    },
    {
     "name": "stdout",
     "output_type": "stream",
     "text": [
      "\tcompleted  160  /  200 epochs\n"
     ]
    },
    {
     "name": "stderr",
     "output_type": "stream",
     "text": [
      "Epochs completed:  93%| █████████▎ 186/200 [00:14]"
     ]
    },
    {
     "name": "stdout",
     "output_type": "stream",
     "text": [
      "\tcompleted  180  /  200 epochs\n"
     ]
    },
    {
     "name": "stderr",
     "output_type": "stream",
     "text": [
      "Epochs completed: 100%| ██████████ 200/200 [00:15]\n"
     ]
    },
    {
     "name": "stdout",
     "output_type": "stream",
     "text": [
      "Sat Mar  8 19:57:55 2025 Finished embedding\n",
      "TSNE\n",
      "--------------------------------------------------------------------------------\n",
      "TSNE(early_exaggeration=12, random_state=1, verbose=True)\n",
      "--------------------------------------------------------------------------------\n",
      "===> Finding 90 nearest neighbors using Annoy approximate search using euclidean distance...\n",
      "   --> Time elapsed: 11.52 seconds\n",
      "===> Calculating affinity matrix...\n",
      "   --> Time elapsed: 0.75 seconds\n",
      "===> Calculating PCA-based initialization...\n",
      "   --> Time elapsed: 0.06 seconds\n",
      "===> Running optimization with exaggeration=12.00, lr=2042.83 for 250 iterations...\n",
      "Iteration   50, KL divergence 4.5988, 50 iterations in 2.3554 sec\n",
      "Iteration  100, KL divergence 4.4088, 50 iterations in 2.3219 sec\n",
      "Iteration  150, KL divergence 4.3209, 50 iterations in 2.3143 sec\n",
      "Iteration  200, KL divergence 4.2788, 50 iterations in 2.3132 sec\n",
      "Iteration  250, KL divergence 4.2543, 50 iterations in 2.3098 sec\n",
      "   --> Time elapsed: 11.62 seconds\n",
      "===> Running optimization with exaggeration=1.00, lr=24514.00 for 500 iterations...\n",
      "Iteration   50, KL divergence 2.4800, 50 iterations in 2.4347 sec\n",
      "Iteration  100, KL divergence 2.2493, 50 iterations in 3.4573 sec\n",
      "Iteration  150, KL divergence 2.1449, 50 iterations in 4.6698 sec\n",
      "Iteration  200, KL divergence 2.0808, 50 iterations in 5.9570 sec\n",
      "Iteration  250, KL divergence 2.0375, 50 iterations in 7.0216 sec\n",
      "Iteration  300, KL divergence 2.0045, 50 iterations in 7.8917 sec\n",
      "Iteration  350, KL divergence 1.9795, 50 iterations in 8.9295 sec\n",
      "Iteration  400, KL divergence 1.9595, 50 iterations in 9.9815 sec\n",
      "Iteration  450, KL divergence 1.9422, 50 iterations in 11.2489 sec\n",
      "Iteration  500, KL divergence 1.9283, 50 iterations in 11.8908 sec\n",
      "   --> Time elapsed: 73.48 seconds\n",
      "O_RTK1_m_2a+b seed: 2 scaled: True\n",
      "PCA2\n",
      "PCA50\n",
      "UMAP\n",
      "UMAP(random_state=2, verbose=True)\n",
      "Sat Mar  8 19:59:35 2025 Construct fuzzy simplicial set\n",
      "Sat Mar  8 19:59:35 2025 Finding Nearest Neighbors\n",
      "Sat Mar  8 19:59:35 2025 Building RP forest with 13 trees\n",
      "Sat Mar  8 19:59:35 2025 NN descent for 15 iterations\n"
     ]
    },
    {
     "name": "stderr",
     "output_type": "stream",
     "text": [
      "/data/cephfs-1/home/users/lzaschk_m/work/miniforge3/envs/elephant_analysis_env/lib/python3.11/site-packages/umap/umap_.py:1943: UserWarning: n_jobs value -1 overridden to 1 by setting random_state. Use no seed for parallelism.\n",
      "  warn(f\"n_jobs value {self.n_jobs} overridden to 1 by setting random_state. Use no seed for parallelism.\")\n"
     ]
    },
    {
     "name": "stdout",
     "output_type": "stream",
     "text": [
      "\t 1  /  15\n",
      "\t 2  /  15\n",
      "\t 3  /  15\n",
      "\t 4  /  15\n",
      "\tStopping threshold met -- exiting after 4 iterations\n",
      "Sat Mar  8 19:59:36 2025 Finished Nearest Neighbor Search\n",
      "Sat Mar  8 19:59:36 2025 Construct embedding\n"
     ]
    },
    {
     "name": "stderr",
     "output_type": "stream",
     "text": [
      "Epochs completed:   2%| ▏          4/200 [00:00]"
     ]
    },
    {
     "name": "stdout",
     "output_type": "stream",
     "text": [
      "\tcompleted  0  /  200 epochs\n"
     ]
    },
    {
     "name": "stderr",
     "output_type": "stream",
     "text": [
      "Epochs completed:  11%| █          22/200 [00:02]"
     ]
    },
    {
     "name": "stdout",
     "output_type": "stream",
     "text": [
      "\tcompleted  20  /  200 epochs\n"
     ]
    },
    {
     "name": "stderr",
     "output_type": "stream",
     "text": [
      "Epochs completed:  22%| ██▏        44/200 [00:03]"
     ]
    },
    {
     "name": "stdout",
     "output_type": "stream",
     "text": [
      "\tcompleted  40  /  200 epochs\n"
     ]
    },
    {
     "name": "stderr",
     "output_type": "stream",
     "text": [
      "Epochs completed:  32%| ███▏       64/200 [00:05]"
     ]
    },
    {
     "name": "stdout",
     "output_type": "stream",
     "text": [
      "\tcompleted  60  /  200 epochs\n"
     ]
    },
    {
     "name": "stderr",
     "output_type": "stream",
     "text": [
      "Epochs completed:  42%| ████▏      84/200 [00:06]"
     ]
    },
    {
     "name": "stdout",
     "output_type": "stream",
     "text": [
      "\tcompleted  80  /  200 epochs\n"
     ]
    },
    {
     "name": "stderr",
     "output_type": "stream",
     "text": [
      "Epochs completed:  51%| █████      102/200 [00:08]"
     ]
    },
    {
     "name": "stdout",
     "output_type": "stream",
     "text": [
      "\tcompleted  100  /  200 epochs\n"
     ]
    },
    {
     "name": "stderr",
     "output_type": "stream",
     "text": [
      "Epochs completed:  62%| ██████▏    124/200 [00:09]"
     ]
    },
    {
     "name": "stdout",
     "output_type": "stream",
     "text": [
      "\tcompleted  120  /  200 epochs\n"
     ]
    },
    {
     "name": "stderr",
     "output_type": "stream",
     "text": [
      "Epochs completed:  72%| ███████▏   144/200 [00:11]"
     ]
    },
    {
     "name": "stdout",
     "output_type": "stream",
     "text": [
      "\tcompleted  140  /  200 epochs\n"
     ]
    },
    {
     "name": "stderr",
     "output_type": "stream",
     "text": [
      "Epochs completed:  82%| ████████▏  164/200 [00:12]"
     ]
    },
    {
     "name": "stdout",
     "output_type": "stream",
     "text": [
      "\tcompleted  160  /  200 epochs\n"
     ]
    },
    {
     "name": "stderr",
     "output_type": "stream",
     "text": [
      "Epochs completed:  92%| █████████▏ 184/200 [00:14]"
     ]
    },
    {
     "name": "stdout",
     "output_type": "stream",
     "text": [
      "\tcompleted  180  /  200 epochs\n"
     ]
    },
    {
     "name": "stderr",
     "output_type": "stream",
     "text": [
      "Epochs completed: 100%| ██████████ 200/200 [00:15]\n"
     ]
    },
    {
     "name": "stdout",
     "output_type": "stream",
     "text": [
      "Sat Mar  8 19:59:53 2025 Finished embedding\n",
      "TSNE\n",
      "--------------------------------------------------------------------------------\n",
      "TSNE(early_exaggeration=12, random_state=2, verbose=True)\n",
      "--------------------------------------------------------------------------------\n",
      "===> Finding 90 nearest neighbors using Annoy approximate search using euclidean distance...\n",
      "   --> Time elapsed: 11.53 seconds\n",
      "===> Calculating affinity matrix...\n",
      "   --> Time elapsed: 0.76 seconds\n",
      "===> Calculating PCA-based initialization...\n",
      "   --> Time elapsed: 0.06 seconds\n",
      "===> Running optimization with exaggeration=12.00, lr=2042.83 for 250 iterations...\n",
      "Iteration   50, KL divergence 4.5932, 50 iterations in 2.3518 sec\n",
      "Iteration  100, KL divergence 4.4038, 50 iterations in 2.3210 sec\n",
      "Iteration  150, KL divergence 4.3141, 50 iterations in 2.3198 sec\n",
      "Iteration  200, KL divergence 4.2725, 50 iterations in 2.3105 sec\n",
      "Iteration  250, KL divergence 4.2481, 50 iterations in 2.3104 sec\n",
      "   --> Time elapsed: 11.61 seconds\n",
      "===> Running optimization with exaggeration=1.00, lr=24514.00 for 500 iterations...\n",
      "Iteration   50, KL divergence 2.4764, 50 iterations in 2.4262 sec\n",
      "Iteration  100, KL divergence 2.2468, 50 iterations in 3.4103 sec\n",
      "Iteration  150, KL divergence 2.1417, 50 iterations in 4.6378 sec\n",
      "Iteration  200, KL divergence 2.0777, 50 iterations in 5.8473 sec\n",
      "Iteration  250, KL divergence 2.0348, 50 iterations in 6.8780 sec\n",
      "Iteration  300, KL divergence 2.0017, 50 iterations in 7.7931 sec\n",
      "Iteration  350, KL divergence 1.9766, 50 iterations in 8.8133 sec\n",
      "Iteration  400, KL divergence 1.9566, 50 iterations in 9.4586 sec\n",
      "Iteration  450, KL divergence 1.9401, 50 iterations in 10.9628 sec\n",
      "Iteration  500, KL divergence 1.9257, 50 iterations in 11.2736 sec\n",
      "   --> Time elapsed: 71.50 seconds\n",
      "O_RTK1_m_2a+b seed: 3 scaled: True\n",
      "PCA2\n",
      "PCA50\n",
      "UMAP\n",
      "UMAP(random_state=3, verbose=True)\n",
      "Sat Mar  8 20:01:30 2025 Construct fuzzy simplicial set\n",
      "Sat Mar  8 20:01:30 2025 Finding Nearest Neighbors\n",
      "Sat Mar  8 20:01:30 2025 Building RP forest with 13 trees\n",
      "Sat Mar  8 20:01:30 2025 NN descent for 15 iterations\n"
     ]
    },
    {
     "name": "stderr",
     "output_type": "stream",
     "text": [
      "/data/cephfs-1/home/users/lzaschk_m/work/miniforge3/envs/elephant_analysis_env/lib/python3.11/site-packages/umap/umap_.py:1943: UserWarning: n_jobs value -1 overridden to 1 by setting random_state. Use no seed for parallelism.\n",
      "  warn(f\"n_jobs value {self.n_jobs} overridden to 1 by setting random_state. Use no seed for parallelism.\")\n"
     ]
    },
    {
     "name": "stdout",
     "output_type": "stream",
     "text": [
      "\t 1  /  15\n",
      "\t 2  /  15\n",
      "\t 3  /  15\n",
      "\t 4  /  15\n",
      "\tStopping threshold met -- exiting after 4 iterations\n",
      "Sat Mar  8 20:01:31 2025 Finished Nearest Neighbor Search\n",
      "Sat Mar  8 20:01:31 2025 Construct embedding\n"
     ]
    },
    {
     "name": "stderr",
     "output_type": "stream",
     "text": [
      "Epochs completed:   2%| ▏          4/200 [00:00]"
     ]
    },
    {
     "name": "stdout",
     "output_type": "stream",
     "text": [
      "\tcompleted  0  /  200 epochs\n"
     ]
    },
    {
     "name": "stderr",
     "output_type": "stream",
     "text": [
      "Epochs completed:  13%| █▎         26/200 [00:02]"
     ]
    },
    {
     "name": "stdout",
     "output_type": "stream",
     "text": [
      "\tcompleted  20  /  200 epochs\n"
     ]
    },
    {
     "name": "stderr",
     "output_type": "stream",
     "text": [
      "Epochs completed:  22%| ██▏        44/200 [00:03]"
     ]
    },
    {
     "name": "stdout",
     "output_type": "stream",
     "text": [
      "\tcompleted  40  /  200 epochs\n"
     ]
    },
    {
     "name": "stderr",
     "output_type": "stream",
     "text": [
      "Epochs completed:  32%| ███▏       64/200 [00:05]"
     ]
    },
    {
     "name": "stdout",
     "output_type": "stream",
     "text": [
      "\tcompleted  60  /  200 epochs\n"
     ]
    },
    {
     "name": "stderr",
     "output_type": "stream",
     "text": [
      "Epochs completed:  41%| ████       82/200 [00:06]"
     ]
    },
    {
     "name": "stdout",
     "output_type": "stream",
     "text": [
      "\tcompleted  80  /  200 epochs\n"
     ]
    },
    {
     "name": "stderr",
     "output_type": "stream",
     "text": [
      "Epochs completed:  52%| █████▏     104/200 [00:08]"
     ]
    },
    {
     "name": "stdout",
     "output_type": "stream",
     "text": [
      "\tcompleted  100  /  200 epochs\n"
     ]
    },
    {
     "name": "stderr",
     "output_type": "stream",
     "text": [
      "Epochs completed:  62%| ██████▏    124/200 [00:09]"
     ]
    },
    {
     "name": "stdout",
     "output_type": "stream",
     "text": [
      "\tcompleted  120  /  200 epochs\n"
     ]
    },
    {
     "name": "stderr",
     "output_type": "stream",
     "text": [
      "Epochs completed:  72%| ███████▏   144/200 [00:11]"
     ]
    },
    {
     "name": "stdout",
     "output_type": "stream",
     "text": [
      "\tcompleted  140  /  200 epochs\n"
     ]
    },
    {
     "name": "stderr",
     "output_type": "stream",
     "text": [
      "Epochs completed:  82%| ████████▏  164/200 [00:12]"
     ]
    },
    {
     "name": "stdout",
     "output_type": "stream",
     "text": [
      "\tcompleted  160  /  200 epochs\n"
     ]
    },
    {
     "name": "stderr",
     "output_type": "stream",
     "text": [
      "Epochs completed:  91%| █████████  182/200 [00:14]"
     ]
    },
    {
     "name": "stdout",
     "output_type": "stream",
     "text": [
      "\tcompleted  180  /  200 epochs\n"
     ]
    },
    {
     "name": "stderr",
     "output_type": "stream",
     "text": [
      "Epochs completed: 100%| ██████████ 200/200 [00:15]\n"
     ]
    },
    {
     "name": "stdout",
     "output_type": "stream",
     "text": [
      "Sat Mar  8 20:01:48 2025 Finished embedding\n",
      "TSNE\n",
      "--------------------------------------------------------------------------------\n",
      "TSNE(early_exaggeration=12, random_state=3, verbose=True)\n",
      "--------------------------------------------------------------------------------\n",
      "===> Finding 90 nearest neighbors using Annoy approximate search using euclidean distance...\n",
      "   --> Time elapsed: 11.47 seconds\n",
      "===> Calculating affinity matrix...\n",
      "   --> Time elapsed: 0.74 seconds\n",
      "===> Calculating PCA-based initialization...\n",
      "   --> Time elapsed: 0.06 seconds\n",
      "===> Running optimization with exaggeration=12.00, lr=2042.83 for 250 iterations...\n",
      "Iteration   50, KL divergence 4.5970, 50 iterations in 2.3509 sec\n",
      "Iteration  100, KL divergence 4.4058, 50 iterations in 2.3176 sec\n",
      "Iteration  150, KL divergence 4.3155, 50 iterations in 2.3115 sec\n",
      "Iteration  200, KL divergence 4.2735, 50 iterations in 2.3100 sec\n",
      "Iteration  250, KL divergence 4.2493, 50 iterations in 2.3105 sec\n",
      "   --> Time elapsed: 11.60 seconds\n",
      "===> Running optimization with exaggeration=1.00, lr=24514.00 for 500 iterations...\n",
      "Iteration   50, KL divergence 2.4754, 50 iterations in 2.4295 sec\n",
      "Iteration  100, KL divergence 2.2456, 50 iterations in 3.4141 sec\n",
      "Iteration  150, KL divergence 2.1409, 50 iterations in 4.5730 sec\n",
      "Iteration  200, KL divergence 2.0771, 50 iterations in 5.8386 sec\n",
      "Iteration  250, KL divergence 2.0341, 50 iterations in 6.9093 sec\n",
      "Iteration  300, KL divergence 2.0013, 50 iterations in 7.7681 sec\n",
      "Iteration  350, KL divergence 1.9762, 50 iterations in 8.7873 sec\n",
      "Iteration  400, KL divergence 1.9562, 50 iterations in 9.6046 sec\n",
      "Iteration  450, KL divergence 1.9394, 50 iterations in 10.9162 sec\n",
      "Iteration  500, KL divergence 1.9253, 50 iterations in 11.3307 sec\n",
      "   --> Time elapsed: 71.57 seconds\n",
      "O_RTK1_m_2a+b seed: 4 scaled: True\n",
      "PCA2\n",
      "PCA50\n",
      "UMAP\n",
      "UMAP(random_state=4, verbose=True)\n",
      "Sat Mar  8 20:03:25 2025 Construct fuzzy simplicial set\n",
      "Sat Mar  8 20:03:25 2025 Finding Nearest Neighbors\n",
      "Sat Mar  8 20:03:25 2025 Building RP forest with 13 trees\n",
      "Sat Mar  8 20:03:25 2025 NN descent for 15 iterations\n"
     ]
    },
    {
     "name": "stderr",
     "output_type": "stream",
     "text": [
      "/data/cephfs-1/home/users/lzaschk_m/work/miniforge3/envs/elephant_analysis_env/lib/python3.11/site-packages/umap/umap_.py:1943: UserWarning: n_jobs value -1 overridden to 1 by setting random_state. Use no seed for parallelism.\n",
      "  warn(f\"n_jobs value {self.n_jobs} overridden to 1 by setting random_state. Use no seed for parallelism.\")\n"
     ]
    },
    {
     "name": "stdout",
     "output_type": "stream",
     "text": [
      "\t 1  /  15\n",
      "\t 2  /  15\n",
      "\t 3  /  15\n",
      "\t 4  /  15\n",
      "\tStopping threshold met -- exiting after 4 iterations\n",
      "Sat Mar  8 20:03:26 2025 Finished Nearest Neighbor Search\n",
      "Sat Mar  8 20:03:26 2025 Construct embedding\n"
     ]
    },
    {
     "name": "stderr",
     "output_type": "stream",
     "text": [
      "Epochs completed:   2%| ▏          4/200 [00:00]"
     ]
    },
    {
     "name": "stdout",
     "output_type": "stream",
     "text": [
      "\tcompleted  0  /  200 epochs\n"
     ]
    },
    {
     "name": "stderr",
     "output_type": "stream",
     "text": [
      "Epochs completed:  12%| █▏         24/200 [00:02]"
     ]
    },
    {
     "name": "stdout",
     "output_type": "stream",
     "text": [
      "\tcompleted  20  /  200 epochs\n"
     ]
    },
    {
     "name": "stderr",
     "output_type": "stream",
     "text": [
      "Epochs completed:  22%| ██▏        44/200 [00:03]"
     ]
    },
    {
     "name": "stdout",
     "output_type": "stream",
     "text": [
      "\tcompleted  40  /  200 epochs\n"
     ]
    },
    {
     "name": "stderr",
     "output_type": "stream",
     "text": [
      "Epochs completed:  31%| ███        62/200 [00:04]"
     ]
    },
    {
     "name": "stdout",
     "output_type": "stream",
     "text": [
      "\tcompleted  60  /  200 epochs\n"
     ]
    },
    {
     "name": "stderr",
     "output_type": "stream",
     "text": [
      "Epochs completed:  42%| ████▏      84/200 [00:06]"
     ]
    },
    {
     "name": "stdout",
     "output_type": "stream",
     "text": [
      "\tcompleted  80  /  200 epochs\n"
     ]
    },
    {
     "name": "stderr",
     "output_type": "stream",
     "text": [
      "Epochs completed:  52%| █████▏     104/200 [00:08]"
     ]
    },
    {
     "name": "stdout",
     "output_type": "stream",
     "text": [
      "\tcompleted  100  /  200 epochs\n"
     ]
    },
    {
     "name": "stderr",
     "output_type": "stream",
     "text": [
      "Epochs completed:  62%| ██████▏    124/200 [00:09]"
     ]
    },
    {
     "name": "stdout",
     "output_type": "stream",
     "text": [
      "\tcompleted  120  /  200 epochs\n"
     ]
    },
    {
     "name": "stderr",
     "output_type": "stream",
     "text": [
      "Epochs completed:  72%| ███████▏   144/200 [00:11]"
     ]
    },
    {
     "name": "stdout",
     "output_type": "stream",
     "text": [
      "\tcompleted  140  /  200 epochs\n"
     ]
    },
    {
     "name": "stderr",
     "output_type": "stream",
     "text": [
      "Epochs completed:  82%| ████████▏  164/200 [00:12]"
     ]
    },
    {
     "name": "stdout",
     "output_type": "stream",
     "text": [
      "\tcompleted  160  /  200 epochs\n"
     ]
    },
    {
     "name": "stderr",
     "output_type": "stream",
     "text": [
      "Epochs completed:  92%| █████████▏ 184/200 [00:14]"
     ]
    },
    {
     "name": "stdout",
     "output_type": "stream",
     "text": [
      "\tcompleted  180  /  200 epochs\n"
     ]
    },
    {
     "name": "stderr",
     "output_type": "stream",
     "text": [
      "Epochs completed: 100%| ██████████ 200/200 [00:15]\n"
     ]
    },
    {
     "name": "stdout",
     "output_type": "stream",
     "text": [
      "Sat Mar  8 20:03:43 2025 Finished embedding\n",
      "TSNE\n",
      "--------------------------------------------------------------------------------\n",
      "TSNE(early_exaggeration=12, random_state=4, verbose=True)\n",
      "--------------------------------------------------------------------------------\n",
      "===> Finding 90 nearest neighbors using Annoy approximate search using euclidean distance...\n",
      "   --> Time elapsed: 11.51 seconds\n",
      "===> Calculating affinity matrix...\n",
      "   --> Time elapsed: 0.74 seconds\n",
      "===> Calculating PCA-based initialization...\n",
      "   --> Time elapsed: 0.06 seconds\n",
      "===> Running optimization with exaggeration=12.00, lr=2042.83 for 250 iterations...\n",
      "Iteration   50, KL divergence 4.5946, 50 iterations in 2.3523 sec\n",
      "Iteration  100, KL divergence 4.4052, 50 iterations in 2.3232 sec\n",
      "Iteration  150, KL divergence 4.3153, 50 iterations in 2.3173 sec\n",
      "Iteration  200, KL divergence 4.2724, 50 iterations in 2.3145 sec\n",
      "Iteration  250, KL divergence 4.2475, 50 iterations in 2.3137 sec\n",
      "   --> Time elapsed: 11.62 seconds\n",
      "===> Running optimization with exaggeration=1.00, lr=24514.00 for 500 iterations...\n",
      "Iteration   50, KL divergence 2.4740, 50 iterations in 2.4305 sec\n",
      "Iteration  100, KL divergence 2.2456, 50 iterations in 3.4378 sec\n",
      "Iteration  150, KL divergence 2.1402, 50 iterations in 4.6209 sec\n",
      "Iteration  200, KL divergence 2.0760, 50 iterations in 5.8869 sec\n",
      "Iteration  250, KL divergence 2.0331, 50 iterations in 7.0334 sec\n",
      "Iteration  300, KL divergence 1.9998, 50 iterations in 7.9109 sec\n",
      "Iteration  350, KL divergence 1.9749, 50 iterations in 8.8412 sec\n",
      "Iteration  400, KL divergence 1.9549, 50 iterations in 9.6615 sec\n",
      "Iteration  450, KL divergence 1.9384, 50 iterations in 11.0329 sec\n",
      "Iteration  500, KL divergence 1.9240, 50 iterations in 11.3916 sec\n",
      "   --> Time elapsed: 72.25 seconds\n",
      "running on scaled and unscaled data for O_RTK1_m_2a\n",
      "O_RTK1_m_2a seed: 0 scaled: False\n",
      "PCA2\n",
      "PCA50\n",
      "UMAP\n",
      "UMAP(random_state=0, verbose=True)\n",
      "Sat Mar  8 20:05:21 2025 Construct fuzzy simplicial set\n",
      "Sat Mar  8 20:05:21 2025 Finding Nearest Neighbors\n",
      "Sat Mar  8 20:05:21 2025 Building RP forest with 11 trees\n",
      "Sat Mar  8 20:05:21 2025 NN descent for 14 iterations\n"
     ]
    },
    {
     "name": "stderr",
     "output_type": "stream",
     "text": [
      "/data/cephfs-1/home/users/lzaschk_m/work/miniforge3/envs/elephant_analysis_env/lib/python3.11/site-packages/umap/umap_.py:1943: UserWarning: n_jobs value -1 overridden to 1 by setting random_state. Use no seed for parallelism.\n",
      "  warn(f\"n_jobs value {self.n_jobs} overridden to 1 by setting random_state. Use no seed for parallelism.\")\n"
     ]
    },
    {
     "name": "stdout",
     "output_type": "stream",
     "text": [
      "\t 1  /  14\n",
      "\t 2  /  14\n",
      "\t 3  /  14\n",
      "\t 4  /  14\n",
      "\tStopping threshold met -- exiting after 4 iterations\n",
      "Sat Mar  8 20:05:21 2025 Finished Nearest Neighbor Search\n",
      "Sat Mar  8 20:05:21 2025 Construct embedding\n"
     ]
    },
    {
     "name": "stderr",
     "output_type": "stream",
     "text": [
      "Epochs completed:   3%| ▎          6/200 [00:00]"
     ]
    },
    {
     "name": "stdout",
     "output_type": "stream",
     "text": [
      "\tcompleted  0  /  200 epochs\n"
     ]
    },
    {
     "name": "stderr",
     "output_type": "stream",
     "text": [
      "Epochs completed:  12%| █▏         24/200 [00:01]"
     ]
    },
    {
     "name": "stdout",
     "output_type": "stream",
     "text": [
      "\tcompleted  20  /  200 epochs\n"
     ]
    },
    {
     "name": "stderr",
     "output_type": "stream",
     "text": [
      "Epochs completed:  22%| ██▎        45/200 [00:02]"
     ]
    },
    {
     "name": "stdout",
     "output_type": "stream",
     "text": [
      "\tcompleted  40  /  200 epochs\n"
     ]
    },
    {
     "name": "stderr",
     "output_type": "stream",
     "text": [
      "Epochs completed:  32%| ███▏       63/200 [00:03]"
     ]
    },
    {
     "name": "stdout",
     "output_type": "stream",
     "text": [
      "\tcompleted  60  /  200 epochs\n"
     ]
    },
    {
     "name": "stderr",
     "output_type": "stream",
     "text": [
      "Epochs completed:  42%| ████▏      84/200 [00:04]"
     ]
    },
    {
     "name": "stdout",
     "output_type": "stream",
     "text": [
      "\tcompleted  80  /  200 epochs\n"
     ]
    },
    {
     "name": "stderr",
     "output_type": "stream",
     "text": [
      "Epochs completed:  52%| █████▎     105/200 [00:04]"
     ]
    },
    {
     "name": "stdout",
     "output_type": "stream",
     "text": [
      "\tcompleted  100  /  200 epochs\n"
     ]
    },
    {
     "name": "stderr",
     "output_type": "stream",
     "text": [
      "Epochs completed:  63%| ██████▎    126/200 [00:05]"
     ]
    },
    {
     "name": "stdout",
     "output_type": "stream",
     "text": [
      "\tcompleted  120  /  200 epochs\n"
     ]
    },
    {
     "name": "stderr",
     "output_type": "stream",
     "text": [
      "Epochs completed:  72%| ███████▏   144/200 [00:06]"
     ]
    },
    {
     "name": "stdout",
     "output_type": "stream",
     "text": [
      "\tcompleted  140  /  200 epochs\n"
     ]
    },
    {
     "name": "stderr",
     "output_type": "stream",
     "text": [
      "Epochs completed:  82%| ████████▎  165/200 [00:07]"
     ]
    },
    {
     "name": "stdout",
     "output_type": "stream",
     "text": [
      "\tcompleted  160  /  200 epochs\n"
     ]
    },
    {
     "name": "stderr",
     "output_type": "stream",
     "text": [
      "Epochs completed:  93%| █████████▎ 186/200 [00:08]"
     ]
    },
    {
     "name": "stdout",
     "output_type": "stream",
     "text": [
      "\tcompleted  180  /  200 epochs\n"
     ]
    },
    {
     "name": "stderr",
     "output_type": "stream",
     "text": [
      "Epochs completed: 100%| ██████████ 200/200 [00:08]\n"
     ]
    },
    {
     "name": "stdout",
     "output_type": "stream",
     "text": [
      "Sat Mar  8 20:05:31 2025 Finished embedding\n",
      "TSNE\n",
      "--------------------------------------------------------------------------------\n",
      "TSNE(early_exaggeration=12, random_state=0, verbose=True)\n",
      "--------------------------------------------------------------------------------\n",
      "===> Finding 90 nearest neighbors using Annoy approximate search using euclidean distance...\n",
      "   --> Time elapsed: 6.04 seconds\n",
      "===> Calculating affinity matrix...\n",
      "   --> Time elapsed: 0.40 seconds\n",
      "===> Calculating PCA-based initialization...\n",
      "   --> Time elapsed: 0.04 seconds\n",
      "===> Running optimization with exaggeration=12.00, lr=1099.50 for 250 iterations...\n",
      "Iteration   50, KL divergence 4.3470, 50 iterations in 1.5544 sec\n",
      "Iteration  100, KL divergence 4.3024, 50 iterations in 1.5201 sec\n",
      "Iteration  150, KL divergence 4.2692, 50 iterations in 1.5133 sec\n",
      "Iteration  200, KL divergence 4.2550, 50 iterations in 1.5164 sec\n",
      "Iteration  250, KL divergence 4.2456, 50 iterations in 1.5149 sec\n",
      "   --> Time elapsed: 7.62 seconds\n",
      "===> Running optimization with exaggeration=1.00, lr=13194.00 for 500 iterations...\n",
      "Iteration   50, KL divergence 2.2205, 50 iterations in 1.5970 sec\n",
      "Iteration  100, KL divergence 2.0431, 50 iterations in 2.4152 sec\n",
      "Iteration  150, KL divergence 1.9640, 50 iterations in 3.3818 sec\n",
      "Iteration  200, KL divergence 1.9186, 50 iterations in 4.4981 sec\n",
      "Iteration  250, KL divergence 1.8861, 50 iterations in 5.1413 sec\n",
      "Iteration  300, KL divergence 1.8650, 50 iterations in 6.2833 sec\n",
      "Iteration  350, KL divergence 1.8467, 50 iterations in 6.9748 sec\n",
      "Iteration  400, KL divergence 1.8332, 50 iterations in 7.7281 sec\n",
      "Iteration  450, KL divergence 1.8220, 50 iterations in 7.8740 sec\n",
      "Iteration  500, KL divergence 1.8127, 50 iterations in 9.0366 sec\n",
      "   --> Time elapsed: 54.93 seconds\n",
      "O_RTK1_m_2a seed: 1 scaled: False\n",
      "PCA2\n",
      "PCA50\n",
      "UMAP\n",
      "UMAP(random_state=1, verbose=True)\n",
      "Sat Mar  8 20:06:41 2025 Construct fuzzy simplicial set\n",
      "Sat Mar  8 20:06:41 2025 Finding Nearest Neighbors\n",
      "Sat Mar  8 20:06:41 2025 Building RP forest with 11 trees\n",
      "Sat Mar  8 20:06:41 2025 NN descent for 14 iterations\n"
     ]
    },
    {
     "name": "stderr",
     "output_type": "stream",
     "text": [
      "/data/cephfs-1/home/users/lzaschk_m/work/miniforge3/envs/elephant_analysis_env/lib/python3.11/site-packages/umap/umap_.py:1943: UserWarning: n_jobs value -1 overridden to 1 by setting random_state. Use no seed for parallelism.\n",
      "  warn(f\"n_jobs value {self.n_jobs} overridden to 1 by setting random_state. Use no seed for parallelism.\")\n"
     ]
    },
    {
     "name": "stdout",
     "output_type": "stream",
     "text": [
      "\t 1  /  14\n",
      "\t 2  /  14\n",
      "\t 3  /  14\n",
      "\t 4  /  14\n",
      "\tStopping threshold met -- exiting after 4 iterations\n",
      "Sat Mar  8 20:06:42 2025 Finished Nearest Neighbor Search\n",
      "Sat Mar  8 20:06:42 2025 Construct embedding\n"
     ]
    },
    {
     "name": "stderr",
     "output_type": "stream",
     "text": [
      "Epochs completed:   3%| ▎          6/200 [00:00]"
     ]
    },
    {
     "name": "stdout",
     "output_type": "stream",
     "text": [
      "\tcompleted  0  /  200 epochs\n"
     ]
    },
    {
     "name": "stderr",
     "output_type": "stream",
     "text": [
      "Epochs completed:  12%| █▏         24/200 [00:01]"
     ]
    },
    {
     "name": "stdout",
     "output_type": "stream",
     "text": [
      "\tcompleted  20  /  200 epochs\n"
     ]
    },
    {
     "name": "stderr",
     "output_type": "stream",
     "text": [
      "Epochs completed:  22%| ██▎        45/200 [00:02]"
     ]
    },
    {
     "name": "stdout",
     "output_type": "stream",
     "text": [
      "\tcompleted  40  /  200 epochs\n"
     ]
    },
    {
     "name": "stderr",
     "output_type": "stream",
     "text": [
      "Epochs completed:  33%| ███▎       66/200 [00:03]"
     ]
    },
    {
     "name": "stdout",
     "output_type": "stream",
     "text": [
      "\tcompleted  60  /  200 epochs\n"
     ]
    },
    {
     "name": "stderr",
     "output_type": "stream",
     "text": [
      "Epochs completed:  42%| ████▏      84/200 [00:03]"
     ]
    },
    {
     "name": "stdout",
     "output_type": "stream",
     "text": [
      "\tcompleted  80  /  200 epochs\n"
     ]
    },
    {
     "name": "stderr",
     "output_type": "stream",
     "text": [
      "Epochs completed:  52%| █████▎     105/200 [00:04]"
     ]
    },
    {
     "name": "stdout",
     "output_type": "stream",
     "text": [
      "\tcompleted  100  /  200 epochs\n"
     ]
    },
    {
     "name": "stderr",
     "output_type": "stream",
     "text": [
      "Epochs completed:  63%| ██████▎    126/200 [00:05]"
     ]
    },
    {
     "name": "stdout",
     "output_type": "stream",
     "text": [
      "\tcompleted  120  /  200 epochs\n"
     ]
    },
    {
     "name": "stderr",
     "output_type": "stream",
     "text": [
      "Epochs completed:  72%| ███████▏   144/200 [00:06]"
     ]
    },
    {
     "name": "stdout",
     "output_type": "stream",
     "text": [
      "\tcompleted  140  /  200 epochs\n"
     ]
    },
    {
     "name": "stderr",
     "output_type": "stream",
     "text": [
      "Epochs completed:  82%| ████████▎  165/200 [00:07]"
     ]
    },
    {
     "name": "stdout",
     "output_type": "stream",
     "text": [
      "\tcompleted  160  /  200 epochs\n"
     ]
    },
    {
     "name": "stderr",
     "output_type": "stream",
     "text": [
      "Epochs completed:  93%| █████████▎ 186/200 [00:07]"
     ]
    },
    {
     "name": "stdout",
     "output_type": "stream",
     "text": [
      "\tcompleted  180  /  200 epochs\n"
     ]
    },
    {
     "name": "stderr",
     "output_type": "stream",
     "text": [
      "Epochs completed: 100%| ██████████ 200/200 [00:08]\n"
     ]
    },
    {
     "name": "stdout",
     "output_type": "stream",
     "text": [
      "Sat Mar  8 20:06:51 2025 Finished embedding\n",
      "TSNE\n",
      "--------------------------------------------------------------------------------\n",
      "TSNE(early_exaggeration=12, random_state=1, verbose=True)\n",
      "--------------------------------------------------------------------------------\n",
      "===> Finding 90 nearest neighbors using Annoy approximate search using euclidean distance...\n",
      "   --> Time elapsed: 5.98 seconds\n",
      "===> Calculating affinity matrix...\n",
      "   --> Time elapsed: 0.40 seconds\n",
      "===> Calculating PCA-based initialization...\n",
      "   --> Time elapsed: 0.03 seconds\n",
      "===> Running optimization with exaggeration=12.00, lr=1099.50 for 250 iterations...\n",
      "Iteration   50, KL divergence 4.3466, 50 iterations in 1.5547 sec\n",
      "Iteration  100, KL divergence 4.3053, 50 iterations in 1.5150 sec\n",
      "Iteration  150, KL divergence 4.2666, 50 iterations in 1.5116 sec\n",
      "Iteration  200, KL divergence 4.2537, 50 iterations in 1.5104 sec\n",
      "Iteration  250, KL divergence 4.2482, 50 iterations in 1.5086 sec\n",
      "   --> Time elapsed: 7.60 seconds\n",
      "===> Running optimization with exaggeration=1.00, lr=13194.00 for 500 iterations...\n",
      "Iteration   50, KL divergence 2.2333, 50 iterations in 1.5559 sec\n",
      "Iteration  100, KL divergence 2.0473, 50 iterations in 2.2297 sec\n",
      "Iteration  150, KL divergence 1.9664, 50 iterations in 3.0972 sec\n",
      "Iteration  200, KL divergence 1.9198, 50 iterations in 4.0450 sec\n",
      "Iteration  250, KL divergence 1.8872, 50 iterations in 4.9726 sec\n",
      "Iteration  300, KL divergence 1.8646, 50 iterations in 5.6347 sec\n",
      "Iteration  350, KL divergence 1.8482, 50 iterations in 6.5976 sec\n",
      "Iteration  400, KL divergence 1.8334, 50 iterations in 7.0537 sec\n",
      "Iteration  450, KL divergence 1.8223, 50 iterations in 7.6072 sec\n",
      "Iteration  500, KL divergence 1.8128, 50 iterations in 7.9903 sec\n",
      "   --> Time elapsed: 50.78 seconds\n",
      "O_RTK1_m_2a seed: 2 scaled: False\n",
      "PCA2\n",
      "PCA50\n",
      "UMAP\n",
      "UMAP(random_state=2, verbose=True)\n",
      "Sat Mar  8 20:07:57 2025 Construct fuzzy simplicial set\n",
      "Sat Mar  8 20:07:57 2025 Finding Nearest Neighbors\n",
      "Sat Mar  8 20:07:57 2025 Building RP forest with 11 trees\n",
      "Sat Mar  8 20:07:57 2025 NN descent for 14 iterations\n"
     ]
    },
    {
     "name": "stderr",
     "output_type": "stream",
     "text": [
      "/data/cephfs-1/home/users/lzaschk_m/work/miniforge3/envs/elephant_analysis_env/lib/python3.11/site-packages/umap/umap_.py:1943: UserWarning: n_jobs value -1 overridden to 1 by setting random_state. Use no seed for parallelism.\n",
      "  warn(f\"n_jobs value {self.n_jobs} overridden to 1 by setting random_state. Use no seed for parallelism.\")\n"
     ]
    },
    {
     "name": "stdout",
     "output_type": "stream",
     "text": [
      "\t 1  /  14\n",
      "\t 2  /  14\n",
      "\t 3  /  14\n",
      "\t 4  /  14\n",
      "\tStopping threshold met -- exiting after 4 iterations\n",
      "Sat Mar  8 20:07:57 2025 Finished Nearest Neighbor Search\n",
      "Sat Mar  8 20:07:57 2025 Construct embedding\n"
     ]
    },
    {
     "name": "stderr",
     "output_type": "stream",
     "text": [
      "Epochs completed:   3%| ▎          6/200 [00:00]"
     ]
    },
    {
     "name": "stdout",
     "output_type": "stream",
     "text": [
      "\tcompleted  0  /  200 epochs\n"
     ]
    },
    {
     "name": "stderr",
     "output_type": "stream",
     "text": [
      "Epochs completed:  12%| █▏         24/200 [00:01]"
     ]
    },
    {
     "name": "stdout",
     "output_type": "stream",
     "text": [
      "\tcompleted  20  /  200 epochs\n"
     ]
    },
    {
     "name": "stderr",
     "output_type": "stream",
     "text": [
      "Epochs completed:  22%| ██▎        45/200 [00:02]"
     ]
    },
    {
     "name": "stdout",
     "output_type": "stream",
     "text": [
      "\tcompleted  40  /  200 epochs\n"
     ]
    },
    {
     "name": "stderr",
     "output_type": "stream",
     "text": [
      "Epochs completed:  33%| ███▎       66/200 [00:03]"
     ]
    },
    {
     "name": "stdout",
     "output_type": "stream",
     "text": [
      "\tcompleted  60  /  200 epochs\n"
     ]
    },
    {
     "name": "stderr",
     "output_type": "stream",
     "text": [
      "Epochs completed:  42%| ████▏      84/200 [00:03]"
     ]
    },
    {
     "name": "stdout",
     "output_type": "stream",
     "text": [
      "\tcompleted  80  /  200 epochs\n"
     ]
    },
    {
     "name": "stderr",
     "output_type": "stream",
     "text": [
      "Epochs completed:  52%| █████▎     105/200 [00:04]"
     ]
    },
    {
     "name": "stdout",
     "output_type": "stream",
     "text": [
      "\tcompleted  100  /  200 epochs\n"
     ]
    },
    {
     "name": "stderr",
     "output_type": "stream",
     "text": [
      "Epochs completed:  63%| ██████▎    126/200 [00:05]"
     ]
    },
    {
     "name": "stdout",
     "output_type": "stream",
     "text": [
      "\tcompleted  120  /  200 epochs\n"
     ]
    },
    {
     "name": "stderr",
     "output_type": "stream",
     "text": [
      "Epochs completed:  72%| ███████▏   144/200 [00:06]"
     ]
    },
    {
     "name": "stdout",
     "output_type": "stream",
     "text": [
      "\tcompleted  140  /  200 epochs\n"
     ]
    },
    {
     "name": "stderr",
     "output_type": "stream",
     "text": [
      "Epochs completed:  82%| ████████▎  165/200 [00:07]"
     ]
    },
    {
     "name": "stdout",
     "output_type": "stream",
     "text": [
      "\tcompleted  160  /  200 epochs\n"
     ]
    },
    {
     "name": "stderr",
     "output_type": "stream",
     "text": [
      "Epochs completed:  93%| █████████▎ 186/200 [00:07]"
     ]
    },
    {
     "name": "stdout",
     "output_type": "stream",
     "text": [
      "\tcompleted  180  /  200 epochs\n"
     ]
    },
    {
     "name": "stderr",
     "output_type": "stream",
     "text": [
      "Epochs completed: 100%| ██████████ 200/200 [00:08]\n"
     ]
    },
    {
     "name": "stdout",
     "output_type": "stream",
     "text": [
      "Sat Mar  8 20:08:06 2025 Finished embedding\n",
      "TSNE\n",
      "--------------------------------------------------------------------------------\n",
      "TSNE(early_exaggeration=12, random_state=2, verbose=True)\n",
      "--------------------------------------------------------------------------------\n",
      "===> Finding 90 nearest neighbors using Annoy approximate search using euclidean distance...\n",
      "   --> Time elapsed: 6.03 seconds\n",
      "===> Calculating affinity matrix...\n",
      "   --> Time elapsed: 0.40 seconds\n",
      "===> Calculating PCA-based initialization...\n",
      "   --> Time elapsed: 0.04 seconds\n",
      "===> Running optimization with exaggeration=12.00, lr=1099.50 for 250 iterations...\n",
      "Iteration   50, KL divergence 4.3443, 50 iterations in 1.5526 sec\n",
      "Iteration  100, KL divergence 4.3010, 50 iterations in 1.5114 sec\n",
      "Iteration  150, KL divergence 4.2616, 50 iterations in 1.5092 sec\n",
      "Iteration  200, KL divergence 4.2483, 50 iterations in 1.5067 sec\n",
      "Iteration  250, KL divergence 4.2426, 50 iterations in 1.5080 sec\n",
      "   --> Time elapsed: 7.59 seconds\n",
      "===> Running optimization with exaggeration=1.00, lr=13194.00 for 500 iterations...\n",
      "Iteration   50, KL divergence 2.2303, 50 iterations in 1.5679 sec\n",
      "Iteration  100, KL divergence 2.0456, 50 iterations in 2.2525 sec\n",
      "Iteration  150, KL divergence 1.9649, 50 iterations in 3.0991 sec\n",
      "Iteration  200, KL divergence 1.9188, 50 iterations in 4.0836 sec\n",
      "Iteration  250, KL divergence 1.8861, 50 iterations in 5.0999 sec\n",
      "Iteration  300, KL divergence 1.8635, 50 iterations in 5.7061 sec\n",
      "Iteration  350, KL divergence 1.8469, 50 iterations in 6.5133 sec\n",
      "Iteration  400, KL divergence 1.8322, 50 iterations in 7.1424 sec\n",
      "Iteration  450, KL divergence 1.8205, 50 iterations in 7.7292 sec\n",
      "Iteration  500, KL divergence 1.8112, 50 iterations in 7.9938 sec\n",
      "   --> Time elapsed: 51.19 seconds\n",
      "O_RTK1_m_2a seed: 3 scaled: False\n",
      "PCA2\n",
      "PCA50\n",
      "UMAP\n",
      "UMAP(random_state=3, verbose=True)\n",
      "Sat Mar  8 20:09:13 2025 Construct fuzzy simplicial set\n",
      "Sat Mar  8 20:09:13 2025 Finding Nearest Neighbors\n",
      "Sat Mar  8 20:09:13 2025 Building RP forest with 11 trees\n",
      "Sat Mar  8 20:09:13 2025 NN descent for 14 iterations\n"
     ]
    },
    {
     "name": "stderr",
     "output_type": "stream",
     "text": [
      "/data/cephfs-1/home/users/lzaschk_m/work/miniforge3/envs/elephant_analysis_env/lib/python3.11/site-packages/umap/umap_.py:1943: UserWarning: n_jobs value -1 overridden to 1 by setting random_state. Use no seed for parallelism.\n",
      "  warn(f\"n_jobs value {self.n_jobs} overridden to 1 by setting random_state. Use no seed for parallelism.\")\n"
     ]
    },
    {
     "name": "stdout",
     "output_type": "stream",
     "text": [
      "\t 1  /  14\n",
      "\t 2  /  14\n",
      "\t 3  /  14\n",
      "\t 4  /  14\n",
      "\tStopping threshold met -- exiting after 4 iterations\n",
      "Sat Mar  8 20:09:13 2025 Finished Nearest Neighbor Search\n",
      "Sat Mar  8 20:09:13 2025 Construct embedding\n"
     ]
    },
    {
     "name": "stderr",
     "output_type": "stream",
     "text": [
      "Epochs completed:   3%| ▎          6/200 [00:00]"
     ]
    },
    {
     "name": "stdout",
     "output_type": "stream",
     "text": [
      "\tcompleted  0  /  200 epochs\n"
     ]
    },
    {
     "name": "stderr",
     "output_type": "stream",
     "text": [
      "Epochs completed:  12%| █▏         24/200 [00:01]"
     ]
    },
    {
     "name": "stdout",
     "output_type": "stream",
     "text": [
      "\tcompleted  20  /  200 epochs\n"
     ]
    },
    {
     "name": "stderr",
     "output_type": "stream",
     "text": [
      "Epochs completed:  22%| ██▎        45/200 [00:02]"
     ]
    },
    {
     "name": "stdout",
     "output_type": "stream",
     "text": [
      "\tcompleted  40  /  200 epochs\n"
     ]
    },
    {
     "name": "stderr",
     "output_type": "stream",
     "text": [
      "Epochs completed:  33%| ███▎       66/200 [00:03]"
     ]
    },
    {
     "name": "stdout",
     "output_type": "stream",
     "text": [
      "\tcompleted  60  /  200 epochs\n"
     ]
    },
    {
     "name": "stderr",
     "output_type": "stream",
     "text": [
      "Epochs completed:  42%| ████▏      84/200 [00:03]"
     ]
    },
    {
     "name": "stdout",
     "output_type": "stream",
     "text": [
      "\tcompleted  80  /  200 epochs\n"
     ]
    },
    {
     "name": "stderr",
     "output_type": "stream",
     "text": [
      "Epochs completed:  52%| █████▎     105/200 [00:04]"
     ]
    },
    {
     "name": "stdout",
     "output_type": "stream",
     "text": [
      "\tcompleted  100  /  200 epochs\n"
     ]
    },
    {
     "name": "stderr",
     "output_type": "stream",
     "text": [
      "Epochs completed:  62%| ██████▏    123/200 [00:05]"
     ]
    },
    {
     "name": "stdout",
     "output_type": "stream",
     "text": [
      "\tcompleted  120  /  200 epochs\n"
     ]
    },
    {
     "name": "stderr",
     "output_type": "stream",
     "text": [
      "Epochs completed:  72%| ███████▏   144/200 [00:06]"
     ]
    },
    {
     "name": "stdout",
     "output_type": "stream",
     "text": [
      "\tcompleted  140  /  200 epochs\n"
     ]
    },
    {
     "name": "stderr",
     "output_type": "stream",
     "text": [
      "Epochs completed:  82%| ████████▎  165/200 [00:07]"
     ]
    },
    {
     "name": "stdout",
     "output_type": "stream",
     "text": [
      "\tcompleted  160  /  200 epochs\n"
     ]
    },
    {
     "name": "stderr",
     "output_type": "stream",
     "text": [
      "Epochs completed:  93%| █████████▎ 186/200 [00:07]"
     ]
    },
    {
     "name": "stdout",
     "output_type": "stream",
     "text": [
      "\tcompleted  180  /  200 epochs\n"
     ]
    },
    {
     "name": "stderr",
     "output_type": "stream",
     "text": [
      "Epochs completed: 100%| ██████████ 200/200 [00:08]\n"
     ]
    },
    {
     "name": "stdout",
     "output_type": "stream",
     "text": [
      "Sat Mar  8 20:09:22 2025 Finished embedding\n",
      "TSNE\n",
      "--------------------------------------------------------------------------------\n",
      "TSNE(early_exaggeration=12, random_state=3, verbose=True)\n",
      "--------------------------------------------------------------------------------\n",
      "===> Finding 90 nearest neighbors using Annoy approximate search using euclidean distance...\n",
      "   --> Time elapsed: 5.96 seconds\n",
      "===> Calculating affinity matrix...\n",
      "   --> Time elapsed: 0.40 seconds\n",
      "===> Calculating PCA-based initialization...\n",
      "   --> Time elapsed: 0.03 seconds\n",
      "===> Running optimization with exaggeration=12.00, lr=1099.50 for 250 iterations...\n",
      "Iteration   50, KL divergence 4.3456, 50 iterations in 1.5580 sec\n",
      "Iteration  100, KL divergence 4.3016, 50 iterations in 1.5181 sec\n",
      "Iteration  150, KL divergence 4.2643, 50 iterations in 1.5152 sec\n",
      "Iteration  200, KL divergence 4.2529, 50 iterations in 1.5128 sec\n",
      "Iteration  250, KL divergence 4.2474, 50 iterations in 1.5124 sec\n",
      "   --> Time elapsed: 7.62 seconds\n",
      "===> Running optimization with exaggeration=1.00, lr=13194.00 for 500 iterations...\n",
      "Iteration   50, KL divergence 2.2356, 50 iterations in 1.5702 sec\n",
      "Iteration  100, KL divergence 2.0455, 50 iterations in 2.3593 sec\n",
      "Iteration  150, KL divergence 1.9670, 50 iterations in 3.1900 sec\n",
      "Iteration  200, KL divergence 1.9187, 50 iterations in 4.2475 sec\n",
      "Iteration  250, KL divergence 1.8858, 50 iterations in 5.1287 sec\n",
      "Iteration  300, KL divergence 1.8632, 50 iterations in 6.1063 sec\n",
      "Iteration  350, KL divergence 1.8443, 50 iterations in 6.8587 sec\n",
      "Iteration  400, KL divergence 1.8304, 50 iterations in 7.6370 sec\n",
      "Iteration  450, KL divergence 1.8188, 50 iterations in 7.9742 sec\n",
      "Iteration  500, KL divergence 1.8097, 50 iterations in 8.9601 sec\n",
      "   --> Time elapsed: 54.03 seconds\n",
      "O_RTK1_m_2a seed: 4 scaled: False\n",
      "PCA2\n",
      "PCA50\n",
      "UMAP\n",
      "UMAP(random_state=4, verbose=True)\n",
      "Sat Mar  8 20:10:32 2025 Construct fuzzy simplicial set\n",
      "Sat Mar  8 20:10:32 2025 Finding Nearest Neighbors\n",
      "Sat Mar  8 20:10:32 2025 Building RP forest with 11 trees\n",
      "Sat Mar  8 20:10:32 2025 NN descent for 14 iterations\n"
     ]
    },
    {
     "name": "stderr",
     "output_type": "stream",
     "text": [
      "/data/cephfs-1/home/users/lzaschk_m/work/miniforge3/envs/elephant_analysis_env/lib/python3.11/site-packages/umap/umap_.py:1943: UserWarning: n_jobs value -1 overridden to 1 by setting random_state. Use no seed for parallelism.\n",
      "  warn(f\"n_jobs value {self.n_jobs} overridden to 1 by setting random_state. Use no seed for parallelism.\")\n"
     ]
    },
    {
     "name": "stdout",
     "output_type": "stream",
     "text": [
      "\t 1  /  14\n",
      "\t 2  /  14\n",
      "\t 3  /  14\n",
      "\t 4  /  14\n",
      "\tStopping threshold met -- exiting after 4 iterations\n",
      "Sat Mar  8 20:10:32 2025 Finished Nearest Neighbor Search\n",
      "Sat Mar  8 20:10:32 2025 Construct embedding\n"
     ]
    },
    {
     "name": "stderr",
     "output_type": "stream",
     "text": [
      "Epochs completed:   4%| ▍          9/200 [00:00]"
     ]
    },
    {
     "name": "stdout",
     "output_type": "stream",
     "text": [
      "\tcompleted  0  /  200 epochs\n"
     ]
    },
    {
     "name": "stderr",
     "output_type": "stream",
     "text": [
      "Epochs completed:  12%| █▏         24/200 [00:01]"
     ]
    },
    {
     "name": "stdout",
     "output_type": "stream",
     "text": [
      "\tcompleted  20  /  200 epochs\n"
     ]
    },
    {
     "name": "stderr",
     "output_type": "stream",
     "text": [
      "Epochs completed:  22%| ██▎        45/200 [00:02]"
     ]
    },
    {
     "name": "stdout",
     "output_type": "stream",
     "text": [
      "\tcompleted  40  /  200 epochs\n"
     ]
    },
    {
     "name": "stderr",
     "output_type": "stream",
     "text": [
      "Epochs completed:  33%| ███▎       66/200 [00:03]"
     ]
    },
    {
     "name": "stdout",
     "output_type": "stream",
     "text": [
      "\tcompleted  60  /  200 epochs\n"
     ]
    },
    {
     "name": "stderr",
     "output_type": "stream",
     "text": [
      "Epochs completed:  42%| ████▏      84/200 [00:03]"
     ]
    },
    {
     "name": "stdout",
     "output_type": "stream",
     "text": [
      "\tcompleted  80  /  200 epochs\n"
     ]
    },
    {
     "name": "stderr",
     "output_type": "stream",
     "text": [
      "Epochs completed:  52%| █████▎     105/200 [00:04]"
     ]
    },
    {
     "name": "stdout",
     "output_type": "stream",
     "text": [
      "\tcompleted  100  /  200 epochs\n"
     ]
    },
    {
     "name": "stderr",
     "output_type": "stream",
     "text": [
      "Epochs completed:  62%| ██████▏    123/200 [00:05]"
     ]
    },
    {
     "name": "stdout",
     "output_type": "stream",
     "text": [
      "\tcompleted  120  /  200 epochs\n"
     ]
    },
    {
     "name": "stderr",
     "output_type": "stream",
     "text": [
      "Epochs completed:  72%| ███████▏   144/200 [00:06]"
     ]
    },
    {
     "name": "stdout",
     "output_type": "stream",
     "text": [
      "\tcompleted  140  /  200 epochs\n"
     ]
    },
    {
     "name": "stderr",
     "output_type": "stream",
     "text": [
      "Epochs completed:  82%| ████████▎  165/200 [00:07]"
     ]
    },
    {
     "name": "stdout",
     "output_type": "stream",
     "text": [
      "\tcompleted  160  /  200 epochs\n"
     ]
    },
    {
     "name": "stderr",
     "output_type": "stream",
     "text": [
      "Epochs completed:  93%| █████████▎ 186/200 [00:07]"
     ]
    },
    {
     "name": "stdout",
     "output_type": "stream",
     "text": [
      "\tcompleted  180  /  200 epochs\n"
     ]
    },
    {
     "name": "stderr",
     "output_type": "stream",
     "text": [
      "Epochs completed: 100%| ██████████ 200/200 [00:08]\n"
     ]
    },
    {
     "name": "stdout",
     "output_type": "stream",
     "text": [
      "Sat Mar  8 20:10:41 2025 Finished embedding\n",
      "TSNE\n",
      "--------------------------------------------------------------------------------\n",
      "TSNE(early_exaggeration=12, random_state=4, verbose=True)\n",
      "--------------------------------------------------------------------------------\n",
      "===> Finding 90 nearest neighbors using Annoy approximate search using euclidean distance...\n",
      "   --> Time elapsed: 6.01 seconds\n",
      "===> Calculating affinity matrix...\n",
      "   --> Time elapsed: 0.40 seconds\n",
      "===> Calculating PCA-based initialization...\n",
      "   --> Time elapsed: 0.04 seconds\n",
      "===> Running optimization with exaggeration=12.00, lr=1099.50 for 250 iterations...\n",
      "Iteration   50, KL divergence 4.3444, 50 iterations in 1.5575 sec\n",
      "Iteration  100, KL divergence 4.2958, 50 iterations in 1.5180 sec\n",
      "Iteration  150, KL divergence 4.2600, 50 iterations in 1.5359 sec\n",
      "Iteration  200, KL divergence 4.2478, 50 iterations in 1.5135 sec\n",
      "Iteration  250, KL divergence 4.2417, 50 iterations in 1.5141 sec\n",
      "   --> Time elapsed: 7.64 seconds\n",
      "===> Running optimization with exaggeration=1.00, lr=13194.00 for 500 iterations...\n",
      "Iteration   50, KL divergence 2.2226, 50 iterations in 1.5750 sec\n",
      "Iteration  100, KL divergence 2.0421, 50 iterations in 2.2733 sec\n",
      "Iteration  150, KL divergence 1.9619, 50 iterations in 3.1044 sec\n",
      "Iteration  200, KL divergence 1.9155, 50 iterations in 4.0842 sec\n",
      "Iteration  250, KL divergence 1.8844, 50 iterations in 5.0037 sec\n",
      "Iteration  300, KL divergence 1.8619, 50 iterations in 5.5802 sec\n",
      "Iteration  350, KL divergence 1.8456, 50 iterations in 6.5541 sec\n",
      "Iteration  400, KL divergence 1.8316, 50 iterations in 7.0464 sec\n",
      "Iteration  450, KL divergence 1.8203, 50 iterations in 7.7757 sec\n",
      "Iteration  500, KL divergence 1.8111, 50 iterations in 8.0130 sec\n",
      "   --> Time elapsed: 51.01 seconds\n",
      "O_RTK1_m_2a seed: 0 scaled: True\n",
      "PCA2\n",
      "PCA50\n",
      "UMAP\n",
      "UMAP(random_state=0, verbose=True)\n",
      "Sat Mar  8 20:11:47 2025 Construct fuzzy simplicial set\n",
      "Sat Mar  8 20:11:47 2025 Finding Nearest Neighbors\n",
      "Sat Mar  8 20:11:47 2025 Building RP forest with 11 trees\n",
      "Sat Mar  8 20:11:47 2025 NN descent for 14 iterations\n"
     ]
    },
    {
     "name": "stderr",
     "output_type": "stream",
     "text": [
      "/data/cephfs-1/home/users/lzaschk_m/work/miniforge3/envs/elephant_analysis_env/lib/python3.11/site-packages/umap/umap_.py:1943: UserWarning: n_jobs value -1 overridden to 1 by setting random_state. Use no seed for parallelism.\n",
      "  warn(f\"n_jobs value {self.n_jobs} overridden to 1 by setting random_state. Use no seed for parallelism.\")\n"
     ]
    },
    {
     "name": "stdout",
     "output_type": "stream",
     "text": [
      "\t 1  /  14\n",
      "\t 2  /  14\n",
      "\t 3  /  14\n",
      "\t 4  /  14\n",
      "\tStopping threshold met -- exiting after 4 iterations\n",
      "Sat Mar  8 20:11:48 2025 Finished Nearest Neighbor Search\n",
      "Sat Mar  8 20:11:48 2025 Construct embedding\n"
     ]
    },
    {
     "name": "stderr",
     "output_type": "stream",
     "text": [
      "Epochs completed:   2%| ▎          5/200 [00:00]"
     ]
    },
    {
     "name": "stdout",
     "output_type": "stream",
     "text": [
      "\tcompleted  0  /  200 epochs\n"
     ]
    },
    {
     "name": "stderr",
     "output_type": "stream",
     "text": [
      "Epochs completed:  13%| █▎         26/200 [00:01]"
     ]
    },
    {
     "name": "stdout",
     "output_type": "stream",
     "text": [
      "\tcompleted  20  /  200 epochs\n"
     ]
    },
    {
     "name": "stderr",
     "output_type": "stream",
     "text": [
      "Epochs completed:  22%| ██▏        44/200 [00:02]"
     ]
    },
    {
     "name": "stdout",
     "output_type": "stream",
     "text": [
      "\tcompleted  40  /  200 epochs\n"
     ]
    },
    {
     "name": "stderr",
     "output_type": "stream",
     "text": [
      "Epochs completed:  32%| ███▎       65/200 [00:03]"
     ]
    },
    {
     "name": "stdout",
     "output_type": "stream",
     "text": [
      "\tcompleted  60  /  200 epochs\n"
     ]
    },
    {
     "name": "stderr",
     "output_type": "stream",
     "text": [
      "Epochs completed:  43%| ████▎      86/200 [00:04]"
     ]
    },
    {
     "name": "stdout",
     "output_type": "stream",
     "text": [
      "\tcompleted  80  /  200 epochs\n"
     ]
    },
    {
     "name": "stderr",
     "output_type": "stream",
     "text": [
      "Epochs completed:  52%| █████▏     104/200 [00:04]"
     ]
    },
    {
     "name": "stdout",
     "output_type": "stream",
     "text": [
      "\tcompleted  100  /  200 epochs\n"
     ]
    },
    {
     "name": "stderr",
     "output_type": "stream",
     "text": [
      "Epochs completed:  62%| ██████▎    125/200 [00:05]"
     ]
    },
    {
     "name": "stdout",
     "output_type": "stream",
     "text": [
      "\tcompleted  120  /  200 epochs\n"
     ]
    },
    {
     "name": "stderr",
     "output_type": "stream",
     "text": [
      "Epochs completed:  73%| ███████▎   146/200 [00:06]"
     ]
    },
    {
     "name": "stdout",
     "output_type": "stream",
     "text": [
      "\tcompleted  140  /  200 epochs\n"
     ]
    },
    {
     "name": "stderr",
     "output_type": "stream",
     "text": [
      "Epochs completed:  82%| ████████▏  164/200 [00:07]"
     ]
    },
    {
     "name": "stdout",
     "output_type": "stream",
     "text": [
      "\tcompleted  160  /  200 epochs\n"
     ]
    },
    {
     "name": "stderr",
     "output_type": "stream",
     "text": [
      "Epochs completed:  92%| █████████▎ 185/200 [00:08]"
     ]
    },
    {
     "name": "stdout",
     "output_type": "stream",
     "text": [
      "\tcompleted  180  /  200 epochs\n"
     ]
    },
    {
     "name": "stderr",
     "output_type": "stream",
     "text": [
      "Epochs completed: 100%| ██████████ 200/200 [00:08]\n"
     ]
    },
    {
     "name": "stdout",
     "output_type": "stream",
     "text": [
      "Sat Mar  8 20:11:57 2025 Finished embedding\n",
      "TSNE\n",
      "--------------------------------------------------------------------------------\n",
      "TSNE(early_exaggeration=12, random_state=0, verbose=True)\n",
      "--------------------------------------------------------------------------------\n",
      "===> Finding 90 nearest neighbors using Annoy approximate search using euclidean distance...\n",
      "   --> Time elapsed: 5.91 seconds\n",
      "===> Calculating affinity matrix...\n",
      "   --> Time elapsed: 0.42 seconds\n",
      "===> Calculating PCA-based initialization...\n",
      "   --> Time elapsed: 0.04 seconds\n",
      "===> Running optimization with exaggeration=12.00, lr=1099.50 for 250 iterations...\n",
      "Iteration   50, KL divergence 4.1448, 50 iterations in 1.5401 sec\n",
      "Iteration  100, KL divergence 4.0124, 50 iterations in 1.5001 sec\n",
      "Iteration  150, KL divergence 3.9584, 50 iterations in 1.4948 sec\n",
      "Iteration  200, KL divergence 3.9346, 50 iterations in 1.4945 sec\n",
      "Iteration  250, KL divergence 3.9217, 50 iterations in 1.4952 sec\n",
      "   --> Time elapsed: 7.53 seconds\n",
      "===> Running optimization with exaggeration=1.00, lr=13194.00 for 500 iterations...\n",
      "Iteration   50, KL divergence 2.0034, 50 iterations in 1.6065 sec\n",
      "Iteration  100, KL divergence 1.8081, 50 iterations in 2.4938 sec\n",
      "Iteration  150, KL divergence 1.7234, 50 iterations in 3.5306 sec\n",
      "Iteration  200, KL divergence 1.6740, 50 iterations in 4.6436 sec\n",
      "Iteration  250, KL divergence 1.6402, 50 iterations in 5.3962 sec\n",
      "Iteration  300, KL divergence 1.6168, 50 iterations in 6.4396 sec\n",
      "Iteration  350, KL divergence 1.5979, 50 iterations in 7.1959 sec\n",
      "Iteration  400, KL divergence 1.5833, 50 iterations in 8.0954 sec\n",
      "Iteration  450, KL divergence 1.5718, 50 iterations in 8.2654 sec\n",
      "Iteration  500, KL divergence 1.5618, 50 iterations in 9.5517 sec\n",
      "   --> Time elapsed: 57.22 seconds\n",
      "O_RTK1_m_2a seed: 1 scaled: True\n",
      "PCA2\n",
      "PCA50\n",
      "UMAP\n",
      "UMAP(random_state=1, verbose=True)\n",
      "Sat Mar  8 20:13:09 2025 Construct fuzzy simplicial set\n",
      "Sat Mar  8 20:13:09 2025 Finding Nearest Neighbors\n",
      "Sat Mar  8 20:13:09 2025 Building RP forest with 11 trees\n",
      "Sat Mar  8 20:13:10 2025 NN descent for 14 iterations\n"
     ]
    },
    {
     "name": "stderr",
     "output_type": "stream",
     "text": [
      "/data/cephfs-1/home/users/lzaschk_m/work/miniforge3/envs/elephant_analysis_env/lib/python3.11/site-packages/umap/umap_.py:1943: UserWarning: n_jobs value -1 overridden to 1 by setting random_state. Use no seed for parallelism.\n",
      "  warn(f\"n_jobs value {self.n_jobs} overridden to 1 by setting random_state. Use no seed for parallelism.\")\n"
     ]
    },
    {
     "name": "stdout",
     "output_type": "stream",
     "text": [
      "\t 1  /  14\n",
      "\t 2  /  14\n",
      "\t 3  /  14\n",
      "\t 4  /  14\n",
      "\tStopping threshold met -- exiting after 4 iterations\n",
      "Sat Mar  8 20:13:10 2025 Finished Nearest Neighbor Search\n",
      "Sat Mar  8 20:13:10 2025 Construct embedding\n"
     ]
    },
    {
     "name": "stderr",
     "output_type": "stream",
     "text": [
      "Epochs completed:   3%| ▎          6/200 [00:00]"
     ]
    },
    {
     "name": "stdout",
     "output_type": "stream",
     "text": [
      "\tcompleted  0  /  200 epochs\n"
     ]
    },
    {
     "name": "stderr",
     "output_type": "stream",
     "text": [
      "Epochs completed:  14%| █▎         27/200 [00:01]"
     ]
    },
    {
     "name": "stdout",
     "output_type": "stream",
     "text": [
      "\tcompleted  20  /  200 epochs\n"
     ]
    },
    {
     "name": "stderr",
     "output_type": "stream",
     "text": [
      "Epochs completed:  22%| ██▎        45/200 [00:02]"
     ]
    },
    {
     "name": "stdout",
     "output_type": "stream",
     "text": [
      "\tcompleted  40  /  200 epochs\n"
     ]
    },
    {
     "name": "stderr",
     "output_type": "stream",
     "text": [
      "Epochs completed:  33%| ███▎       66/200 [00:03]"
     ]
    },
    {
     "name": "stdout",
     "output_type": "stream",
     "text": [
      "\tcompleted  60  /  200 epochs\n"
     ]
    },
    {
     "name": "stderr",
     "output_type": "stream",
     "text": [
      "Epochs completed:  42%| ████▏      84/200 [00:03]"
     ]
    },
    {
     "name": "stdout",
     "output_type": "stream",
     "text": [
      "\tcompleted  80  /  200 epochs\n"
     ]
    },
    {
     "name": "stderr",
     "output_type": "stream",
     "text": [
      "Epochs completed:  52%| █████▎     105/200 [00:04]"
     ]
    },
    {
     "name": "stdout",
     "output_type": "stream",
     "text": [
      "\tcompleted  100  /  200 epochs\n"
     ]
    },
    {
     "name": "stderr",
     "output_type": "stream",
     "text": [
      "Epochs completed:  63%| ██████▎    126/200 [00:05]"
     ]
    },
    {
     "name": "stdout",
     "output_type": "stream",
     "text": [
      "\tcompleted  120  /  200 epochs\n"
     ]
    },
    {
     "name": "stderr",
     "output_type": "stream",
     "text": [
      "Epochs completed:  72%| ███████▏   144/200 [00:06]"
     ]
    },
    {
     "name": "stdout",
     "output_type": "stream",
     "text": [
      "\tcompleted  140  /  200 epochs\n"
     ]
    },
    {
     "name": "stderr",
     "output_type": "stream",
     "text": [
      "Epochs completed:  82%| ████████▎  165/200 [00:07]"
     ]
    },
    {
     "name": "stdout",
     "output_type": "stream",
     "text": [
      "\tcompleted  160  /  200 epochs\n"
     ]
    },
    {
     "name": "stderr",
     "output_type": "stream",
     "text": [
      "Epochs completed:  93%| █████████▎ 186/200 [00:07]"
     ]
    },
    {
     "name": "stdout",
     "output_type": "stream",
     "text": [
      "\tcompleted  180  /  200 epochs\n"
     ]
    },
    {
     "name": "stderr",
     "output_type": "stream",
     "text": [
      "Epochs completed: 100%| ██████████ 200/200 [00:08]\n"
     ]
    },
    {
     "name": "stdout",
     "output_type": "stream",
     "text": [
      "Sat Mar  8 20:13:19 2025 Finished embedding\n",
      "TSNE\n",
      "--------------------------------------------------------------------------------\n",
      "TSNE(early_exaggeration=12, random_state=1, verbose=True)\n",
      "--------------------------------------------------------------------------------\n",
      "===> Finding 90 nearest neighbors using Annoy approximate search using euclidean distance...\n",
      "   --> Time elapsed: 6.01 seconds\n",
      "===> Calculating affinity matrix...\n",
      "   --> Time elapsed: 0.42 seconds\n",
      "===> Calculating PCA-based initialization...\n",
      "   --> Time elapsed: 0.03 seconds\n",
      "===> Running optimization with exaggeration=12.00, lr=1099.50 for 250 iterations...\n",
      "Iteration   50, KL divergence 4.1489, 50 iterations in 1.5524 sec\n",
      "Iteration  100, KL divergence 4.0110, 50 iterations in 1.5128 sec\n",
      "Iteration  150, KL divergence 3.9542, 50 iterations in 1.5074 sec\n",
      "Iteration  200, KL divergence 3.9310, 50 iterations in 1.5085 sec\n",
      "Iteration  250, KL divergence 3.9184, 50 iterations in 1.5298 sec\n",
      "   --> Time elapsed: 7.61 seconds\n",
      "===> Running optimization with exaggeration=1.00, lr=13194.00 for 500 iterations...\n",
      "Iteration   50, KL divergence 2.0110, 50 iterations in 1.6263 sec\n",
      "Iteration  100, KL divergence 1.8138, 50 iterations in 2.5317 sec\n",
      "Iteration  150, KL divergence 1.7280, 50 iterations in 3.6093 sec\n",
      "Iteration  200, KL divergence 1.6776, 50 iterations in 4.7563 sec\n",
      "Iteration  250, KL divergence 1.6433, 50 iterations in 5.5065 sec\n",
      "Iteration  300, KL divergence 1.6190, 50 iterations in 6.5270 sec\n",
      "Iteration  350, KL divergence 1.6001, 50 iterations in 7.1573 sec\n",
      "Iteration  400, KL divergence 1.5854, 50 iterations in 8.0871 sec\n",
      "Iteration  450, KL divergence 1.5738, 50 iterations in 8.2794 sec\n",
      "Iteration  500, KL divergence 1.5639, 50 iterations in 9.5153 sec\n",
      "   --> Time elapsed: 57.60 seconds\n",
      "O_RTK1_m_2a seed: 2 scaled: True\n",
      "PCA2\n",
      "PCA50\n",
      "UMAP\n",
      "UMAP(random_state=2, verbose=True)\n",
      "Sat Mar  8 20:14:32 2025 Construct fuzzy simplicial set\n",
      "Sat Mar  8 20:14:32 2025 Finding Nearest Neighbors\n",
      "Sat Mar  8 20:14:32 2025 Building RP forest with 11 trees\n",
      "Sat Mar  8 20:14:32 2025 NN descent for 14 iterations\n"
     ]
    },
    {
     "name": "stderr",
     "output_type": "stream",
     "text": [
      "/data/cephfs-1/home/users/lzaschk_m/work/miniforge3/envs/elephant_analysis_env/lib/python3.11/site-packages/umap/umap_.py:1943: UserWarning: n_jobs value -1 overridden to 1 by setting random_state. Use no seed for parallelism.\n",
      "  warn(f\"n_jobs value {self.n_jobs} overridden to 1 by setting random_state. Use no seed for parallelism.\")\n"
     ]
    },
    {
     "name": "stdout",
     "output_type": "stream",
     "text": [
      "\t 1  /  14\n",
      "\t 2  /  14\n",
      "\t 3  /  14\n",
      "\t 4  /  14\n",
      "\tStopping threshold met -- exiting after 4 iterations\n",
      "Sat Mar  8 20:14:33 2025 Finished Nearest Neighbor Search\n",
      "Sat Mar  8 20:14:33 2025 Construct embedding\n"
     ]
    },
    {
     "name": "stderr",
     "output_type": "stream",
     "text": [
      "Epochs completed:   3%| ▎          6/200 [00:00]"
     ]
    },
    {
     "name": "stdout",
     "output_type": "stream",
     "text": [
      "\tcompleted  0  /  200 epochs\n"
     ]
    },
    {
     "name": "stderr",
     "output_type": "stream",
     "text": [
      "Epochs completed:  12%| █▏         24/200 [00:01]"
     ]
    },
    {
     "name": "stdout",
     "output_type": "stream",
     "text": [
      "\tcompleted  20  /  200 epochs\n"
     ]
    },
    {
     "name": "stderr",
     "output_type": "stream",
     "text": [
      "Epochs completed:  22%| ██▎        45/200 [00:02]"
     ]
    },
    {
     "name": "stdout",
     "output_type": "stream",
     "text": [
      "\tcompleted  40  /  200 epochs\n"
     ]
    },
    {
     "name": "stderr",
     "output_type": "stream",
     "text": [
      "Epochs completed:  33%| ███▎       66/200 [00:03]"
     ]
    },
    {
     "name": "stdout",
     "output_type": "stream",
     "text": [
      "\tcompleted  60  /  200 epochs\n"
     ]
    },
    {
     "name": "stderr",
     "output_type": "stream",
     "text": [
      "Epochs completed:  42%| ████▏      84/200 [00:03]"
     ]
    },
    {
     "name": "stdout",
     "output_type": "stream",
     "text": [
      "\tcompleted  80  /  200 epochs\n"
     ]
    },
    {
     "name": "stderr",
     "output_type": "stream",
     "text": [
      "Epochs completed:  52%| █████▎     105/200 [00:04]"
     ]
    },
    {
     "name": "stdout",
     "output_type": "stream",
     "text": [
      "\tcompleted  100  /  200 epochs\n"
     ]
    },
    {
     "name": "stderr",
     "output_type": "stream",
     "text": [
      "Epochs completed:  63%| ██████▎    126/200 [00:05]"
     ]
    },
    {
     "name": "stdout",
     "output_type": "stream",
     "text": [
      "\tcompleted  120  /  200 epochs\n"
     ]
    },
    {
     "name": "stderr",
     "output_type": "stream",
     "text": [
      "Epochs completed:  72%| ███████▏   144/200 [00:06]"
     ]
    },
    {
     "name": "stdout",
     "output_type": "stream",
     "text": [
      "\tcompleted  140  /  200 epochs\n"
     ]
    },
    {
     "name": "stderr",
     "output_type": "stream",
     "text": [
      "Epochs completed:  82%| ████████▎  165/200 [00:07]"
     ]
    },
    {
     "name": "stdout",
     "output_type": "stream",
     "text": [
      "\tcompleted  160  /  200 epochs\n"
     ]
    },
    {
     "name": "stderr",
     "output_type": "stream",
     "text": [
      "Epochs completed:  94%| █████████▍ 189/200 [00:08]"
     ]
    },
    {
     "name": "stdout",
     "output_type": "stream",
     "text": [
      "\tcompleted  180  /  200 epochs\n"
     ]
    },
    {
     "name": "stderr",
     "output_type": "stream",
     "text": [
      "Epochs completed: 100%| ██████████ 200/200 [00:08]\n"
     ]
    },
    {
     "name": "stdout",
     "output_type": "stream",
     "text": [
      "Sat Mar  8 20:14:42 2025 Finished embedding\n",
      "TSNE\n",
      "--------------------------------------------------------------------------------\n",
      "TSNE(early_exaggeration=12, random_state=2, verbose=True)\n",
      "--------------------------------------------------------------------------------\n",
      "===> Finding 90 nearest neighbors using Annoy approximate search using euclidean distance...\n",
      "   --> Time elapsed: 5.95 seconds\n",
      "===> Calculating affinity matrix...\n",
      "   --> Time elapsed: 0.41 seconds\n",
      "===> Calculating PCA-based initialization...\n",
      "   --> Time elapsed: 0.04 seconds\n",
      "===> Running optimization with exaggeration=12.00, lr=1099.50 for 250 iterations...\n",
      "Iteration   50, KL divergence 4.1521, 50 iterations in 1.5412 sec\n",
      "Iteration  100, KL divergence 4.0146, 50 iterations in 1.5041 sec\n",
      "Iteration  150, KL divergence 3.9584, 50 iterations in 1.4951 sec\n",
      "Iteration  200, KL divergence 3.9351, 50 iterations in 1.4989 sec\n",
      "Iteration  250, KL divergence 3.9224, 50 iterations in 1.4943 sec\n",
      "   --> Time elapsed: 7.53 seconds\n",
      "===> Running optimization with exaggeration=1.00, lr=13194.00 for 500 iterations...\n",
      "Iteration   50, KL divergence 2.0136, 50 iterations in 1.5924 sec\n",
      "Iteration  100, KL divergence 1.8145, 50 iterations in 2.4814 sec\n",
      "Iteration  150, KL divergence 1.7279, 50 iterations in 3.6042 sec\n",
      "Iteration  200, KL divergence 1.6772, 50 iterations in 4.7500 sec\n",
      "Iteration  250, KL divergence 1.6436, 50 iterations in 5.6538 sec\n",
      "Iteration  300, KL divergence 1.6194, 50 iterations in 6.6465 sec\n",
      "Iteration  350, KL divergence 1.6003, 50 iterations in 7.4007 sec\n",
      "Iteration  400, KL divergence 1.5863, 50 iterations in 8.0437 sec\n",
      "Iteration  450, KL divergence 1.5749, 50 iterations in 8.6330 sec\n",
      "Iteration  500, KL divergence 1.5649, 50 iterations in 9.7450 sec\n",
      "   --> Time elapsed: 58.55 seconds\n",
      "O_RTK1_m_2a seed: 3 scaled: True\n",
      "PCA2\n",
      "PCA50\n",
      "UMAP\n",
      "UMAP(random_state=3, verbose=True)\n",
      "Sat Mar  8 20:15:55 2025 Construct fuzzy simplicial set\n",
      "Sat Mar  8 20:15:55 2025 Finding Nearest Neighbors\n",
      "Sat Mar  8 20:15:55 2025 Building RP forest with 11 trees\n",
      "Sat Mar  8 20:15:55 2025 NN descent for 14 iterations\n"
     ]
    },
    {
     "name": "stderr",
     "output_type": "stream",
     "text": [
      "/data/cephfs-1/home/users/lzaschk_m/work/miniforge3/envs/elephant_analysis_env/lib/python3.11/site-packages/umap/umap_.py:1943: UserWarning: n_jobs value -1 overridden to 1 by setting random_state. Use no seed for parallelism.\n",
      "  warn(f\"n_jobs value {self.n_jobs} overridden to 1 by setting random_state. Use no seed for parallelism.\")\n"
     ]
    },
    {
     "name": "stdout",
     "output_type": "stream",
     "text": [
      "\t 1  /  14\n",
      "\t 2  /  14\n",
      "\t 3  /  14\n",
      "\t 4  /  14\n",
      "\tStopping threshold met -- exiting after 4 iterations\n",
      "Sat Mar  8 20:15:56 2025 Finished Nearest Neighbor Search\n",
      "Sat Mar  8 20:15:56 2025 Construct embedding\n"
     ]
    },
    {
     "name": "stderr",
     "output_type": "stream",
     "text": [
      "Epochs completed:   2%| ▎          5/200 [00:00]"
     ]
    },
    {
     "name": "stdout",
     "output_type": "stream",
     "text": [
      "\tcompleted  0  /  200 epochs\n"
     ]
    },
    {
     "name": "stderr",
     "output_type": "stream",
     "text": [
      "Epochs completed:  13%| █▎         26/200 [00:01]"
     ]
    },
    {
     "name": "stdout",
     "output_type": "stream",
     "text": [
      "\tcompleted  20  /  200 epochs\n"
     ]
    },
    {
     "name": "stderr",
     "output_type": "stream",
     "text": [
      "Epochs completed:  24%| ██▎        47/200 [00:02]"
     ]
    },
    {
     "name": "stdout",
     "output_type": "stream",
     "text": [
      "\tcompleted  40  /  200 epochs\n"
     ]
    },
    {
     "name": "stderr",
     "output_type": "stream",
     "text": [
      "Epochs completed:  32%| ███▎       65/200 [00:03]"
     ]
    },
    {
     "name": "stdout",
     "output_type": "stream",
     "text": [
      "\tcompleted  60  /  200 epochs\n"
     ]
    },
    {
     "name": "stderr",
     "output_type": "stream",
     "text": [
      "Epochs completed:  43%| ████▎      86/200 [00:04]"
     ]
    },
    {
     "name": "stdout",
     "output_type": "stream",
     "text": [
      "\tcompleted  80  /  200 epochs\n"
     ]
    },
    {
     "name": "stderr",
     "output_type": "stream",
     "text": [
      "Epochs completed:  52%| █████▏     104/200 [00:05]"
     ]
    },
    {
     "name": "stdout",
     "output_type": "stream",
     "text": [
      "\tcompleted  100  /  200 epochs\n"
     ]
    },
    {
     "name": "stderr",
     "output_type": "stream",
     "text": [
      "Epochs completed:  62%| ██████▎    125/200 [00:06]"
     ]
    },
    {
     "name": "stdout",
     "output_type": "stream",
     "text": [
      "\tcompleted  120  /  200 epochs\n"
     ]
    },
    {
     "name": "stderr",
     "output_type": "stream",
     "text": [
      "Epochs completed:  73%| ███████▎   146/200 [00:07]"
     ]
    },
    {
     "name": "stdout",
     "output_type": "stream",
     "text": [
      "\tcompleted  140  /  200 epochs\n"
     ]
    },
    {
     "name": "stderr",
     "output_type": "stream",
     "text": [
      "Epochs completed:  82%| ████████▏  164/200 [00:07]"
     ]
    },
    {
     "name": "stdout",
     "output_type": "stream",
     "text": [
      "\tcompleted  160  /  200 epochs\n"
     ]
    },
    {
     "name": "stderr",
     "output_type": "stream",
     "text": [
      "Epochs completed:  92%| █████████▎ 185/200 [00:08]"
     ]
    },
    {
     "name": "stdout",
     "output_type": "stream",
     "text": [
      "\tcompleted  180  /  200 epochs\n"
     ]
    },
    {
     "name": "stderr",
     "output_type": "stream",
     "text": [
      "Epochs completed: 100%| ██████████ 200/200 [00:09]\n"
     ]
    },
    {
     "name": "stdout",
     "output_type": "stream",
     "text": [
      "Sat Mar  8 20:16:06 2025 Finished embedding\n",
      "TSNE\n",
      "--------------------------------------------------------------------------------\n",
      "TSNE(early_exaggeration=12, random_state=3, verbose=True)\n",
      "--------------------------------------------------------------------------------\n",
      "===> Finding 90 nearest neighbors using Annoy approximate search using euclidean distance...\n",
      "   --> Time elapsed: 5.96 seconds\n",
      "===> Calculating affinity matrix...\n",
      "   --> Time elapsed: 0.41 seconds\n",
      "===> Calculating PCA-based initialization...\n",
      "   --> Time elapsed: 0.03 seconds\n",
      "===> Running optimization with exaggeration=12.00, lr=1099.50 for 250 iterations...\n",
      "Iteration   50, KL divergence 4.1467, 50 iterations in 1.5800 sec\n",
      "Iteration  100, KL divergence 4.0134, 50 iterations in 1.5181 sec\n",
      "Iteration  150, KL divergence 3.9584, 50 iterations in 1.5030 sec\n",
      "Iteration  200, KL divergence 3.9355, 50 iterations in 1.5130 sec\n",
      "Iteration  250, KL divergence 3.9228, 50 iterations in 1.5179 sec\n",
      "   --> Time elapsed: 7.63 seconds\n",
      "===> Running optimization with exaggeration=1.00, lr=13194.00 for 500 iterations...\n",
      "Iteration   50, KL divergence 2.0063, 50 iterations in 1.6271 sec\n",
      "Iteration  100, KL divergence 1.8101, 50 iterations in 2.5454 sec\n",
      "Iteration  150, KL divergence 1.7247, 50 iterations in 3.6368 sec\n",
      "Iteration  200, KL divergence 1.6758, 50 iterations in 4.7468 sec\n",
      "Iteration  250, KL divergence 1.6420, 50 iterations in 5.5487 sec\n",
      "Iteration  300, KL divergence 1.6188, 50 iterations in 6.5360 sec\n",
      "Iteration  350, KL divergence 1.5996, 50 iterations in 7.2429 sec\n",
      "Iteration  400, KL divergence 1.5851, 50 iterations in 8.1133 sec\n",
      "Iteration  450, KL divergence 1.5738, 50 iterations in 7.9516 sec\n",
      "Iteration  500, KL divergence 1.5644, 50 iterations in 9.2899 sec\n",
      "   --> Time elapsed: 57.24 seconds\n",
      "O_RTK1_m_2a seed: 4 scaled: True\n",
      "PCA2\n",
      "PCA50\n",
      "UMAP\n",
      "UMAP(random_state=4, verbose=True)\n",
      "Sat Mar  8 20:17:19 2025 Construct fuzzy simplicial set\n",
      "Sat Mar  8 20:17:19 2025 Finding Nearest Neighbors\n",
      "Sat Mar  8 20:17:19 2025 Building RP forest with 11 trees\n",
      "Sat Mar  8 20:17:19 2025 NN descent for 14 iterations\n"
     ]
    },
    {
     "name": "stderr",
     "output_type": "stream",
     "text": [
      "/data/cephfs-1/home/users/lzaschk_m/work/miniforge3/envs/elephant_analysis_env/lib/python3.11/site-packages/umap/umap_.py:1943: UserWarning: n_jobs value -1 overridden to 1 by setting random_state. Use no seed for parallelism.\n",
      "  warn(f\"n_jobs value {self.n_jobs} overridden to 1 by setting random_state. Use no seed for parallelism.\")\n"
     ]
    },
    {
     "name": "stdout",
     "output_type": "stream",
     "text": [
      "\t 1  /  14\n",
      "\t 2  /  14\n",
      "\t 3  /  14\n",
      "\t 4  /  14\n",
      "\tStopping threshold met -- exiting after 4 iterations\n",
      "Sat Mar  8 20:17:19 2025 Finished Nearest Neighbor Search\n",
      "Sat Mar  8 20:17:19 2025 Construct embedding\n"
     ]
    },
    {
     "name": "stderr",
     "output_type": "stream",
     "text": [
      "Epochs completed:   3%| ▎          6/200 [00:00]"
     ]
    },
    {
     "name": "stdout",
     "output_type": "stream",
     "text": [
      "\tcompleted  0  /  200 epochs\n"
     ]
    },
    {
     "name": "stderr",
     "output_type": "stream",
     "text": [
      "Epochs completed:  12%| █▏         24/200 [00:01]"
     ]
    },
    {
     "name": "stdout",
     "output_type": "stream",
     "text": [
      "\tcompleted  20  /  200 epochs\n"
     ]
    },
    {
     "name": "stderr",
     "output_type": "stream",
     "text": [
      "Epochs completed:  22%| ██▎        45/200 [00:02]"
     ]
    },
    {
     "name": "stdout",
     "output_type": "stream",
     "text": [
      "\tcompleted  40  /  200 epochs\n"
     ]
    },
    {
     "name": "stderr",
     "output_type": "stream",
     "text": [
      "Epochs completed:  33%| ███▎       66/200 [00:03]"
     ]
    },
    {
     "name": "stdout",
     "output_type": "stream",
     "text": [
      "\tcompleted  60  /  200 epochs\n"
     ]
    },
    {
     "name": "stderr",
     "output_type": "stream",
     "text": [
      "Epochs completed:  42%| ████▏      84/200 [00:03]"
     ]
    },
    {
     "name": "stdout",
     "output_type": "stream",
     "text": [
      "\tcompleted  80  /  200 epochs\n"
     ]
    },
    {
     "name": "stderr",
     "output_type": "stream",
     "text": [
      "Epochs completed:  52%| █████▎     105/200 [00:04]"
     ]
    },
    {
     "name": "stdout",
     "output_type": "stream",
     "text": [
      "\tcompleted  100  /  200 epochs\n"
     ]
    },
    {
     "name": "stderr",
     "output_type": "stream",
     "text": [
      "Epochs completed:  63%| ██████▎    126/200 [00:05]"
     ]
    },
    {
     "name": "stdout",
     "output_type": "stream",
     "text": [
      "\tcompleted  120  /  200 epochs\n"
     ]
    },
    {
     "name": "stderr",
     "output_type": "stream",
     "text": [
      "Epochs completed:  72%| ███████▏   144/200 [00:06]"
     ]
    },
    {
     "name": "stdout",
     "output_type": "stream",
     "text": [
      "\tcompleted  140  /  200 epochs\n"
     ]
    },
    {
     "name": "stderr",
     "output_type": "stream",
     "text": [
      "Epochs completed:  82%| ████████▎  165/200 [00:07]"
     ]
    },
    {
     "name": "stdout",
     "output_type": "stream",
     "text": [
      "\tcompleted  160  /  200 epochs\n"
     ]
    },
    {
     "name": "stderr",
     "output_type": "stream",
     "text": [
      "Epochs completed:  93%| █████████▎ 186/200 [00:08]"
     ]
    },
    {
     "name": "stdout",
     "output_type": "stream",
     "text": [
      "\tcompleted  180  /  200 epochs\n"
     ]
    },
    {
     "name": "stderr",
     "output_type": "stream",
     "text": [
      "Epochs completed: 100%| ██████████ 200/200 [00:08]\n"
     ]
    },
    {
     "name": "stdout",
     "output_type": "stream",
     "text": [
      "Sat Mar  8 20:17:28 2025 Finished embedding\n",
      "TSNE\n",
      "--------------------------------------------------------------------------------\n",
      "TSNE(early_exaggeration=12, random_state=4, verbose=True)\n",
      "--------------------------------------------------------------------------------\n",
      "===> Finding 90 nearest neighbors using Annoy approximate search using euclidean distance...\n",
      "   --> Time elapsed: 6.00 seconds\n",
      "===> Calculating affinity matrix...\n",
      "   --> Time elapsed: 0.41 seconds\n",
      "===> Calculating PCA-based initialization...\n",
      "   --> Time elapsed: 0.04 seconds\n",
      "===> Running optimization with exaggeration=12.00, lr=1099.50 for 250 iterations...\n",
      "Iteration   50, KL divergence 4.1513, 50 iterations in 1.5677 sec\n",
      "Iteration  100, KL divergence 4.0177, 50 iterations in 1.5292 sec\n",
      "Iteration  150, KL divergence 3.9635, 50 iterations in 1.5174 sec\n",
      "Iteration  200, KL divergence 3.9401, 50 iterations in 1.5202 sec\n",
      "Iteration  250, KL divergence 3.9274, 50 iterations in 1.5127 sec\n",
      "   --> Time elapsed: 7.65 seconds\n",
      "===> Running optimization with exaggeration=1.00, lr=13194.00 for 500 iterations...\n",
      "Iteration   50, KL divergence 2.0116, 50 iterations in 1.6402 sec\n",
      "Iteration  100, KL divergence 1.8130, 50 iterations in 2.5166 sec\n",
      "Iteration  150, KL divergence 1.7258, 50 iterations in 3.5835 sec\n",
      "Iteration  200, KL divergence 1.6761, 50 iterations in 4.6301 sec\n",
      "Iteration  250, KL divergence 1.6423, 50 iterations in 5.4552 sec\n",
      "Iteration  300, KL divergence 1.6196, 50 iterations in 6.4775 sec\n",
      "Iteration  350, KL divergence 1.6004, 50 iterations in 7.1510 sec\n",
      "Iteration  400, KL divergence 1.5857, 50 iterations in 8.0027 sec\n",
      "Iteration  450, KL divergence 1.5741, 50 iterations in 8.1444 sec\n",
      "Iteration  500, KL divergence 1.5643, 50 iterations in 9.3915 sec\n",
      "   --> Time elapsed: 56.99 seconds\n",
      "running on scaled and unscaled data for O_RTK1_m_2b\n",
      "O_RTK1_m_2b seed: 0 scaled: False\n",
      "PCA2\n",
      "PCA50\n",
      "UMAP\n",
      "UMAP(random_state=0, verbose=True)\n",
      "Sat Mar  8 20:18:41 2025 Construct fuzzy simplicial set\n",
      "Sat Mar  8 20:18:41 2025 Finding Nearest Neighbors\n",
      "Sat Mar  8 20:18:41 2025 Building RP forest with 10 trees\n",
      "Sat Mar  8 20:18:41 2025 NN descent for 13 iterations\n",
      "\t 1  /  13\n"
     ]
    },
    {
     "name": "stderr",
     "output_type": "stream",
     "text": [
      "/data/cephfs-1/home/users/lzaschk_m/work/miniforge3/envs/elephant_analysis_env/lib/python3.11/site-packages/umap/umap_.py:1943: UserWarning: n_jobs value -1 overridden to 1 by setting random_state. Use no seed for parallelism.\n",
      "  warn(f\"n_jobs value {self.n_jobs} overridden to 1 by setting random_state. Use no seed for parallelism.\")\n"
     ]
    },
    {
     "name": "stdout",
     "output_type": "stream",
     "text": [
      "\t 2  /  13\n",
      "\t 3  /  13\n",
      "\t 4  /  13\n",
      "\tStopping threshold met -- exiting after 4 iterations\n",
      "Sat Mar  8 20:18:41 2025 Finished Nearest Neighbor Search\n",
      "Sat Mar  8 20:18:41 2025 Construct embedding\n"
     ]
    },
    {
     "name": "stderr",
     "output_type": "stream",
     "text": [
      "Epochs completed:   3%| ▎          6/200 [00:00]"
     ]
    },
    {
     "name": "stdout",
     "output_type": "stream",
     "text": [
      "\tcompleted  0  /  200 epochs\n"
     ]
    },
    {
     "name": "stderr",
     "output_type": "stream",
     "text": [
      "Epochs completed:  12%| █▏         24/200 [00:01]"
     ]
    },
    {
     "name": "stdout",
     "output_type": "stream",
     "text": [
      "\tcompleted  20  /  200 epochs\n"
     ]
    },
    {
     "name": "stderr",
     "output_type": "stream",
     "text": [
      "Epochs completed:  22%| ██▎        45/200 [00:02]"
     ]
    },
    {
     "name": "stdout",
     "output_type": "stream",
     "text": [
      "\tcompleted  40  /  200 epochs\n"
     ]
    },
    {
     "name": "stderr",
     "output_type": "stream",
     "text": [
      "Epochs completed:  33%| ███▎       66/200 [00:02]"
     ]
    },
    {
     "name": "stdout",
     "output_type": "stream",
     "text": [
      "\tcompleted  60  /  200 epochs\n"
     ]
    },
    {
     "name": "stderr",
     "output_type": "stream",
     "text": [
      "Epochs completed:  42%| ████▏      84/200 [00:03]"
     ]
    },
    {
     "name": "stdout",
     "output_type": "stream",
     "text": [
      "\tcompleted  80  /  200 epochs\n"
     ]
    },
    {
     "name": "stderr",
     "output_type": "stream",
     "text": [
      "Epochs completed:  52%| █████▎     105/200 [00:04]"
     ]
    },
    {
     "name": "stdout",
     "output_type": "stream",
     "text": [
      "\tcompleted  100  /  200 epochs\n"
     ]
    },
    {
     "name": "stderr",
     "output_type": "stream",
     "text": [
      "Epochs completed:  63%| ██████▎    126/200 [00:04]"
     ]
    },
    {
     "name": "stdout",
     "output_type": "stream",
     "text": [
      "\tcompleted  120  /  200 epochs\n"
     ]
    },
    {
     "name": "stderr",
     "output_type": "stream",
     "text": [
      "Epochs completed:  72%| ███████▏   144/200 [00:05]"
     ]
    },
    {
     "name": "stdout",
     "output_type": "stream",
     "text": [
      "\tcompleted  140  /  200 epochs\n"
     ]
    },
    {
     "name": "stderr",
     "output_type": "stream",
     "text": [
      "Epochs completed:  82%| ████████▎  165/200 [00:06]"
     ]
    },
    {
     "name": "stdout",
     "output_type": "stream",
     "text": [
      "\tcompleted  160  /  200 epochs\n"
     ]
    },
    {
     "name": "stderr",
     "output_type": "stream",
     "text": [
      "Epochs completed:  93%| █████████▎ 186/200 [00:07]"
     ]
    },
    {
     "name": "stdout",
     "output_type": "stream",
     "text": [
      "\tcompleted  180  /  200 epochs\n"
     ]
    },
    {
     "name": "stderr",
     "output_type": "stream",
     "text": [
      "Epochs completed: 100%| ██████████ 200/200 [00:07]\n"
     ]
    },
    {
     "name": "stdout",
     "output_type": "stream",
     "text": [
      "Sat Mar  8 20:18:49 2025 Finished embedding\n",
      "TSNE\n",
      "--------------------------------------------------------------------------------\n",
      "TSNE(early_exaggeration=12, random_state=0, verbose=True)\n",
      "--------------------------------------------------------------------------------\n",
      "===> Finding 90 nearest neighbors using Annoy approximate search using euclidean distance...\n",
      "   --> Time elapsed: 4.94 seconds\n",
      "===> Calculating affinity matrix...\n",
      "   --> Time elapsed: 0.35 seconds\n",
      "===> Calculating PCA-based initialization...\n",
      "   --> Time elapsed: 0.03 seconds\n",
      "===> Running optimization with exaggeration=12.00, lr=943.33 for 250 iterations...\n",
      "Iteration   50, KL divergence 4.0705, 50 iterations in 1.4244 sec\n",
      "Iteration  100, KL divergence 4.0070, 50 iterations in 1.3801 sec\n",
      "Iteration  150, KL divergence 3.9766, 50 iterations in 1.3803 sec\n",
      "Iteration  200, KL divergence 3.9632, 50 iterations in 1.3765 sec\n",
      "Iteration  250, KL divergence 3.9560, 50 iterations in 1.3825 sec\n",
      "   --> Time elapsed: 6.94 seconds\n",
      "===> Running optimization with exaggeration=1.00, lr=11320.00 for 500 iterations...\n",
      "Iteration   50, KL divergence 2.1901, 50 iterations in 1.4207 sec\n",
      "Iteration  100, KL divergence 2.0246, 50 iterations in 2.0684 sec\n",
      "Iteration  150, KL divergence 1.9537, 50 iterations in 2.8126 sec\n",
      "Iteration  200, KL divergence 1.9119, 50 iterations in 3.6038 sec\n",
      "Iteration  250, KL divergence 1.8865, 50 iterations in 4.5924 sec\n",
      "Iteration  300, KL divergence 1.8665, 50 iterations in 5.0576 sec\n",
      "Iteration  350, KL divergence 1.8528, 50 iterations in 5.7610 sec\n",
      "Iteration  400, KL divergence 1.8402, 50 iterations in 6.4530 sec\n",
      "Iteration  450, KL divergence 1.8303, 50 iterations in 7.1487 sec\n",
      "Iteration  500, KL divergence 1.8222, 50 iterations in 8.0415 sec\n",
      "   --> Time elapsed: 46.96 seconds\n",
      "O_RTK1_m_2b seed: 1 scaled: False\n",
      "PCA2\n",
      "PCA50\n",
      "UMAP\n",
      "UMAP(random_state=1, verbose=True)\n",
      "Sat Mar  8 20:19:50 2025 Construct fuzzy simplicial set\n",
      "Sat Mar  8 20:19:50 2025 Finding Nearest Neighbors\n",
      "Sat Mar  8 20:19:50 2025 Building RP forest with 10 trees\n",
      "Sat Mar  8 20:19:50 2025 NN descent for 13 iterations\n",
      "\t 1  /  13\n"
     ]
    },
    {
     "name": "stderr",
     "output_type": "stream",
     "text": [
      "/data/cephfs-1/home/users/lzaschk_m/work/miniforge3/envs/elephant_analysis_env/lib/python3.11/site-packages/umap/umap_.py:1943: UserWarning: n_jobs value -1 overridden to 1 by setting random_state. Use no seed for parallelism.\n",
      "  warn(f\"n_jobs value {self.n_jobs} overridden to 1 by setting random_state. Use no seed for parallelism.\")\n"
     ]
    },
    {
     "name": "stdout",
     "output_type": "stream",
     "text": [
      "\t 2  /  13\n",
      "\t 3  /  13\n",
      "\t 4  /  13\n",
      "\tStopping threshold met -- exiting after 4 iterations\n",
      "Sat Mar  8 20:19:50 2025 Finished Nearest Neighbor Search\n",
      "Sat Mar  8 20:19:50 2025 Construct embedding\n"
     ]
    },
    {
     "name": "stderr",
     "output_type": "stream",
     "text": [
      "Epochs completed:   3%| ▎          6/200 [00:00]"
     ]
    },
    {
     "name": "stdout",
     "output_type": "stream",
     "text": [
      "\tcompleted  0  /  200 epochs\n"
     ]
    },
    {
     "name": "stderr",
     "output_type": "stream",
     "text": [
      "Epochs completed:  14%| █▎         27/200 [00:01]"
     ]
    },
    {
     "name": "stdout",
     "output_type": "stream",
     "text": [
      "\tcompleted  20  /  200 epochs\n"
     ]
    },
    {
     "name": "stderr",
     "output_type": "stream",
     "text": [
      "Epochs completed:  22%| ██▎        45/200 [00:02]"
     ]
    },
    {
     "name": "stdout",
     "output_type": "stream",
     "text": [
      "\tcompleted  40  /  200 epochs\n"
     ]
    },
    {
     "name": "stderr",
     "output_type": "stream",
     "text": [
      "Epochs completed:  33%| ███▎       66/200 [00:02]"
     ]
    },
    {
     "name": "stdout",
     "output_type": "stream",
     "text": [
      "\tcompleted  60  /  200 epochs\n"
     ]
    },
    {
     "name": "stderr",
     "output_type": "stream",
     "text": [
      "Epochs completed:  42%| ████▏      84/200 [00:03]"
     ]
    },
    {
     "name": "stdout",
     "output_type": "stream",
     "text": [
      "\tcompleted  80  /  200 epochs\n"
     ]
    },
    {
     "name": "stderr",
     "output_type": "stream",
     "text": [
      "Epochs completed:  52%| █████▎     105/200 [00:04]"
     ]
    },
    {
     "name": "stdout",
     "output_type": "stream",
     "text": [
      "\tcompleted  100  /  200 epochs\n"
     ]
    },
    {
     "name": "stderr",
     "output_type": "stream",
     "text": [
      "Epochs completed:  63%| ██████▎    126/200 [00:04]"
     ]
    },
    {
     "name": "stdout",
     "output_type": "stream",
     "text": [
      "\tcompleted  120  /  200 epochs\n"
     ]
    },
    {
     "name": "stderr",
     "output_type": "stream",
     "text": [
      "Epochs completed:  74%| ███████▎   147/200 [00:05]"
     ]
    },
    {
     "name": "stdout",
     "output_type": "stream",
     "text": [
      "\tcompleted  140  /  200 epochs\n"
     ]
    },
    {
     "name": "stderr",
     "output_type": "stream",
     "text": [
      "Epochs completed:  82%| ████████▎  165/200 [00:06]"
     ]
    },
    {
     "name": "stdout",
     "output_type": "stream",
     "text": [
      "\tcompleted  160  /  200 epochs\n"
     ]
    },
    {
     "name": "stderr",
     "output_type": "stream",
     "text": [
      "Epochs completed:  93%| █████████▎ 186/200 [00:07]"
     ]
    },
    {
     "name": "stdout",
     "output_type": "stream",
     "text": [
      "\tcompleted  180  /  200 epochs\n"
     ]
    },
    {
     "name": "stderr",
     "output_type": "stream",
     "text": [
      "Epochs completed: 100%| ██████████ 200/200 [00:07]\n"
     ]
    },
    {
     "name": "stdout",
     "output_type": "stream",
     "text": [
      "Sat Mar  8 20:19:58 2025 Finished embedding\n",
      "TSNE\n",
      "--------------------------------------------------------------------------------\n",
      "TSNE(early_exaggeration=12, random_state=1, verbose=True)\n",
      "--------------------------------------------------------------------------------\n",
      "===> Finding 90 nearest neighbors using Annoy approximate search using euclidean distance...\n",
      "   --> Time elapsed: 4.92 seconds\n",
      "===> Calculating affinity matrix...\n",
      "   --> Time elapsed: 0.35 seconds\n",
      "===> Calculating PCA-based initialization...\n",
      "   --> Time elapsed: 0.04 seconds\n",
      "===> Running optimization with exaggeration=12.00, lr=943.33 for 250 iterations...\n",
      "Iteration   50, KL divergence 4.1016, 50 iterations in 1.4138 sec\n",
      "Iteration  100, KL divergence 4.0240, 50 iterations in 1.3767 sec\n",
      "Iteration  150, KL divergence 3.9947, 50 iterations in 1.3813 sec\n",
      "Iteration  200, KL divergence 3.9810, 50 iterations in 1.3719 sec\n",
      "Iteration  250, KL divergence 3.9734, 50 iterations in 1.3733 sec\n",
      "   --> Time elapsed: 6.92 seconds\n",
      "===> Running optimization with exaggeration=1.00, lr=11320.00 for 500 iterations...\n",
      "Iteration   50, KL divergence 2.1886, 50 iterations in 1.4072 sec\n",
      "Iteration  100, KL divergence 2.0230, 50 iterations in 2.0591 sec\n",
      "Iteration  150, KL divergence 1.9515, 50 iterations in 2.8802 sec\n",
      "Iteration  200, KL divergence 1.9117, 50 iterations in 3.8831 sec\n",
      "Iteration  250, KL divergence 1.8839, 50 iterations in 4.7943 sec\n",
      "Iteration  300, KL divergence 1.8643, 50 iterations in 5.4382 sec\n",
      "Iteration  350, KL divergence 1.8490, 50 iterations in 6.2306 sec\n",
      "Iteration  400, KL divergence 1.8357, 50 iterations in 6.9350 sec\n",
      "Iteration  450, KL divergence 1.8251, 50 iterations in 7.5649 sec\n",
      "Iteration  500, KL divergence 1.8170, 50 iterations in 7.8243 sec\n",
      "   --> Time elapsed: 49.02 seconds\n",
      "O_RTK1_m_2b seed: 2 scaled: False\n",
      "PCA2\n",
      "PCA50\n",
      "UMAP\n",
      "UMAP(random_state=2, verbose=True)\n",
      "Sat Mar  8 20:21:01 2025 Construct fuzzy simplicial set\n",
      "Sat Mar  8 20:21:01 2025 Finding Nearest Neighbors\n",
      "Sat Mar  8 20:21:01 2025 Building RP forest with 10 trees\n",
      "Sat Mar  8 20:21:01 2025 NN descent for 13 iterations\n",
      "\t 1  /  13\n"
     ]
    },
    {
     "name": "stderr",
     "output_type": "stream",
     "text": [
      "/data/cephfs-1/home/users/lzaschk_m/work/miniforge3/envs/elephant_analysis_env/lib/python3.11/site-packages/umap/umap_.py:1943: UserWarning: n_jobs value -1 overridden to 1 by setting random_state. Use no seed for parallelism.\n",
      "  warn(f\"n_jobs value {self.n_jobs} overridden to 1 by setting random_state. Use no seed for parallelism.\")\n"
     ]
    },
    {
     "name": "stdout",
     "output_type": "stream",
     "text": [
      "\t 2  /  13\n",
      "\t 3  /  13\n",
      "\t 4  /  13\n",
      "\tStopping threshold met -- exiting after 4 iterations\n",
      "Sat Mar  8 20:21:01 2025 Finished Nearest Neighbor Search\n",
      "Sat Mar  8 20:21:01 2025 Construct embedding\n"
     ]
    },
    {
     "name": "stderr",
     "output_type": "stream",
     "text": [
      "Epochs completed:   3%| ▎          6/200 [00:00]"
     ]
    },
    {
     "name": "stdout",
     "output_type": "stream",
     "text": [
      "\tcompleted  0  /  200 epochs\n"
     ]
    },
    {
     "name": "stderr",
     "output_type": "stream",
     "text": [
      "Epochs completed:  12%| █▏         24/200 [00:01]"
     ]
    },
    {
     "name": "stdout",
     "output_type": "stream",
     "text": [
      "\tcompleted  20  /  200 epochs\n"
     ]
    },
    {
     "name": "stderr",
     "output_type": "stream",
     "text": [
      "Epochs completed:  22%| ██▎        45/200 [00:02]"
     ]
    },
    {
     "name": "stdout",
     "output_type": "stream",
     "text": [
      "\tcompleted  40  /  200 epochs\n"
     ]
    },
    {
     "name": "stderr",
     "output_type": "stream",
     "text": [
      "Epochs completed:  33%| ███▎       66/200 [00:02]"
     ]
    },
    {
     "name": "stdout",
     "output_type": "stream",
     "text": [
      "\tcompleted  60  /  200 epochs\n"
     ]
    },
    {
     "name": "stderr",
     "output_type": "stream",
     "text": [
      "Epochs completed:  42%| ████▏      84/200 [00:03]"
     ]
    },
    {
     "name": "stdout",
     "output_type": "stream",
     "text": [
      "\tcompleted  80  /  200 epochs\n"
     ]
    },
    {
     "name": "stderr",
     "output_type": "stream",
     "text": [
      "Epochs completed:  52%| █████▎     105/200 [00:04]"
     ]
    },
    {
     "name": "stdout",
     "output_type": "stream",
     "text": [
      "\tcompleted  100  /  200 epochs\n"
     ]
    },
    {
     "name": "stderr",
     "output_type": "stream",
     "text": [
      "Epochs completed:  63%| ██████▎    126/200 [00:04]"
     ]
    },
    {
     "name": "stdout",
     "output_type": "stream",
     "text": [
      "\tcompleted  120  /  200 epochs\n"
     ]
    },
    {
     "name": "stderr",
     "output_type": "stream",
     "text": [
      "Epochs completed:  72%| ███████▏   144/200 [00:05]"
     ]
    },
    {
     "name": "stdout",
     "output_type": "stream",
     "text": [
      "\tcompleted  140  /  200 epochs\n"
     ]
    },
    {
     "name": "stderr",
     "output_type": "stream",
     "text": [
      "Epochs completed:  82%| ████████▎  165/200 [00:06]"
     ]
    },
    {
     "name": "stdout",
     "output_type": "stream",
     "text": [
      "\tcompleted  160  /  200 epochs\n"
     ]
    },
    {
     "name": "stderr",
     "output_type": "stream",
     "text": [
      "Epochs completed:  93%| █████████▎ 186/200 [00:06]"
     ]
    },
    {
     "name": "stdout",
     "output_type": "stream",
     "text": [
      "\tcompleted  180  /  200 epochs\n"
     ]
    },
    {
     "name": "stderr",
     "output_type": "stream",
     "text": [
      "Epochs completed: 100%| ██████████ 200/200 [00:07]\n"
     ]
    },
    {
     "name": "stdout",
     "output_type": "stream",
     "text": [
      "Sat Mar  8 20:21:09 2025 Finished embedding\n",
      "TSNE\n",
      "--------------------------------------------------------------------------------\n",
      "TSNE(early_exaggeration=12, random_state=2, verbose=True)\n",
      "--------------------------------------------------------------------------------\n",
      "===> Finding 90 nearest neighbors using Annoy approximate search using euclidean distance...\n",
      "   --> Time elapsed: 4.85 seconds\n",
      "===> Calculating affinity matrix...\n",
      "   --> Time elapsed: 0.33 seconds\n",
      "===> Calculating PCA-based initialization...\n",
      "   --> Time elapsed: 0.03 seconds\n",
      "===> Running optimization with exaggeration=12.00, lr=943.33 for 250 iterations...\n",
      "Iteration   50, KL divergence 4.0908, 50 iterations in 1.4004 sec\n",
      "Iteration  100, KL divergence 4.0076, 50 iterations in 1.3614 sec\n",
      "Iteration  150, KL divergence 3.9768, 50 iterations in 1.3626 sec\n",
      "Iteration  200, KL divergence 3.9634, 50 iterations in 1.3592 sec\n",
      "Iteration  250, KL divergence 3.9561, 50 iterations in 1.3628 sec\n",
      "   --> Time elapsed: 6.85 seconds\n",
      "===> Running optimization with exaggeration=1.00, lr=11320.00 for 500 iterations...\n",
      "Iteration   50, KL divergence 2.1890, 50 iterations in 1.4019 sec\n",
      "Iteration  100, KL divergence 2.0219, 50 iterations in 2.0572 sec\n",
      "Iteration  150, KL divergence 1.9493, 50 iterations in 2.9581 sec\n",
      "Iteration  200, KL divergence 1.9085, 50 iterations in 3.9907 sec\n",
      "Iteration  250, KL divergence 1.8807, 50 iterations in 4.9056 sec\n",
      "Iteration  300, KL divergence 1.8615, 50 iterations in 5.6279 sec\n",
      "Iteration  350, KL divergence 1.8456, 50 iterations in 6.3775 sec\n",
      "Iteration  400, KL divergence 1.8328, 50 iterations in 7.2185 sec\n",
      "Iteration  450, KL divergence 1.8226, 50 iterations in 7.9435 sec\n",
      "Iteration  500, KL divergence 1.8141, 50 iterations in 8.1243 sec\n",
      "   --> Time elapsed: 50.61 seconds\n",
      "O_RTK1_m_2b seed: 3 scaled: False\n",
      "PCA2\n",
      "PCA50\n",
      "UMAP\n",
      "UMAP(random_state=3, verbose=True)\n",
      "Sat Mar  8 20:22:13 2025 Construct fuzzy simplicial set\n",
      "Sat Mar  8 20:22:13 2025 Finding Nearest Neighbors\n",
      "Sat Mar  8 20:22:13 2025 Building RP forest with 10 trees\n",
      "Sat Mar  8 20:22:13 2025 NN descent for 13 iterations\n",
      "\t 1  /  13\n"
     ]
    },
    {
     "name": "stderr",
     "output_type": "stream",
     "text": [
      "/data/cephfs-1/home/users/lzaschk_m/work/miniforge3/envs/elephant_analysis_env/lib/python3.11/site-packages/umap/umap_.py:1943: UserWarning: n_jobs value -1 overridden to 1 by setting random_state. Use no seed for parallelism.\n",
      "  warn(f\"n_jobs value {self.n_jobs} overridden to 1 by setting random_state. Use no seed for parallelism.\")\n"
     ]
    },
    {
     "name": "stdout",
     "output_type": "stream",
     "text": [
      "\t 2  /  13\n",
      "\t 3  /  13\n",
      "\t 4  /  13\n",
      "\tStopping threshold met -- exiting after 4 iterations\n",
      "Sat Mar  8 20:22:13 2025 Finished Nearest Neighbor Search\n",
      "Sat Mar  8 20:22:13 2025 Construct embedding\n"
     ]
    },
    {
     "name": "stderr",
     "output_type": "stream",
     "text": [
      "Epochs completed:   3%| ▎          6/200 [00:00]"
     ]
    },
    {
     "name": "stdout",
     "output_type": "stream",
     "text": [
      "\tcompleted  0  /  200 epochs\n"
     ]
    },
    {
     "name": "stderr",
     "output_type": "stream",
     "text": [
      "Epochs completed:  12%| █▏         24/200 [00:01]"
     ]
    },
    {
     "name": "stdout",
     "output_type": "stream",
     "text": [
      "\tcompleted  20  /  200 epochs\n"
     ]
    },
    {
     "name": "stderr",
     "output_type": "stream",
     "text": [
      "Epochs completed:  22%| ██▎        45/200 [00:02]"
     ]
    },
    {
     "name": "stdout",
     "output_type": "stream",
     "text": [
      "\tcompleted  40  /  200 epochs\n"
     ]
    },
    {
     "name": "stderr",
     "output_type": "stream",
     "text": [
      "Epochs completed:  33%| ███▎       66/200 [00:02]"
     ]
    },
    {
     "name": "stdout",
     "output_type": "stream",
     "text": [
      "\tcompleted  60  /  200 epochs\n"
     ]
    },
    {
     "name": "stderr",
     "output_type": "stream",
     "text": [
      "Epochs completed:  42%| ████▏      84/200 [00:03]"
     ]
    },
    {
     "name": "stdout",
     "output_type": "stream",
     "text": [
      "\tcompleted  80  /  200 epochs\n"
     ]
    },
    {
     "name": "stderr",
     "output_type": "stream",
     "text": [
      "Epochs completed:  52%| █████▎     105/200 [00:04]"
     ]
    },
    {
     "name": "stdout",
     "output_type": "stream",
     "text": [
      "\tcompleted  100  /  200 epochs\n"
     ]
    },
    {
     "name": "stderr",
     "output_type": "stream",
     "text": [
      "Epochs completed:  63%| ██████▎    126/200 [00:04]"
     ]
    },
    {
     "name": "stdout",
     "output_type": "stream",
     "text": [
      "\tcompleted  120  /  200 epochs\n"
     ]
    },
    {
     "name": "stderr",
     "output_type": "stream",
     "text": [
      "Epochs completed:  74%| ███████▎   147/200 [00:05]"
     ]
    },
    {
     "name": "stdout",
     "output_type": "stream",
     "text": [
      "\tcompleted  140  /  200 epochs\n"
     ]
    },
    {
     "name": "stderr",
     "output_type": "stream",
     "text": [
      "Epochs completed:  82%| ████████▎  165/200 [00:06]"
     ]
    },
    {
     "name": "stdout",
     "output_type": "stream",
     "text": [
      "\tcompleted  160  /  200 epochs\n"
     ]
    },
    {
     "name": "stderr",
     "output_type": "stream",
     "text": [
      "Epochs completed:  93%| █████████▎ 186/200 [00:07]"
     ]
    },
    {
     "name": "stdout",
     "output_type": "stream",
     "text": [
      "\tcompleted  180  /  200 epochs\n"
     ]
    },
    {
     "name": "stderr",
     "output_type": "stream",
     "text": [
      "Epochs completed: 100%| ██████████ 200/200 [00:07]\n"
     ]
    },
    {
     "name": "stdout",
     "output_type": "stream",
     "text": [
      "Sat Mar  8 20:22:21 2025 Finished embedding\n",
      "TSNE\n",
      "--------------------------------------------------------------------------------\n",
      "TSNE(early_exaggeration=12, random_state=3, verbose=True)\n",
      "--------------------------------------------------------------------------------\n",
      "===> Finding 90 nearest neighbors using Annoy approximate search using euclidean distance...\n",
      "   --> Time elapsed: 4.83 seconds\n",
      "===> Calculating affinity matrix...\n",
      "   --> Time elapsed: 0.33 seconds\n",
      "===> Calculating PCA-based initialization...\n",
      "   --> Time elapsed: 0.03 seconds\n",
      "===> Running optimization with exaggeration=12.00, lr=943.33 for 250 iterations...\n",
      "Iteration   50, KL divergence 4.0873, 50 iterations in 1.4108 sec\n",
      "Iteration  100, KL divergence 4.0179, 50 iterations in 1.3736 sec\n",
      "Iteration  150, KL divergence 3.9918, 50 iterations in 1.3700 sec\n",
      "Iteration  200, KL divergence 3.9801, 50 iterations in 1.3668 sec\n",
      "Iteration  250, KL divergence 3.9725, 50 iterations in 1.3639 sec\n",
      "   --> Time elapsed: 6.89 seconds\n",
      "===> Running optimization with exaggeration=1.00, lr=11320.00 for 500 iterations...\n",
      "Iteration   50, KL divergence 2.1836, 50 iterations in 1.4206 sec\n",
      "Iteration  100, KL divergence 2.0187, 50 iterations in 2.1482 sec\n",
      "Iteration  150, KL divergence 1.9474, 50 iterations in 3.0532 sec\n",
      "Iteration  200, KL divergence 1.9067, 50 iterations in 4.0910 sec\n",
      "Iteration  250, KL divergence 1.8781, 50 iterations in 4.9100 sec\n",
      "Iteration  300, KL divergence 1.8578, 50 iterations in 5.6629 sec\n",
      "Iteration  350, KL divergence 1.8417, 50 iterations in 6.4070 sec\n",
      "Iteration  400, KL divergence 1.8294, 50 iterations in 7.0214 sec\n",
      "Iteration  450, KL divergence 1.8190, 50 iterations in 7.7441 sec\n",
      "Iteration  500, KL divergence 1.8106, 50 iterations in 7.6997 sec\n",
      "   --> Time elapsed: 50.16 seconds\n",
      "O_RTK1_m_2b seed: 4 scaled: False\n",
      "PCA2\n",
      "PCA50\n",
      "UMAP\n",
      "UMAP(random_state=4, verbose=True)\n",
      "Sat Mar  8 20:23:25 2025 Construct fuzzy simplicial set\n",
      "Sat Mar  8 20:23:25 2025 Finding Nearest Neighbors\n",
      "Sat Mar  8 20:23:25 2025 Building RP forest with 10 trees\n",
      "Sat Mar  8 20:23:25 2025 NN descent for 13 iterations\n",
      "\t 1  /  13\n"
     ]
    },
    {
     "name": "stderr",
     "output_type": "stream",
     "text": [
      "/data/cephfs-1/home/users/lzaschk_m/work/miniforge3/envs/elephant_analysis_env/lib/python3.11/site-packages/umap/umap_.py:1943: UserWarning: n_jobs value -1 overridden to 1 by setting random_state. Use no seed for parallelism.\n",
      "  warn(f\"n_jobs value {self.n_jobs} overridden to 1 by setting random_state. Use no seed for parallelism.\")\n"
     ]
    },
    {
     "name": "stdout",
     "output_type": "stream",
     "text": [
      "\t 2  /  13\n",
      "\t 3  /  13\n",
      "\t 4  /  13\n",
      "\tStopping threshold met -- exiting after 4 iterations\n",
      "Sat Mar  8 20:23:25 2025 Finished Nearest Neighbor Search\n",
      "Sat Mar  8 20:23:25 2025 Construct embedding\n"
     ]
    },
    {
     "name": "stderr",
     "output_type": "stream",
     "text": [
      "Epochs completed:   3%| ▎          6/200 [00:00]"
     ]
    },
    {
     "name": "stdout",
     "output_type": "stream",
     "text": [
      "\tcompleted  0  /  200 epochs\n"
     ]
    },
    {
     "name": "stderr",
     "output_type": "stream",
     "text": [
      "Epochs completed:  12%| █▏         24/200 [00:01]"
     ]
    },
    {
     "name": "stdout",
     "output_type": "stream",
     "text": [
      "\tcompleted  20  /  200 epochs\n"
     ]
    },
    {
     "name": "stderr",
     "output_type": "stream",
     "text": [
      "Epochs completed:  22%| ██▎        45/200 [00:02]"
     ]
    },
    {
     "name": "stdout",
     "output_type": "stream",
     "text": [
      "\tcompleted  40  /  200 epochs\n"
     ]
    },
    {
     "name": "stderr",
     "output_type": "stream",
     "text": [
      "Epochs completed:  33%| ███▎       66/200 [00:02]"
     ]
    },
    {
     "name": "stdout",
     "output_type": "stream",
     "text": [
      "\tcompleted  60  /  200 epochs\n"
     ]
    },
    {
     "name": "stderr",
     "output_type": "stream",
     "text": [
      "Epochs completed:  42%| ████▏      84/200 [00:03]"
     ]
    },
    {
     "name": "stdout",
     "output_type": "stream",
     "text": [
      "\tcompleted  80  /  200 epochs\n"
     ]
    },
    {
     "name": "stderr",
     "output_type": "stream",
     "text": [
      "Epochs completed:  52%| █████▎     105/200 [00:04]"
     ]
    },
    {
     "name": "stdout",
     "output_type": "stream",
     "text": [
      "\tcompleted  100  /  200 epochs\n"
     ]
    },
    {
     "name": "stderr",
     "output_type": "stream",
     "text": [
      "Epochs completed:  63%| ██████▎    126/200 [00:04]"
     ]
    },
    {
     "name": "stdout",
     "output_type": "stream",
     "text": [
      "\tcompleted  120  /  200 epochs\n"
     ]
    },
    {
     "name": "stderr",
     "output_type": "stream",
     "text": [
      "Epochs completed:  74%| ███████▎   147/200 [00:05]"
     ]
    },
    {
     "name": "stdout",
     "output_type": "stream",
     "text": [
      "\tcompleted  140  /  200 epochs\n"
     ]
    },
    {
     "name": "stderr",
     "output_type": "stream",
     "text": [
      "Epochs completed:  82%| ████████▎  165/200 [00:06]"
     ]
    },
    {
     "name": "stdout",
     "output_type": "stream",
     "text": [
      "\tcompleted  160  /  200 epochs\n"
     ]
    },
    {
     "name": "stderr",
     "output_type": "stream",
     "text": [
      "Epochs completed:  93%| █████████▎ 186/200 [00:06]"
     ]
    },
    {
     "name": "stdout",
     "output_type": "stream",
     "text": [
      "\tcompleted  180  /  200 epochs\n"
     ]
    },
    {
     "name": "stderr",
     "output_type": "stream",
     "text": [
      "Epochs completed: 100%| ██████████ 200/200 [00:07]\n"
     ]
    },
    {
     "name": "stdout",
     "output_type": "stream",
     "text": [
      "Sat Mar  8 20:23:33 2025 Finished embedding\n",
      "TSNE\n",
      "--------------------------------------------------------------------------------\n",
      "TSNE(early_exaggeration=12, random_state=4, verbose=True)\n",
      "--------------------------------------------------------------------------------\n",
      "===> Finding 90 nearest neighbors using Annoy approximate search using euclidean distance...\n",
      "   --> Time elapsed: 4.85 seconds\n",
      "===> Calculating affinity matrix...\n",
      "   --> Time elapsed: 0.33 seconds\n",
      "===> Calculating PCA-based initialization...\n",
      "   --> Time elapsed: 0.03 seconds\n",
      "===> Running optimization with exaggeration=12.00, lr=943.33 for 250 iterations...\n",
      "Iteration   50, KL divergence 4.0890, 50 iterations in 1.4114 sec\n",
      "Iteration  100, KL divergence 4.0058, 50 iterations in 1.3729 sec\n",
      "Iteration  150, KL divergence 3.9753, 50 iterations in 1.3713 sec\n",
      "Iteration  200, KL divergence 3.9615, 50 iterations in 1.3599 sec\n",
      "Iteration  250, KL divergence 3.9541, 50 iterations in 1.3610 sec\n",
      "   --> Time elapsed: 6.88 seconds\n",
      "===> Running optimization with exaggeration=1.00, lr=11320.00 for 500 iterations...\n",
      "Iteration   50, KL divergence 2.1984, 50 iterations in 1.4206 sec\n",
      "Iteration  100, KL divergence 2.0338, 50 iterations in 2.1394 sec\n",
      "Iteration  150, KL divergence 1.9631, 50 iterations in 3.0969 sec\n",
      "Iteration  200, KL divergence 1.9247, 50 iterations in 4.2633 sec\n",
      "Iteration  250, KL divergence 1.8971, 50 iterations in 4.9572 sec\n",
      "Iteration  300, KL divergence 1.8787, 50 iterations in 6.0566 sec\n",
      "Iteration  350, KL divergence 1.8622, 50 iterations in 6.7523 sec\n",
      "Iteration  400, KL divergence 1.8494, 50 iterations in 7.5930 sec\n",
      "Iteration  450, KL divergence 1.8382, 50 iterations in 7.7920 sec\n",
      "Iteration  500, KL divergence 1.8298, 50 iterations in 9.1535 sec\n",
      "   --> Time elapsed: 53.23 seconds\n",
      "O_RTK1_m_2b seed: 0 scaled: True\n",
      "PCA2\n",
      "PCA50\n",
      "UMAP\n",
      "UMAP(random_state=0, verbose=True)\n",
      "Sat Mar  8 20:24:39 2025 Construct fuzzy simplicial set\n",
      "Sat Mar  8 20:24:39 2025 Finding Nearest Neighbors\n",
      "Sat Mar  8 20:24:39 2025 Building RP forest with 10 trees\n",
      "Sat Mar  8 20:24:39 2025 NN descent for 13 iterations\n",
      "\t 1  /  13\n"
     ]
    },
    {
     "name": "stderr",
     "output_type": "stream",
     "text": [
      "/data/cephfs-1/home/users/lzaschk_m/work/miniforge3/envs/elephant_analysis_env/lib/python3.11/site-packages/umap/umap_.py:1943: UserWarning: n_jobs value -1 overridden to 1 by setting random_state. Use no seed for parallelism.\n",
      "  warn(f\"n_jobs value {self.n_jobs} overridden to 1 by setting random_state. Use no seed for parallelism.\")\n"
     ]
    },
    {
     "name": "stdout",
     "output_type": "stream",
     "text": [
      "\t 2  /  13\n",
      "\t 3  /  13\n",
      "\t 4  /  13\n",
      "\tStopping threshold met -- exiting after 4 iterations\n",
      "Sat Mar  8 20:24:40 2025 Finished Nearest Neighbor Search\n",
      "Sat Mar  8 20:24:40 2025 Construct embedding\n"
     ]
    },
    {
     "name": "stderr",
     "output_type": "stream",
     "text": [
      "Epochs completed:   3%| ▎          6/200 [00:00]"
     ]
    },
    {
     "name": "stdout",
     "output_type": "stream",
     "text": [
      "\tcompleted  0  /  200 epochs\n"
     ]
    },
    {
     "name": "stderr",
     "output_type": "stream",
     "text": [
      "Epochs completed:  12%| █▏         24/200 [00:01]"
     ]
    },
    {
     "name": "stdout",
     "output_type": "stream",
     "text": [
      "\tcompleted  20  /  200 epochs\n"
     ]
    },
    {
     "name": "stderr",
     "output_type": "stream",
     "text": [
      "Epochs completed:  22%| ██▎        45/200 [00:02]"
     ]
    },
    {
     "name": "stdout",
     "output_type": "stream",
     "text": [
      "\tcompleted  40  /  200 epochs\n"
     ]
    },
    {
     "name": "stderr",
     "output_type": "stream",
     "text": [
      "Epochs completed:  33%| ███▎       66/200 [00:02]"
     ]
    },
    {
     "name": "stdout",
     "output_type": "stream",
     "text": [
      "\tcompleted  60  /  200 epochs\n"
     ]
    },
    {
     "name": "stderr",
     "output_type": "stream",
     "text": [
      "Epochs completed:  42%| ████▏      84/200 [00:03]"
     ]
    },
    {
     "name": "stdout",
     "output_type": "stream",
     "text": [
      "\tcompleted  80  /  200 epochs\n"
     ]
    },
    {
     "name": "stderr",
     "output_type": "stream",
     "text": [
      "Epochs completed:  52%| █████▎     105/200 [00:04]"
     ]
    },
    {
     "name": "stdout",
     "output_type": "stream",
     "text": [
      "\tcompleted  100  /  200 epochs\n"
     ]
    },
    {
     "name": "stderr",
     "output_type": "stream",
     "text": [
      "Epochs completed:  63%| ██████▎    126/200 [00:04]"
     ]
    },
    {
     "name": "stdout",
     "output_type": "stream",
     "text": [
      "\tcompleted  120  /  200 epochs\n"
     ]
    },
    {
     "name": "stderr",
     "output_type": "stream",
     "text": [
      "Epochs completed:  72%| ███████▏   144/200 [00:05]"
     ]
    },
    {
     "name": "stdout",
     "output_type": "stream",
     "text": [
      "\tcompleted  140  /  200 epochs\n"
     ]
    },
    {
     "name": "stderr",
     "output_type": "stream",
     "text": [
      "Epochs completed:  82%| ████████▎  165/200 [00:06]"
     ]
    },
    {
     "name": "stdout",
     "output_type": "stream",
     "text": [
      "\tcompleted  160  /  200 epochs\n"
     ]
    },
    {
     "name": "stderr",
     "output_type": "stream",
     "text": [
      "Epochs completed:  93%| █████████▎ 186/200 [00:06]"
     ]
    },
    {
     "name": "stdout",
     "output_type": "stream",
     "text": [
      "\tcompleted  180  /  200 epochs\n"
     ]
    },
    {
     "name": "stderr",
     "output_type": "stream",
     "text": [
      "Epochs completed: 100%| ██████████ 200/200 [00:07]\n"
     ]
    },
    {
     "name": "stdout",
     "output_type": "stream",
     "text": [
      "Sat Mar  8 20:24:48 2025 Finished embedding\n",
      "TSNE\n",
      "--------------------------------------------------------------------------------\n",
      "TSNE(early_exaggeration=12, random_state=0, verbose=True)\n",
      "--------------------------------------------------------------------------------\n",
      "===> Finding 90 nearest neighbors using Annoy approximate search using euclidean distance...\n",
      "   --> Time elapsed: 4.77 seconds\n",
      "===> Calculating affinity matrix...\n",
      "   --> Time elapsed: 0.33 seconds\n",
      "===> Calculating PCA-based initialization...\n",
      "   --> Time elapsed: 0.03 seconds\n",
      "===> Running optimization with exaggeration=12.00, lr=943.33 for 250 iterations...\n",
      "Iteration   50, KL divergence 3.8996, 50 iterations in 1.4108 sec\n",
      "Iteration  100, KL divergence 3.7705, 50 iterations in 1.3692 sec\n",
      "Iteration  150, KL divergence 3.7321, 50 iterations in 1.3651 sec\n",
      "Iteration  200, KL divergence 3.7164, 50 iterations in 1.3655 sec\n",
      "Iteration  250, KL divergence 3.7083, 50 iterations in 1.3641 sec\n",
      "   --> Time elapsed: 6.88 seconds\n",
      "===> Running optimization with exaggeration=1.00, lr=11320.00 for 500 iterations...\n",
      "Iteration   50, KL divergence 1.9130, 50 iterations in 1.5032 sec\n",
      "Iteration  100, KL divergence 1.7320, 50 iterations in 2.4196 sec\n",
      "Iteration  150, KL divergence 1.6548, 50 iterations in 3.3771 sec\n",
      "Iteration  200, KL divergence 1.6116, 50 iterations in 4.4919 sec\n",
      "Iteration  250, KL divergence 1.5833, 50 iterations in 5.0291 sec\n",
      "Iteration  300, KL divergence 1.5659, 50 iterations in 5.6542 sec\n",
      "Iteration  350, KL divergence 1.5501, 50 iterations in 6.2515 sec\n",
      "Iteration  400, KL divergence 1.5358, 50 iterations in 6.8004 sec\n",
      "Iteration  450, KL divergence 1.5258, 50 iterations in 7.3881 sec\n",
      "Iteration  500, KL divergence 1.5171, 50 iterations in 7.8620 sec\n",
      "   --> Time elapsed: 50.78 seconds\n",
      "O_RTK1_m_2b seed: 1 scaled: True\n",
      "PCA2\n",
      "PCA50\n",
      "UMAP\n",
      "UMAP(random_state=1, verbose=True)\n",
      "Sat Mar  8 20:25:52 2025 Construct fuzzy simplicial set\n",
      "Sat Mar  8 20:25:52 2025 Finding Nearest Neighbors\n",
      "Sat Mar  8 20:25:52 2025 Building RP forest with 10 trees\n",
      "Sat Mar  8 20:25:52 2025 NN descent for 13 iterations\n",
      "\t 1  /  13\n"
     ]
    },
    {
     "name": "stderr",
     "output_type": "stream",
     "text": [
      "/data/cephfs-1/home/users/lzaschk_m/work/miniforge3/envs/elephant_analysis_env/lib/python3.11/site-packages/umap/umap_.py:1943: UserWarning: n_jobs value -1 overridden to 1 by setting random_state. Use no seed for parallelism.\n",
      "  warn(f\"n_jobs value {self.n_jobs} overridden to 1 by setting random_state. Use no seed for parallelism.\")\n"
     ]
    },
    {
     "name": "stdout",
     "output_type": "stream",
     "text": [
      "\t 2  /  13\n",
      "\t 3  /  13\n",
      "\t 4  /  13\n",
      "\tStopping threshold met -- exiting after 4 iterations\n",
      "Sat Mar  8 20:25:52 2025 Finished Nearest Neighbor Search\n",
      "Sat Mar  8 20:25:52 2025 Construct embedding\n"
     ]
    },
    {
     "name": "stderr",
     "output_type": "stream",
     "text": [
      "Epochs completed:   4%| ▍          9/200 [00:00]"
     ]
    },
    {
     "name": "stdout",
     "output_type": "stream",
     "text": [
      "\tcompleted  0  /  200 epochs\n"
     ]
    },
    {
     "name": "stderr",
     "output_type": "stream",
     "text": [
      "Epochs completed:  12%| █▏         24/200 [00:01]"
     ]
    },
    {
     "name": "stdout",
     "output_type": "stream",
     "text": [
      "\tcompleted  20  /  200 epochs\n"
     ]
    },
    {
     "name": "stderr",
     "output_type": "stream",
     "text": [
      "Epochs completed:  22%| ██▎        45/200 [00:02]"
     ]
    },
    {
     "name": "stdout",
     "output_type": "stream",
     "text": [
      "\tcompleted  40  /  200 epochs\n"
     ]
    },
    {
     "name": "stderr",
     "output_type": "stream",
     "text": [
      "Epochs completed:  33%| ███▎       66/200 [00:02]"
     ]
    },
    {
     "name": "stdout",
     "output_type": "stream",
     "text": [
      "\tcompleted  60  /  200 epochs\n"
     ]
    },
    {
     "name": "stderr",
     "output_type": "stream",
     "text": [
      "Epochs completed:  42%| ████▏      84/200 [00:03]"
     ]
    },
    {
     "name": "stdout",
     "output_type": "stream",
     "text": [
      "\tcompleted  80  /  200 epochs\n"
     ]
    },
    {
     "name": "stderr",
     "output_type": "stream",
     "text": [
      "Epochs completed:  52%| █████▎     105/200 [00:04]"
     ]
    },
    {
     "name": "stdout",
     "output_type": "stream",
     "text": [
      "\tcompleted  100  /  200 epochs\n"
     ]
    },
    {
     "name": "stderr",
     "output_type": "stream",
     "text": [
      "Epochs completed:  64%| ██████▍    129/200 [00:04]"
     ]
    },
    {
     "name": "stdout",
     "output_type": "stream",
     "text": [
      "\tcompleted  120  /  200 epochs\n"
     ]
    },
    {
     "name": "stderr",
     "output_type": "stream",
     "text": [
      "Epochs completed:  72%| ███████▏   144/200 [00:05]"
     ]
    },
    {
     "name": "stdout",
     "output_type": "stream",
     "text": [
      "\tcompleted  140  /  200 epochs\n"
     ]
    },
    {
     "name": "stderr",
     "output_type": "stream",
     "text": [
      "Epochs completed:  82%| ████████▎  165/200 [00:06]"
     ]
    },
    {
     "name": "stdout",
     "output_type": "stream",
     "text": [
      "\tcompleted  160  /  200 epochs\n"
     ]
    },
    {
     "name": "stderr",
     "output_type": "stream",
     "text": [
      "Epochs completed:  93%| █████████▎ 186/200 [00:06]"
     ]
    },
    {
     "name": "stdout",
     "output_type": "stream",
     "text": [
      "\tcompleted  180  /  200 epochs\n"
     ]
    },
    {
     "name": "stderr",
     "output_type": "stream",
     "text": [
      "Epochs completed: 100%| ██████████ 200/200 [00:07]\n"
     ]
    },
    {
     "name": "stdout",
     "output_type": "stream",
     "text": [
      "Sat Mar  8 20:26:00 2025 Finished embedding\n",
      "TSNE\n",
      "--------------------------------------------------------------------------------\n",
      "TSNE(early_exaggeration=12, random_state=1, verbose=True)\n",
      "--------------------------------------------------------------------------------\n",
      "===> Finding 90 nearest neighbors using Annoy approximate search using euclidean distance...\n",
      "   --> Time elapsed: 4.84 seconds\n",
      "===> Calculating affinity matrix...\n",
      "   --> Time elapsed: 0.35 seconds\n",
      "===> Calculating PCA-based initialization...\n",
      "   --> Time elapsed: 0.03 seconds\n",
      "===> Running optimization with exaggeration=12.00, lr=943.33 for 250 iterations...\n",
      "Iteration   50, KL divergence 3.8982, 50 iterations in 1.4107 sec\n",
      "Iteration  100, KL divergence 3.7695, 50 iterations in 1.3745 sec\n",
      "Iteration  150, KL divergence 3.7308, 50 iterations in 1.3707 sec\n",
      "Iteration  200, KL divergence 3.7146, 50 iterations in 1.3702 sec\n",
      "Iteration  250, KL divergence 3.7066, 50 iterations in 1.3700 sec\n",
      "   --> Time elapsed: 6.90 seconds\n",
      "===> Running optimization with exaggeration=1.00, lr=11320.00 for 500 iterations...\n",
      "Iteration   50, KL divergence 1.9076, 50 iterations in 1.4710 sec\n",
      "Iteration  100, KL divergence 1.7265, 50 iterations in 2.3520 sec\n",
      "Iteration  150, KL divergence 1.6499, 50 iterations in 3.3328 sec\n",
      "Iteration  200, KL divergence 1.6064, 50 iterations in 4.4359 sec\n",
      "Iteration  250, KL divergence 1.5761, 50 iterations in 4.9990 sec\n",
      "Iteration  300, KL divergence 1.5565, 50 iterations in 5.9956 sec\n",
      "Iteration  350, KL divergence 1.5401, 50 iterations in 6.4696 sec\n",
      "Iteration  400, KL divergence 1.5273, 50 iterations in 7.4129 sec\n",
      "Iteration  450, KL divergence 1.5174, 50 iterations in 8.0440 sec\n",
      "Iteration  500, KL divergence 1.5091, 50 iterations in 7.8304 sec\n",
      "   --> Time elapsed: 52.34 seconds\n",
      "O_RTK1_m_2b seed: 2 scaled: True\n",
      "PCA2\n",
      "PCA50\n",
      "UMAP\n",
      "UMAP(random_state=2, verbose=True)\n",
      "Sat Mar  8 20:27:06 2025 Construct fuzzy simplicial set\n",
      "Sat Mar  8 20:27:06 2025 Finding Nearest Neighbors\n",
      "Sat Mar  8 20:27:06 2025 Building RP forest with 10 trees\n",
      "Sat Mar  8 20:27:06 2025 NN descent for 13 iterations\n",
      "\t 1  /  13\n"
     ]
    },
    {
     "name": "stderr",
     "output_type": "stream",
     "text": [
      "/data/cephfs-1/home/users/lzaschk_m/work/miniforge3/envs/elephant_analysis_env/lib/python3.11/site-packages/umap/umap_.py:1943: UserWarning: n_jobs value -1 overridden to 1 by setting random_state. Use no seed for parallelism.\n",
      "  warn(f\"n_jobs value {self.n_jobs} overridden to 1 by setting random_state. Use no seed for parallelism.\")\n"
     ]
    },
    {
     "name": "stdout",
     "output_type": "stream",
     "text": [
      "\t 2  /  13\n",
      "\t 3  /  13\n",
      "\t 4  /  13\n",
      "\tStopping threshold met -- exiting after 4 iterations\n",
      "Sat Mar  8 20:27:06 2025 Finished Nearest Neighbor Search\n",
      "Sat Mar  8 20:27:06 2025 Construct embedding\n"
     ]
    },
    {
     "name": "stderr",
     "output_type": "stream",
     "text": [
      "Epochs completed:   3%| ▎          6/200 [00:00]"
     ]
    },
    {
     "name": "stdout",
     "output_type": "stream",
     "text": [
      "\tcompleted  0  /  200 epochs\n"
     ]
    },
    {
     "name": "stderr",
     "output_type": "stream",
     "text": [
      "Epochs completed:  12%| █▏         24/200 [00:01]"
     ]
    },
    {
     "name": "stdout",
     "output_type": "stream",
     "text": [
      "\tcompleted  20  /  200 epochs\n"
     ]
    },
    {
     "name": "stderr",
     "output_type": "stream",
     "text": [
      "Epochs completed:  22%| ██▎        45/200 [00:02]"
     ]
    },
    {
     "name": "stdout",
     "output_type": "stream",
     "text": [
      "\tcompleted  40  /  200 epochs\n"
     ]
    },
    {
     "name": "stderr",
     "output_type": "stream",
     "text": [
      "Epochs completed:  33%| ███▎       66/200 [00:02]"
     ]
    },
    {
     "name": "stdout",
     "output_type": "stream",
     "text": [
      "\tcompleted  60  /  200 epochs\n"
     ]
    },
    {
     "name": "stderr",
     "output_type": "stream",
     "text": [
      "Epochs completed:  42%| ████▏      84/200 [00:03]"
     ]
    },
    {
     "name": "stdout",
     "output_type": "stream",
     "text": [
      "\tcompleted  80  /  200 epochs\n"
     ]
    },
    {
     "name": "stderr",
     "output_type": "stream",
     "text": [
      "Epochs completed:  52%| █████▎     105/200 [00:04]"
     ]
    },
    {
     "name": "stdout",
     "output_type": "stream",
     "text": [
      "\tcompleted  100  /  200 epochs\n"
     ]
    },
    {
     "name": "stderr",
     "output_type": "stream",
     "text": [
      "Epochs completed:  63%| ██████▎    126/200 [00:05]"
     ]
    },
    {
     "name": "stdout",
     "output_type": "stream",
     "text": [
      "\tcompleted  120  /  200 epochs\n"
     ]
    },
    {
     "name": "stderr",
     "output_type": "stream",
     "text": [
      "Epochs completed:  72%| ███████▏   144/200 [00:05]"
     ]
    },
    {
     "name": "stdout",
     "output_type": "stream",
     "text": [
      "\tcompleted  140  /  200 epochs\n"
     ]
    },
    {
     "name": "stderr",
     "output_type": "stream",
     "text": [
      "Epochs completed:  82%| ████████▎  165/200 [00:06]"
     ]
    },
    {
     "name": "stdout",
     "output_type": "stream",
     "text": [
      "\tcompleted  160  /  200 epochs\n"
     ]
    },
    {
     "name": "stderr",
     "output_type": "stream",
     "text": [
      "Epochs completed:  93%| █████████▎ 186/200 [00:07]"
     ]
    },
    {
     "name": "stdout",
     "output_type": "stream",
     "text": [
      "\tcompleted  180  /  200 epochs\n"
     ]
    },
    {
     "name": "stderr",
     "output_type": "stream",
     "text": [
      "Epochs completed: 100%| ██████████ 200/200 [00:07]\n"
     ]
    },
    {
     "name": "stdout",
     "output_type": "stream",
     "text": [
      "Sat Mar  8 20:27:14 2025 Finished embedding\n",
      "TSNE\n",
      "--------------------------------------------------------------------------------\n",
      "TSNE(early_exaggeration=12, random_state=2, verbose=True)\n",
      "--------------------------------------------------------------------------------\n",
      "===> Finding 90 nearest neighbors using Annoy approximate search using euclidean distance...\n",
      "   --> Time elapsed: 4.80 seconds\n",
      "===> Calculating affinity matrix...\n",
      "   --> Time elapsed: 0.34 seconds\n",
      "===> Calculating PCA-based initialization...\n",
      "   --> Time elapsed: 0.03 seconds\n",
      "===> Running optimization with exaggeration=12.00, lr=943.33 for 250 iterations...\n",
      "Iteration   50, KL divergence 3.8896, 50 iterations in 1.4023 sec\n",
      "Iteration  100, KL divergence 3.7680, 50 iterations in 1.3650 sec\n",
      "Iteration  150, KL divergence 3.7315, 50 iterations in 1.3629 sec\n",
      "Iteration  200, KL divergence 3.7159, 50 iterations in 1.3617 sec\n",
      "Iteration  250, KL divergence 3.7078, 50 iterations in 1.3561 sec\n",
      "   --> Time elapsed: 6.85 seconds\n",
      "===> Running optimization with exaggeration=1.00, lr=11320.00 for 500 iterations...\n",
      "Iteration   50, KL divergence 1.9192, 50 iterations in 1.4688 sec\n",
      "Iteration  100, KL divergence 1.7366, 50 iterations in 2.3548 sec\n",
      "Iteration  150, KL divergence 1.6599, 50 iterations in 3.2512 sec\n",
      "Iteration  200, KL divergence 1.6157, 50 iterations in 4.3308 sec\n",
      "Iteration  250, KL divergence 1.5831, 50 iterations in 4.9405 sec\n",
      "Iteration  300, KL divergence 1.5634, 50 iterations in 5.8727 sec\n",
      "Iteration  350, KL divergence 1.5469, 50 iterations in 6.4513 sec\n",
      "Iteration  400, KL divergence 1.5339, 50 iterations in 7.3307 sec\n",
      "Iteration  450, KL divergence 1.5236, 50 iterations in 7.9104 sec\n",
      "Iteration  500, KL divergence 1.5150, 50 iterations in 8.1207 sec\n",
      "   --> Time elapsed: 52.03 seconds\n",
      "O_RTK1_m_2b seed: 3 scaled: True\n",
      "PCA2\n",
      "PCA50\n",
      "UMAP\n",
      "UMAP(random_state=3, verbose=True)\n",
      "Sat Mar  8 20:28:19 2025 Construct fuzzy simplicial set\n",
      "Sat Mar  8 20:28:19 2025 Finding Nearest Neighbors\n",
      "Sat Mar  8 20:28:19 2025 Building RP forest with 10 trees\n",
      "Sat Mar  8 20:28:19 2025 NN descent for 13 iterations\n",
      "\t 1  /  13\n"
     ]
    },
    {
     "name": "stderr",
     "output_type": "stream",
     "text": [
      "/data/cephfs-1/home/users/lzaschk_m/work/miniforge3/envs/elephant_analysis_env/lib/python3.11/site-packages/umap/umap_.py:1943: UserWarning: n_jobs value -1 overridden to 1 by setting random_state. Use no seed for parallelism.\n",
      "  warn(f\"n_jobs value {self.n_jobs} overridden to 1 by setting random_state. Use no seed for parallelism.\")\n"
     ]
    },
    {
     "name": "stdout",
     "output_type": "stream",
     "text": [
      "\t 2  /  13\n",
      "\t 3  /  13\n",
      "\t 4  /  13\n",
      "\tStopping threshold met -- exiting after 4 iterations\n",
      "Sat Mar  8 20:28:20 2025 Finished Nearest Neighbor Search\n",
      "Sat Mar  8 20:28:20 2025 Construct embedding\n"
     ]
    },
    {
     "name": "stderr",
     "output_type": "stream",
     "text": [
      "Epochs completed:   3%| ▎          6/200 [00:00]"
     ]
    },
    {
     "name": "stdout",
     "output_type": "stream",
     "text": [
      "\tcompleted  0  /  200 epochs\n"
     ]
    },
    {
     "name": "stderr",
     "output_type": "stream",
     "text": [
      "Epochs completed:  12%| █▏         24/200 [00:01]"
     ]
    },
    {
     "name": "stdout",
     "output_type": "stream",
     "text": [
      "\tcompleted  20  /  200 epochs\n"
     ]
    },
    {
     "name": "stderr",
     "output_type": "stream",
     "text": [
      "Epochs completed:  22%| ██▎        45/200 [00:01]"
     ]
    },
    {
     "name": "stdout",
     "output_type": "stream",
     "text": [
      "\tcompleted  40  /  200 epochs\n"
     ]
    },
    {
     "name": "stderr",
     "output_type": "stream",
     "text": [
      "Epochs completed:  33%| ███▎       66/200 [00:02]"
     ]
    },
    {
     "name": "stdout",
     "output_type": "stream",
     "text": [
      "\tcompleted  60  /  200 epochs\n"
     ]
    },
    {
     "name": "stderr",
     "output_type": "stream",
     "text": [
      "Epochs completed:  42%| ████▏      84/200 [00:03]"
     ]
    },
    {
     "name": "stdout",
     "output_type": "stream",
     "text": [
      "\tcompleted  80  /  200 epochs\n"
     ]
    },
    {
     "name": "stderr",
     "output_type": "stream",
     "text": [
      "Epochs completed:  52%| █████▎     105/200 [00:04]"
     ]
    },
    {
     "name": "stdout",
     "output_type": "stream",
     "text": [
      "\tcompleted  100  /  200 epochs\n"
     ]
    },
    {
     "name": "stderr",
     "output_type": "stream",
     "text": [
      "Epochs completed:  63%| ██████▎    126/200 [00:04]"
     ]
    },
    {
     "name": "stdout",
     "output_type": "stream",
     "text": [
      "\tcompleted  120  /  200 epochs\n"
     ]
    },
    {
     "name": "stderr",
     "output_type": "stream",
     "text": [
      "Epochs completed:  72%| ███████▏   144/200 [00:05]"
     ]
    },
    {
     "name": "stdout",
     "output_type": "stream",
     "text": [
      "\tcompleted  140  /  200 epochs\n"
     ]
    },
    {
     "name": "stderr",
     "output_type": "stream",
     "text": [
      "Epochs completed:  82%| ████████▎  165/200 [00:06]"
     ]
    },
    {
     "name": "stdout",
     "output_type": "stream",
     "text": [
      "\tcompleted  160  /  200 epochs\n"
     ]
    },
    {
     "name": "stderr",
     "output_type": "stream",
     "text": [
      "Epochs completed:  93%| █████████▎ 186/200 [00:06]"
     ]
    },
    {
     "name": "stdout",
     "output_type": "stream",
     "text": [
      "\tcompleted  180  /  200 epochs\n"
     ]
    },
    {
     "name": "stderr",
     "output_type": "stream",
     "text": [
      "Epochs completed: 100%| ██████████ 200/200 [00:07]\n"
     ]
    },
    {
     "name": "stdout",
     "output_type": "stream",
     "text": [
      "Sat Mar  8 20:28:28 2025 Finished embedding\n",
      "TSNE\n",
      "--------------------------------------------------------------------------------\n",
      "TSNE(early_exaggeration=12, random_state=3, verbose=True)\n",
      "--------------------------------------------------------------------------------\n",
      "===> Finding 90 nearest neighbors using Annoy approximate search using euclidean distance...\n",
      "   --> Time elapsed: 4.78 seconds\n",
      "===> Calculating affinity matrix...\n",
      "   --> Time elapsed: 0.33 seconds\n",
      "===> Calculating PCA-based initialization...\n",
      "   --> Time elapsed: 0.03 seconds\n",
      "===> Running optimization with exaggeration=12.00, lr=943.33 for 250 iterations...\n",
      "Iteration   50, KL divergence 3.8937, 50 iterations in 1.4066 sec\n",
      "Iteration  100, KL divergence 3.7675, 50 iterations in 1.3675 sec\n",
      "Iteration  150, KL divergence 3.7278, 50 iterations in 1.3663 sec\n",
      "Iteration  200, KL divergence 3.7116, 50 iterations in 1.3623 sec\n",
      "Iteration  250, KL divergence 3.7035, 50 iterations in 1.3686 sec\n",
      "   --> Time elapsed: 6.87 seconds\n",
      "===> Running optimization with exaggeration=1.00, lr=11320.00 for 500 iterations...\n",
      "Iteration   50, KL divergence 1.9142, 50 iterations in 1.4625 sec\n",
      "Iteration  100, KL divergence 1.7318, 50 iterations in 2.3150 sec\n",
      "Iteration  150, KL divergence 1.6550, 50 iterations in 3.3041 sec\n",
      "Iteration  200, KL divergence 1.6126, 50 iterations in 4.4268 sec\n",
      "Iteration  250, KL divergence 1.5835, 50 iterations in 4.9168 sec\n",
      "Iteration  300, KL divergence 1.5642, 50 iterations in 5.9660 sec\n",
      "Iteration  350, KL divergence 1.5478, 50 iterations in 6.4491 sec\n",
      "Iteration  400, KL divergence 1.5352, 50 iterations in 7.4069 sec\n",
      "Iteration  450, KL divergence 1.5250, 50 iterations in 7.8661 sec\n",
      "Iteration  500, KL divergence 1.5169, 50 iterations in 8.1920 sec\n",
      "   --> Time elapsed: 52.31 seconds\n",
      "O_RTK1_m_2b seed: 4 scaled: True\n",
      "PCA2\n",
      "PCA50\n",
      "UMAP\n",
      "UMAP(random_state=4, verbose=True)\n",
      "Sat Mar  8 20:29:33 2025 Construct fuzzy simplicial set\n",
      "Sat Mar  8 20:29:33 2025 Finding Nearest Neighbors\n",
      "Sat Mar  8 20:29:33 2025 Building RP forest with 10 trees\n",
      "Sat Mar  8 20:29:33 2025 NN descent for 13 iterations\n",
      "\t 1  /  13\n"
     ]
    },
    {
     "name": "stderr",
     "output_type": "stream",
     "text": [
      "/data/cephfs-1/home/users/lzaschk_m/work/miniforge3/envs/elephant_analysis_env/lib/python3.11/site-packages/umap/umap_.py:1943: UserWarning: n_jobs value -1 overridden to 1 by setting random_state. Use no seed for parallelism.\n",
      "  warn(f\"n_jobs value {self.n_jobs} overridden to 1 by setting random_state. Use no seed for parallelism.\")\n"
     ]
    },
    {
     "name": "stdout",
     "output_type": "stream",
     "text": [
      "\t 2  /  13\n",
      "\t 3  /  13\n",
      "\t 4  /  13\n",
      "\tStopping threshold met -- exiting after 4 iterations\n",
      "Sat Mar  8 20:29:34 2025 Finished Nearest Neighbor Search\n",
      "Sat Mar  8 20:29:34 2025 Construct embedding\n"
     ]
    },
    {
     "name": "stderr",
     "output_type": "stream",
     "text": [
      "Epochs completed:   3%| ▎          6/200 [00:00]"
     ]
    },
    {
     "name": "stdout",
     "output_type": "stream",
     "text": [
      "\tcompleted  0  /  200 epochs\n"
     ]
    },
    {
     "name": "stderr",
     "output_type": "stream",
     "text": [
      "Epochs completed:  12%| █▏         24/200 [00:01]"
     ]
    },
    {
     "name": "stdout",
     "output_type": "stream",
     "text": [
      "\tcompleted  20  /  200 epochs\n"
     ]
    },
    {
     "name": "stderr",
     "output_type": "stream",
     "text": [
      "Epochs completed:  22%| ██▎        45/200 [00:02]"
     ]
    },
    {
     "name": "stdout",
     "output_type": "stream",
     "text": [
      "\tcompleted  40  /  200 epochs\n"
     ]
    },
    {
     "name": "stderr",
     "output_type": "stream",
     "text": [
      "Epochs completed:  33%| ███▎       66/200 [00:02]"
     ]
    },
    {
     "name": "stdout",
     "output_type": "stream",
     "text": [
      "\tcompleted  60  /  200 epochs\n"
     ]
    },
    {
     "name": "stderr",
     "output_type": "stream",
     "text": [
      "Epochs completed:  42%| ████▏      84/200 [00:03]"
     ]
    },
    {
     "name": "stdout",
     "output_type": "stream",
     "text": [
      "\tcompleted  80  /  200 epochs\n"
     ]
    },
    {
     "name": "stderr",
     "output_type": "stream",
     "text": [
      "Epochs completed:  52%| █████▎     105/200 [00:04]"
     ]
    },
    {
     "name": "stdout",
     "output_type": "stream",
     "text": [
      "\tcompleted  100  /  200 epochs\n"
     ]
    },
    {
     "name": "stderr",
     "output_type": "stream",
     "text": [
      "Epochs completed:  63%| ██████▎    126/200 [00:04]"
     ]
    },
    {
     "name": "stdout",
     "output_type": "stream",
     "text": [
      "\tcompleted  120  /  200 epochs\n"
     ]
    },
    {
     "name": "stderr",
     "output_type": "stream",
     "text": [
      "Epochs completed:  74%| ███████▎   147/200 [00:05]"
     ]
    },
    {
     "name": "stdout",
     "output_type": "stream",
     "text": [
      "\tcompleted  140  /  200 epochs\n"
     ]
    },
    {
     "name": "stderr",
     "output_type": "stream",
     "text": [
      "Epochs completed:  82%| ████████▎  165/200 [00:06]"
     ]
    },
    {
     "name": "stdout",
     "output_type": "stream",
     "text": [
      "\tcompleted  160  /  200 epochs\n"
     ]
    },
    {
     "name": "stderr",
     "output_type": "stream",
     "text": [
      "Epochs completed:  93%| █████████▎ 186/200 [00:06]"
     ]
    },
    {
     "name": "stdout",
     "output_type": "stream",
     "text": [
      "\tcompleted  180  /  200 epochs\n"
     ]
    },
    {
     "name": "stderr",
     "output_type": "stream",
     "text": [
      "Epochs completed: 100%| ██████████ 200/200 [00:07]\n"
     ]
    },
    {
     "name": "stdout",
     "output_type": "stream",
     "text": [
      "Sat Mar  8 20:29:42 2025 Finished embedding\n",
      "TSNE\n",
      "--------------------------------------------------------------------------------\n",
      "TSNE(early_exaggeration=12, random_state=4, verbose=True)\n",
      "--------------------------------------------------------------------------------\n",
      "===> Finding 90 nearest neighbors using Annoy approximate search using euclidean distance...\n",
      "   --> Time elapsed: 4.80 seconds\n",
      "===> Calculating affinity matrix...\n",
      "   --> Time elapsed: 0.33 seconds\n",
      "===> Calculating PCA-based initialization...\n",
      "   --> Time elapsed: 0.03 seconds\n",
      "===> Running optimization with exaggeration=12.00, lr=943.33 for 250 iterations...\n",
      "Iteration   50, KL divergence 3.8900, 50 iterations in 1.4072 sec\n",
      "Iteration  100, KL divergence 3.7671, 50 iterations in 1.3667 sec\n",
      "Iteration  150, KL divergence 3.7297, 50 iterations in 1.3682 sec\n",
      "Iteration  200, KL divergence 3.7135, 50 iterations in 1.3613 sec\n",
      "Iteration  250, KL divergence 3.7055, 50 iterations in 1.3676 sec\n",
      "   --> Time elapsed: 6.87 seconds\n",
      "===> Running optimization with exaggeration=1.00, lr=11320.00 for 500 iterations...\n",
      "Iteration   50, KL divergence 1.9084, 50 iterations in 1.4674 sec\n",
      "Iteration  100, KL divergence 1.7279, 50 iterations in 2.3355 sec\n",
      "Iteration  150, KL divergence 1.6505, 50 iterations in 3.2738 sec\n",
      "Iteration  200, KL divergence 1.6068, 50 iterations in 4.3872 sec\n",
      "Iteration  250, KL divergence 1.5765, 50 iterations in 4.9697 sec\n",
      "Iteration  300, KL divergence 1.5572, 50 iterations in 5.7716 sec\n",
      "Iteration  350, KL divergence 1.5408, 50 iterations in 6.4052 sec\n",
      "Iteration  400, KL divergence 1.5279, 50 iterations in 7.0831 sec\n",
      "Iteration  450, KL divergence 1.5176, 50 iterations in 7.8284 sec\n",
      "Iteration  500, KL divergence 1.5095, 50 iterations in 7.6544 sec\n",
      "   --> Time elapsed: 51.18 seconds\n"
     ]
    },
    {
     "data": {
      "text/plain": [
       "[None, None, None]"
      ]
     },
     "execution_count": 55,
     "metadata": {},
     "output_type": "execute_result"
    }
   ],
   "source": [
    "[compute_embeddings(ad=ad,seeds=np.arange(5)) for ad in datasets]"
   ]
  },
  {
   "cell_type": "code",
   "execution_count": null,
   "id": "f3a03620-5f33-4b82-aea5-f8d7b88e7aff",
   "metadata": {},
   "outputs": [],
   "source": []
  },
  {
   "cell_type": "code",
   "execution_count": null,
   "id": "6aeb467c-031f-4ac8-b3f5-832efdaa7719",
   "metadata": {},
   "outputs": [],
   "source": []
  },
  {
   "cell_type": "code",
   "execution_count": null,
   "id": "56ec7610-f7de-4340-8a6b-604a5cdf3c11",
   "metadata": {},
   "outputs": [],
   "source": []
  },
  {
   "cell_type": "code",
   "execution_count": null,
   "id": "16bf669d-cb8e-4955-932f-c5abc6c707fa",
   "metadata": {},
   "outputs": [],
   "source": []
  },
  {
   "cell_type": "code",
   "execution_count": 5,
   "id": "82dfd32d-bf36-4125-8759-c705b0784b57",
   "metadata": {
    "tags": []
   },
   "outputs": [],
   "source": [
    "adata_exut=anndata.read_h5ad(\"../data/preprocessed/exut_adata.h5ad\")\n",
    "adata_sim = anndata.read_h5ad('../data/preprocessed/exut-sim-theta-10-real-seqdepths_adata.h5ad')\n",
    "adata_merfish=anndata.read_h5ad(\"../data/preprocessed/merfish_adata.h5ad\")\n",
    "adata_smartseq=anndata.read_h5ad(\"../data/preprocessed/smartseq_adata.h5ad\")\n",
    "adata_mnist=anndata.read_h5ad(\"../data/preprocessed/mnist_adata.h5ad\")\n",
    "\n",
    "datasets = [adata_exut,adata_merfish,adata_smartseq,adata_mnist,adata_sim]"
   ]
  },
  {
   "cell_type": "code",
   "execution_count": 6,
   "id": "81983707-728b-4d1b-88e0-df64ccbdb637",
   "metadata": {
    "tags": []
   },
   "outputs": [
    {
     "name": "stdout",
     "output_type": "stream",
     "text": [
      "exut 19\n",
      "merfish 25\n",
      "smartseq 28\n",
      "mnist 10\n",
      "exut-sim-theta-10-real-seqdepths 19\n"
     ]
    }
   ],
   "source": [
    "#number of classes per dataset\n",
    "for ad in datasets:\n",
    "    print(ad.uns['dataset'],len(np.unique(ad.obs['clusterlabels'])),sep=' ')"
   ]
  },
  {
   "cell_type": "code",
   "execution_count": 44,
   "id": "c6045375-e47b-4fbb-85c7-ecf264b6e796",
   "metadata": {
    "tags": []
   },
   "outputs": [],
   "source": [
    "def compute_embeddings(ad,seeds):\n",
    "    \n",
    "    dataset = ad.uns['dataset']\n",
    "    \n",
    "    #compute for scaled and unscaled data for main datasets\n",
    "    if dataset in ['exut','merfish','smartseq','O_RTK1_m_2a+b', 'O_RTK1_m_2a', 'O_RTK1_m_2b']:\n",
    "        use_scaled_modes = [False, True]\n",
    "        print('running on scaled and unscaled data for', dataset)\n",
    "    #only use unscaled for additional datasets\n",
    "    else:\n",
    "        use_scaled_modes = [False]\n",
    "        print('running only on unscaled data for', dataset)\n",
    "        \n",
    "    for use_scaled in use_scaled_modes:\n",
    "        \n",
    "        if use_scaled:\n",
    "            x_hd = ad.layers['X_scaled']\n",
    "            scaled_str = '_scaled'\n",
    "        else:\n",
    "            x_hd = ad.X\n",
    "            scaled_str = ''\n",
    "        \n",
    "        for i,seed in enumerate(seeds):\n",
    "\n",
    "            print(dataset, 'seed:', seed, 'scaled:', use_scaled)\n",
    "\n",
    "            pca2 = PCA(random_state=seed,n_components=2)\n",
    "            pca50 = PCA(random_state=seed,n_components=50)\n",
    "            umap=UMAP(random_state=seed,verbose=True)\n",
    "            tsne=TSNE(random_state=seed,verbose=True)\n",
    "\n",
    "            id_str = f'seed_{seed}'\n",
    "\n",
    "            print('PCA2')\n",
    "            x_pca2 = pca2.fit_transform(x_hd)\n",
    "            print('PCA50')\n",
    "            x_pca50 = pca50.fit_transform(x_hd)\n",
    "            print('UMAP')\n",
    "            x_umap = umap.fit_transform(x_pca50)\n",
    "            print('TSNE')\n",
    "            x_tsne = tsne.fit(x_pca50)\n",
    "\n",
    "            ad.obsm[f'x{scaled_str}_pca2_{id_str}'] = x_pca2\n",
    "            ad.obsm[f'x{scaled_str}_pca50_{id_str}'] = x_pca50\n",
    "            ad.obsm[f'x{scaled_str}_umap_{id_str}'] = x_umap\n",
    "            ad.obsm[f'x{scaled_str}_tsne_{id_str}'] = np.array(x_tsne)\n",
    "\n",
    "            np.save(f'../results/embeddings/npy/{dataset}_x{scaled_str}_pca2_{id_str}.npy',x_pca2,allow_pickle=False)\n",
    "            np.save(f'../results/embeddings/npy/{dataset}_x{scaled_str}_pca50_{id_str}.npy',x_pca50,allow_pickle=False)\n",
    "            np.save(f'../results/embeddings/npy/{dataset}_x{scaled_str}_umap_{id_str}.npy',x_umap,allow_pickle=False)\n",
    "            np.save(f'../results/embeddings/npy/{dataset}_x{scaled_str}_tsne_{id_str}.npy',x_tsne,allow_pickle=False)\n",
    "    \n",
    "    ad.uns['seeds']=seeds\n",
    "    ad.write_h5ad(f'../results/embeddings/{dataset}_adata_standard_embeddings.h5ad')"
   ]
  },
  {
   "cell_type": "code",
   "execution_count": 6,
   "id": "7e0f0dbb-72c5-4d79-b410-cb6cbeb5ce3e",
   "metadata": {
    "tags": []
   },
   "outputs": [
    {
     "name": "stdout",
     "output_type": "stream",
     "text": [
      "running on scaled and unscaled data for exut\n",
      "exut seed: 0 scaled: False\n",
      "PCA2\n",
      "PCA50\n",
      "UMAP\n",
      "UMAP(random_state=0, verbose=True)\n",
      "Tue Feb 18 22:31:00 2025 Construct fuzzy simplicial set\n",
      "Tue Feb 18 22:31:00 2025 Finding Nearest Neighbors\n",
      "Tue Feb 18 22:31:00 2025 Building RP forest with 9 trees\n"
     ]
    },
    {
     "name": "stderr",
     "output_type": "stream",
     "text": [
      "/data/cephfs-1/work/groups/ludwig/users/lzaschk_m/miniforge3/envs/elephant_analysis_env/lib/python3.11/site-packages/umap/umap_.py:1943: UserWarning: n_jobs value -1 overridden to 1 by setting random_state. Use no seed for parallelism.\n",
      "  warn(f\"n_jobs value {self.n_jobs} overridden to 1 by setting random_state. Use no seed for parallelism.\")\n"
     ]
    },
    {
     "name": "stdout",
     "output_type": "stream",
     "text": [
      "Tue Feb 18 22:31:10 2025 NN descent for 13 iterations\n",
      "\t 1  /  13\n",
      "\t 2  /  13\n",
      "\t 3  /  13\n",
      "\t 4  /  13\n",
      "\tStopping threshold met -- exiting after 4 iterations\n",
      "Tue Feb 18 22:31:25 2025 Finished Nearest Neighbor Search\n",
      "Tue Feb 18 22:31:28 2025 Construct embedding\n"
     ]
    },
    {
     "name": "stderr",
     "output_type": "stream",
     "text": [
      "Epochs completed:   2%| ▏          11/500 [00:01]"
     ]
    },
    {
     "name": "stdout",
     "output_type": "stream",
     "text": [
      "\tcompleted  0  /  500 epochs\n"
     ]
    },
    {
     "name": "stderr",
     "output_type": "stream",
     "text": [
      "Epochs completed:  11%| █          55/500 [00:02]"
     ]
    },
    {
     "name": "stdout",
     "output_type": "stream",
     "text": [
      "\tcompleted  50  /  500 epochs\n"
     ]
    },
    {
     "name": "stderr",
     "output_type": "stream",
     "text": [
      "Epochs completed:  21%| ██▏        107/500 [00:04]"
     ]
    },
    {
     "name": "stdout",
     "output_type": "stream",
     "text": [
      "\tcompleted  100  /  500 epochs\n"
     ]
    },
    {
     "name": "stderr",
     "output_type": "stream",
     "text": [
      "Epochs completed:  32%| ███▏       159/500 [00:05]"
     ]
    },
    {
     "name": "stdout",
     "output_type": "stream",
     "text": [
      "\tcompleted  150  /  500 epochs\n"
     ]
    },
    {
     "name": "stderr",
     "output_type": "stream",
     "text": [
      "Epochs completed:  42%| ████▏      211/500 [00:07]"
     ]
    },
    {
     "name": "stdout",
     "output_type": "stream",
     "text": [
      "\tcompleted  200  /  500 epochs\n"
     ]
    },
    {
     "name": "stderr",
     "output_type": "stream",
     "text": [
      "Epochs completed:  51%| █████      255/500 [00:08]"
     ]
    },
    {
     "name": "stdout",
     "output_type": "stream",
     "text": [
      "\tcompleted  250  /  500 epochs\n"
     ]
    },
    {
     "name": "stderr",
     "output_type": "stream",
     "text": [
      "Epochs completed:  61%| ██████▏    307/500 [00:10]"
     ]
    },
    {
     "name": "stdout",
     "output_type": "stream",
     "text": [
      "\tcompleted  300  /  500 epochs\n"
     ]
    },
    {
     "name": "stderr",
     "output_type": "stream",
     "text": [
      "Epochs completed:  72%| ███████▏   359/500 [00:11]"
     ]
    },
    {
     "name": "stdout",
     "output_type": "stream",
     "text": [
      "\tcompleted  350  /  500 epochs\n"
     ]
    },
    {
     "name": "stderr",
     "output_type": "stream",
     "text": [
      "Epochs completed:  81%| ████████▏  407/500 [00:13]"
     ]
    },
    {
     "name": "stdout",
     "output_type": "stream",
     "text": [
      "\tcompleted  400  /  500 epochs\n"
     ]
    },
    {
     "name": "stderr",
     "output_type": "stream",
     "text": [
      "Epochs completed:  92%| █████████▏ 459/500 [00:14]"
     ]
    },
    {
     "name": "stdout",
     "output_type": "stream",
     "text": [
      "\tcompleted  450  /  500 epochs\n"
     ]
    },
    {
     "name": "stderr",
     "output_type": "stream",
     "text": [
      "Epochs completed: 100%| ██████████ 500/500 [00:15]\n"
     ]
    },
    {
     "name": "stdout",
     "output_type": "stream",
     "text": [
      "Tue Feb 18 22:31:44 2025 Finished embedding\n",
      "TSNE\n",
      "--------------------------------------------------------------------------------\n",
      "TSNE(early_exaggeration=12, random_state=0, verbose=True)\n",
      "--------------------------------------------------------------------------------\n",
      "===> Finding 90 nearest neighbors using Annoy approximate search using euclidean distance...\n",
      "   --> Time elapsed: 4.14 seconds\n",
      "===> Calculating affinity matrix...\n",
      "   --> Time elapsed: 0.32 seconds\n",
      "===> Calculating PCA-based initialization...\n",
      "   --> Time elapsed: 0.05 seconds\n",
      "===> Running optimization with exaggeration=12.00, lr=517.08 for 250 iterations...\n",
      "Iteration   50, KL divergence 3.5645, 50 iterations in 14.9879 sec\n",
      "Iteration  100, KL divergence 3.4640, 50 iterations in 13.4644 sec\n",
      "Iteration  150, KL divergence 3.4261, 50 iterations in 12.8918 sec\n",
      "Iteration  200, KL divergence 3.4111, 50 iterations in 12.9915 sec\n",
      "Iteration  250, KL divergence 3.4033, 50 iterations in 12.8596 sec\n",
      "   --> Time elapsed: 67.20 seconds\n",
      "===> Running optimization with exaggeration=1.00, lr=6205.00 for 500 iterations...\n",
      "Iteration   50, KL divergence 1.6144, 50 iterations in 12.9997 sec\n",
      "Iteration  100, KL divergence 1.4664, 50 iterations in 12.7600 sec\n",
      "Iteration  150, KL divergence 1.4059, 50 iterations in 12.7010 sec\n",
      "Iteration  200, KL divergence 1.3716, 50 iterations in 12.6892 sec\n",
      "Iteration  250, KL divergence 1.3501, 50 iterations in 12.7206 sec\n",
      "Iteration  300, KL divergence 1.3349, 50 iterations in 12.8254 sec\n",
      "Iteration  350, KL divergence 1.3236, 50 iterations in 12.8834 sec\n",
      "Iteration  400, KL divergence 1.3143, 50 iterations in 12.8330 sec\n",
      "Iteration  450, KL divergence 1.3071, 50 iterations in 12.8009 sec\n",
      "Iteration  500, KL divergence 1.3012, 50 iterations in 12.8450 sec\n",
      "   --> Time elapsed: 128.06 seconds\n",
      "exut seed: 1 scaled: False\n",
      "PCA2\n",
      "PCA50\n",
      "UMAP\n",
      "UMAP(random_state=1, verbose=True)\n",
      "Tue Feb 18 22:35:05 2025 Construct fuzzy simplicial set\n",
      "Tue Feb 18 22:35:05 2025 Finding Nearest Neighbors\n",
      "Tue Feb 18 22:35:05 2025 Building RP forest with 9 trees\n",
      "Tue Feb 18 22:35:05 2025 NN descent for 13 iterations\n",
      "\t 1  /  13\n"
     ]
    },
    {
     "name": "stderr",
     "output_type": "stream",
     "text": [
      "/data/cephfs-1/work/groups/ludwig/users/lzaschk_m/miniforge3/envs/elephant_analysis_env/lib/python3.11/site-packages/umap/umap_.py:1943: UserWarning: n_jobs value -1 overridden to 1 by setting random_state. Use no seed for parallelism.\n",
      "  warn(f\"n_jobs value {self.n_jobs} overridden to 1 by setting random_state. Use no seed for parallelism.\")\n"
     ]
    },
    {
     "name": "stdout",
     "output_type": "stream",
     "text": [
      "\t 2  /  13\n",
      "\t 3  /  13\n",
      "\t 4  /  13\n",
      "\tStopping threshold met -- exiting after 4 iterations\n",
      "Tue Feb 18 22:35:06 2025 Finished Nearest Neighbor Search\n",
      "Tue Feb 18 22:35:06 2025 Construct embedding\n"
     ]
    },
    {
     "name": "stderr",
     "output_type": "stream",
     "text": [
      "Epochs completed:   2%| ▏          11/500 [00:01]"
     ]
    },
    {
     "name": "stdout",
     "output_type": "stream",
     "text": [
      "\tcompleted  0  /  500 epochs\n"
     ]
    },
    {
     "name": "stderr",
     "output_type": "stream",
     "text": [
      "Epochs completed:  11%| █          55/500 [00:02]"
     ]
    },
    {
     "name": "stdout",
     "output_type": "stream",
     "text": [
      "\tcompleted  50  /  500 epochs\n"
     ]
    },
    {
     "name": "stderr",
     "output_type": "stream",
     "text": [
      "Epochs completed:  21%| ██▏        107/500 [00:04]"
     ]
    },
    {
     "name": "stdout",
     "output_type": "stream",
     "text": [
      "\tcompleted  100  /  500 epochs\n"
     ]
    },
    {
     "name": "stderr",
     "output_type": "stream",
     "text": [
      "Epochs completed:  32%| ███▏       159/500 [00:05]"
     ]
    },
    {
     "name": "stdout",
     "output_type": "stream",
     "text": [
      "\tcompleted  150  /  500 epochs\n"
     ]
    },
    {
     "name": "stderr",
     "output_type": "stream",
     "text": [
      "Epochs completed:  42%| ████▏      211/500 [00:07]"
     ]
    },
    {
     "name": "stdout",
     "output_type": "stream",
     "text": [
      "\tcompleted  200  /  500 epochs\n"
     ]
    },
    {
     "name": "stderr",
     "output_type": "stream",
     "text": [
      "Epochs completed:  52%| █████▏     259/500 [00:08]"
     ]
    },
    {
     "name": "stdout",
     "output_type": "stream",
     "text": [
      "\tcompleted  250  /  500 epochs\n"
     ]
    },
    {
     "name": "stderr",
     "output_type": "stream",
     "text": [
      "Epochs completed:  61%| ██████▏    307/500 [00:09]"
     ]
    },
    {
     "name": "stdout",
     "output_type": "stream",
     "text": [
      "\tcompleted  300  /  500 epochs\n"
     ]
    },
    {
     "name": "stderr",
     "output_type": "stream",
     "text": [
      "Epochs completed:  71%| ███████    355/500 [00:11]"
     ]
    },
    {
     "name": "stdout",
     "output_type": "stream",
     "text": [
      "\tcompleted  350  /  500 epochs\n"
     ]
    },
    {
     "name": "stderr",
     "output_type": "stream",
     "text": [
      "Epochs completed:  81%| ████████▏  407/500 [00:12]"
     ]
    },
    {
     "name": "stdout",
     "output_type": "stream",
     "text": [
      "\tcompleted  400  /  500 epochs\n"
     ]
    },
    {
     "name": "stderr",
     "output_type": "stream",
     "text": [
      "Epochs completed:  91%| █████████  455/500 [00:14]"
     ]
    },
    {
     "name": "stdout",
     "output_type": "stream",
     "text": [
      "\tcompleted  450  /  500 epochs\n"
     ]
    },
    {
     "name": "stderr",
     "output_type": "stream",
     "text": [
      "Epochs completed: 100%| ██████████ 500/500 [00:15]\n"
     ]
    },
    {
     "name": "stdout",
     "output_type": "stream",
     "text": [
      "Tue Feb 18 22:35:22 2025 Finished embedding\n",
      "TSNE\n",
      "--------------------------------------------------------------------------------\n",
      "TSNE(early_exaggeration=12, random_state=1, verbose=True)\n",
      "--------------------------------------------------------------------------------\n",
      "===> Finding 90 nearest neighbors using Annoy approximate search using euclidean distance...\n",
      "   --> Time elapsed: 4.13 seconds\n",
      "===> Calculating affinity matrix...\n",
      "   --> Time elapsed: 0.32 seconds\n",
      "===> Calculating PCA-based initialization...\n",
      "   --> Time elapsed: 0.03 seconds\n",
      "===> Running optimization with exaggeration=12.00, lr=517.08 for 250 iterations...\n",
      "Iteration   50, KL divergence 3.5535, 50 iterations in 15.1816 sec\n",
      "Iteration  100, KL divergence 3.4676, 50 iterations in 13.4269 sec\n",
      "Iteration  150, KL divergence 3.4309, 50 iterations in 13.1722 sec\n",
      "Iteration  200, KL divergence 3.4150, 50 iterations in 13.1631 sec\n",
      "Iteration  250, KL divergence 3.4058, 50 iterations in 12.9213 sec\n",
      "   --> Time elapsed: 67.87 seconds\n",
      "===> Running optimization with exaggeration=1.00, lr=6205.00 for 500 iterations...\n",
      "Iteration   50, KL divergence 1.6171, 50 iterations in 13.0165 sec\n",
      "Iteration  100, KL divergence 1.4712, 50 iterations in 12.8336 sec\n",
      "Iteration  150, KL divergence 1.4112, 50 iterations in 12.7908 sec\n",
      "Iteration  200, KL divergence 1.3779, 50 iterations in 12.8731 sec\n",
      "Iteration  250, KL divergence 1.3566, 50 iterations in 12.8582 sec\n",
      "Iteration  300, KL divergence 1.3413, 50 iterations in 12.7593 sec\n",
      "Iteration  350, KL divergence 1.3299, 50 iterations in 12.7834 sec\n",
      "Iteration  400, KL divergence 1.3211, 50 iterations in 12.7703 sec\n",
      "Iteration  450, KL divergence 1.3142, 50 iterations in 12.9131 sec\n",
      "Iteration  500, KL divergence 1.3083, 50 iterations in 12.8515 sec\n",
      "   --> Time elapsed: 128.45 seconds\n",
      "exut seed: 2 scaled: False\n",
      "PCA2\n",
      "PCA50\n",
      "UMAP\n",
      "UMAP(random_state=2, verbose=True)\n",
      "Tue Feb 18 22:38:45 2025 Construct fuzzy simplicial set\n",
      "Tue Feb 18 22:38:45 2025 Finding Nearest Neighbors\n",
      "Tue Feb 18 22:38:45 2025 Building RP forest with 9 trees\n",
      "Tue Feb 18 22:38:46 2025 NN descent for 13 iterations\n"
     ]
    },
    {
     "name": "stderr",
     "output_type": "stream",
     "text": [
      "/data/cephfs-1/work/groups/ludwig/users/lzaschk_m/miniforge3/envs/elephant_analysis_env/lib/python3.11/site-packages/umap/umap_.py:1943: UserWarning: n_jobs value -1 overridden to 1 by setting random_state. Use no seed for parallelism.\n",
      "  warn(f\"n_jobs value {self.n_jobs} overridden to 1 by setting random_state. Use no seed for parallelism.\")\n"
     ]
    },
    {
     "name": "stdout",
     "output_type": "stream",
     "text": [
      "\t 1  /  13\n",
      "\t 2  /  13\n",
      "\t 3  /  13\n",
      "\t 4  /  13\n",
      "\tStopping threshold met -- exiting after 4 iterations\n",
      "Tue Feb 18 22:38:46 2025 Finished Nearest Neighbor Search\n",
      "Tue Feb 18 22:38:46 2025 Construct embedding\n"
     ]
    },
    {
     "name": "stderr",
     "output_type": "stream",
     "text": [
      "Epochs completed:   2%| ▏          10/500 [00:01]"
     ]
    },
    {
     "name": "stdout",
     "output_type": "stream",
     "text": [
      "\tcompleted  0  /  500 epochs\n"
     ]
    },
    {
     "name": "stderr",
     "output_type": "stream",
     "text": [
      "Epochs completed:  12%| █▏         58/500 [00:02]"
     ]
    },
    {
     "name": "stdout",
     "output_type": "stream",
     "text": [
      "\tcompleted  50  /  500 epochs\n"
     ]
    },
    {
     "name": "stderr",
     "output_type": "stream",
     "text": [
      "Epochs completed:  21%| ██         106/500 [00:04]"
     ]
    },
    {
     "name": "stdout",
     "output_type": "stream",
     "text": [
      "\tcompleted  100  /  500 epochs\n"
     ]
    },
    {
     "name": "stderr",
     "output_type": "stream",
     "text": [
      "Epochs completed:  32%| ███▏       158/500 [00:05]"
     ]
    },
    {
     "name": "stdout",
     "output_type": "stream",
     "text": [
      "\tcompleted  150  /  500 epochs\n"
     ]
    },
    {
     "name": "stderr",
     "output_type": "stream",
     "text": [
      "Epochs completed:  42%| ████▏      210/500 [00:07]"
     ]
    },
    {
     "name": "stdout",
     "output_type": "stream",
     "text": [
      "\tcompleted  200  /  500 epochs\n"
     ]
    },
    {
     "name": "stderr",
     "output_type": "stream",
     "text": [
      "Epochs completed:  52%| █████▏     262/500 [00:08]"
     ]
    },
    {
     "name": "stdout",
     "output_type": "stream",
     "text": [
      "\tcompleted  250  /  500 epochs\n"
     ]
    },
    {
     "name": "stderr",
     "output_type": "stream",
     "text": [
      "Epochs completed:  61%| ██████     306/500 [00:10]"
     ]
    },
    {
     "name": "stdout",
     "output_type": "stream",
     "text": [
      "\tcompleted  300  /  500 epochs\n"
     ]
    },
    {
     "name": "stderr",
     "output_type": "stream",
     "text": [
      "Epochs completed:  72%| ███████▏   358/500 [00:11]"
     ]
    },
    {
     "name": "stdout",
     "output_type": "stream",
     "text": [
      "\tcompleted  350  /  500 epochs\n"
     ]
    },
    {
     "name": "stderr",
     "output_type": "stream",
     "text": [
      "Epochs completed:  81%| ████████   406/500 [00:13]"
     ]
    },
    {
     "name": "stdout",
     "output_type": "stream",
     "text": [
      "\tcompleted  400  /  500 epochs\n"
     ]
    },
    {
     "name": "stderr",
     "output_type": "stream",
     "text": [
      "Epochs completed:  92%| █████████▏ 458/500 [00:14]"
     ]
    },
    {
     "name": "stdout",
     "output_type": "stream",
     "text": [
      "\tcompleted  450  /  500 epochs\n"
     ]
    },
    {
     "name": "stderr",
     "output_type": "stream",
     "text": [
      "Epochs completed: 100%| ██████████ 500/500 [00:15]\n"
     ]
    },
    {
     "name": "stdout",
     "output_type": "stream",
     "text": [
      "Tue Feb 18 22:39:02 2025 Finished embedding\n",
      "TSNE\n",
      "--------------------------------------------------------------------------------\n",
      "TSNE(early_exaggeration=12, random_state=2, verbose=True)\n",
      "--------------------------------------------------------------------------------\n",
      "===> Finding 90 nearest neighbors using Annoy approximate search using euclidean distance...\n",
      "   --> Time elapsed: 4.08 seconds\n",
      "===> Calculating affinity matrix...\n",
      "   --> Time elapsed: 0.31 seconds\n",
      "===> Calculating PCA-based initialization...\n",
      "   --> Time elapsed: 0.03 seconds\n",
      "===> Running optimization with exaggeration=12.00, lr=517.08 for 250 iterations...\n",
      "Iteration   50, KL divergence 3.5582, 50 iterations in 14.9948 sec\n",
      "Iteration  100, KL divergence 3.4671, 50 iterations in 13.5435 sec\n",
      "Iteration  150, KL divergence 3.4309, 50 iterations in 13.2150 sec\n",
      "Iteration  200, KL divergence 3.4151, 50 iterations in 13.0704 sec\n",
      "Iteration  250, KL divergence 3.4059, 50 iterations in 13.1915 sec\n",
      "   --> Time elapsed: 68.02 seconds\n",
      "===> Running optimization with exaggeration=1.00, lr=6205.00 for 500 iterations...\n",
      "Iteration   50, KL divergence 1.6174, 50 iterations in 12.9252 sec\n",
      "Iteration  100, KL divergence 1.4679, 50 iterations in 12.8019 sec\n",
      "Iteration  150, KL divergence 1.4071, 50 iterations in 12.7788 sec\n",
      "Iteration  200, KL divergence 1.3727, 50 iterations in 12.8305 sec\n",
      "Iteration  250, KL divergence 1.3506, 50 iterations in 12.8340 sec\n",
      "Iteration  300, KL divergence 1.3353, 50 iterations in 12.9019 sec\n",
      "Iteration  350, KL divergence 1.3239, 50 iterations in 12.9468 sec\n",
      "Iteration  400, KL divergence 1.3154, 50 iterations in 12.9715 sec\n",
      "Iteration  450, KL divergence 1.3085, 50 iterations in 12.9945 sec\n",
      "Iteration  500, KL divergence 1.3027, 50 iterations in 12.9737 sec\n",
      "   --> Time elapsed: 128.96 seconds\n",
      "exut seed: 3 scaled: False\n",
      "PCA2\n",
      "PCA50\n",
      "UMAP\n",
      "UMAP(random_state=3, verbose=True)\n",
      "Tue Feb 18 22:42:25 2025 Construct fuzzy simplicial set\n",
      "Tue Feb 18 22:42:25 2025 Finding Nearest Neighbors\n",
      "Tue Feb 18 22:42:25 2025 Building RP forest with 9 trees\n",
      "Tue Feb 18 22:42:25 2025 NN descent for 13 iterations\n"
     ]
    },
    {
     "name": "stderr",
     "output_type": "stream",
     "text": [
      "/data/cephfs-1/work/groups/ludwig/users/lzaschk_m/miniforge3/envs/elephant_analysis_env/lib/python3.11/site-packages/umap/umap_.py:1943: UserWarning: n_jobs value -1 overridden to 1 by setting random_state. Use no seed for parallelism.\n",
      "  warn(f\"n_jobs value {self.n_jobs} overridden to 1 by setting random_state. Use no seed for parallelism.\")\n"
     ]
    },
    {
     "name": "stdout",
     "output_type": "stream",
     "text": [
      "\t 1  /  13\n",
      "\t 2  /  13\n",
      "\t 3  /  13\n",
      "\t 4  /  13\n",
      "\tStopping threshold met -- exiting after 4 iterations\n",
      "Tue Feb 18 22:42:26 2025 Finished Nearest Neighbor Search\n",
      "Tue Feb 18 22:42:26 2025 Construct embedding\n"
     ]
    },
    {
     "name": "stderr",
     "output_type": "stream",
     "text": [
      "Epochs completed:   1%| ▏          7/500 [00:01]"
     ]
    },
    {
     "name": "stdout",
     "output_type": "stream",
     "text": [
      "\tcompleted  0  /  500 epochs\n"
     ]
    },
    {
     "name": "stderr",
     "output_type": "stream",
     "text": [
      "Epochs completed:  11%| █          55/500 [00:02]"
     ]
    },
    {
     "name": "stdout",
     "output_type": "stream",
     "text": [
      "\tcompleted  50  /  500 epochs\n"
     ]
    },
    {
     "name": "stderr",
     "output_type": "stream",
     "text": [
      "Epochs completed:  22%| ██▏        111/500 [00:04]"
     ]
    },
    {
     "name": "stdout",
     "output_type": "stream",
     "text": [
      "\tcompleted  100  /  500 epochs\n"
     ]
    },
    {
     "name": "stderr",
     "output_type": "stream",
     "text": [
      "Epochs completed:  31%| ███        155/500 [00:05]"
     ]
    },
    {
     "name": "stdout",
     "output_type": "stream",
     "text": [
      "\tcompleted  150  /  500 epochs\n"
     ]
    },
    {
     "name": "stderr",
     "output_type": "stream",
     "text": [
      "Epochs completed:  41%| ████▏      207/500 [00:07]"
     ]
    },
    {
     "name": "stdout",
     "output_type": "stream",
     "text": [
      "\tcompleted  200  /  500 epochs\n"
     ]
    },
    {
     "name": "stderr",
     "output_type": "stream",
     "text": [
      "Epochs completed:  52%| █████▏     259/500 [00:08]"
     ]
    },
    {
     "name": "stdout",
     "output_type": "stream",
     "text": [
      "\tcompleted  250  /  500 epochs\n"
     ]
    },
    {
     "name": "stderr",
     "output_type": "stream",
     "text": [
      "Epochs completed:  61%| ██████▏    307/500 [00:09]"
     ]
    },
    {
     "name": "stdout",
     "output_type": "stream",
     "text": [
      "\tcompleted  300  /  500 epochs\n"
     ]
    },
    {
     "name": "stderr",
     "output_type": "stream",
     "text": [
      "Epochs completed:  72%| ███████▏   359/500 [00:11]"
     ]
    },
    {
     "name": "stdout",
     "output_type": "stream",
     "text": [
      "\tcompleted  350  /  500 epochs\n"
     ]
    },
    {
     "name": "stderr",
     "output_type": "stream",
     "text": [
      "Epochs completed:  82%| ████████▏  411/500 [00:13]"
     ]
    },
    {
     "name": "stdout",
     "output_type": "stream",
     "text": [
      "\tcompleted  400  /  500 epochs\n"
     ]
    },
    {
     "name": "stderr",
     "output_type": "stream",
     "text": [
      "Epochs completed:  92%| █████████▏ 459/500 [00:14]"
     ]
    },
    {
     "name": "stdout",
     "output_type": "stream",
     "text": [
      "\tcompleted  450  /  500 epochs\n"
     ]
    },
    {
     "name": "stderr",
     "output_type": "stream",
     "text": [
      "Epochs completed: 100%| ██████████ 500/500 [00:15]\n"
     ]
    },
    {
     "name": "stdout",
     "output_type": "stream",
     "text": [
      "Tue Feb 18 22:42:42 2025 Finished embedding\n",
      "TSNE\n",
      "--------------------------------------------------------------------------------\n",
      "TSNE(early_exaggeration=12, random_state=3, verbose=True)\n",
      "--------------------------------------------------------------------------------\n",
      "===> Finding 90 nearest neighbors using Annoy approximate search using euclidean distance...\n",
      "   --> Time elapsed: 4.09 seconds\n",
      "===> Calculating affinity matrix...\n",
      "   --> Time elapsed: 0.31 seconds\n",
      "===> Calculating PCA-based initialization...\n",
      "   --> Time elapsed: 0.03 seconds\n",
      "===> Running optimization with exaggeration=12.00, lr=517.08 for 250 iterations...\n",
      "Iteration   50, KL divergence 3.5693, 50 iterations in 14.9293 sec\n",
      "Iteration  100, KL divergence 3.4628, 50 iterations in 13.5848 sec\n",
      "Iteration  150, KL divergence 3.4235, 50 iterations in 13.0282 sec\n",
      "Iteration  200, KL divergence 3.4077, 50 iterations in 12.8608 sec\n",
      "Iteration  250, KL divergence 3.3996, 50 iterations in 12.6697 sec\n",
      "   --> Time elapsed: 67.07 seconds\n",
      "===> Running optimization with exaggeration=1.00, lr=6205.00 for 500 iterations...\n",
      "Iteration   50, KL divergence 1.6161, 50 iterations in 13.1559 sec\n",
      "Iteration  100, KL divergence 1.4668, 50 iterations in 12.8356 sec\n",
      "Iteration  150, KL divergence 1.4064, 50 iterations in 12.7700 sec\n",
      "Iteration  200, KL divergence 1.3727, 50 iterations in 12.7359 sec\n",
      "Iteration  250, KL divergence 1.3514, 50 iterations in 12.8122 sec\n",
      "Iteration  300, KL divergence 1.3360, 50 iterations in 12.8741 sec\n",
      "Iteration  350, KL divergence 1.3245, 50 iterations in 12.9001 sec\n",
      "Iteration  400, KL divergence 1.3158, 50 iterations in 12.9830 sec\n",
      "Iteration  450, KL divergence 1.3087, 50 iterations in 12.9870 sec\n",
      "Iteration  500, KL divergence 1.3033, 50 iterations in 12.9515 sec\n",
      "   --> Time elapsed: 129.01 seconds\n",
      "exut seed: 4 scaled: False\n",
      "PCA2\n",
      "PCA50\n",
      "UMAP\n",
      "UMAP(random_state=4, verbose=True)\n",
      "Tue Feb 18 22:46:04 2025 Construct fuzzy simplicial set\n",
      "Tue Feb 18 22:46:04 2025 Finding Nearest Neighbors\n",
      "Tue Feb 18 22:46:04 2025 Building RP forest with 9 trees\n",
      "Tue Feb 18 22:46:04 2025 NN descent for 13 iterations\n"
     ]
    },
    {
     "name": "stderr",
     "output_type": "stream",
     "text": [
      "/data/cephfs-1/work/groups/ludwig/users/lzaschk_m/miniforge3/envs/elephant_analysis_env/lib/python3.11/site-packages/umap/umap_.py:1943: UserWarning: n_jobs value -1 overridden to 1 by setting random_state. Use no seed for parallelism.\n",
      "  warn(f\"n_jobs value {self.n_jobs} overridden to 1 by setting random_state. Use no seed for parallelism.\")\n"
     ]
    },
    {
     "name": "stdout",
     "output_type": "stream",
     "text": [
      "\t 1  /  13\n",
      "\t 2  /  13\n",
      "\t 3  /  13\n",
      "\t 4  /  13\n",
      "\tStopping threshold met -- exiting after 4 iterations\n",
      "Tue Feb 18 22:46:04 2025 Finished Nearest Neighbor Search\n",
      "Tue Feb 18 22:46:04 2025 Construct embedding\n"
     ]
    },
    {
     "name": "stderr",
     "output_type": "stream",
     "text": [
      "Epochs completed:   2%| ▏          11/500 [00:01]"
     ]
    },
    {
     "name": "stdout",
     "output_type": "stream",
     "text": [
      "\tcompleted  0  /  500 epochs\n"
     ]
    },
    {
     "name": "stderr",
     "output_type": "stream",
     "text": [
      "Epochs completed:  12%| █▏         59/500 [00:02]"
     ]
    },
    {
     "name": "stdout",
     "output_type": "stream",
     "text": [
      "\tcompleted  50  /  500 epochs\n"
     ]
    },
    {
     "name": "stderr",
     "output_type": "stream",
     "text": [
      "Epochs completed:  21%| ██▏        107/500 [00:04]"
     ]
    },
    {
     "name": "stdout",
     "output_type": "stream",
     "text": [
      "\tcompleted  100  /  500 epochs\n"
     ]
    },
    {
     "name": "stderr",
     "output_type": "stream",
     "text": [
      "Epochs completed:  32%| ███▏       159/500 [00:05]"
     ]
    },
    {
     "name": "stdout",
     "output_type": "stream",
     "text": [
      "\tcompleted  150  /  500 epochs\n"
     ]
    },
    {
     "name": "stderr",
     "output_type": "stream",
     "text": [
      "Epochs completed:  41%| ████▏      207/500 [00:07]"
     ]
    },
    {
     "name": "stdout",
     "output_type": "stream",
     "text": [
      "\tcompleted  200  /  500 epochs\n"
     ]
    },
    {
     "name": "stderr",
     "output_type": "stream",
     "text": [
      "Epochs completed:  52%| █████▏     259/500 [00:08]"
     ]
    },
    {
     "name": "stdout",
     "output_type": "stream",
     "text": [
      "\tcompleted  250  /  500 epochs\n"
     ]
    },
    {
     "name": "stderr",
     "output_type": "stream",
     "text": [
      "Epochs completed:  61%| ██████▏    307/500 [00:09]"
     ]
    },
    {
     "name": "stdout",
     "output_type": "stream",
     "text": [
      "\tcompleted  300  /  500 epochs\n"
     ]
    },
    {
     "name": "stderr",
     "output_type": "stream",
     "text": [
      "Epochs completed:  71%| ███████    355/500 [00:11]"
     ]
    },
    {
     "name": "stdout",
     "output_type": "stream",
     "text": [
      "\tcompleted  350  /  500 epochs\n"
     ]
    },
    {
     "name": "stderr",
     "output_type": "stream",
     "text": [
      "Epochs completed:  81%| ████████▏  407/500 [00:12]"
     ]
    },
    {
     "name": "stdout",
     "output_type": "stream",
     "text": [
      "\tcompleted  400  /  500 epochs\n"
     ]
    },
    {
     "name": "stderr",
     "output_type": "stream",
     "text": [
      "Epochs completed:  91%| █████████  455/500 [00:14]"
     ]
    },
    {
     "name": "stdout",
     "output_type": "stream",
     "text": [
      "\tcompleted  450  /  500 epochs\n"
     ]
    },
    {
     "name": "stderr",
     "output_type": "stream",
     "text": [
      "Epochs completed: 100%| ██████████ 500/500 [00:15]\n"
     ]
    },
    {
     "name": "stdout",
     "output_type": "stream",
     "text": [
      "Tue Feb 18 22:46:20 2025 Finished embedding\n",
      "TSNE\n",
      "--------------------------------------------------------------------------------\n",
      "TSNE(early_exaggeration=12, random_state=4, verbose=True)\n",
      "--------------------------------------------------------------------------------\n",
      "===> Finding 90 nearest neighbors using Annoy approximate search using euclidean distance...\n",
      "   --> Time elapsed: 4.13 seconds\n",
      "===> Calculating affinity matrix...\n",
      "   --> Time elapsed: 0.30 seconds\n",
      "===> Calculating PCA-based initialization...\n",
      "   --> Time elapsed: 0.03 seconds\n",
      "===> Running optimization with exaggeration=12.00, lr=517.08 for 250 iterations...\n",
      "Iteration   50, KL divergence 3.5529, 50 iterations in 14.9902 sec\n",
      "Iteration  100, KL divergence 3.4593, 50 iterations in 13.4137 sec\n",
      "Iteration  150, KL divergence 3.4227, 50 iterations in 12.9252 sec\n",
      "Iteration  200, KL divergence 3.4084, 50 iterations in 12.9131 sec\n",
      "Iteration  250, KL divergence 3.4001, 50 iterations in 12.7899 sec\n",
      "   --> Time elapsed: 67.03 seconds\n",
      "===> Running optimization with exaggeration=1.00, lr=6205.00 for 500 iterations...\n",
      "Iteration   50, KL divergence 1.6207, 50 iterations in 13.1127 sec\n",
      "Iteration  100, KL divergence 1.4715, 50 iterations in 12.8760 sec\n",
      "Iteration  150, KL divergence 1.4100, 50 iterations in 12.9330 sec\n",
      "Iteration  200, KL divergence 1.3761, 50 iterations in 12.9892 sec\n",
      "Iteration  250, KL divergence 1.3542, 50 iterations in 12.9600 sec\n",
      "Iteration  300, KL divergence 1.3386, 50 iterations in 13.0013 sec\n",
      "Iteration  350, KL divergence 1.3271, 50 iterations in 12.9656 sec\n",
      "Iteration  400, KL divergence 1.3178, 50 iterations in 12.9916 sec\n",
      "Iteration  450, KL divergence 1.3106, 50 iterations in 12.9469 sec\n",
      "Iteration  500, KL divergence 1.3049, 50 iterations in 12.9304 sec\n",
      "   --> Time elapsed: 129.71 seconds\n",
      "exut seed: 0 scaled: True\n",
      "PCA2\n",
      "PCA50\n",
      "UMAP\n",
      "UMAP(random_state=0, verbose=True)\n",
      "Tue Feb 18 22:49:43 2025 Construct fuzzy simplicial set\n",
      "Tue Feb 18 22:49:43 2025 Finding Nearest Neighbors\n",
      "Tue Feb 18 22:49:43 2025 Building RP forest with 9 trees\n",
      "Tue Feb 18 22:49:43 2025 NN descent for 13 iterations\n"
     ]
    },
    {
     "name": "stderr",
     "output_type": "stream",
     "text": [
      "/data/cephfs-1/work/groups/ludwig/users/lzaschk_m/miniforge3/envs/elephant_analysis_env/lib/python3.11/site-packages/umap/umap_.py:1943: UserWarning: n_jobs value -1 overridden to 1 by setting random_state. Use no seed for parallelism.\n",
      "  warn(f\"n_jobs value {self.n_jobs} overridden to 1 by setting random_state. Use no seed for parallelism.\")\n"
     ]
    },
    {
     "name": "stdout",
     "output_type": "stream",
     "text": [
      "\t 1  /  13\n",
      "\t 2  /  13\n",
      "\t 3  /  13\n",
      "\t 4  /  13\n",
      "\tStopping threshold met -- exiting after 4 iterations\n",
      "Tue Feb 18 22:49:44 2025 Finished Nearest Neighbor Search\n",
      "Tue Feb 18 22:49:44 2025 Construct embedding\n"
     ]
    },
    {
     "name": "stderr",
     "output_type": "stream",
     "text": [
      "Epochs completed:   1%|            6/500 [00:01]"
     ]
    },
    {
     "name": "stdout",
     "output_type": "stream",
     "text": [
      "\tcompleted  0  /  500 epochs\n"
     ]
    },
    {
     "name": "stderr",
     "output_type": "stream",
     "text": [
      "Epochs completed:  12%| █▏         58/500 [00:02]"
     ]
    },
    {
     "name": "stdout",
     "output_type": "stream",
     "text": [
      "\tcompleted  50  /  500 epochs\n"
     ]
    },
    {
     "name": "stderr",
     "output_type": "stream",
     "text": [
      "Epochs completed:  21%| ██         106/500 [00:04]"
     ]
    },
    {
     "name": "stdout",
     "output_type": "stream",
     "text": [
      "\tcompleted  100  /  500 epochs\n"
     ]
    },
    {
     "name": "stderr",
     "output_type": "stream",
     "text": [
      "Epochs completed:  32%| ███▏       158/500 [00:05]"
     ]
    },
    {
     "name": "stdout",
     "output_type": "stream",
     "text": [
      "\tcompleted  150  /  500 epochs\n"
     ]
    },
    {
     "name": "stderr",
     "output_type": "stream",
     "text": [
      "Epochs completed:  41%| ████       206/500 [00:07]"
     ]
    },
    {
     "name": "stdout",
     "output_type": "stream",
     "text": [
      "\tcompleted  200  /  500 epochs\n"
     ]
    },
    {
     "name": "stderr",
     "output_type": "stream",
     "text": [
      "Epochs completed:  52%| █████▏     258/500 [00:09]"
     ]
    },
    {
     "name": "stdout",
     "output_type": "stream",
     "text": [
      "\tcompleted  250  /  500 epochs\n"
     ]
    },
    {
     "name": "stderr",
     "output_type": "stream",
     "text": [
      "Epochs completed:  61%| ██████     306/500 [00:10]"
     ]
    },
    {
     "name": "stdout",
     "output_type": "stream",
     "text": [
      "\tcompleted  300  /  500 epochs\n"
     ]
    },
    {
     "name": "stderr",
     "output_type": "stream",
     "text": [
      "Epochs completed:  72%| ███████▏   358/500 [00:12]"
     ]
    },
    {
     "name": "stdout",
     "output_type": "stream",
     "text": [
      "\tcompleted  350  /  500 epochs\n"
     ]
    },
    {
     "name": "stderr",
     "output_type": "stream",
     "text": [
      "Epochs completed:  82%| ████████▏  410/500 [00:13]"
     ]
    },
    {
     "name": "stdout",
     "output_type": "stream",
     "text": [
      "\tcompleted  400  /  500 epochs\n"
     ]
    },
    {
     "name": "stderr",
     "output_type": "stream",
     "text": [
      "Epochs completed:  92%| █████████▏ 462/500 [00:15]"
     ]
    },
    {
     "name": "stdout",
     "output_type": "stream",
     "text": [
      "\tcompleted  450  /  500 epochs\n"
     ]
    },
    {
     "name": "stderr",
     "output_type": "stream",
     "text": [
      "Epochs completed: 100%| ██████████ 500/500 [00:16]\n"
     ]
    },
    {
     "name": "stdout",
     "output_type": "stream",
     "text": [
      "Tue Feb 18 22:50:00 2025 Finished embedding\n",
      "TSNE\n",
      "--------------------------------------------------------------------------------\n",
      "TSNE(early_exaggeration=12, random_state=0, verbose=True)\n",
      "--------------------------------------------------------------------------------\n",
      "===> Finding 90 nearest neighbors using Annoy approximate search using euclidean distance...\n",
      "   --> Time elapsed: 4.19 seconds\n",
      "===> Calculating affinity matrix...\n",
      "   --> Time elapsed: 0.32 seconds\n",
      "===> Calculating PCA-based initialization...\n",
      "   --> Time elapsed: 0.03 seconds\n",
      "===> Running optimization with exaggeration=12.00, lr=517.08 for 250 iterations...\n",
      "Iteration   50, KL divergence 3.3361, 50 iterations in 15.3518 sec\n",
      "Iteration  100, KL divergence 3.2578, 50 iterations in 13.6680 sec\n",
      "Iteration  150, KL divergence 3.2289, 50 iterations in 13.3420 sec\n",
      "Iteration  200, KL divergence 3.2155, 50 iterations in 13.3805 sec\n",
      "Iteration  250, KL divergence 3.2076, 50 iterations in 13.3363 sec\n",
      "   --> Time elapsed: 69.08 seconds\n",
      "===> Running optimization with exaggeration=1.00, lr=6205.00 for 500 iterations...\n",
      "Iteration   50, KL divergence 1.5608, 50 iterations in 12.8810 sec\n",
      "Iteration  100, KL divergence 1.4192, 50 iterations in 12.7062 sec\n",
      "Iteration  150, KL divergence 1.3633, 50 iterations in 12.8106 sec\n",
      "Iteration  200, KL divergence 1.3332, 50 iterations in 12.9141 sec\n",
      "Iteration  250, KL divergence 1.3140, 50 iterations in 12.9633 sec\n",
      "Iteration  300, KL divergence 1.3005, 50 iterations in 13.0586 sec\n",
      "Iteration  350, KL divergence 1.2903, 50 iterations in 12.9880 sec\n",
      "Iteration  400, KL divergence 1.2830, 50 iterations in 12.9830 sec\n",
      "Iteration  450, KL divergence 1.2769, 50 iterations in 12.9367 sec\n",
      "Iteration  500, KL divergence 1.2719, 50 iterations in 12.9567 sec\n",
      "   --> Time elapsed: 129.20 seconds\n",
      "exut seed: 1 scaled: True\n",
      "PCA2\n",
      "PCA50\n",
      "UMAP\n",
      "UMAP(random_state=1, verbose=True)\n",
      "Tue Feb 18 22:53:25 2025 Construct fuzzy simplicial set\n",
      "Tue Feb 18 22:53:25 2025 Finding Nearest Neighbors\n",
      "Tue Feb 18 22:53:25 2025 Building RP forest with 9 trees\n",
      "Tue Feb 18 22:53:25 2025 NN descent for 13 iterations\n"
     ]
    },
    {
     "name": "stderr",
     "output_type": "stream",
     "text": [
      "/data/cephfs-1/work/groups/ludwig/users/lzaschk_m/miniforge3/envs/elephant_analysis_env/lib/python3.11/site-packages/umap/umap_.py:1943: UserWarning: n_jobs value -1 overridden to 1 by setting random_state. Use no seed for parallelism.\n",
      "  warn(f\"n_jobs value {self.n_jobs} overridden to 1 by setting random_state. Use no seed for parallelism.\")\n"
     ]
    },
    {
     "name": "stdout",
     "output_type": "stream",
     "text": [
      "\t 1  /  13\n",
      "\t 2  /  13\n",
      "\t 3  /  13\n",
      "\t 4  /  13\n",
      "\tStopping threshold met -- exiting after 4 iterations\n",
      "Tue Feb 18 22:53:25 2025 Finished Nearest Neighbor Search\n",
      "Tue Feb 18 22:53:25 2025 Construct embedding\n"
     ]
    },
    {
     "name": "stderr",
     "output_type": "stream",
     "text": [
      "Epochs completed:   2%| ▏          10/500 [00:01]"
     ]
    },
    {
     "name": "stdout",
     "output_type": "stream",
     "text": [
      "\tcompleted  0  /  500 epochs\n"
     ]
    },
    {
     "name": "stderr",
     "output_type": "stream",
     "text": [
      "Epochs completed:  12%| █▏         58/500 [00:02]"
     ]
    },
    {
     "name": "stdout",
     "output_type": "stream",
     "text": [
      "\tcompleted  50  /  500 epochs\n"
     ]
    },
    {
     "name": "stderr",
     "output_type": "stream",
     "text": [
      "Epochs completed:  21%| ██         106/500 [00:04]"
     ]
    },
    {
     "name": "stdout",
     "output_type": "stream",
     "text": [
      "\tcompleted  100  /  500 epochs\n"
     ]
    },
    {
     "name": "stderr",
     "output_type": "stream",
     "text": [
      "Epochs completed:  32%| ███▏       158/500 [00:05]"
     ]
    },
    {
     "name": "stdout",
     "output_type": "stream",
     "text": [
      "\tcompleted  150  /  500 epochs\n"
     ]
    },
    {
     "name": "stderr",
     "output_type": "stream",
     "text": [
      "Epochs completed:  41%| ████       206/500 [00:07]"
     ]
    },
    {
     "name": "stdout",
     "output_type": "stream",
     "text": [
      "\tcompleted  200  /  500 epochs\n"
     ]
    },
    {
     "name": "stderr",
     "output_type": "stream",
     "text": [
      "Epochs completed:  52%| █████▏     262/500 [00:08]"
     ]
    },
    {
     "name": "stdout",
     "output_type": "stream",
     "text": [
      "\tcompleted  250  /  500 epochs\n"
     ]
    },
    {
     "name": "stderr",
     "output_type": "stream",
     "text": [
      "Epochs completed:  62%| ██████▏    310/500 [00:10]"
     ]
    },
    {
     "name": "stdout",
     "output_type": "stream",
     "text": [
      "\tcompleted  300  /  500 epochs\n"
     ]
    },
    {
     "name": "stderr",
     "output_type": "stream",
     "text": [
      "Epochs completed:  72%| ███████▏   358/500 [00:11]"
     ]
    },
    {
     "name": "stdout",
     "output_type": "stream",
     "text": [
      "\tcompleted  350  /  500 epochs\n"
     ]
    },
    {
     "name": "stderr",
     "output_type": "stream",
     "text": [
      "Epochs completed:  82%| ████████▏  410/500 [00:13]"
     ]
    },
    {
     "name": "stdout",
     "output_type": "stream",
     "text": [
      "\tcompleted  400  /  500 epochs\n"
     ]
    },
    {
     "name": "stderr",
     "output_type": "stream",
     "text": [
      "Epochs completed:  92%| █████████▏ 458/500 [00:14]"
     ]
    },
    {
     "name": "stdout",
     "output_type": "stream",
     "text": [
      "\tcompleted  450  /  500 epochs\n"
     ]
    },
    {
     "name": "stderr",
     "output_type": "stream",
     "text": [
      "Epochs completed: 100%| ██████████ 500/500 [00:16]\n"
     ]
    },
    {
     "name": "stdout",
     "output_type": "stream",
     "text": [
      "Tue Feb 18 22:53:42 2025 Finished embedding\n",
      "TSNE\n",
      "--------------------------------------------------------------------------------\n",
      "TSNE(early_exaggeration=12, random_state=1, verbose=True)\n",
      "--------------------------------------------------------------------------------\n",
      "===> Finding 90 nearest neighbors using Annoy approximate search using euclidean distance...\n",
      "   --> Time elapsed: 4.22 seconds\n",
      "===> Calculating affinity matrix...\n",
      "   --> Time elapsed: 0.32 seconds\n",
      "===> Calculating PCA-based initialization...\n",
      "   --> Time elapsed: 0.04 seconds\n",
      "===> Running optimization with exaggeration=12.00, lr=517.08 for 250 iterations...\n",
      "Iteration   50, KL divergence 3.3174, 50 iterations in 15.2905 sec\n",
      "Iteration  100, KL divergence 3.2331, 50 iterations in 13.4753 sec\n",
      "Iteration  150, KL divergence 3.2006, 50 iterations in 13.1542 sec\n",
      "Iteration  200, KL divergence 3.1853, 50 iterations in 13.2352 sec\n",
      "Iteration  250, KL divergence 3.1772, 50 iterations in 13.1332 sec\n",
      "   --> Time elapsed: 68.29 seconds\n",
      "===> Running optimization with exaggeration=1.00, lr=6205.00 for 500 iterations...\n",
      "Iteration   50, KL divergence 1.5624, 50 iterations in 12.8963 sec\n",
      "Iteration  100, KL divergence 1.4223, 50 iterations in 12.7556 sec\n",
      "Iteration  150, KL divergence 1.3670, 50 iterations in 12.7909 sec\n",
      "Iteration  200, KL divergence 1.3371, 50 iterations in 12.9209 sec\n",
      "Iteration  250, KL divergence 1.3174, 50 iterations in 12.9810 sec\n",
      "Iteration  300, KL divergence 1.3045, 50 iterations in 12.8993 sec\n",
      "Iteration  350, KL divergence 1.2952, 50 iterations in 12.8426 sec\n",
      "Iteration  400, KL divergence 1.2872, 50 iterations in 12.9304 sec\n",
      "Iteration  450, KL divergence 1.2805, 50 iterations in 12.9532 sec\n",
      "Iteration  500, KL divergence 1.2751, 50 iterations in 12.9468 sec\n",
      "   --> Time elapsed: 128.92 seconds\n",
      "exut seed: 2 scaled: True\n",
      "PCA2\n",
      "PCA50\n",
      "UMAP\n",
      "UMAP(random_state=2, verbose=True)\n",
      "Tue Feb 18 22:57:05 2025 Construct fuzzy simplicial set\n",
      "Tue Feb 18 22:57:05 2025 Finding Nearest Neighbors\n",
      "Tue Feb 18 22:57:05 2025 Building RP forest with 9 trees\n",
      "Tue Feb 18 22:57:05 2025 NN descent for 13 iterations\n"
     ]
    },
    {
     "name": "stderr",
     "output_type": "stream",
     "text": [
      "/data/cephfs-1/work/groups/ludwig/users/lzaschk_m/miniforge3/envs/elephant_analysis_env/lib/python3.11/site-packages/umap/umap_.py:1943: UserWarning: n_jobs value -1 overridden to 1 by setting random_state. Use no seed for parallelism.\n",
      "  warn(f\"n_jobs value {self.n_jobs} overridden to 1 by setting random_state. Use no seed for parallelism.\")\n"
     ]
    },
    {
     "name": "stdout",
     "output_type": "stream",
     "text": [
      "\t 1  /  13\n",
      "\t 2  /  13\n",
      "\t 3  /  13\n",
      "\t 4  /  13\n",
      "\tStopping threshold met -- exiting after 4 iterations\n",
      "Tue Feb 18 22:57:06 2025 Finished Nearest Neighbor Search\n",
      "Tue Feb 18 22:57:06 2025 Construct embedding\n"
     ]
    },
    {
     "name": "stderr",
     "output_type": "stream",
     "text": [
      "Epochs completed:   2%| ▏          10/500 [00:01]"
     ]
    },
    {
     "name": "stdout",
     "output_type": "stream",
     "text": [
      "\tcompleted  0  /  500 epochs\n"
     ]
    },
    {
     "name": "stderr",
     "output_type": "stream",
     "text": [
      "Epochs completed:  12%| █▏         58/500 [00:02]"
     ]
    },
    {
     "name": "stdout",
     "output_type": "stream",
     "text": [
      "\tcompleted  50  /  500 epochs\n"
     ]
    },
    {
     "name": "stderr",
     "output_type": "stream",
     "text": [
      "Epochs completed:  21%| ██         106/500 [00:04]"
     ]
    },
    {
     "name": "stdout",
     "output_type": "stream",
     "text": [
      "\tcompleted  100  /  500 epochs\n"
     ]
    },
    {
     "name": "stderr",
     "output_type": "stream",
     "text": [
      "Epochs completed:  32%| ███▏       162/500 [00:05]"
     ]
    },
    {
     "name": "stdout",
     "output_type": "stream",
     "text": [
      "\tcompleted  150  /  500 epochs\n"
     ]
    },
    {
     "name": "stderr",
     "output_type": "stream",
     "text": [
      "Epochs completed:  41%| ████       206/500 [00:07]"
     ]
    },
    {
     "name": "stdout",
     "output_type": "stream",
     "text": [
      "\tcompleted  200  /  500 epochs\n"
     ]
    },
    {
     "name": "stderr",
     "output_type": "stream",
     "text": [
      "Epochs completed:  52%| █████▏     262/500 [00:08]"
     ]
    },
    {
     "name": "stdout",
     "output_type": "stream",
     "text": [
      "\tcompleted  250  /  500 epochs\n"
     ]
    },
    {
     "name": "stderr",
     "output_type": "stream",
     "text": [
      "Epochs completed:  62%| ██████▏    310/500 [00:10]"
     ]
    },
    {
     "name": "stdout",
     "output_type": "stream",
     "text": [
      "\tcompleted  300  /  500 epochs\n"
     ]
    },
    {
     "name": "stderr",
     "output_type": "stream",
     "text": [
      "Epochs completed:  72%| ███████▏   358/500 [00:11]"
     ]
    },
    {
     "name": "stdout",
     "output_type": "stream",
     "text": [
      "\tcompleted  350  /  500 epochs\n"
     ]
    },
    {
     "name": "stderr",
     "output_type": "stream",
     "text": [
      "Epochs completed:  81%| ████████   406/500 [00:13]"
     ]
    },
    {
     "name": "stdout",
     "output_type": "stream",
     "text": [
      "\tcompleted  400  /  500 epochs\n"
     ]
    },
    {
     "name": "stderr",
     "output_type": "stream",
     "text": [
      "Epochs completed:  92%| █████████▏ 458/500 [00:14]"
     ]
    },
    {
     "name": "stdout",
     "output_type": "stream",
     "text": [
      "\tcompleted  450  /  500 epochs\n"
     ]
    },
    {
     "name": "stderr",
     "output_type": "stream",
     "text": [
      "Epochs completed: 100%| ██████████ 500/500 [00:16]\n"
     ]
    },
    {
     "name": "stdout",
     "output_type": "stream",
     "text": [
      "Tue Feb 18 22:57:23 2025 Finished embedding\n",
      "TSNE\n",
      "--------------------------------------------------------------------------------\n",
      "TSNE(early_exaggeration=12, random_state=2, verbose=True)\n",
      "--------------------------------------------------------------------------------\n",
      "===> Finding 90 nearest neighbors using Annoy approximate search using euclidean distance...\n",
      "   --> Time elapsed: 4.16 seconds\n",
      "===> Calculating affinity matrix...\n",
      "   --> Time elapsed: 0.31 seconds\n",
      "===> Calculating PCA-based initialization...\n",
      "   --> Time elapsed: 0.03 seconds\n",
      "===> Running optimization with exaggeration=12.00, lr=517.08 for 250 iterations...\n",
      "Iteration   50, KL divergence 3.3233, 50 iterations in 15.3375 sec\n",
      "Iteration  100, KL divergence 3.2409, 50 iterations in 13.5238 sec\n",
      "Iteration  150, KL divergence 3.2083, 50 iterations in 13.1789 sec\n",
      "Iteration  200, KL divergence 3.1939, 50 iterations in 13.2476 sec\n",
      "Iteration  250, KL divergence 3.1855, 50 iterations in 13.1690 sec\n",
      "   --> Time elapsed: 68.46 seconds\n",
      "===> Running optimization with exaggeration=1.00, lr=6205.00 for 500 iterations...\n",
      "Iteration   50, KL divergence 1.5596, 50 iterations in 12.9928 sec\n",
      "Iteration  100, KL divergence 1.4173, 50 iterations in 12.7175 sec\n",
      "Iteration  150, KL divergence 1.3627, 50 iterations in 12.8160 sec\n",
      "Iteration  200, KL divergence 1.3333, 50 iterations in 12.8473 sec\n",
      "Iteration  250, KL divergence 1.3148, 50 iterations in 12.9764 sec\n",
      "Iteration  300, KL divergence 1.3013, 50 iterations in 13.0014 sec\n",
      "Iteration  350, KL divergence 1.2911, 50 iterations in 12.9948 sec\n",
      "Iteration  400, KL divergence 1.2830, 50 iterations in 12.9581 sec\n",
      "Iteration  450, KL divergence 1.2765, 50 iterations in 12.9916 sec\n",
      "Iteration  500, KL divergence 1.2713, 50 iterations in 12.9949 sec\n",
      "   --> Time elapsed: 129.29 seconds\n",
      "exut seed: 3 scaled: True\n",
      "PCA2\n",
      "PCA50\n",
      "UMAP\n",
      "UMAP(random_state=3, verbose=True)\n",
      "Tue Feb 18 23:00:46 2025 Construct fuzzy simplicial set\n",
      "Tue Feb 18 23:00:46 2025 Finding Nearest Neighbors\n",
      "Tue Feb 18 23:00:46 2025 Building RP forest with 9 trees\n",
      "Tue Feb 18 23:00:47 2025 NN descent for 13 iterations\n"
     ]
    },
    {
     "name": "stderr",
     "output_type": "stream",
     "text": [
      "/data/cephfs-1/work/groups/ludwig/users/lzaschk_m/miniforge3/envs/elephant_analysis_env/lib/python3.11/site-packages/umap/umap_.py:1943: UserWarning: n_jobs value -1 overridden to 1 by setting random_state. Use no seed for parallelism.\n",
      "  warn(f\"n_jobs value {self.n_jobs} overridden to 1 by setting random_state. Use no seed for parallelism.\")\n"
     ]
    },
    {
     "name": "stdout",
     "output_type": "stream",
     "text": [
      "\t 1  /  13\n",
      "\t 2  /  13\n",
      "\t 3  /  13\n",
      "\t 4  /  13\n",
      "\tStopping threshold met -- exiting after 4 iterations\n",
      "Tue Feb 18 23:00:47 2025 Finished Nearest Neighbor Search\n",
      "Tue Feb 18 23:00:47 2025 Construct embedding\n"
     ]
    },
    {
     "name": "stderr",
     "output_type": "stream",
     "text": [
      "Epochs completed:   1%|            6/500 [00:01]"
     ]
    },
    {
     "name": "stdout",
     "output_type": "stream",
     "text": [
      "\tcompleted  0  /  500 epochs\n"
     ]
    },
    {
     "name": "stderr",
     "output_type": "stream",
     "text": [
      "Epochs completed:  12%| █▏         58/500 [00:02]"
     ]
    },
    {
     "name": "stdout",
     "output_type": "stream",
     "text": [
      "\tcompleted  50  /  500 epochs\n"
     ]
    },
    {
     "name": "stderr",
     "output_type": "stream",
     "text": [
      "Epochs completed:  21%| ██         106/500 [00:04]"
     ]
    },
    {
     "name": "stdout",
     "output_type": "stream",
     "text": [
      "\tcompleted  100  /  500 epochs\n"
     ]
    },
    {
     "name": "stderr",
     "output_type": "stream",
     "text": [
      "Epochs completed:  32%| ███▏       162/500 [00:05]"
     ]
    },
    {
     "name": "stdout",
     "output_type": "stream",
     "text": [
      "\tcompleted  150  /  500 epochs\n"
     ]
    },
    {
     "name": "stderr",
     "output_type": "stream",
     "text": [
      "Epochs completed:  41%| ████       206/500 [00:07]"
     ]
    },
    {
     "name": "stdout",
     "output_type": "stream",
     "text": [
      "\tcompleted  200  /  500 epochs\n"
     ]
    },
    {
     "name": "stderr",
     "output_type": "stream",
     "text": [
      "Epochs completed:  52%| █████▏     258/500 [00:08]"
     ]
    },
    {
     "name": "stdout",
     "output_type": "stream",
     "text": [
      "\tcompleted  250  /  500 epochs\n"
     ]
    },
    {
     "name": "stderr",
     "output_type": "stream",
     "text": [
      "Epochs completed:  62%| ██████▏    310/500 [00:10]"
     ]
    },
    {
     "name": "stdout",
     "output_type": "stream",
     "text": [
      "\tcompleted  300  /  500 epochs\n"
     ]
    },
    {
     "name": "stderr",
     "output_type": "stream",
     "text": [
      "Epochs completed:  72%| ███████▏   358/500 [00:11]"
     ]
    },
    {
     "name": "stdout",
     "output_type": "stream",
     "text": [
      "\tcompleted  350  /  500 epochs\n"
     ]
    },
    {
     "name": "stderr",
     "output_type": "stream",
     "text": [
      "Epochs completed:  81%| ████████   406/500 [00:13]"
     ]
    },
    {
     "name": "stdout",
     "output_type": "stream",
     "text": [
      "\tcompleted  400  /  500 epochs\n"
     ]
    },
    {
     "name": "stderr",
     "output_type": "stream",
     "text": [
      "Epochs completed:  92%| █████████▏ 458/500 [00:14]"
     ]
    },
    {
     "name": "stdout",
     "output_type": "stream",
     "text": [
      "\tcompleted  450  /  500 epochs\n"
     ]
    },
    {
     "name": "stderr",
     "output_type": "stream",
     "text": [
      "Epochs completed: 100%| ██████████ 500/500 [00:16]\n"
     ]
    },
    {
     "name": "stdout",
     "output_type": "stream",
     "text": [
      "Tue Feb 18 23:01:04 2025 Finished embedding\n",
      "TSNE\n",
      "--------------------------------------------------------------------------------\n",
      "TSNE(early_exaggeration=12, random_state=3, verbose=True)\n",
      "--------------------------------------------------------------------------------\n",
      "===> Finding 90 nearest neighbors using Annoy approximate search using euclidean distance...\n",
      "   --> Time elapsed: 4.21 seconds\n",
      "===> Calculating affinity matrix...\n",
      "   --> Time elapsed: 0.31 seconds\n",
      "===> Calculating PCA-based initialization...\n",
      "   --> Time elapsed: 0.03 seconds\n",
      "===> Running optimization with exaggeration=12.00, lr=517.08 for 250 iterations...\n",
      "Iteration   50, KL divergence 3.3294, 50 iterations in 15.2652 sec\n",
      "Iteration  100, KL divergence 3.2529, 50 iterations in 13.5224 sec\n",
      "Iteration  150, KL divergence 3.2213, 50 iterations in 13.1248 sec\n",
      "Iteration  200, KL divergence 3.2072, 50 iterations in 13.2841 sec\n",
      "Iteration  250, KL divergence 3.2004, 50 iterations in 13.2333 sec\n",
      "   --> Time elapsed: 68.43 seconds\n",
      "===> Running optimization with exaggeration=1.00, lr=6205.00 for 500 iterations...\n",
      "Iteration   50, KL divergence 1.5615, 50 iterations in 13.0698 sec\n",
      "Iteration  100, KL divergence 1.4208, 50 iterations in 12.7335 sec\n",
      "Iteration  150, KL divergence 1.3654, 50 iterations in 12.7635 sec\n",
      "Iteration  200, KL divergence 1.3350, 50 iterations in 12.7588 sec\n",
      "Iteration  250, KL divergence 1.3154, 50 iterations in 12.8492 sec\n",
      "Iteration  300, KL divergence 1.3021, 50 iterations in 12.8653 sec\n",
      "Iteration  350, KL divergence 1.2921, 50 iterations in 12.9025 sec\n",
      "Iteration  400, KL divergence 1.2845, 50 iterations in 12.9619 sec\n",
      "Iteration  450, KL divergence 1.2783, 50 iterations in 13.0367 sec\n",
      "Iteration  500, KL divergence 1.2732, 50 iterations in 13.1082 sec\n",
      "   --> Time elapsed: 129.05 seconds\n",
      "exut seed: 4 scaled: True\n",
      "PCA2\n",
      "PCA50\n",
      "UMAP\n",
      "UMAP(random_state=4, verbose=True)\n",
      "Tue Feb 18 23:04:27 2025 Construct fuzzy simplicial set\n",
      "Tue Feb 18 23:04:27 2025 Finding Nearest Neighbors\n",
      "Tue Feb 18 23:04:27 2025 Building RP forest with 9 trees\n",
      "Tue Feb 18 23:04:27 2025 NN descent for 13 iterations\n"
     ]
    },
    {
     "name": "stderr",
     "output_type": "stream",
     "text": [
      "/data/cephfs-1/work/groups/ludwig/users/lzaschk_m/miniforge3/envs/elephant_analysis_env/lib/python3.11/site-packages/umap/umap_.py:1943: UserWarning: n_jobs value -1 overridden to 1 by setting random_state. Use no seed for parallelism.\n",
      "  warn(f\"n_jobs value {self.n_jobs} overridden to 1 by setting random_state. Use no seed for parallelism.\")\n"
     ]
    },
    {
     "name": "stdout",
     "output_type": "stream",
     "text": [
      "\t 1  /  13\n",
      "\t 2  /  13\n",
      "\t 3  /  13\n",
      "\t 4  /  13\n",
      "\tStopping threshold met -- exiting after 4 iterations\n",
      "Tue Feb 18 23:04:28 2025 Finished Nearest Neighbor Search\n",
      "Tue Feb 18 23:04:28 2025 Construct embedding\n"
     ]
    },
    {
     "name": "stderr",
     "output_type": "stream",
     "text": [
      "Epochs completed:   1%| ▏          7/500 [00:01]"
     ]
    },
    {
     "name": "stdout",
     "output_type": "stream",
     "text": [
      "\tcompleted  0  /  500 epochs\n"
     ]
    },
    {
     "name": "stderr",
     "output_type": "stream",
     "text": [
      "Epochs completed:  12%| █▏         59/500 [00:02]"
     ]
    },
    {
     "name": "stdout",
     "output_type": "stream",
     "text": [
      "\tcompleted  50  /  500 epochs\n"
     ]
    },
    {
     "name": "stderr",
     "output_type": "stream",
     "text": [
      "Epochs completed:  22%| ██▏        111/500 [00:04]"
     ]
    },
    {
     "name": "stdout",
     "output_type": "stream",
     "text": [
      "\tcompleted  100  /  500 epochs\n"
     ]
    },
    {
     "name": "stderr",
     "output_type": "stream",
     "text": [
      "Epochs completed:  32%| ███▏       159/500 [00:06]"
     ]
    },
    {
     "name": "stdout",
     "output_type": "stream",
     "text": [
      "\tcompleted  150  /  500 epochs\n"
     ]
    },
    {
     "name": "stderr",
     "output_type": "stream",
     "text": [
      "Epochs completed:  41%| ████▏      207/500 [00:07]"
     ]
    },
    {
     "name": "stdout",
     "output_type": "stream",
     "text": [
      "\tcompleted  200  /  500 epochs\n"
     ]
    },
    {
     "name": "stderr",
     "output_type": "stream",
     "text": [
      "Epochs completed:  52%| █████▏     259/500 [00:09]"
     ]
    },
    {
     "name": "stdout",
     "output_type": "stream",
     "text": [
      "\tcompleted  250  /  500 epochs\n"
     ]
    },
    {
     "name": "stderr",
     "output_type": "stream",
     "text": [
      "Epochs completed:  61%| ██████▏    307/500 [00:10]"
     ]
    },
    {
     "name": "stdout",
     "output_type": "stream",
     "text": [
      "\tcompleted  300  /  500 epochs\n"
     ]
    },
    {
     "name": "stderr",
     "output_type": "stream",
     "text": [
      "Epochs completed:  72%| ███████▏   359/500 [00:12]"
     ]
    },
    {
     "name": "stdout",
     "output_type": "stream",
     "text": [
      "\tcompleted  350  /  500 epochs\n"
     ]
    },
    {
     "name": "stderr",
     "output_type": "stream",
     "text": [
      "Epochs completed:  82%| ████████▏  411/500 [00:13]"
     ]
    },
    {
     "name": "stdout",
     "output_type": "stream",
     "text": [
      "\tcompleted  400  /  500 epochs\n"
     ]
    },
    {
     "name": "stderr",
     "output_type": "stream",
     "text": [
      "Epochs completed:  92%| █████████▏ 459/500 [00:15]"
     ]
    },
    {
     "name": "stdout",
     "output_type": "stream",
     "text": [
      "\tcompleted  450  /  500 epochs\n"
     ]
    },
    {
     "name": "stderr",
     "output_type": "stream",
     "text": [
      "Epochs completed: 100%| ██████████ 500/500 [00:16]\n"
     ]
    },
    {
     "name": "stdout",
     "output_type": "stream",
     "text": [
      "Tue Feb 18 23:04:45 2025 Finished embedding\n",
      "TSNE\n",
      "--------------------------------------------------------------------------------\n",
      "TSNE(early_exaggeration=12, random_state=4, verbose=True)\n",
      "--------------------------------------------------------------------------------\n",
      "===> Finding 90 nearest neighbors using Annoy approximate search using euclidean distance...\n",
      "   --> Time elapsed: 4.16 seconds\n",
      "===> Calculating affinity matrix...\n",
      "   --> Time elapsed: 0.31 seconds\n",
      "===> Calculating PCA-based initialization...\n",
      "   --> Time elapsed: 0.03 seconds\n",
      "===> Running optimization with exaggeration=12.00, lr=517.08 for 250 iterations...\n",
      "Iteration   50, KL divergence 3.3315, 50 iterations in 15.2509 sec\n",
      "Iteration  100, KL divergence 3.2541, 50 iterations in 13.4924 sec\n",
      "Iteration  150, KL divergence 3.2247, 50 iterations in 13.1559 sec\n",
      "Iteration  200, KL divergence 3.2096, 50 iterations in 13.2801 sec\n",
      "Iteration  250, KL divergence 3.2004, 50 iterations in 13.2667 sec\n",
      "   --> Time elapsed: 68.45 seconds\n",
      "===> Running optimization with exaggeration=1.00, lr=6205.00 for 500 iterations...\n",
      "Iteration   50, KL divergence 1.5634, 50 iterations in 12.8888 sec\n",
      "Iteration  100, KL divergence 1.4237, 50 iterations in 12.8039 sec\n",
      "Iteration  150, KL divergence 1.3692, 50 iterations in 12.8444 sec\n",
      "Iteration  200, KL divergence 1.3393, 50 iterations in 12.8454 sec\n",
      "Iteration  250, KL divergence 1.3209, 50 iterations in 12.9769 sec\n",
      "Iteration  300, KL divergence 1.3076, 50 iterations in 13.0063 sec\n",
      "Iteration  350, KL divergence 1.2980, 50 iterations in 12.9082 sec\n",
      "Iteration  400, KL divergence 1.2902, 50 iterations in 12.8437 sec\n",
      "Iteration  450, KL divergence 1.2844, 50 iterations in 12.8430 sec\n",
      "Iteration  500, KL divergence 1.2792, 50 iterations in 12.8669 sec\n",
      "   --> Time elapsed: 128.83 seconds\n",
      "running on scaled and unscaled data for merfish\n",
      "merfish seed: 0 scaled: False\n",
      "PCA2\n",
      "PCA50\n",
      "UMAP\n",
      "UMAP(random_state=0, verbose=True)\n",
      "Tue Feb 18 23:08:08 2025 Construct fuzzy simplicial set\n",
      "Tue Feb 18 23:08:08 2025 Finding Nearest Neighbors\n",
      "Tue Feb 18 23:08:08 2025 Building RP forest with 9 trees\n"
     ]
    },
    {
     "name": "stderr",
     "output_type": "stream",
     "text": [
      "/data/cephfs-1/work/groups/ludwig/users/lzaschk_m/miniforge3/envs/elephant_analysis_env/lib/python3.11/site-packages/umap/umap_.py:1943: UserWarning: n_jobs value -1 overridden to 1 by setting random_state. Use no seed for parallelism.\n",
      "  warn(f\"n_jobs value {self.n_jobs} overridden to 1 by setting random_state. Use no seed for parallelism.\")\n"
     ]
    },
    {
     "name": "stdout",
     "output_type": "stream",
     "text": [
      "Tue Feb 18 23:08:08 2025 NN descent for 13 iterations\n",
      "\t 1  /  13\n",
      "\t 2  /  13\n",
      "\t 3  /  13\n",
      "\tStopping threshold met -- exiting after 3 iterations\n",
      "Tue Feb 18 23:08:08 2025 Finished Nearest Neighbor Search\n",
      "Tue Feb 18 23:08:08 2025 Construct embedding\n"
     ]
    },
    {
     "name": "stderr",
     "output_type": "stream",
     "text": [
      "Epochs completed:   1%|            6/500 [00:01]"
     ]
    },
    {
     "name": "stdout",
     "output_type": "stream",
     "text": [
      "\tcompleted  0  /  500 epochs\n"
     ]
    },
    {
     "name": "stderr",
     "output_type": "stream",
     "text": [
      "Epochs completed:  12%| █▏         58/500 [00:02]"
     ]
    },
    {
     "name": "stdout",
     "output_type": "stream",
     "text": [
      "\tcompleted  50  /  500 epochs\n"
     ]
    },
    {
     "name": "stderr",
     "output_type": "stream",
     "text": [
      "Epochs completed:  21%| ██         106/500 [00:04]"
     ]
    },
    {
     "name": "stdout",
     "output_type": "stream",
     "text": [
      "\tcompleted  100  /  500 epochs\n"
     ]
    },
    {
     "name": "stderr",
     "output_type": "stream",
     "text": [
      "Epochs completed:  31%| ███▏       157/500 [00:06]"
     ]
    },
    {
     "name": "stdout",
     "output_type": "stream",
     "text": [
      "\tcompleted  150  /  500 epochs\n"
     ]
    },
    {
     "name": "stderr",
     "output_type": "stream",
     "text": [
      "Epochs completed:  41%| ████       205/500 [00:07]"
     ]
    },
    {
     "name": "stdout",
     "output_type": "stream",
     "text": [
      "\tcompleted  200  /  500 epochs\n"
     ]
    },
    {
     "name": "stderr",
     "output_type": "stream",
     "text": [
      "Epochs completed:  51%| █████      256/500 [00:09]"
     ]
    },
    {
     "name": "stdout",
     "output_type": "stream",
     "text": [
      "\tcompleted  250  /  500 epochs\n"
     ]
    },
    {
     "name": "stderr",
     "output_type": "stream",
     "text": [
      "Epochs completed:  61%| ██████▏    307/500 [00:11]"
     ]
    },
    {
     "name": "stdout",
     "output_type": "stream",
     "text": [
      "\tcompleted  300  /  500 epochs\n"
     ]
    },
    {
     "name": "stderr",
     "output_type": "stream",
     "text": [
      "Epochs completed:  71%| ███████    355/500 [00:12]"
     ]
    },
    {
     "name": "stdout",
     "output_type": "stream",
     "text": [
      "\tcompleted  350  /  500 epochs\n"
     ]
    },
    {
     "name": "stderr",
     "output_type": "stream",
     "text": [
      "Epochs completed:  81%| ████████   406/500 [00:14]"
     ]
    },
    {
     "name": "stdout",
     "output_type": "stream",
     "text": [
      "\tcompleted  400  /  500 epochs\n"
     ]
    },
    {
     "name": "stderr",
     "output_type": "stream",
     "text": [
      "Epochs completed:  91%| █████████  454/500 [00:16]"
     ]
    },
    {
     "name": "stdout",
     "output_type": "stream",
     "text": [
      "\tcompleted  450  /  500 epochs\n"
     ]
    },
    {
     "name": "stderr",
     "output_type": "stream",
     "text": [
      "Epochs completed: 100%| ██████████ 500/500 [00:17]\n"
     ]
    },
    {
     "name": "stdout",
     "output_type": "stream",
     "text": [
      "Tue Feb 18 23:08:27 2025 Finished embedding\n",
      "TSNE\n",
      "--------------------------------------------------------------------------------\n",
      "TSNE(early_exaggeration=12, random_state=0, verbose=True)\n",
      "--------------------------------------------------------------------------------\n",
      "===> Finding 90 nearest neighbors using Annoy approximate search using euclidean distance...\n",
      "   --> Time elapsed: 4.59 seconds\n",
      "===> Calculating affinity matrix...\n",
      "   --> Time elapsed: 0.34 seconds\n",
      "===> Calculating PCA-based initialization...\n",
      "   --> Time elapsed: 0.03 seconds\n",
      "===> Running optimization with exaggeration=12.00, lr=580.25 for 250 iterations...\n",
      "Iteration   50, KL divergence 3.3260, 50 iterations in 16.7972 sec\n",
      "Iteration  100, KL divergence 3.2015, 50 iterations in 15.4419 sec\n",
      "Iteration  150, KL divergence 3.1305, 50 iterations in 15.5384 sec\n",
      "Iteration  200, KL divergence 3.0954, 50 iterations in 15.5424 sec\n",
      "Iteration  250, KL divergence 3.0770, 50 iterations in 15.3938 sec\n",
      "   --> Time elapsed: 78.71 seconds\n",
      "===> Running optimization with exaggeration=1.00, lr=6963.00 for 500 iterations...\n",
      "Iteration   50, KL divergence 1.6158, 50 iterations in 14.6689 sec\n",
      "Iteration  100, KL divergence 1.4468, 50 iterations in 14.2835 sec\n",
      "Iteration  150, KL divergence 1.3807, 50 iterations in 14.1721 sec\n",
      "Iteration  200, KL divergence 1.3450, 50 iterations in 14.2763 sec\n",
      "Iteration  250, KL divergence 1.3215, 50 iterations in 14.3517 sec\n",
      "Iteration  300, KL divergence 1.3047, 50 iterations in 14.4004 sec\n",
      "Iteration  350, KL divergence 1.2923, 50 iterations in 14.4612 sec\n",
      "Iteration  400, KL divergence 1.2828, 50 iterations in 14.5183 sec\n",
      "Iteration  450, KL divergence 1.2753, 50 iterations in 14.5418 sec\n",
      "Iteration  500, KL divergence 1.2690, 50 iterations in 14.5974 sec\n",
      "   --> Time elapsed: 144.27 seconds\n",
      "merfish seed: 1 scaled: False\n",
      "PCA2\n",
      "PCA50\n",
      "UMAP\n",
      "UMAP(random_state=1, verbose=True)\n",
      "Tue Feb 18 23:12:15 2025 Construct fuzzy simplicial set\n",
      "Tue Feb 18 23:12:15 2025 Finding Nearest Neighbors\n",
      "Tue Feb 18 23:12:15 2025 Building RP forest with 9 trees\n"
     ]
    },
    {
     "name": "stderr",
     "output_type": "stream",
     "text": [
      "/data/cephfs-1/work/groups/ludwig/users/lzaschk_m/miniforge3/envs/elephant_analysis_env/lib/python3.11/site-packages/umap/umap_.py:1943: UserWarning: n_jobs value -1 overridden to 1 by setting random_state. Use no seed for parallelism.\n",
      "  warn(f\"n_jobs value {self.n_jobs} overridden to 1 by setting random_state. Use no seed for parallelism.\")\n"
     ]
    },
    {
     "name": "stdout",
     "output_type": "stream",
     "text": [
      "Tue Feb 18 23:12:16 2025 NN descent for 13 iterations\n",
      "\t 1  /  13\n",
      "\t 2  /  13\n",
      "\t 3  /  13\n",
      "\tStopping threshold met -- exiting after 3 iterations\n",
      "Tue Feb 18 23:12:16 2025 Finished Nearest Neighbor Search\n",
      "Tue Feb 18 23:12:16 2025 Construct embedding\n"
     ]
    },
    {
     "name": "stderr",
     "output_type": "stream",
     "text": [
      "Epochs completed:   2%| ▏          10/500 [00:01]"
     ]
    },
    {
     "name": "stdout",
     "output_type": "stream",
     "text": [
      "\tcompleted  0  /  500 epochs\n"
     ]
    },
    {
     "name": "stderr",
     "output_type": "stream",
     "text": [
      "Epochs completed:  11%| █          56/500 [00:02]"
     ]
    },
    {
     "name": "stdout",
     "output_type": "stream",
     "text": [
      "\tcompleted  50  /  500 epochs\n"
     ]
    },
    {
     "name": "stderr",
     "output_type": "stream",
     "text": [
      "Epochs completed:  21%| ██         104/500 [00:04]"
     ]
    },
    {
     "name": "stdout",
     "output_type": "stream",
     "text": [
      "\tcompleted  100  /  500 epochs\n"
     ]
    },
    {
     "name": "stderr",
     "output_type": "stream",
     "text": [
      "Epochs completed:  31%| ███        155/500 [00:06]"
     ]
    },
    {
     "name": "stdout",
     "output_type": "stream",
     "text": [
      "\tcompleted  150  /  500 epochs\n"
     ]
    },
    {
     "name": "stderr",
     "output_type": "stream",
     "text": [
      "Epochs completed:  41%| ████       206/500 [00:07]"
     ]
    },
    {
     "name": "stdout",
     "output_type": "stream",
     "text": [
      "\tcompleted  200  /  500 epochs\n"
     ]
    },
    {
     "name": "stderr",
     "output_type": "stream",
     "text": [
      "Epochs completed:  51%| █████▏     257/500 [00:09]"
     ]
    },
    {
     "name": "stdout",
     "output_type": "stream",
     "text": [
      "\tcompleted  250  /  500 epochs\n"
     ]
    },
    {
     "name": "stderr",
     "output_type": "stream",
     "text": [
      "Epochs completed:  61%| ██████     306/500 [00:11]"
     ]
    },
    {
     "name": "stdout",
     "output_type": "stream",
     "text": [
      "\tcompleted  300  /  500 epochs\n"
     ]
    },
    {
     "name": "stderr",
     "output_type": "stream",
     "text": [
      "Epochs completed:  71%| ███████    355/500 [00:12]"
     ]
    },
    {
     "name": "stdout",
     "output_type": "stream",
     "text": [
      "\tcompleted  350  /  500 epochs\n"
     ]
    },
    {
     "name": "stderr",
     "output_type": "stream",
     "text": [
      "Epochs completed:  82%| ████████▏  408/500 [00:14]"
     ]
    },
    {
     "name": "stdout",
     "output_type": "stream",
     "text": [
      "\tcompleted  400  /  500 epochs\n"
     ]
    },
    {
     "name": "stderr",
     "output_type": "stream",
     "text": [
      "Epochs completed:  91%| █████████  456/500 [00:16]"
     ]
    },
    {
     "name": "stdout",
     "output_type": "stream",
     "text": [
      "\tcompleted  450  /  500 epochs\n"
     ]
    },
    {
     "name": "stderr",
     "output_type": "stream",
     "text": [
      "Epochs completed: 100%| ██████████ 500/500 [00:17]\n"
     ]
    },
    {
     "name": "stdout",
     "output_type": "stream",
     "text": [
      "Tue Feb 18 23:12:34 2025 Finished embedding\n",
      "TSNE\n",
      "--------------------------------------------------------------------------------\n",
      "TSNE(early_exaggeration=12, random_state=1, verbose=True)\n",
      "--------------------------------------------------------------------------------\n",
      "===> Finding 90 nearest neighbors using Annoy approximate search using euclidean distance...\n",
      "   --> Time elapsed: 4.57 seconds\n",
      "===> Calculating affinity matrix...\n",
      "   --> Time elapsed: 0.34 seconds\n",
      "===> Calculating PCA-based initialization...\n",
      "   --> Time elapsed: 0.03 seconds\n",
      "===> Running optimization with exaggeration=12.00, lr=580.25 for 250 iterations...\n",
      "Iteration   50, KL divergence 3.3274, 50 iterations in 16.6197 sec\n",
      "Iteration  100, KL divergence 3.2004, 50 iterations in 15.3383 sec\n",
      "Iteration  150, KL divergence 3.1290, 50 iterations in 15.2753 sec\n",
      "Iteration  200, KL divergence 3.0960, 50 iterations in 15.3192 sec\n",
      "Iteration  250, KL divergence 3.0777, 50 iterations in 15.3461 sec\n",
      "   --> Time elapsed: 77.90 seconds\n",
      "===> Running optimization with exaggeration=1.00, lr=6963.00 for 500 iterations...\n",
      "Iteration   50, KL divergence 1.6177, 50 iterations in 14.7528 sec\n",
      "Iteration  100, KL divergence 1.4486, 50 iterations in 14.3327 sec\n",
      "Iteration  150, KL divergence 1.3827, 50 iterations in 14.1443 sec\n",
      "Iteration  200, KL divergence 1.3458, 50 iterations in 14.1032 sec\n",
      "Iteration  250, KL divergence 1.3215, 50 iterations in 14.1746 sec\n",
      "Iteration  300, KL divergence 1.3048, 50 iterations in 14.2028 sec\n",
      "Iteration  350, KL divergence 1.2924, 50 iterations in 14.2107 sec\n",
      "Iteration  400, KL divergence 1.2831, 50 iterations in 14.2112 sec\n",
      "Iteration  450, KL divergence 1.2754, 50 iterations in 14.2323 sec\n",
      "Iteration  500, KL divergence 1.2692, 50 iterations in 14.2121 sec\n",
      "   --> Time elapsed: 142.58 seconds\n",
      "merfish seed: 2 scaled: False\n",
      "PCA2\n",
      "PCA50\n",
      "UMAP\n",
      "UMAP(random_state=2, verbose=True)\n",
      "Tue Feb 18 23:16:21 2025 Construct fuzzy simplicial set\n",
      "Tue Feb 18 23:16:21 2025 Finding Nearest Neighbors\n",
      "Tue Feb 18 23:16:21 2025 Building RP forest with 9 trees\n"
     ]
    },
    {
     "name": "stderr",
     "output_type": "stream",
     "text": [
      "/data/cephfs-1/work/groups/ludwig/users/lzaschk_m/miniforge3/envs/elephant_analysis_env/lib/python3.11/site-packages/umap/umap_.py:1943: UserWarning: n_jobs value -1 overridden to 1 by setting random_state. Use no seed for parallelism.\n",
      "  warn(f\"n_jobs value {self.n_jobs} overridden to 1 by setting random_state. Use no seed for parallelism.\")\n"
     ]
    },
    {
     "name": "stdout",
     "output_type": "stream",
     "text": [
      "Tue Feb 18 23:16:21 2025 NN descent for 13 iterations\n",
      "\t 1  /  13\n",
      "\t 2  /  13\n",
      "\t 3  /  13\n",
      "\tStopping threshold met -- exiting after 3 iterations\n",
      "Tue Feb 18 23:16:21 2025 Finished Nearest Neighbor Search\n",
      "Tue Feb 18 23:16:21 2025 Construct embedding\n"
     ]
    },
    {
     "name": "stderr",
     "output_type": "stream",
     "text": [
      "Epochs completed:   2%| ▏          10/500 [00:01]"
     ]
    },
    {
     "name": "stdout",
     "output_type": "stream",
     "text": [
      "\tcompleted  0  /  500 epochs\n"
     ]
    },
    {
     "name": "stderr",
     "output_type": "stream",
     "text": [
      "Epochs completed:  11%| █          56/500 [00:02]"
     ]
    },
    {
     "name": "stdout",
     "output_type": "stream",
     "text": [
      "\tcompleted  50  /  500 epochs\n"
     ]
    },
    {
     "name": "stderr",
     "output_type": "stream",
     "text": [
      "Epochs completed:  21%| ██         104/500 [00:04]"
     ]
    },
    {
     "name": "stdout",
     "output_type": "stream",
     "text": [
      "\tcompleted  100  /  500 epochs\n"
     ]
    },
    {
     "name": "stderr",
     "output_type": "stream",
     "text": [
      "Epochs completed:  31%| ███        155/500 [00:06]"
     ]
    },
    {
     "name": "stdout",
     "output_type": "stream",
     "text": [
      "\tcompleted  150  /  500 epochs\n"
     ]
    },
    {
     "name": "stderr",
     "output_type": "stream",
     "text": [
      "Epochs completed:  41%| ████       206/500 [00:07]"
     ]
    },
    {
     "name": "stdout",
     "output_type": "stream",
     "text": [
      "\tcompleted  200  /  500 epochs\n"
     ]
    },
    {
     "name": "stderr",
     "output_type": "stream",
     "text": [
      "Epochs completed:  51%| █████▏     257/500 [00:09]"
     ]
    },
    {
     "name": "stdout",
     "output_type": "stream",
     "text": [
      "\tcompleted  250  /  500 epochs\n"
     ]
    },
    {
     "name": "stderr",
     "output_type": "stream",
     "text": [
      "Epochs completed:  61%| ██████     305/500 [00:11]"
     ]
    },
    {
     "name": "stdout",
     "output_type": "stream",
     "text": [
      "\tcompleted  300  /  500 epochs\n"
     ]
    },
    {
     "name": "stderr",
     "output_type": "stream",
     "text": [
      "Epochs completed:  71%| ███████    356/500 [00:12]"
     ]
    },
    {
     "name": "stdout",
     "output_type": "stream",
     "text": [
      "\tcompleted  350  /  500 epochs\n"
     ]
    },
    {
     "name": "stderr",
     "output_type": "stream",
     "text": [
      "Epochs completed:  81%| ████████▏  407/500 [00:14]"
     ]
    },
    {
     "name": "stdout",
     "output_type": "stream",
     "text": [
      "\tcompleted  400  /  500 epochs\n"
     ]
    },
    {
     "name": "stderr",
     "output_type": "stream",
     "text": [
      "Epochs completed:  92%| █████████▏ 458/500 [00:16]"
     ]
    },
    {
     "name": "stdout",
     "output_type": "stream",
     "text": [
      "\tcompleted  450  /  500 epochs\n"
     ]
    },
    {
     "name": "stderr",
     "output_type": "stream",
     "text": [
      "Epochs completed: 100%| ██████████ 500/500 [00:17]\n"
     ]
    },
    {
     "name": "stdout",
     "output_type": "stream",
     "text": [
      "Tue Feb 18 23:16:40 2025 Finished embedding\n",
      "TSNE\n",
      "--------------------------------------------------------------------------------\n",
      "TSNE(early_exaggeration=12, random_state=2, verbose=True)\n",
      "--------------------------------------------------------------------------------\n",
      "===> Finding 90 nearest neighbors using Annoy approximate search using euclidean distance...\n",
      "   --> Time elapsed: 4.58 seconds\n",
      "===> Calculating affinity matrix...\n",
      "   --> Time elapsed: 0.34 seconds\n",
      "===> Calculating PCA-based initialization...\n",
      "   --> Time elapsed: 0.03 seconds\n",
      "===> Running optimization with exaggeration=12.00, lr=580.25 for 250 iterations...\n",
      "Iteration   50, KL divergence 3.3305, 50 iterations in 16.5916 sec\n",
      "Iteration  100, KL divergence 3.2020, 50 iterations in 15.4485 sec\n",
      "Iteration  150, KL divergence 3.1297, 50 iterations in 15.3654 sec\n",
      "Iteration  200, KL divergence 3.0947, 50 iterations in 15.4042 sec\n",
      "Iteration  250, KL divergence 3.0755, 50 iterations in 15.3410 sec\n",
      "   --> Time elapsed: 78.15 seconds\n",
      "===> Running optimization with exaggeration=1.00, lr=6963.00 for 500 iterations...\n",
      "Iteration   50, KL divergence 1.6123, 50 iterations in 14.5958 sec\n",
      "Iteration  100, KL divergence 1.4455, 50 iterations in 14.0683 sec\n",
      "Iteration  150, KL divergence 1.3792, 50 iterations in 14.1041 sec\n",
      "Iteration  200, KL divergence 1.3432, 50 iterations in 14.1894 sec\n",
      "Iteration  250, KL divergence 1.3198, 50 iterations in 14.2325 sec\n",
      "Iteration  300, KL divergence 1.3033, 50 iterations in 14.2268 sec\n",
      "Iteration  350, KL divergence 1.2910, 50 iterations in 14.2530 sec\n",
      "Iteration  400, KL divergence 1.2814, 50 iterations in 14.2391 sec\n",
      "Iteration  450, KL divergence 1.2738, 50 iterations in 14.2838 sec\n",
      "Iteration  500, KL divergence 1.2675, 50 iterations in 14.3420 sec\n",
      "   --> Time elapsed: 142.54 seconds\n",
      "merfish seed: 3 scaled: False\n",
      "PCA2\n",
      "PCA50\n",
      "UMAP\n",
      "UMAP(random_state=3, verbose=True)\n",
      "Tue Feb 18 23:20:26 2025 Construct fuzzy simplicial set\n",
      "Tue Feb 18 23:20:26 2025 Finding Nearest Neighbors\n",
      "Tue Feb 18 23:20:26 2025 Building RP forest with 9 trees\n"
     ]
    },
    {
     "name": "stderr",
     "output_type": "stream",
     "text": [
      "/data/cephfs-1/work/groups/ludwig/users/lzaschk_m/miniforge3/envs/elephant_analysis_env/lib/python3.11/site-packages/umap/umap_.py:1943: UserWarning: n_jobs value -1 overridden to 1 by setting random_state. Use no seed for parallelism.\n",
      "  warn(f\"n_jobs value {self.n_jobs} overridden to 1 by setting random_state. Use no seed for parallelism.\")\n"
     ]
    },
    {
     "name": "stdout",
     "output_type": "stream",
     "text": [
      "Tue Feb 18 23:20:26 2025 NN descent for 13 iterations\n",
      "\t 1  /  13\n",
      "\t 2  /  13\n",
      "\t 3  /  13\n",
      "\tStopping threshold met -- exiting after 3 iterations\n",
      "Tue Feb 18 23:20:27 2025 Finished Nearest Neighbor Search\n",
      "Tue Feb 18 23:20:27 2025 Construct embedding\n"
     ]
    },
    {
     "name": "stderr",
     "output_type": "stream",
     "text": [
      "Epochs completed:   1%|            6/500 [00:01]"
     ]
    },
    {
     "name": "stdout",
     "output_type": "stream",
     "text": [
      "\tcompleted  0  /  500 epochs\n"
     ]
    },
    {
     "name": "stderr",
     "output_type": "stream",
     "text": [
      "Epochs completed:  11%| █          56/500 [00:03]"
     ]
    },
    {
     "name": "stdout",
     "output_type": "stream",
     "text": [
      "\tcompleted  50  /  500 epochs\n"
     ]
    },
    {
     "name": "stderr",
     "output_type": "stream",
     "text": [
      "Epochs completed:  21%| ██▏        107/500 [00:04]"
     ]
    },
    {
     "name": "stdout",
     "output_type": "stream",
     "text": [
      "\tcompleted  100  /  500 epochs\n"
     ]
    },
    {
     "name": "stderr",
     "output_type": "stream",
     "text": [
      "Epochs completed:  32%| ███▏       158/500 [00:06]"
     ]
    },
    {
     "name": "stdout",
     "output_type": "stream",
     "text": [
      "\tcompleted  150  /  500 epochs\n"
     ]
    },
    {
     "name": "stderr",
     "output_type": "stream",
     "text": [
      "Epochs completed:  41%| ████       206/500 [00:08]"
     ]
    },
    {
     "name": "stdout",
     "output_type": "stream",
     "text": [
      "\tcompleted  200  /  500 epochs\n"
     ]
    },
    {
     "name": "stderr",
     "output_type": "stream",
     "text": [
      "Epochs completed:  51%| █████      254/500 [00:09]"
     ]
    },
    {
     "name": "stdout",
     "output_type": "stream",
     "text": [
      "\tcompleted  250  /  500 epochs\n"
     ]
    },
    {
     "name": "stderr",
     "output_type": "stream",
     "text": [
      "Epochs completed:  62%| ██████▏    311/500 [00:11]"
     ]
    },
    {
     "name": "stdout",
     "output_type": "stream",
     "text": [
      "\tcompleted  300  /  500 epochs\n"
     ]
    },
    {
     "name": "stderr",
     "output_type": "stream",
     "text": [
      "Epochs completed:  71%| ███████    356/500 [00:13]"
     ]
    },
    {
     "name": "stdout",
     "output_type": "stream",
     "text": [
      "\tcompleted  350  /  500 epochs\n"
     ]
    },
    {
     "name": "stderr",
     "output_type": "stream",
     "text": [
      "Epochs completed:  81%| ████████▏  407/500 [00:14]"
     ]
    },
    {
     "name": "stdout",
     "output_type": "stream",
     "text": [
      "\tcompleted  400  /  500 epochs\n"
     ]
    },
    {
     "name": "stderr",
     "output_type": "stream",
     "text": [
      "Epochs completed:  91%| █████████  455/500 [00:16]"
     ]
    },
    {
     "name": "stdout",
     "output_type": "stream",
     "text": [
      "\tcompleted  450  /  500 epochs\n"
     ]
    },
    {
     "name": "stderr",
     "output_type": "stream",
     "text": [
      "Epochs completed: 100%| ██████████ 500/500 [00:18]\n"
     ]
    },
    {
     "name": "stdout",
     "output_type": "stream",
     "text": [
      "Tue Feb 18 23:20:45 2025 Finished embedding\n",
      "TSNE\n",
      "--------------------------------------------------------------------------------\n",
      "TSNE(early_exaggeration=12, random_state=3, verbose=True)\n",
      "--------------------------------------------------------------------------------\n",
      "===> Finding 90 nearest neighbors using Annoy approximate search using euclidean distance...\n",
      "   --> Time elapsed: 4.57 seconds\n",
      "===> Calculating affinity matrix...\n",
      "   --> Time elapsed: 0.34 seconds\n",
      "===> Calculating PCA-based initialization...\n",
      "   --> Time elapsed: 0.03 seconds\n",
      "===> Running optimization with exaggeration=12.00, lr=580.25 for 250 iterations...\n",
      "Iteration   50, KL divergence 3.3304, 50 iterations in 16.6428 sec\n",
      "Iteration  100, KL divergence 3.2037, 50 iterations in 15.3742 sec\n",
      "Iteration  150, KL divergence 3.1328, 50 iterations in 15.3608 sec\n",
      "Iteration  200, KL divergence 3.0975, 50 iterations in 15.3312 sec\n",
      "Iteration  250, KL divergence 3.0763, 50 iterations in 15.3609 sec\n",
      "   --> Time elapsed: 78.07 seconds\n",
      "===> Running optimization with exaggeration=1.00, lr=6963.00 for 500 iterations...\n",
      "Iteration   50, KL divergence 1.6324, 50 iterations in 14.8252 sec\n",
      "Iteration  100, KL divergence 1.4590, 50 iterations in 14.5935 sec\n",
      "Iteration  150, KL divergence 1.3907, 50 iterations in 14.4870 sec\n",
      "Iteration  200, KL divergence 1.3539, 50 iterations in 14.4258 sec\n",
      "Iteration  250, KL divergence 1.3301, 50 iterations in 14.4353 sec\n",
      "Iteration  300, KL divergence 1.3135, 50 iterations in 14.3471 sec\n",
      "Iteration  350, KL divergence 1.3016, 50 iterations in 14.2601 sec\n",
      "Iteration  400, KL divergence 1.2921, 50 iterations in 14.2915 sec\n",
      "Iteration  450, KL divergence 1.2837, 50 iterations in 14.3286 sec\n",
      "Iteration  500, KL divergence 1.2767, 50 iterations in 14.3819 sec\n",
      "   --> Time elapsed: 144.38 seconds\n",
      "merfish seed: 4 scaled: False\n",
      "PCA2\n",
      "PCA50\n",
      "UMAP\n",
      "UMAP(random_state=4, verbose=True)\n",
      "Tue Feb 18 23:24:34 2025 Construct fuzzy simplicial set\n",
      "Tue Feb 18 23:24:34 2025 Finding Nearest Neighbors\n",
      "Tue Feb 18 23:24:34 2025 Building RP forest with 9 trees\n"
     ]
    },
    {
     "name": "stderr",
     "output_type": "stream",
     "text": [
      "/data/cephfs-1/work/groups/ludwig/users/lzaschk_m/miniforge3/envs/elephant_analysis_env/lib/python3.11/site-packages/umap/umap_.py:1943: UserWarning: n_jobs value -1 overridden to 1 by setting random_state. Use no seed for parallelism.\n",
      "  warn(f\"n_jobs value {self.n_jobs} overridden to 1 by setting random_state. Use no seed for parallelism.\")\n"
     ]
    },
    {
     "name": "stdout",
     "output_type": "stream",
     "text": [
      "Tue Feb 18 23:24:34 2025 NN descent for 13 iterations\n",
      "\t 1  /  13\n",
      "\t 2  /  13\n",
      "\t 3  /  13\n",
      "\tStopping threshold met -- exiting after 3 iterations\n",
      "Tue Feb 18 23:24:34 2025 Finished Nearest Neighbor Search\n",
      "Tue Feb 18 23:24:34 2025 Construct embedding\n"
     ]
    },
    {
     "name": "stderr",
     "output_type": "stream",
     "text": [
      "Epochs completed:   1%|            6/500 [00:01]"
     ]
    },
    {
     "name": "stdout",
     "output_type": "stream",
     "text": [
      "\tcompleted  0  /  500 epochs\n"
     ]
    },
    {
     "name": "stderr",
     "output_type": "stream",
     "text": [
      "Epochs completed:  12%| █▏         59/500 [00:02]"
     ]
    },
    {
     "name": "stdout",
     "output_type": "stream",
     "text": [
      "\tcompleted  50  /  500 epochs\n"
     ]
    },
    {
     "name": "stderr",
     "output_type": "stream",
     "text": [
      "Epochs completed:  21%| ██         104/500 [00:04]"
     ]
    },
    {
     "name": "stdout",
     "output_type": "stream",
     "text": [
      "\tcompleted  100  /  500 epochs\n"
     ]
    },
    {
     "name": "stderr",
     "output_type": "stream",
     "text": [
      "Epochs completed:  31%| ███        155/500 [00:06]"
     ]
    },
    {
     "name": "stdout",
     "output_type": "stream",
     "text": [
      "\tcompleted  150  /  500 epochs\n"
     ]
    },
    {
     "name": "stderr",
     "output_type": "stream",
     "text": [
      "Epochs completed:  42%| ████▏      209/500 [00:07]"
     ]
    },
    {
     "name": "stdout",
     "output_type": "stream",
     "text": [
      "\tcompleted  200  /  500 epochs\n"
     ]
    },
    {
     "name": "stderr",
     "output_type": "stream",
     "text": [
      "Epochs completed:  51%| █████▏     257/500 [00:09]"
     ]
    },
    {
     "name": "stdout",
     "output_type": "stream",
     "text": [
      "\tcompleted  250  /  500 epochs\n"
     ]
    },
    {
     "name": "stderr",
     "output_type": "stream",
     "text": [
      "Epochs completed:  61%| ██████     305/500 [00:11]"
     ]
    },
    {
     "name": "stdout",
     "output_type": "stream",
     "text": [
      "\tcompleted  300  /  500 epochs\n"
     ]
    },
    {
     "name": "stderr",
     "output_type": "stream",
     "text": [
      "Epochs completed:  71%| ███████    356/500 [00:12]"
     ]
    },
    {
     "name": "stdout",
     "output_type": "stream",
     "text": [
      "\tcompleted  350  /  500 epochs\n"
     ]
    },
    {
     "name": "stderr",
     "output_type": "stream",
     "text": [
      "Epochs completed:  81%| ████████   404/500 [00:14]"
     ]
    },
    {
     "name": "stdout",
     "output_type": "stream",
     "text": [
      "\tcompleted  400  /  500 epochs\n"
     ]
    },
    {
     "name": "stderr",
     "output_type": "stream",
     "text": [
      "Epochs completed:  91%| █████████  455/500 [00:16]"
     ]
    },
    {
     "name": "stdout",
     "output_type": "stream",
     "text": [
      "\tcompleted  450  /  500 epochs\n"
     ]
    },
    {
     "name": "stderr",
     "output_type": "stream",
     "text": [
      "Epochs completed: 100%| ██████████ 500/500 [00:17]\n"
     ]
    },
    {
     "name": "stdout",
     "output_type": "stream",
     "text": [
      "Tue Feb 18 23:24:53 2025 Finished embedding\n",
      "TSNE\n",
      "--------------------------------------------------------------------------------\n",
      "TSNE(early_exaggeration=12, random_state=4, verbose=True)\n",
      "--------------------------------------------------------------------------------\n",
      "===> Finding 90 nearest neighbors using Annoy approximate search using euclidean distance...\n",
      "   --> Time elapsed: 4.59 seconds\n",
      "===> Calculating affinity matrix...\n",
      "   --> Time elapsed: 0.33 seconds\n",
      "===> Calculating PCA-based initialization...\n",
      "   --> Time elapsed: 0.03 seconds\n",
      "===> Running optimization with exaggeration=12.00, lr=580.25 for 250 iterations...\n",
      "Iteration   50, KL divergence 3.3228, 50 iterations in 16.6785 sec\n",
      "Iteration  100, KL divergence 3.1978, 50 iterations in 15.3779 sec\n",
      "Iteration  150, KL divergence 3.1291, 50 iterations in 15.5094 sec\n",
      "Iteration  200, KL divergence 3.0951, 50 iterations in 15.3609 sec\n",
      "Iteration  250, KL divergence 3.0743, 50 iterations in 15.3326 sec\n",
      "   --> Time elapsed: 78.26 seconds\n",
      "===> Running optimization with exaggeration=1.00, lr=6963.00 for 500 iterations...\n",
      "Iteration   50, KL divergence 1.6252, 50 iterations in 14.6504 sec\n",
      "Iteration  100, KL divergence 1.4519, 50 iterations in 14.2344 sec\n",
      "Iteration  150, KL divergence 1.3842, 50 iterations in 14.1362 sec\n",
      "Iteration  200, KL divergence 1.3478, 50 iterations in 14.1183 sec\n",
      "Iteration  250, KL divergence 1.3239, 50 iterations in 14.2163 sec\n",
      "Iteration  300, KL divergence 1.3068, 50 iterations in 14.2868 sec\n",
      "Iteration  350, KL divergence 1.2938, 50 iterations in 14.3268 sec\n",
      "Iteration  400, KL divergence 1.2836, 50 iterations in 14.3720 sec\n",
      "Iteration  450, KL divergence 1.2756, 50 iterations in 14.3732 sec\n",
      "Iteration  500, KL divergence 1.2692, 50 iterations in 14.3891 sec\n",
      "   --> Time elapsed: 143.10 seconds\n",
      "merfish seed: 0 scaled: True\n",
      "PCA2\n",
      "PCA50\n",
      "UMAP\n",
      "UMAP(random_state=0, verbose=True)\n",
      "Tue Feb 18 23:28:40 2025 Construct fuzzy simplicial set\n",
      "Tue Feb 18 23:28:40 2025 Finding Nearest Neighbors\n"
     ]
    },
    {
     "name": "stderr",
     "output_type": "stream",
     "text": [
      "/data/cephfs-1/work/groups/ludwig/users/lzaschk_m/miniforge3/envs/elephant_analysis_env/lib/python3.11/site-packages/umap/umap_.py:1943: UserWarning: n_jobs value -1 overridden to 1 by setting random_state. Use no seed for parallelism.\n",
      "  warn(f\"n_jobs value {self.n_jobs} overridden to 1 by setting random_state. Use no seed for parallelism.\")\n"
     ]
    },
    {
     "name": "stdout",
     "output_type": "stream",
     "text": [
      "Tue Feb 18 23:28:40 2025 Building RP forest with 9 trees\n",
      "Tue Feb 18 23:28:40 2025 NN descent for 13 iterations\n",
      "\t 1  /  13\n",
      "\t 2  /  13\n",
      "\t 3  /  13\n",
      "\t 4  /  13\n",
      "\tStopping threshold met -- exiting after 4 iterations\n",
      "Tue Feb 18 23:28:41 2025 Finished Nearest Neighbor Search\n",
      "Tue Feb 18 23:28:41 2025 Construct embedding\n"
     ]
    },
    {
     "name": "stderr",
     "output_type": "stream",
     "text": [
      "Epochs completed:   2%| ▏          9/500 [00:01]"
     ]
    },
    {
     "name": "stdout",
     "output_type": "stream",
     "text": [
      "\tcompleted  0  /  500 epochs\n"
     ]
    },
    {
     "name": "stderr",
     "output_type": "stream",
     "text": [
      "Epochs completed:  11%| █▏         57/500 [00:02]"
     ]
    },
    {
     "name": "stdout",
     "output_type": "stream",
     "text": [
      "\tcompleted  50  /  500 epochs\n"
     ]
    },
    {
     "name": "stderr",
     "output_type": "stream",
     "text": [
      "Epochs completed:  22%| ██▏        108/500 [00:04]"
     ]
    },
    {
     "name": "stdout",
     "output_type": "stream",
     "text": [
      "\tcompleted  100  /  500 epochs\n"
     ]
    },
    {
     "name": "stderr",
     "output_type": "stream",
     "text": [
      "Epochs completed:  32%| ███▏       159/500 [00:06]"
     ]
    },
    {
     "name": "stdout",
     "output_type": "stream",
     "text": [
      "\tcompleted  150  /  500 epochs\n"
     ]
    },
    {
     "name": "stderr",
     "output_type": "stream",
     "text": [
      "Epochs completed:  41%| ████▏      207/500 [00:08]"
     ]
    },
    {
     "name": "stdout",
     "output_type": "stream",
     "text": [
      "\tcompleted  200  /  500 epochs\n"
     ]
    },
    {
     "name": "stderr",
     "output_type": "stream",
     "text": [
      "Epochs completed:  52%| █████▏     258/500 [00:09]"
     ]
    },
    {
     "name": "stdout",
     "output_type": "stream",
     "text": [
      "\tcompleted  250  /  500 epochs\n"
     ]
    },
    {
     "name": "stderr",
     "output_type": "stream",
     "text": [
      "Epochs completed:  62%| ██████▏    309/500 [00:11]"
     ]
    },
    {
     "name": "stdout",
     "output_type": "stream",
     "text": [
      "\tcompleted  300  /  500 epochs\n"
     ]
    },
    {
     "name": "stderr",
     "output_type": "stream",
     "text": [
      "Epochs completed:  71%| ███████    354/500 [00:13]"
     ]
    },
    {
     "name": "stdout",
     "output_type": "stream",
     "text": [
      "\tcompleted  350  /  500 epochs\n"
     ]
    },
    {
     "name": "stderr",
     "output_type": "stream",
     "text": [
      "Epochs completed:  81%| ████████   405/500 [00:14]"
     ]
    },
    {
     "name": "stdout",
     "output_type": "stream",
     "text": [
      "\tcompleted  400  /  500 epochs\n"
     ]
    },
    {
     "name": "stderr",
     "output_type": "stream",
     "text": [
      "Epochs completed:  92%| █████████▏ 459/500 [00:16]"
     ]
    },
    {
     "name": "stdout",
     "output_type": "stream",
     "text": [
      "\tcompleted  450  /  500 epochs\n"
     ]
    },
    {
     "name": "stderr",
     "output_type": "stream",
     "text": [
      "Epochs completed: 100%| ██████████ 500/500 [00:18]\n"
     ]
    },
    {
     "name": "stdout",
     "output_type": "stream",
     "text": [
      "Tue Feb 18 23:28:59 2025 Finished embedding\n",
      "TSNE\n",
      "--------------------------------------------------------------------------------\n",
      "TSNE(early_exaggeration=12, random_state=0, verbose=True)\n",
      "--------------------------------------------------------------------------------\n",
      "===> Finding 90 nearest neighbors using Annoy approximate search using euclidean distance...\n",
      "   --> Time elapsed: 4.67 seconds\n",
      "===> Calculating affinity matrix...\n",
      "   --> Time elapsed: 0.35 seconds\n",
      "===> Calculating PCA-based initialization...\n",
      "   --> Time elapsed: 0.03 seconds\n",
      "===> Running optimization with exaggeration=12.00, lr=580.25 for 250 iterations...\n",
      "Iteration   50, KL divergence 3.4068, 50 iterations in 16.6950 sec\n",
      "Iteration  100, KL divergence 3.2774, 50 iterations in 15.7276 sec\n",
      "Iteration  150, KL divergence 3.2267, 50 iterations in 15.2858 sec\n",
      "Iteration  200, KL divergence 3.2022, 50 iterations in 15.4269 sec\n",
      "Iteration  250, KL divergence 3.1902, 50 iterations in 15.3371 sec\n",
      "   --> Time elapsed: 78.47 seconds\n",
      "===> Running optimization with exaggeration=1.00, lr=6963.00 for 500 iterations...\n",
      "Iteration   50, KL divergence 1.7194, 50 iterations in 15.0609 sec\n",
      "Iteration  100, KL divergence 1.5689, 50 iterations in 14.9669 sec\n",
      "Iteration  150, KL divergence 1.5090, 50 iterations in 14.9212 sec\n",
      "Iteration  200, KL divergence 1.4757, 50 iterations in 14.8970 sec\n",
      "Iteration  250, KL divergence 1.4544, 50 iterations in 14.9256 sec\n",
      "Iteration  300, KL divergence 1.4392, 50 iterations in 14.9420 sec\n",
      "Iteration  350, KL divergence 1.4281, 50 iterations in 14.9142 sec\n",
      "Iteration  400, KL divergence 1.4194, 50 iterations in 14.9327 sec\n",
      "Iteration  450, KL divergence 1.4124, 50 iterations in 14.8959 sec\n",
      "Iteration  500, KL divergence 1.4067, 50 iterations in 14.9018 sec\n",
      "   --> Time elapsed: 149.36 seconds\n",
      "merfish seed: 1 scaled: True\n",
      "PCA2\n",
      "PCA50\n",
      "UMAP\n",
      "UMAP(random_state=1, verbose=True)\n",
      "Tue Feb 18 23:32:53 2025 Construct fuzzy simplicial set\n",
      "Tue Feb 18 23:32:53 2025 Finding Nearest Neighbors\n",
      "Tue Feb 18 23:32:53 2025 Building RP forest with 9 trees\n",
      "Tue Feb 18 23:32:53 2025 NN descent for 13 iterations\n"
     ]
    },
    {
     "name": "stderr",
     "output_type": "stream",
     "text": [
      "/data/cephfs-1/work/groups/ludwig/users/lzaschk_m/miniforge3/envs/elephant_analysis_env/lib/python3.11/site-packages/umap/umap_.py:1943: UserWarning: n_jobs value -1 overridden to 1 by setting random_state. Use no seed for parallelism.\n",
      "  warn(f\"n_jobs value {self.n_jobs} overridden to 1 by setting random_state. Use no seed for parallelism.\")\n"
     ]
    },
    {
     "name": "stdout",
     "output_type": "stream",
     "text": [
      "\t 1  /  13\n",
      "\t 2  /  13\n",
      "\t 3  /  13\n",
      "\t 4  /  13\n",
      "\tStopping threshold met -- exiting after 4 iterations\n",
      "Tue Feb 18 23:32:54 2025 Finished Nearest Neighbor Search\n",
      "Tue Feb 18 23:32:54 2025 Construct embedding\n"
     ]
    },
    {
     "name": "stderr",
     "output_type": "stream",
     "text": [
      "Epochs completed:   2%| ▏          9/500 [00:01]"
     ]
    },
    {
     "name": "stdout",
     "output_type": "stream",
     "text": [
      "\tcompleted  0  /  500 epochs\n"
     ]
    },
    {
     "name": "stderr",
     "output_type": "stream",
     "text": [
      "Epochs completed:  11%| █▏         57/500 [00:02]"
     ]
    },
    {
     "name": "stdout",
     "output_type": "stream",
     "text": [
      "\tcompleted  50  /  500 epochs\n"
     ]
    },
    {
     "name": "stderr",
     "output_type": "stream",
     "text": [
      "Epochs completed:  21%| ██         105/500 [00:04]"
     ]
    },
    {
     "name": "stdout",
     "output_type": "stream",
     "text": [
      "\tcompleted  100  /  500 epochs\n"
     ]
    },
    {
     "name": "stderr",
     "output_type": "stream",
     "text": [
      "Epochs completed:  32%| ███▏       159/500 [00:06]"
     ]
    },
    {
     "name": "stdout",
     "output_type": "stream",
     "text": [
      "\tcompleted  150  /  500 epochs\n"
     ]
    },
    {
     "name": "stderr",
     "output_type": "stream",
     "text": [
      "Epochs completed:  41%| ████       204/500 [00:07]"
     ]
    },
    {
     "name": "stdout",
     "output_type": "stream",
     "text": [
      "\tcompleted  200  /  500 epochs\n"
     ]
    },
    {
     "name": "stderr",
     "output_type": "stream",
     "text": [
      "Epochs completed:  52%| █████▏     258/500 [00:09]"
     ]
    },
    {
     "name": "stdout",
     "output_type": "stream",
     "text": [
      "\tcompleted  250  /  500 epochs\n"
     ]
    },
    {
     "name": "stderr",
     "output_type": "stream",
     "text": [
      "Epochs completed:  62%| ██████▏    309/500 [00:11]"
     ]
    },
    {
     "name": "stdout",
     "output_type": "stream",
     "text": [
      "\tcompleted  300  /  500 epochs\n"
     ]
    },
    {
     "name": "stderr",
     "output_type": "stream",
     "text": [
      "Epochs completed:  71%| ███████▏   357/500 [00:13]"
     ]
    },
    {
     "name": "stdout",
     "output_type": "stream",
     "text": [
      "\tcompleted  350  /  500 epochs\n"
     ]
    },
    {
     "name": "stderr",
     "output_type": "stream",
     "text": [
      "Epochs completed:  82%| ████████▏  408/500 [00:14]"
     ]
    },
    {
     "name": "stdout",
     "output_type": "stream",
     "text": [
      "\tcompleted  400  /  500 epochs\n"
     ]
    },
    {
     "name": "stderr",
     "output_type": "stream",
     "text": [
      "Epochs completed:  92%| █████████▏ 459/500 [00:16]"
     ]
    },
    {
     "name": "stdout",
     "output_type": "stream",
     "text": [
      "\tcompleted  450  /  500 epochs\n"
     ]
    },
    {
     "name": "stderr",
     "output_type": "stream",
     "text": [
      "Epochs completed: 100%| ██████████ 500/500 [00:18]\n"
     ]
    },
    {
     "name": "stdout",
     "output_type": "stream",
     "text": [
      "Tue Feb 18 23:33:13 2025 Finished embedding\n",
      "TSNE\n",
      "--------------------------------------------------------------------------------\n",
      "TSNE(early_exaggeration=12, random_state=1, verbose=True)\n",
      "--------------------------------------------------------------------------------\n",
      "===> Finding 90 nearest neighbors using Annoy approximate search using euclidean distance...\n",
      "   --> Time elapsed: 4.67 seconds\n",
      "===> Calculating affinity matrix...\n",
      "   --> Time elapsed: 0.34 seconds\n",
      "===> Calculating PCA-based initialization...\n",
      "   --> Time elapsed: 0.03 seconds\n",
      "===> Running optimization with exaggeration=12.00, lr=580.25 for 250 iterations...\n",
      "Iteration   50, KL divergence 3.3899, 50 iterations in 16.9428 sec\n",
      "Iteration  100, KL divergence 3.2701, 50 iterations in 16.0487 sec\n",
      "Iteration  150, KL divergence 3.2246, 50 iterations in 15.7237 sec\n",
      "Iteration  200, KL divergence 3.2015, 50 iterations in 15.4542 sec\n",
      "Iteration  250, KL divergence 3.1829, 50 iterations in 15.2709 sec\n",
      "   --> Time elapsed: 79.44 seconds\n",
      "===> Running optimization with exaggeration=1.00, lr=6963.00 for 500 iterations...\n",
      "Iteration   50, KL divergence 1.7261, 50 iterations in 14.9567 sec\n",
      "Iteration  100, KL divergence 1.5725, 50 iterations in 14.6563 sec\n",
      "Iteration  150, KL divergence 1.5118, 50 iterations in 14.6738 sec\n",
      "Iteration  200, KL divergence 1.4785, 50 iterations in 14.7175 sec\n",
      "Iteration  250, KL divergence 1.4568, 50 iterations in 14.8080 sec\n",
      "Iteration  300, KL divergence 1.4415, 50 iterations in 14.8899 sec\n",
      "Iteration  350, KL divergence 1.4306, 50 iterations in 14.8928 sec\n",
      "Iteration  400, KL divergence 1.4221, 50 iterations in 14.9524 sec\n",
      "Iteration  450, KL divergence 1.4153, 50 iterations in 14.9359 sec\n",
      "Iteration  500, KL divergence 1.4100, 50 iterations in 14.9535 sec\n",
      "   --> Time elapsed: 148.44 seconds\n",
      "merfish seed: 2 scaled: True\n",
      "PCA2\n",
      "PCA50\n",
      "UMAP\n",
      "UMAP(random_state=2, verbose=True)\n",
      "Tue Feb 18 23:37:06 2025 Construct fuzzy simplicial set\n",
      "Tue Feb 18 23:37:06 2025 Finding Nearest Neighbors\n",
      "Tue Feb 18 23:37:06 2025 Building RP forest with 9 trees\n",
      "Tue Feb 18 23:37:07 2025 NN descent for 13 iterations\n"
     ]
    },
    {
     "name": "stderr",
     "output_type": "stream",
     "text": [
      "/data/cephfs-1/work/groups/ludwig/users/lzaschk_m/miniforge3/envs/elephant_analysis_env/lib/python3.11/site-packages/umap/umap_.py:1943: UserWarning: n_jobs value -1 overridden to 1 by setting random_state. Use no seed for parallelism.\n",
      "  warn(f\"n_jobs value {self.n_jobs} overridden to 1 by setting random_state. Use no seed for parallelism.\")\n"
     ]
    },
    {
     "name": "stdout",
     "output_type": "stream",
     "text": [
      "\t 1  /  13\n",
      "\t 2  /  13\n",
      "\t 3  /  13\n",
      "\tStopping threshold met -- exiting after 3 iterations\n",
      "Tue Feb 18 23:37:07 2025 Finished Nearest Neighbor Search\n",
      "Tue Feb 18 23:37:07 2025 Construct embedding\n"
     ]
    },
    {
     "name": "stderr",
     "output_type": "stream",
     "text": [
      "Epochs completed:   2%| ▏          9/500 [00:01]"
     ]
    },
    {
     "name": "stdout",
     "output_type": "stream",
     "text": [
      "\tcompleted  0  /  500 epochs\n"
     ]
    },
    {
     "name": "stderr",
     "output_type": "stream",
     "text": [
      "Epochs completed:  11%| █          54/500 [00:03]"
     ]
    },
    {
     "name": "stdout",
     "output_type": "stream",
     "text": [
      "\tcompleted  50  /  500 epochs\n"
     ]
    },
    {
     "name": "stderr",
     "output_type": "stream",
     "text": [
      "Epochs completed:  22%| ██▏        108/500 [00:04]"
     ]
    },
    {
     "name": "stdout",
     "output_type": "stream",
     "text": [
      "\tcompleted  100  /  500 epochs\n"
     ]
    },
    {
     "name": "stderr",
     "output_type": "stream",
     "text": [
      "Epochs completed:  31%| ███        156/500 [00:06]"
     ]
    },
    {
     "name": "stdout",
     "output_type": "stream",
     "text": [
      "\tcompleted  150  /  500 epochs\n"
     ]
    },
    {
     "name": "stderr",
     "output_type": "stream",
     "text": [
      "Epochs completed:  41%| ████▏      207/500 [00:08]"
     ]
    },
    {
     "name": "stdout",
     "output_type": "stream",
     "text": [
      "\tcompleted  200  /  500 epochs\n"
     ]
    },
    {
     "name": "stderr",
     "output_type": "stream",
     "text": [
      "Epochs completed:  51%| █████      255/500 [00:09]"
     ]
    },
    {
     "name": "stdout",
     "output_type": "stream",
     "text": [
      "\tcompleted  250  /  500 epochs\n"
     ]
    },
    {
     "name": "stderr",
     "output_type": "stream",
     "text": [
      "Epochs completed:  61%| ██████     306/500 [00:11]"
     ]
    },
    {
     "name": "stdout",
     "output_type": "stream",
     "text": [
      "\tcompleted  300  /  500 epochs\n"
     ]
    },
    {
     "name": "stderr",
     "output_type": "stream",
     "text": [
      "Epochs completed:  71%| ███████▏   357/500 [00:13]"
     ]
    },
    {
     "name": "stdout",
     "output_type": "stream",
     "text": [
      "\tcompleted  350  /  500 epochs\n"
     ]
    },
    {
     "name": "stderr",
     "output_type": "stream",
     "text": [
      "Epochs completed:  82%| ████████▏  408/500 [00:15]"
     ]
    },
    {
     "name": "stdout",
     "output_type": "stream",
     "text": [
      "\tcompleted  400  /  500 epochs\n"
     ]
    },
    {
     "name": "stderr",
     "output_type": "stream",
     "text": [
      "Epochs completed:  91%| █████████  456/500 [00:16]"
     ]
    },
    {
     "name": "stdout",
     "output_type": "stream",
     "text": [
      "\tcompleted  450  /  500 epochs\n"
     ]
    },
    {
     "name": "stderr",
     "output_type": "stream",
     "text": [
      "Epochs completed: 100%| ██████████ 500/500 [00:18]\n"
     ]
    },
    {
     "name": "stdout",
     "output_type": "stream",
     "text": [
      "Tue Feb 18 23:37:26 2025 Finished embedding\n",
      "TSNE\n",
      "--------------------------------------------------------------------------------\n",
      "TSNE(early_exaggeration=12, random_state=2, verbose=True)\n",
      "--------------------------------------------------------------------------------\n",
      "===> Finding 90 nearest neighbors using Annoy approximate search using euclidean distance...\n",
      "   --> Time elapsed: 4.70 seconds\n",
      "===> Calculating affinity matrix...\n",
      "   --> Time elapsed: 0.35 seconds\n",
      "===> Calculating PCA-based initialization...\n",
      "   --> Time elapsed: 0.04 seconds\n",
      "===> Running optimization with exaggeration=12.00, lr=580.25 for 250 iterations...\n",
      "Iteration   50, KL divergence 3.3888, 50 iterations in 16.7765 sec\n",
      "Iteration  100, KL divergence 3.2734, 50 iterations in 15.6418 sec\n",
      "Iteration  150, KL divergence 3.2241, 50 iterations in 15.5476 sec\n",
      "Iteration  200, KL divergence 3.2001, 50 iterations in 15.3566 sec\n",
      "Iteration  250, KL divergence 3.1879, 50 iterations in 15.2505 sec\n",
      "   --> Time elapsed: 78.57 seconds\n",
      "===> Running optimization with exaggeration=1.00, lr=6963.00 for 500 iterations...\n",
      "Iteration   50, KL divergence 1.7233, 50 iterations in 14.9587 sec\n",
      "Iteration  100, KL divergence 1.5714, 50 iterations in 14.8499 sec\n",
      "Iteration  150, KL divergence 1.5118, 50 iterations in 14.8444 sec\n",
      "Iteration  200, KL divergence 1.4789, 50 iterations in 14.8318 sec\n",
      "Iteration  250, KL divergence 1.4583, 50 iterations in 14.8255 sec\n",
      "Iteration  300, KL divergence 1.4432, 50 iterations in 14.8405 sec\n",
      "Iteration  350, KL divergence 1.4320, 50 iterations in 14.9101 sec\n",
      "Iteration  400, KL divergence 1.4233, 50 iterations in 14.9280 sec\n",
      "Iteration  450, KL divergence 1.4162, 50 iterations in 14.9289 sec\n",
      "Iteration  500, KL divergence 1.4102, 50 iterations in 14.9376 sec\n",
      "   --> Time elapsed: 148.86 seconds\n",
      "merfish seed: 3 scaled: True\n",
      "PCA2\n",
      "PCA50\n",
      "UMAP\n",
      "UMAP(random_state=3, verbose=True)\n",
      "Tue Feb 18 23:41:20 2025 Construct fuzzy simplicial set\n",
      "Tue Feb 18 23:41:20 2025 Finding Nearest Neighbors\n",
      "Tue Feb 18 23:41:20 2025 Building RP forest with 9 trees\n"
     ]
    },
    {
     "name": "stderr",
     "output_type": "stream",
     "text": [
      "/data/cephfs-1/work/groups/ludwig/users/lzaschk_m/miniforge3/envs/elephant_analysis_env/lib/python3.11/site-packages/umap/umap_.py:1943: UserWarning: n_jobs value -1 overridden to 1 by setting random_state. Use no seed for parallelism.\n",
      "  warn(f\"n_jobs value {self.n_jobs} overridden to 1 by setting random_state. Use no seed for parallelism.\")\n"
     ]
    },
    {
     "name": "stdout",
     "output_type": "stream",
     "text": [
      "Tue Feb 18 23:41:20 2025 NN descent for 13 iterations\n",
      "\t 1  /  13\n",
      "\t 2  /  13\n",
      "\t 3  /  13\n",
      "\tStopping threshold met -- exiting after 3 iterations\n",
      "Tue Feb 18 23:41:20 2025 Finished Nearest Neighbor Search\n",
      "Tue Feb 18 23:41:20 2025 Construct embedding\n"
     ]
    },
    {
     "name": "stderr",
     "output_type": "stream",
     "text": [
      "Epochs completed:   2%| ▏          9/500 [00:01]"
     ]
    },
    {
     "name": "stdout",
     "output_type": "stream",
     "text": [
      "\tcompleted  0  /  500 epochs\n"
     ]
    },
    {
     "name": "stderr",
     "output_type": "stream",
     "text": [
      "Epochs completed:  11%| █          54/500 [00:02]"
     ]
    },
    {
     "name": "stdout",
     "output_type": "stream",
     "text": [
      "\tcompleted  50  /  500 epochs\n"
     ]
    },
    {
     "name": "stderr",
     "output_type": "stream",
     "text": [
      "Epochs completed:  21%| ██         105/500 [00:04]"
     ]
    },
    {
     "name": "stdout",
     "output_type": "stream",
     "text": [
      "\tcompleted  100  /  500 epochs\n"
     ]
    },
    {
     "name": "stderr",
     "output_type": "stream",
     "text": [
      "Epochs completed:  31%| ███        156/500 [00:06]"
     ]
    },
    {
     "name": "stdout",
     "output_type": "stream",
     "text": [
      "\tcompleted  150  /  500 epochs\n"
     ]
    },
    {
     "name": "stderr",
     "output_type": "stream",
     "text": [
      "Epochs completed:  41%| ████       204/500 [00:07]"
     ]
    },
    {
     "name": "stdout",
     "output_type": "stream",
     "text": [
      "\tcompleted  200  /  500 epochs\n"
     ]
    },
    {
     "name": "stderr",
     "output_type": "stream",
     "text": [
      "Epochs completed:  52%| █████▏     258/500 [00:09]"
     ]
    },
    {
     "name": "stdout",
     "output_type": "stream",
     "text": [
      "\tcompleted  250  /  500 epochs\n"
     ]
    },
    {
     "name": "stderr",
     "output_type": "stream",
     "text": [
      "Epochs completed:  61%| ██████     306/500 [00:11]"
     ]
    },
    {
     "name": "stdout",
     "output_type": "stream",
     "text": [
      "\tcompleted  300  /  500 epochs\n"
     ]
    },
    {
     "name": "stderr",
     "output_type": "stream",
     "text": [
      "Epochs completed:  71%| ███████    354/500 [00:13]"
     ]
    },
    {
     "name": "stdout",
     "output_type": "stream",
     "text": [
      "\tcompleted  350  /  500 epochs\n"
     ]
    },
    {
     "name": "stderr",
     "output_type": "stream",
     "text": [
      "Epochs completed:  81%| ████████   405/500 [00:14]"
     ]
    },
    {
     "name": "stdout",
     "output_type": "stream",
     "text": [
      "\tcompleted  400  /  500 epochs\n"
     ]
    },
    {
     "name": "stderr",
     "output_type": "stream",
     "text": [
      "Epochs completed:  92%| █████████▏ 459/500 [00:16]"
     ]
    },
    {
     "name": "stdout",
     "output_type": "stream",
     "text": [
      "\tcompleted  450  /  500 epochs\n"
     ]
    },
    {
     "name": "stderr",
     "output_type": "stream",
     "text": [
      "Epochs completed: 100%| ██████████ 500/500 [00:18]\n"
     ]
    },
    {
     "name": "stdout",
     "output_type": "stream",
     "text": [
      "Tue Feb 18 23:41:39 2025 Finished embedding\n",
      "TSNE\n",
      "--------------------------------------------------------------------------------\n",
      "TSNE(early_exaggeration=12, random_state=3, verbose=True)\n",
      "--------------------------------------------------------------------------------\n",
      "===> Finding 90 nearest neighbors using Annoy approximate search using euclidean distance...\n",
      "   --> Time elapsed: 4.67 seconds\n",
      "===> Calculating affinity matrix...\n",
      "   --> Time elapsed: 0.35 seconds\n",
      "===> Calculating PCA-based initialization...\n",
      "   --> Time elapsed: 0.03 seconds\n",
      "===> Running optimization with exaggeration=12.00, lr=580.25 for 250 iterations...\n",
      "Iteration   50, KL divergence 3.4004, 50 iterations in 16.8238 sec\n",
      "Iteration  100, KL divergence 3.2756, 50 iterations in 15.8396 sec\n",
      "Iteration  150, KL divergence 3.2233, 50 iterations in 15.5222 sec\n",
      "Iteration  200, KL divergence 3.1996, 50 iterations in 15.5532 sec\n",
      "Iteration  250, KL divergence 3.1870, 50 iterations in 15.4411 sec\n",
      "   --> Time elapsed: 79.18 seconds\n",
      "===> Running optimization with exaggeration=1.00, lr=6963.00 for 500 iterations...\n",
      "Iteration   50, KL divergence 1.7275, 50 iterations in 14.9868 sec\n",
      "Iteration  100, KL divergence 1.5751, 50 iterations in 14.8273 sec\n",
      "Iteration  150, KL divergence 1.5163, 50 iterations in 14.8274 sec\n",
      "Iteration  200, KL divergence 1.4836, 50 iterations in 14.8095 sec\n",
      "Iteration  250, KL divergence 1.4627, 50 iterations in 14.9112 sec\n",
      "Iteration  300, KL divergence 1.4477, 50 iterations in 14.9466 sec\n",
      "Iteration  350, KL divergence 1.4369, 50 iterations in 14.8261 sec\n",
      "Iteration  400, KL divergence 1.4286, 50 iterations in 14.8051 sec\n",
      "Iteration  450, KL divergence 1.4220, 50 iterations in 14.8815 sec\n",
      "Iteration  500, KL divergence 1.4165, 50 iterations in 14.8691 sec\n",
      "   --> Time elapsed: 148.69 seconds\n",
      "merfish seed: 4 scaled: True\n",
      "PCA2\n",
      "PCA50\n",
      "UMAP\n",
      "UMAP(random_state=4, verbose=True)\n",
      "Tue Feb 18 23:45:33 2025 Construct fuzzy simplicial set\n",
      "Tue Feb 18 23:45:33 2025 Finding Nearest Neighbors\n",
      "Tue Feb 18 23:45:33 2025 Building RP forest with 9 trees\n",
      "Tue Feb 18 23:45:33 2025 NN descent for 13 iterations\n"
     ]
    },
    {
     "name": "stderr",
     "output_type": "stream",
     "text": [
      "/data/cephfs-1/work/groups/ludwig/users/lzaschk_m/miniforge3/envs/elephant_analysis_env/lib/python3.11/site-packages/umap/umap_.py:1943: UserWarning: n_jobs value -1 overridden to 1 by setting random_state. Use no seed for parallelism.\n",
      "  warn(f\"n_jobs value {self.n_jobs} overridden to 1 by setting random_state. Use no seed for parallelism.\")\n"
     ]
    },
    {
     "name": "stdout",
     "output_type": "stream",
     "text": [
      "\t 1  /  13\n",
      "\t 2  /  13\n",
      "\t 3  /  13\n",
      "\tStopping threshold met -- exiting after 3 iterations\n",
      "Tue Feb 18 23:45:34 2025 Finished Nearest Neighbor Search\n",
      "Tue Feb 18 23:45:34 2025 Construct embedding\n"
     ]
    },
    {
     "name": "stderr",
     "output_type": "stream",
     "text": [
      "Epochs completed:   2%| ▏          9/500 [00:01]"
     ]
    },
    {
     "name": "stdout",
     "output_type": "stream",
     "text": [
      "\tcompleted  0  /  500 epochs\n"
     ]
    },
    {
     "name": "stderr",
     "output_type": "stream",
     "text": [
      "Epochs completed:  11%| █▏         57/500 [00:02]"
     ]
    },
    {
     "name": "stdout",
     "output_type": "stream",
     "text": [
      "\tcompleted  50  /  500 epochs\n"
     ]
    },
    {
     "name": "stderr",
     "output_type": "stream",
     "text": [
      "Epochs completed:  22%| ██▏        108/500 [00:04]"
     ]
    },
    {
     "name": "stdout",
     "output_type": "stream",
     "text": [
      "\tcompleted  100  /  500 epochs\n"
     ]
    },
    {
     "name": "stderr",
     "output_type": "stream",
     "text": [
      "Epochs completed:  31%| ███        156/500 [00:06]"
     ]
    },
    {
     "name": "stdout",
     "output_type": "stream",
     "text": [
      "\tcompleted  150  /  500 epochs\n"
     ]
    },
    {
     "name": "stderr",
     "output_type": "stream",
     "text": [
      "Epochs completed:  41%| ████       204/500 [00:07]"
     ]
    },
    {
     "name": "stdout",
     "output_type": "stream",
     "text": [
      "\tcompleted  200  /  500 epochs\n"
     ]
    },
    {
     "name": "stderr",
     "output_type": "stream",
     "text": [
      "Epochs completed:  52%| █████▏     258/500 [00:09]"
     ]
    },
    {
     "name": "stdout",
     "output_type": "stream",
     "text": [
      "\tcompleted  250  /  500 epochs\n"
     ]
    },
    {
     "name": "stderr",
     "output_type": "stream",
     "text": [
      "Epochs completed:  62%| ██████▏    309/500 [00:11]"
     ]
    },
    {
     "name": "stdout",
     "output_type": "stream",
     "text": [
      "\tcompleted  300  /  500 epochs\n"
     ]
    },
    {
     "name": "stderr",
     "output_type": "stream",
     "text": [
      "Epochs completed:  71%| ███████▏   357/500 [00:13]"
     ]
    },
    {
     "name": "stdout",
     "output_type": "stream",
     "text": [
      "\tcompleted  350  /  500 epochs\n"
     ]
    },
    {
     "name": "stderr",
     "output_type": "stream",
     "text": [
      "Epochs completed:  81%| ████████   405/500 [00:14]"
     ]
    },
    {
     "name": "stdout",
     "output_type": "stream",
     "text": [
      "\tcompleted  400  /  500 epochs\n"
     ]
    },
    {
     "name": "stderr",
     "output_type": "stream",
     "text": [
      "Epochs completed:  91%| █████████  456/500 [00:16]"
     ]
    },
    {
     "name": "stdout",
     "output_type": "stream",
     "text": [
      "\tcompleted  450  /  500 epochs\n"
     ]
    },
    {
     "name": "stderr",
     "output_type": "stream",
     "text": [
      "Epochs completed: 100%| ██████████ 500/500 [00:18]\n"
     ]
    },
    {
     "name": "stdout",
     "output_type": "stream",
     "text": [
      "Tue Feb 18 23:45:52 2025 Finished embedding\n",
      "TSNE\n",
      "--------------------------------------------------------------------------------\n",
      "TSNE(early_exaggeration=12, random_state=4, verbose=True)\n",
      "--------------------------------------------------------------------------------\n",
      "===> Finding 90 nearest neighbors using Annoy approximate search using euclidean distance...\n",
      "   --> Time elapsed: 4.68 seconds\n",
      "===> Calculating affinity matrix...\n",
      "   --> Time elapsed: 0.35 seconds\n",
      "===> Calculating PCA-based initialization...\n",
      "   --> Time elapsed: 0.03 seconds\n",
      "===> Running optimization with exaggeration=12.00, lr=580.25 for 250 iterations...\n",
      "Iteration   50, KL divergence 3.3995, 50 iterations in 16.9707 sec\n",
      "Iteration  100, KL divergence 3.2767, 50 iterations in 15.9568 sec\n",
      "Iteration  150, KL divergence 3.2255, 50 iterations in 15.5015 sec\n",
      "Iteration  200, KL divergence 3.2015, 50 iterations in 15.5265 sec\n",
      "Iteration  250, KL divergence 3.1878, 50 iterations in 15.5739 sec\n",
      "   --> Time elapsed: 79.53 seconds\n",
      "===> Running optimization with exaggeration=1.00, lr=6963.00 for 500 iterations...\n",
      "Iteration   50, KL divergence 1.7201, 50 iterations in 15.0406 sec\n",
      "Iteration  100, KL divergence 1.5693, 50 iterations in 14.8720 sec\n",
      "Iteration  150, KL divergence 1.5091, 50 iterations in 14.8778 sec\n",
      "Iteration  200, KL divergence 1.4764, 50 iterations in 14.8673 sec\n",
      "Iteration  250, KL divergence 1.4555, 50 iterations in 14.8026 sec\n",
      "Iteration  300, KL divergence 1.4410, 50 iterations in 14.7829 sec\n",
      "Iteration  350, KL divergence 1.4303, 50 iterations in 14.7304 sec\n",
      "Iteration  400, KL divergence 1.4218, 50 iterations in 14.7654 sec\n",
      "Iteration  450, KL divergence 1.4148, 50 iterations in 14.8069 sec\n",
      "Iteration  500, KL divergence 1.4087, 50 iterations in 14.8452 sec\n",
      "   --> Time elapsed: 148.39 seconds\n",
      "running on scaled and unscaled data for smartseq\n",
      "smartseq seed: 0 scaled: False\n",
      "PCA2\n",
      "PCA50\n",
      "UMAP\n",
      "UMAP(random_state=0, verbose=True)\n",
      "Tue Feb 18 23:49:47 2025 Construct fuzzy simplicial set\n"
     ]
    },
    {
     "name": "stderr",
     "output_type": "stream",
     "text": [
      "/data/cephfs-1/work/groups/ludwig/users/lzaschk_m/miniforge3/envs/elephant_analysis_env/lib/python3.11/site-packages/umap/umap_.py:1943: UserWarning: n_jobs value -1 overridden to 1 by setting random_state. Use no seed for parallelism.\n",
      "  warn(f\"n_jobs value {self.n_jobs} overridden to 1 by setting random_state. Use no seed for parallelism.\")\n"
     ]
    },
    {
     "name": "stdout",
     "output_type": "stream",
     "text": [
      "Tue Feb 18 23:49:56 2025 Finding Nearest Neighbors\n",
      "Tue Feb 18 23:50:01 2025 Finished Nearest Neighbor Search\n",
      "Tue Feb 18 23:50:01 2025 Construct embedding\n"
     ]
    },
    {
     "name": "stderr",
     "output_type": "stream",
     "text": [
      "Epochs completed:   3%| ▎          15/500 [00:01]"
     ]
    },
    {
     "name": "stdout",
     "output_type": "stream",
     "text": [
      "\tcompleted  0  /  500 epochs\n"
     ]
    },
    {
     "name": "stderr",
     "output_type": "stream",
     "text": [
      "Epochs completed:  11%| █▏         57/500 [00:01]"
     ]
    },
    {
     "name": "stdout",
     "output_type": "stream",
     "text": [
      "\tcompleted  50  /  500 epochs\n"
     ]
    },
    {
     "name": "stderr",
     "output_type": "stream",
     "text": [
      "Epochs completed:  22%| ██▏        111/500 [00:02]"
     ]
    },
    {
     "name": "stdout",
     "output_type": "stream",
     "text": [
      "\tcompleted  100  /  500 epochs\n"
     ]
    },
    {
     "name": "stderr",
     "output_type": "stream",
     "text": [
      "Epochs completed:  32%| ███▏       159/500 [00:03]"
     ]
    },
    {
     "name": "stdout",
     "output_type": "stream",
     "text": [
      "\tcompleted  150  /  500 epochs\n"
     ]
    },
    {
     "name": "stderr",
     "output_type": "stream",
     "text": [
      "Epochs completed:  41%| ████▏      207/500 [00:04]"
     ]
    },
    {
     "name": "stdout",
     "output_type": "stream",
     "text": [
      "\tcompleted  200  /  500 epochs\n"
     ]
    },
    {
     "name": "stderr",
     "output_type": "stream",
     "text": [
      "Epochs completed:  52%| █████▏     261/500 [00:05]"
     ]
    },
    {
     "name": "stdout",
     "output_type": "stream",
     "text": [
      "\tcompleted  250  /  500 epochs\n"
     ]
    },
    {
     "name": "stderr",
     "output_type": "stream",
     "text": [
      "Epochs completed:  62%| ██████▏    309/500 [00:06]"
     ]
    },
    {
     "name": "stdout",
     "output_type": "stream",
     "text": [
      "\tcompleted  300  /  500 epochs\n"
     ]
    },
    {
     "name": "stderr",
     "output_type": "stream",
     "text": [
      "Epochs completed:  71%| ███████▏   357/500 [00:06]"
     ]
    },
    {
     "name": "stdout",
     "output_type": "stream",
     "text": [
      "\tcompleted  350  /  500 epochs\n"
     ]
    },
    {
     "name": "stderr",
     "output_type": "stream",
     "text": [
      "Epochs completed:  82%| ████████▏  411/500 [00:07]"
     ]
    },
    {
     "name": "stdout",
     "output_type": "stream",
     "text": [
      "\tcompleted  400  /  500 epochs\n"
     ]
    },
    {
     "name": "stderr",
     "output_type": "stream",
     "text": [
      "Epochs completed:  93%| █████████▎ 465/500 [00:08]"
     ]
    },
    {
     "name": "stdout",
     "output_type": "stream",
     "text": [
      "\tcompleted  450  /  500 epochs\n"
     ]
    },
    {
     "name": "stderr",
     "output_type": "stream",
     "text": [
      "Epochs completed: 100%| ██████████ 500/500 [00:09]\n"
     ]
    },
    {
     "name": "stdout",
     "output_type": "stream",
     "text": [
      "Tue Feb 18 23:50:11 2025 Finished embedding\n",
      "TSNE\n",
      "--------------------------------------------------------------------------------\n",
      "TSNE(early_exaggeration=12, random_state=0, verbose=True)\n",
      "--------------------------------------------------------------------------------\n",
      "===> Finding 90 nearest neighbors using Annoy approximate search using euclidean distance...\n",
      "   --> Time elapsed: 2.42 seconds\n",
      "===> Calculating affinity matrix...\n",
      "   --> Time elapsed: 0.20 seconds\n",
      "===> Calculating PCA-based initialization...\n",
      "   --> Time elapsed: 0.02 seconds\n",
      "===> Running optimization with exaggeration=12.00, lr=320.83 for 250 iterations...\n",
      "Iteration   50, KL divergence 3.5335, 50 iterations in 8.2293 sec\n",
      "Iteration  100, KL divergence 3.5991, 50 iterations in 7.5294 sec\n",
      "Iteration  150, KL divergence 3.5963, 50 iterations in 7.3708 sec\n",
      "Iteration  200, KL divergence 3.5965, 50 iterations in 7.3378 sec\n",
      "Iteration  250, KL divergence 3.5966, 50 iterations in 7.3272 sec\n",
      "   --> Time elapsed: 37.80 seconds\n",
      "===> Running optimization with exaggeration=1.00, lr=3850.00 for 500 iterations...\n",
      "Iteration   50, KL divergence 1.3803, 50 iterations in 7.0712 sec\n",
      "Iteration  100, KL divergence 1.2554, 50 iterations in 6.9374 sec\n",
      "Iteration  150, KL divergence 1.2071, 50 iterations in 6.9607 sec\n",
      "Iteration  200, KL divergence 1.1814, 50 iterations in 7.0125 sec\n",
      "Iteration  250, KL divergence 1.1669, 50 iterations in 7.0501 sec\n",
      "Iteration  300, KL divergence 1.1570, 50 iterations in 7.0886 sec\n",
      "Iteration  350, KL divergence 1.1489, 50 iterations in 7.1384 sec\n",
      "Iteration  400, KL divergence 1.1431, 50 iterations in 7.1802 sec\n",
      "Iteration  450, KL divergence 1.1389, 50 iterations in 7.2019 sec\n",
      "Iteration  500, KL divergence 1.1357, 50 iterations in 7.1949 sec\n",
      "   --> Time elapsed: 70.84 seconds\n",
      "smartseq seed: 1 scaled: False\n",
      "PCA2\n",
      "PCA50\n",
      "UMAP\n",
      "UMAP(random_state=1, verbose=True)\n",
      "Tue Feb 18 23:52:03 2025 Construct fuzzy simplicial set\n"
     ]
    },
    {
     "name": "stderr",
     "output_type": "stream",
     "text": [
      "/data/cephfs-1/work/groups/ludwig/users/lzaschk_m/miniforge3/envs/elephant_analysis_env/lib/python3.11/site-packages/umap/umap_.py:1943: UserWarning: n_jobs value -1 overridden to 1 by setting random_state. Use no seed for parallelism.\n",
      "  warn(f\"n_jobs value {self.n_jobs} overridden to 1 by setting random_state. Use no seed for parallelism.\")\n"
     ]
    },
    {
     "name": "stdout",
     "output_type": "stream",
     "text": [
      "Tue Feb 18 23:52:12 2025 Finding Nearest Neighbors\n",
      "Tue Feb 18 23:52:13 2025 Finished Nearest Neighbor Search\n",
      "Tue Feb 18 23:52:13 2025 Construct embedding\n"
     ]
    },
    {
     "name": "stderr",
     "output_type": "stream",
     "text": [
      "Epochs completed:   2%| ▏          9/500 [00:01]"
     ]
    },
    {
     "name": "stdout",
     "output_type": "stream",
     "text": [
      "\tcompleted  0  /  500 epochs\n"
     ]
    },
    {
     "name": "stderr",
     "output_type": "stream",
     "text": [
      "Epochs completed:  11%| █▏         57/500 [00:01]"
     ]
    },
    {
     "name": "stdout",
     "output_type": "stream",
     "text": [
      "\tcompleted  50  /  500 epochs\n"
     ]
    },
    {
     "name": "stderr",
     "output_type": "stream",
     "text": [
      "Epochs completed:  22%| ██▏        111/500 [00:02]"
     ]
    },
    {
     "name": "stdout",
     "output_type": "stream",
     "text": [
      "\tcompleted  100  /  500 epochs\n"
     ]
    },
    {
     "name": "stderr",
     "output_type": "stream",
     "text": [
      "Epochs completed:  32%| ███▏       159/500 [00:03]"
     ]
    },
    {
     "name": "stdout",
     "output_type": "stream",
     "text": [
      "\tcompleted  150  /  500 epochs\n"
     ]
    },
    {
     "name": "stderr",
     "output_type": "stream",
     "text": [
      "Epochs completed:  41%| ████▏      207/500 [00:04]"
     ]
    },
    {
     "name": "stdout",
     "output_type": "stream",
     "text": [
      "\tcompleted  200  /  500 epochs\n"
     ]
    },
    {
     "name": "stderr",
     "output_type": "stream",
     "text": [
      "Epochs completed:  52%| █████▏     261/500 [00:05]"
     ]
    },
    {
     "name": "stdout",
     "output_type": "stream",
     "text": [
      "\tcompleted  250  /  500 epochs\n"
     ]
    },
    {
     "name": "stderr",
     "output_type": "stream",
     "text": [
      "Epochs completed:  62%| ██████▏    309/500 [00:06]"
     ]
    },
    {
     "name": "stdout",
     "output_type": "stream",
     "text": [
      "\tcompleted  300  /  500 epochs\n"
     ]
    },
    {
     "name": "stderr",
     "output_type": "stream",
     "text": [
      "Epochs completed:  71%| ███████▏   357/500 [00:07]"
     ]
    },
    {
     "name": "stdout",
     "output_type": "stream",
     "text": [
      "\tcompleted  350  /  500 epochs\n"
     ]
    },
    {
     "name": "stderr",
     "output_type": "stream",
     "text": [
      "Epochs completed:  82%| ████████▏  411/500 [00:07]"
     ]
    },
    {
     "name": "stdout",
     "output_type": "stream",
     "text": [
      "\tcompleted  400  /  500 epochs\n"
     ]
    },
    {
     "name": "stderr",
     "output_type": "stream",
     "text": [
      "Epochs completed:  92%| █████████▏ 459/500 [00:08]"
     ]
    },
    {
     "name": "stdout",
     "output_type": "stream",
     "text": [
      "\tcompleted  450  /  500 epochs\n"
     ]
    },
    {
     "name": "stderr",
     "output_type": "stream",
     "text": [
      "Epochs completed: 100%| ██████████ 500/500 [00:09]\n"
     ]
    },
    {
     "name": "stdout",
     "output_type": "stream",
     "text": [
      "Tue Feb 18 23:52:22 2025 Finished embedding\n",
      "TSNE\n",
      "--------------------------------------------------------------------------------\n",
      "TSNE(early_exaggeration=12, random_state=1, verbose=True)\n",
      "--------------------------------------------------------------------------------\n",
      "===> Finding 90 nearest neighbors using Annoy approximate search using euclidean distance...\n",
      "   --> Time elapsed: 2.42 seconds\n",
      "===> Calculating affinity matrix...\n",
      "   --> Time elapsed: 0.20 seconds\n",
      "===> Calculating PCA-based initialization...\n",
      "   --> Time elapsed: 0.03 seconds\n",
      "===> Running optimization with exaggeration=12.00, lr=320.83 for 250 iterations...\n",
      "Iteration   50, KL divergence 3.5381, 50 iterations in 8.2085 sec\n",
      "Iteration  100, KL divergence 3.6023, 50 iterations in 7.6270 sec\n",
      "Iteration  150, KL divergence 3.5991, 50 iterations in 7.5209 sec\n",
      "Iteration  200, KL divergence 3.5997, 50 iterations in 7.2756 sec\n",
      "Iteration  250, KL divergence 3.5997, 50 iterations in 7.2729 sec\n",
      "   --> Time elapsed: 37.91 seconds\n",
      "===> Running optimization with exaggeration=1.00, lr=3850.00 for 500 iterations...\n",
      "Iteration   50, KL divergence 1.3835, 50 iterations in 7.0163 sec\n",
      "Iteration  100, KL divergence 1.2591, 50 iterations in 6.8766 sec\n",
      "Iteration  150, KL divergence 1.2138, 50 iterations in 6.9336 sec\n",
      "Iteration  200, KL divergence 1.1895, 50 iterations in 6.9324 sec\n",
      "Iteration  250, KL divergence 1.1734, 50 iterations in 6.9842 sec\n",
      "Iteration  300, KL divergence 1.1627, 50 iterations in 7.0266 sec\n",
      "Iteration  350, KL divergence 1.1542, 50 iterations in 7.0418 sec\n",
      "Iteration  400, KL divergence 1.1475, 50 iterations in 7.0480 sec\n",
      "Iteration  450, KL divergence 1.1431, 50 iterations in 7.0841 sec\n",
      "Iteration  500, KL divergence 1.1402, 50 iterations in 7.1081 sec\n",
      "   --> Time elapsed: 70.05 seconds\n",
      "smartseq seed: 2 scaled: False\n",
      "PCA2\n",
      "PCA50\n",
      "UMAP\n",
      "UMAP(random_state=2, verbose=True)\n",
      "Tue Feb 18 23:54:14 2025 Construct fuzzy simplicial set\n"
     ]
    },
    {
     "name": "stderr",
     "output_type": "stream",
     "text": [
      "/data/cephfs-1/work/groups/ludwig/users/lzaschk_m/miniforge3/envs/elephant_analysis_env/lib/python3.11/site-packages/umap/umap_.py:1943: UserWarning: n_jobs value -1 overridden to 1 by setting random_state. Use no seed for parallelism.\n",
      "  warn(f\"n_jobs value {self.n_jobs} overridden to 1 by setting random_state. Use no seed for parallelism.\")\n"
     ]
    },
    {
     "name": "stdout",
     "output_type": "stream",
     "text": [
      "Tue Feb 18 23:54:24 2025 Finding Nearest Neighbors\n",
      "Tue Feb 18 23:54:24 2025 Finished Nearest Neighbor Search\n",
      "Tue Feb 18 23:54:24 2025 Construct embedding\n"
     ]
    },
    {
     "name": "stderr",
     "output_type": "stream",
     "text": [
      "Epochs completed:   2%| ▏          9/500 [00:01]"
     ]
    },
    {
     "name": "stdout",
     "output_type": "stream",
     "text": [
      "\tcompleted  0  /  500 epochs\n"
     ]
    },
    {
     "name": "stderr",
     "output_type": "stream",
     "text": [
      "Epochs completed:  11%| █▏         57/500 [00:01]"
     ]
    },
    {
     "name": "stdout",
     "output_type": "stream",
     "text": [
      "\tcompleted  50  /  500 epochs\n"
     ]
    },
    {
     "name": "stderr",
     "output_type": "stream",
     "text": [
      "Epochs completed:  22%| ██▏        111/500 [00:02]"
     ]
    },
    {
     "name": "stdout",
     "output_type": "stream",
     "text": [
      "\tcompleted  100  /  500 epochs\n"
     ]
    },
    {
     "name": "stderr",
     "output_type": "stream",
     "text": [
      "Epochs completed:  32%| ███▏       159/500 [00:03]"
     ]
    },
    {
     "name": "stdout",
     "output_type": "stream",
     "text": [
      "\tcompleted  150  /  500 epochs\n"
     ]
    },
    {
     "name": "stderr",
     "output_type": "stream",
     "text": [
      "Epochs completed:  41%| ████▏      207/500 [00:04]"
     ]
    },
    {
     "name": "stdout",
     "output_type": "stream",
     "text": [
      "\tcompleted  200  /  500 epochs\n"
     ]
    },
    {
     "name": "stderr",
     "output_type": "stream",
     "text": [
      "Epochs completed:  52%| █████▏     261/500 [00:05]"
     ]
    },
    {
     "name": "stdout",
     "output_type": "stream",
     "text": [
      "\tcompleted  250  /  500 epochs\n"
     ]
    },
    {
     "name": "stderr",
     "output_type": "stream",
     "text": [
      "Epochs completed:  62%| ██████▏    309/500 [00:06]"
     ]
    },
    {
     "name": "stdout",
     "output_type": "stream",
     "text": [
      "\tcompleted  300  /  500 epochs\n"
     ]
    },
    {
     "name": "stderr",
     "output_type": "stream",
     "text": [
      "Epochs completed:  71%| ███████▏   357/500 [00:06]"
     ]
    },
    {
     "name": "stdout",
     "output_type": "stream",
     "text": [
      "\tcompleted  350  /  500 epochs\n"
     ]
    },
    {
     "name": "stderr",
     "output_type": "stream",
     "text": [
      "Epochs completed:  82%| ████████▏  411/500 [00:07]"
     ]
    },
    {
     "name": "stdout",
     "output_type": "stream",
     "text": [
      "\tcompleted  400  /  500 epochs\n"
     ]
    },
    {
     "name": "stderr",
     "output_type": "stream",
     "text": [
      "Epochs completed:  92%| █████████▏ 459/500 [00:08]"
     ]
    },
    {
     "name": "stdout",
     "output_type": "stream",
     "text": [
      "\tcompleted  450  /  500 epochs\n"
     ]
    },
    {
     "name": "stderr",
     "output_type": "stream",
     "text": [
      "Epochs completed: 100%| ██████████ 500/500 [00:09]\n"
     ]
    },
    {
     "name": "stdout",
     "output_type": "stream",
     "text": [
      "Tue Feb 18 23:54:33 2025 Finished embedding\n",
      "TSNE\n",
      "--------------------------------------------------------------------------------\n",
      "TSNE(early_exaggeration=12, random_state=2, verbose=True)\n",
      "--------------------------------------------------------------------------------\n",
      "===> Finding 90 nearest neighbors using Annoy approximate search using euclidean distance...\n",
      "   --> Time elapsed: 2.44 seconds\n",
      "===> Calculating affinity matrix...\n",
      "   --> Time elapsed: 0.21 seconds\n",
      "===> Calculating PCA-based initialization...\n",
      "   --> Time elapsed: 0.05 seconds\n",
      "===> Running optimization with exaggeration=12.00, lr=320.83 for 250 iterations...\n",
      "Iteration   50, KL divergence 3.5386, 50 iterations in 8.2091 sec\n",
      "Iteration  100, KL divergence 3.5997, 50 iterations in 7.6315 sec\n",
      "Iteration  150, KL divergence 3.5961, 50 iterations in 7.5409 sec\n",
      "Iteration  200, KL divergence 3.5961, 50 iterations in 7.3436 sec\n",
      "Iteration  250, KL divergence 3.5960, 50 iterations in 7.3579 sec\n",
      "   --> Time elapsed: 38.08 seconds\n",
      "===> Running optimization with exaggeration=1.00, lr=3850.00 for 500 iterations...\n",
      "Iteration   50, KL divergence 1.3836, 50 iterations in 7.1595 sec\n",
      "Iteration  100, KL divergence 1.2577, 50 iterations in 6.9379 sec\n",
      "Iteration  150, KL divergence 1.2098, 50 iterations in 6.9127 sec\n",
      "Iteration  200, KL divergence 1.1840, 50 iterations in 6.9110 sec\n",
      "Iteration  250, KL divergence 1.1685, 50 iterations in 6.9299 sec\n",
      "Iteration  300, KL divergence 1.1584, 50 iterations in 6.9225 sec\n",
      "Iteration  350, KL divergence 1.1514, 50 iterations in 6.9668 sec\n",
      "Iteration  400, KL divergence 1.1459, 50 iterations in 6.9689 sec\n",
      "Iteration  450, KL divergence 1.1417, 50 iterations in 6.9755 sec\n",
      "Iteration  500, KL divergence 1.1381, 50 iterations in 7.0145 sec\n",
      "   --> Time elapsed: 69.70 seconds\n",
      "smartseq seed: 3 scaled: False\n",
      "PCA2\n",
      "PCA50\n",
      "UMAP\n",
      "UMAP(random_state=3, verbose=True)\n",
      "Tue Feb 18 23:56:25 2025 Construct fuzzy simplicial set\n"
     ]
    },
    {
     "name": "stderr",
     "output_type": "stream",
     "text": [
      "/data/cephfs-1/work/groups/ludwig/users/lzaschk_m/miniforge3/envs/elephant_analysis_env/lib/python3.11/site-packages/umap/umap_.py:1943: UserWarning: n_jobs value -1 overridden to 1 by setting random_state. Use no seed for parallelism.\n",
      "  warn(f\"n_jobs value {self.n_jobs} overridden to 1 by setting random_state. Use no seed for parallelism.\")\n"
     ]
    },
    {
     "name": "stdout",
     "output_type": "stream",
     "text": [
      "Tue Feb 18 23:56:34 2025 Finding Nearest Neighbors\n",
      "Tue Feb 18 23:56:34 2025 Finished Nearest Neighbor Search\n",
      "Tue Feb 18 23:56:34 2025 Construct embedding\n"
     ]
    },
    {
     "name": "stderr",
     "output_type": "stream",
     "text": [
      "Epochs completed:   2%| ▏          9/500 [00:01]"
     ]
    },
    {
     "name": "stdout",
     "output_type": "stream",
     "text": [
      "\tcompleted  0  /  500 epochs\n"
     ]
    },
    {
     "name": "stderr",
     "output_type": "stream",
     "text": [
      "Epochs completed:  11%| █▏         57/500 [00:02]"
     ]
    },
    {
     "name": "stdout",
     "output_type": "stream",
     "text": [
      "\tcompleted  50  /  500 epochs\n"
     ]
    },
    {
     "name": "stderr",
     "output_type": "stream",
     "text": [
      "Epochs completed:  22%| ██▏        111/500 [00:03]"
     ]
    },
    {
     "name": "stdout",
     "output_type": "stream",
     "text": [
      "\tcompleted  100  /  500 epochs\n"
     ]
    },
    {
     "name": "stderr",
     "output_type": "stream",
     "text": [
      "Epochs completed:  32%| ███▏       159/500 [00:03]"
     ]
    },
    {
     "name": "stdout",
     "output_type": "stream",
     "text": [
      "\tcompleted  150  /  500 epochs\n"
     ]
    },
    {
     "name": "stderr",
     "output_type": "stream",
     "text": [
      "Epochs completed:  41%| ████▏      207/500 [00:04]"
     ]
    },
    {
     "name": "stdout",
     "output_type": "stream",
     "text": [
      "\tcompleted  200  /  500 epochs\n"
     ]
    },
    {
     "name": "stderr",
     "output_type": "stream",
     "text": [
      "Epochs completed:  52%| █████▏     261/500 [00:05]"
     ]
    },
    {
     "name": "stdout",
     "output_type": "stream",
     "text": [
      "\tcompleted  250  /  500 epochs\n"
     ]
    },
    {
     "name": "stderr",
     "output_type": "stream",
     "text": [
      "Epochs completed:  62%| ██████▏    309/500 [00:06]"
     ]
    },
    {
     "name": "stdout",
     "output_type": "stream",
     "text": [
      "\tcompleted  300  /  500 epochs\n"
     ]
    },
    {
     "name": "stderr",
     "output_type": "stream",
     "text": [
      "Epochs completed:  71%| ███████▏   357/500 [00:07]"
     ]
    },
    {
     "name": "stdout",
     "output_type": "stream",
     "text": [
      "\tcompleted  350  /  500 epochs\n"
     ]
    },
    {
     "name": "stderr",
     "output_type": "stream",
     "text": [
      "Epochs completed:  82%| ████████▏  411/500 [00:08]"
     ]
    },
    {
     "name": "stdout",
     "output_type": "stream",
     "text": [
      "\tcompleted  400  /  500 epochs\n"
     ]
    },
    {
     "name": "stderr",
     "output_type": "stream",
     "text": [
      "Epochs completed:  92%| █████████▏ 459/500 [00:09]"
     ]
    },
    {
     "name": "stdout",
     "output_type": "stream",
     "text": [
      "\tcompleted  450  /  500 epochs\n"
     ]
    },
    {
     "name": "stderr",
     "output_type": "stream",
     "text": [
      "Epochs completed: 100%| ██████████ 500/500 [00:09]\n"
     ]
    },
    {
     "name": "stdout",
     "output_type": "stream",
     "text": [
      "Tue Feb 18 23:56:44 2025 Finished embedding\n",
      "TSNE\n",
      "--------------------------------------------------------------------------------\n",
      "TSNE(early_exaggeration=12, random_state=3, verbose=True)\n",
      "--------------------------------------------------------------------------------\n",
      "===> Finding 90 nearest neighbors using Annoy approximate search using euclidean distance...\n",
      "   --> Time elapsed: 2.41 seconds\n",
      "===> Calculating affinity matrix...\n",
      "   --> Time elapsed: 0.20 seconds\n",
      "===> Calculating PCA-based initialization...\n",
      "   --> Time elapsed: 0.02 seconds\n",
      "===> Running optimization with exaggeration=12.00, lr=320.83 for 250 iterations...\n",
      "Iteration   50, KL divergence 3.5380, 50 iterations in 8.2299 sec\n",
      "Iteration  100, KL divergence 3.6006, 50 iterations in 7.6113 sec\n",
      "Iteration  150, KL divergence 3.5991, 50 iterations in 7.4940 sec\n",
      "Iteration  200, KL divergence 3.5995, 50 iterations in 7.2839 sec\n",
      "Iteration  250, KL divergence 3.5996, 50 iterations in 7.2330 sec\n",
      "   --> Time elapsed: 37.85 seconds\n",
      "===> Running optimization with exaggeration=1.00, lr=3850.00 for 500 iterations...\n",
      "Iteration   50, KL divergence 1.3823, 50 iterations in 6.9899 sec\n",
      "Iteration  100, KL divergence 1.2589, 50 iterations in 6.8444 sec\n",
      "Iteration  150, KL divergence 1.2104, 50 iterations in 6.8620 sec\n",
      "Iteration  200, KL divergence 1.1853, 50 iterations in 6.9010 sec\n",
      "Iteration  250, KL divergence 1.1703, 50 iterations in 6.8754 sec\n",
      "Iteration  300, KL divergence 1.1599, 50 iterations in 6.8819 sec\n",
      "Iteration  350, KL divergence 1.1526, 50 iterations in 6.9106 sec\n",
      "Iteration  400, KL divergence 1.1478, 50 iterations in 6.9922 sec\n",
      "Iteration  450, KL divergence 1.1438, 50 iterations in 7.0084 sec\n",
      "Iteration  500, KL divergence 1.1402, 50 iterations in 7.0224 sec\n",
      "   --> Time elapsed: 69.29 seconds\n",
      "smartseq seed: 4 scaled: False\n",
      "PCA2\n",
      "PCA50\n",
      "UMAP\n",
      "UMAP(random_state=4, verbose=True)\n",
      "Tue Feb 18 23:58:35 2025 Construct fuzzy simplicial set\n"
     ]
    },
    {
     "name": "stderr",
     "output_type": "stream",
     "text": [
      "/data/cephfs-1/work/groups/ludwig/users/lzaschk_m/miniforge3/envs/elephant_analysis_env/lib/python3.11/site-packages/umap/umap_.py:1943: UserWarning: n_jobs value -1 overridden to 1 by setting random_state. Use no seed for parallelism.\n",
      "  warn(f\"n_jobs value {self.n_jobs} overridden to 1 by setting random_state. Use no seed for parallelism.\")\n"
     ]
    },
    {
     "name": "stdout",
     "output_type": "stream",
     "text": [
      "Tue Feb 18 23:58:44 2025 Finding Nearest Neighbors\n",
      "Tue Feb 18 23:58:45 2025 Finished Nearest Neighbor Search\n",
      "Tue Feb 18 23:58:45 2025 Construct embedding\n"
     ]
    },
    {
     "name": "stderr",
     "output_type": "stream",
     "text": [
      "Epochs completed:   3%| ▎          15/500 [00:01]"
     ]
    },
    {
     "name": "stdout",
     "output_type": "stream",
     "text": [
      "\tcompleted  0  /  500 epochs\n"
     ]
    },
    {
     "name": "stderr",
     "output_type": "stream",
     "text": [
      "Epochs completed:  11%| █▏         57/500 [00:01]"
     ]
    },
    {
     "name": "stdout",
     "output_type": "stream",
     "text": [
      "\tcompleted  50  /  500 epochs\n"
     ]
    },
    {
     "name": "stderr",
     "output_type": "stream",
     "text": [
      "Epochs completed:  22%| ██▏        111/500 [00:02]"
     ]
    },
    {
     "name": "stdout",
     "output_type": "stream",
     "text": [
      "\tcompleted  100  /  500 epochs\n"
     ]
    },
    {
     "name": "stderr",
     "output_type": "stream",
     "text": [
      "Epochs completed:  32%| ███▏       159/500 [00:03]"
     ]
    },
    {
     "name": "stdout",
     "output_type": "stream",
     "text": [
      "\tcompleted  150  /  500 epochs\n"
     ]
    },
    {
     "name": "stderr",
     "output_type": "stream",
     "text": [
      "Epochs completed:  41%| ████▏      207/500 [00:04]"
     ]
    },
    {
     "name": "stdout",
     "output_type": "stream",
     "text": [
      "\tcompleted  200  /  500 epochs\n"
     ]
    },
    {
     "name": "stderr",
     "output_type": "stream",
     "text": [
      "Epochs completed:  52%| █████▏     261/500 [00:05]"
     ]
    },
    {
     "name": "stdout",
     "output_type": "stream",
     "text": [
      "\tcompleted  250  /  500 epochs\n"
     ]
    },
    {
     "name": "stderr",
     "output_type": "stream",
     "text": [
      "Epochs completed:  62%| ██████▏    309/500 [00:06]"
     ]
    },
    {
     "name": "stdout",
     "output_type": "stream",
     "text": [
      "\tcompleted  300  /  500 epochs\n"
     ]
    },
    {
     "name": "stderr",
     "output_type": "stream",
     "text": [
      "Epochs completed:  71%| ███████▏   357/500 [00:07]"
     ]
    },
    {
     "name": "stdout",
     "output_type": "stream",
     "text": [
      "\tcompleted  350  /  500 epochs\n"
     ]
    },
    {
     "name": "stderr",
     "output_type": "stream",
     "text": [
      "Epochs completed:  82%| ████████▏  411/500 [00:07]"
     ]
    },
    {
     "name": "stdout",
     "output_type": "stream",
     "text": [
      "\tcompleted  400  /  500 epochs\n"
     ]
    },
    {
     "name": "stderr",
     "output_type": "stream",
     "text": [
      "Epochs completed:  92%| █████████▏ 459/500 [00:08]"
     ]
    },
    {
     "name": "stdout",
     "output_type": "stream",
     "text": [
      "\tcompleted  450  /  500 epochs\n"
     ]
    },
    {
     "name": "stderr",
     "output_type": "stream",
     "text": [
      "Epochs completed: 100%| ██████████ 500/500 [00:09]\n"
     ]
    },
    {
     "name": "stdout",
     "output_type": "stream",
     "text": [
      "Tue Feb 18 23:58:54 2025 Finished embedding\n",
      "TSNE\n",
      "--------------------------------------------------------------------------------\n",
      "TSNE(early_exaggeration=12, random_state=4, verbose=True)\n",
      "--------------------------------------------------------------------------------\n",
      "===> Finding 90 nearest neighbors using Annoy approximate search using euclidean distance...\n",
      "   --> Time elapsed: 2.43 seconds\n",
      "===> Calculating affinity matrix...\n",
      "   --> Time elapsed: 0.20 seconds\n",
      "===> Calculating PCA-based initialization...\n",
      "   --> Time elapsed: 0.02 seconds\n",
      "===> Running optimization with exaggeration=12.00, lr=320.83 for 250 iterations...\n",
      "Iteration   50, KL divergence 3.5387, 50 iterations in 8.1762 sec\n",
      "Iteration  100, KL divergence 3.6015, 50 iterations in 7.4882 sec\n",
      "Iteration  150, KL divergence 3.5980, 50 iterations in 7.2692 sec\n",
      "Iteration  200, KL divergence 3.5983, 50 iterations in 7.2314 sec\n",
      "Iteration  250, KL divergence 3.5984, 50 iterations in 7.2267 sec\n",
      "   --> Time elapsed: 37.39 seconds\n",
      "===> Running optimization with exaggeration=1.00, lr=3850.00 for 500 iterations...\n",
      "Iteration   50, KL divergence 1.3806, 50 iterations in 7.0193 sec\n",
      "Iteration  100, KL divergence 1.2571, 50 iterations in 6.9097 sec\n",
      "Iteration  150, KL divergence 1.2096, 50 iterations in 6.9060 sec\n",
      "Iteration  200, KL divergence 1.1849, 50 iterations in 6.9316 sec\n",
      "Iteration  250, KL divergence 1.1695, 50 iterations in 6.9718 sec\n",
      "Iteration  300, KL divergence 1.1597, 50 iterations in 6.9982 sec\n",
      "Iteration  350, KL divergence 1.1524, 50 iterations in 7.0288 sec\n",
      "Iteration  400, KL divergence 1.1470, 50 iterations in 7.0682 sec\n",
      "Iteration  450, KL divergence 1.1425, 50 iterations in 7.1347 sec\n",
      "Iteration  500, KL divergence 1.1387, 50 iterations in 7.1381 sec\n",
      "   --> Time elapsed: 70.11 seconds\n",
      "smartseq seed: 0 scaled: True\n",
      "PCA2\n",
      "PCA50\n",
      "UMAP\n",
      "UMAP(random_state=0, verbose=True)\n",
      "Wed Feb 19 00:00:46 2025 Construct fuzzy simplicial set\n"
     ]
    },
    {
     "name": "stderr",
     "output_type": "stream",
     "text": [
      "/data/cephfs-1/work/groups/ludwig/users/lzaschk_m/miniforge3/envs/elephant_analysis_env/lib/python3.11/site-packages/umap/umap_.py:1943: UserWarning: n_jobs value -1 overridden to 1 by setting random_state. Use no seed for parallelism.\n",
      "  warn(f\"n_jobs value {self.n_jobs} overridden to 1 by setting random_state. Use no seed for parallelism.\")\n"
     ]
    },
    {
     "name": "stdout",
     "output_type": "stream",
     "text": [
      "Wed Feb 19 00:00:55 2025 Finding Nearest Neighbors\n",
      "Wed Feb 19 00:00:55 2025 Finished Nearest Neighbor Search\n",
      "Wed Feb 19 00:00:55 2025 Construct embedding\n"
     ]
    },
    {
     "name": "stderr",
     "output_type": "stream",
     "text": [
      "Epochs completed:   2%| ▏          9/500 [00:01]"
     ]
    },
    {
     "name": "stdout",
     "output_type": "stream",
     "text": [
      "\tcompleted  0  /  500 epochs\n"
     ]
    },
    {
     "name": "stderr",
     "output_type": "stream",
     "text": [
      "Epochs completed:  11%| █▏         57/500 [00:01]"
     ]
    },
    {
     "name": "stdout",
     "output_type": "stream",
     "text": [
      "\tcompleted  50  /  500 epochs\n"
     ]
    },
    {
     "name": "stderr",
     "output_type": "stream",
     "text": [
      "Epochs completed:  22%| ██▏        111/500 [00:02]"
     ]
    },
    {
     "name": "stdout",
     "output_type": "stream",
     "text": [
      "\tcompleted  100  /  500 epochs\n"
     ]
    },
    {
     "name": "stderr",
     "output_type": "stream",
     "text": [
      "Epochs completed:  32%| ███▏       159/500 [00:03]"
     ]
    },
    {
     "name": "stdout",
     "output_type": "stream",
     "text": [
      "\tcompleted  150  /  500 epochs\n"
     ]
    },
    {
     "name": "stderr",
     "output_type": "stream",
     "text": [
      "Epochs completed:  41%| ████▏      207/500 [00:04]"
     ]
    },
    {
     "name": "stdout",
     "output_type": "stream",
     "text": [
      "\tcompleted  200  /  500 epochs\n"
     ]
    },
    {
     "name": "stderr",
     "output_type": "stream",
     "text": [
      "Epochs completed:  52%| █████▏     261/500 [00:05]"
     ]
    },
    {
     "name": "stdout",
     "output_type": "stream",
     "text": [
      "\tcompleted  250  /  500 epochs\n"
     ]
    },
    {
     "name": "stderr",
     "output_type": "stream",
     "text": [
      "Epochs completed:  62%| ██████▏    309/500 [00:06]"
     ]
    },
    {
     "name": "stdout",
     "output_type": "stream",
     "text": [
      "\tcompleted  300  /  500 epochs\n"
     ]
    },
    {
     "name": "stderr",
     "output_type": "stream",
     "text": [
      "Epochs completed:  71%| ███████▏   357/500 [00:07]"
     ]
    },
    {
     "name": "stdout",
     "output_type": "stream",
     "text": [
      "\tcompleted  350  /  500 epochs\n"
     ]
    },
    {
     "name": "stderr",
     "output_type": "stream",
     "text": [
      "Epochs completed:  82%| ████████▏  411/500 [00:08]"
     ]
    },
    {
     "name": "stdout",
     "output_type": "stream",
     "text": [
      "\tcompleted  400  /  500 epochs\n"
     ]
    },
    {
     "name": "stderr",
     "output_type": "stream",
     "text": [
      "Epochs completed:  92%| █████████▏ 459/500 [00:08]"
     ]
    },
    {
     "name": "stdout",
     "output_type": "stream",
     "text": [
      "\tcompleted  450  /  500 epochs\n"
     ]
    },
    {
     "name": "stderr",
     "output_type": "stream",
     "text": [
      "Epochs completed: 100%| ██████████ 500/500 [00:09]\n"
     ]
    },
    {
     "name": "stdout",
     "output_type": "stream",
     "text": [
      "Wed Feb 19 00:01:05 2025 Finished embedding\n",
      "TSNE\n",
      "--------------------------------------------------------------------------------\n",
      "TSNE(early_exaggeration=12, random_state=0, verbose=True)\n",
      "--------------------------------------------------------------------------------\n",
      "===> Finding 90 nearest neighbors using Annoy approximate search using euclidean distance...\n",
      "   --> Time elapsed: 2.46 seconds\n",
      "===> Calculating affinity matrix...\n",
      "   --> Time elapsed: 0.20 seconds\n",
      "===> Calculating PCA-based initialization...\n",
      "   --> Time elapsed: 0.02 seconds\n",
      "===> Running optimization with exaggeration=12.00, lr=320.83 for 250 iterations...\n",
      "Iteration   50, KL divergence 3.6332, 50 iterations in 8.2691 sec\n",
      "Iteration  100, KL divergence 3.7354, 50 iterations in 7.6517 sec\n",
      "Iteration  150, KL divergence 3.7379, 50 iterations in 7.5796 sec\n",
      "Iteration  200, KL divergence 3.7381, 50 iterations in 7.7439 sec\n",
      "Iteration  250, KL divergence 3.7380, 50 iterations in 7.7677 sec\n",
      "   --> Time elapsed: 39.01 seconds\n",
      "===> Running optimization with exaggeration=1.00, lr=3850.00 for 500 iterations...\n",
      "Iteration   50, KL divergence 1.4678, 50 iterations in 7.1868 sec\n",
      "Iteration  100, KL divergence 1.3424, 50 iterations in 7.0915 sec\n",
      "Iteration  150, KL divergence 1.2966, 50 iterations in 7.1091 sec\n",
      "Iteration  200, KL divergence 1.2730, 50 iterations in 7.1480 sec\n",
      "Iteration  250, KL divergence 1.2585, 50 iterations in 7.1841 sec\n",
      "Iteration  300, KL divergence 1.2492, 50 iterations in 7.2016 sec\n",
      "Iteration  350, KL divergence 1.2424, 50 iterations in 7.1955 sec\n",
      "Iteration  400, KL divergence 1.2376, 50 iterations in 7.2546 sec\n",
      "Iteration  450, KL divergence 1.2341, 50 iterations in 7.3402 sec\n",
      "Iteration  500, KL divergence 1.2311, 50 iterations in 7.3552 sec\n",
      "   --> Time elapsed: 72.07 seconds\n",
      "smartseq seed: 1 scaled: True\n",
      "PCA2\n",
      "PCA50\n",
      "UMAP\n",
      "UMAP(random_state=1, verbose=True)\n",
      "Wed Feb 19 00:03:00 2025 Construct fuzzy simplicial set\n"
     ]
    },
    {
     "name": "stderr",
     "output_type": "stream",
     "text": [
      "/data/cephfs-1/work/groups/ludwig/users/lzaschk_m/miniforge3/envs/elephant_analysis_env/lib/python3.11/site-packages/umap/umap_.py:1943: UserWarning: n_jobs value -1 overridden to 1 by setting random_state. Use no seed for parallelism.\n",
      "  warn(f\"n_jobs value {self.n_jobs} overridden to 1 by setting random_state. Use no seed for parallelism.\")\n"
     ]
    },
    {
     "name": "stdout",
     "output_type": "stream",
     "text": [
      "Wed Feb 19 00:03:09 2025 Finding Nearest Neighbors\n",
      "Wed Feb 19 00:03:09 2025 Finished Nearest Neighbor Search\n",
      "Wed Feb 19 00:03:09 2025 Construct embedding\n"
     ]
    },
    {
     "name": "stderr",
     "output_type": "stream",
     "text": [
      "Epochs completed:   2%| ▏          9/500 [00:01]"
     ]
    },
    {
     "name": "stdout",
     "output_type": "stream",
     "text": [
      "\tcompleted  0  /  500 epochs\n"
     ]
    },
    {
     "name": "stderr",
     "output_type": "stream",
     "text": [
      "Epochs completed:  11%| █▏         57/500 [00:01]"
     ]
    },
    {
     "name": "stdout",
     "output_type": "stream",
     "text": [
      "\tcompleted  50  /  500 epochs\n"
     ]
    },
    {
     "name": "stderr",
     "output_type": "stream",
     "text": [
      "Epochs completed:  22%| ██▏        111/500 [00:02]"
     ]
    },
    {
     "name": "stdout",
     "output_type": "stream",
     "text": [
      "\tcompleted  100  /  500 epochs\n"
     ]
    },
    {
     "name": "stderr",
     "output_type": "stream",
     "text": [
      "Epochs completed:  32%| ███▏       159/500 [00:03]"
     ]
    },
    {
     "name": "stdout",
     "output_type": "stream",
     "text": [
      "\tcompleted  150  /  500 epochs\n"
     ]
    },
    {
     "name": "stderr",
     "output_type": "stream",
     "text": [
      "Epochs completed:  41%| ████▏      207/500 [00:04]"
     ]
    },
    {
     "name": "stdout",
     "output_type": "stream",
     "text": [
      "\tcompleted  200  /  500 epochs\n"
     ]
    },
    {
     "name": "stderr",
     "output_type": "stream",
     "text": [
      "Epochs completed:  52%| █████▏     261/500 [00:05]"
     ]
    },
    {
     "name": "stdout",
     "output_type": "stream",
     "text": [
      "\tcompleted  250  /  500 epochs\n"
     ]
    },
    {
     "name": "stderr",
     "output_type": "stream",
     "text": [
      "Epochs completed:  62%| ██████▏    309/500 [00:06]"
     ]
    },
    {
     "name": "stdout",
     "output_type": "stream",
     "text": [
      "\tcompleted  300  /  500 epochs\n"
     ]
    },
    {
     "name": "stderr",
     "output_type": "stream",
     "text": [
      "Epochs completed:  71%| ███████▏   357/500 [00:07]"
     ]
    },
    {
     "name": "stdout",
     "output_type": "stream",
     "text": [
      "\tcompleted  350  /  500 epochs\n"
     ]
    },
    {
     "name": "stderr",
     "output_type": "stream",
     "text": [
      "Epochs completed:  82%| ████████▏  411/500 [00:08]"
     ]
    },
    {
     "name": "stdout",
     "output_type": "stream",
     "text": [
      "\tcompleted  400  /  500 epochs\n"
     ]
    },
    {
     "name": "stderr",
     "output_type": "stream",
     "text": [
      "Epochs completed:  92%| █████████▏ 459/500 [00:09]"
     ]
    },
    {
     "name": "stdout",
     "output_type": "stream",
     "text": [
      "\tcompleted  450  /  500 epochs\n"
     ]
    },
    {
     "name": "stderr",
     "output_type": "stream",
     "text": [
      "Epochs completed: 100%| ██████████ 500/500 [00:09]\n"
     ]
    },
    {
     "name": "stdout",
     "output_type": "stream",
     "text": [
      "Wed Feb 19 00:03:19 2025 Finished embedding\n",
      "TSNE\n",
      "--------------------------------------------------------------------------------\n",
      "TSNE(early_exaggeration=12, random_state=1, verbose=True)\n",
      "--------------------------------------------------------------------------------\n",
      "===> Finding 90 nearest neighbors using Annoy approximate search using euclidean distance...\n",
      "   --> Time elapsed: 2.46 seconds\n",
      "===> Calculating affinity matrix...\n",
      "   --> Time elapsed: 0.19 seconds\n",
      "===> Calculating PCA-based initialization...\n",
      "   --> Time elapsed: 0.04 seconds\n",
      "===> Running optimization with exaggeration=12.00, lr=320.83 for 250 iterations...\n",
      "Iteration   50, KL divergence 3.6328, 50 iterations in 8.2213 sec\n",
      "Iteration  100, KL divergence 3.7332, 50 iterations in 7.6504 sec\n",
      "Iteration  150, KL divergence 3.7358, 50 iterations in 7.5411 sec\n",
      "Iteration  200, KL divergence 3.7360, 50 iterations in 7.5754 sec\n",
      "Iteration  250, KL divergence 3.7359, 50 iterations in 7.7409 sec\n",
      "   --> Time elapsed: 38.73 seconds\n",
      "===> Running optimization with exaggeration=1.00, lr=3850.00 for 500 iterations...\n",
      "Iteration   50, KL divergence 1.4621, 50 iterations in 7.2385 sec\n",
      "Iteration  100, KL divergence 1.3368, 50 iterations in 7.1186 sec\n",
      "Iteration  150, KL divergence 1.2902, 50 iterations in 7.0323 sec\n",
      "Iteration  200, KL divergence 1.2661, 50 iterations in 7.1045 sec\n",
      "Iteration  250, KL divergence 1.2522, 50 iterations in 7.1761 sec\n",
      "Iteration  300, KL divergence 1.2427, 50 iterations in 7.2195 sec\n",
      "Iteration  350, KL divergence 1.2359, 50 iterations in 7.1929 sec\n",
      "Iteration  400, KL divergence 1.2311, 50 iterations in 7.2071 sec\n",
      "Iteration  450, KL divergence 1.2274, 50 iterations in 7.2376 sec\n",
      "Iteration  500, KL divergence 1.2239, 50 iterations in 7.2508 sec\n",
      "   --> Time elapsed: 71.78 seconds\n",
      "smartseq seed: 2 scaled: True\n",
      "PCA2\n",
      "PCA50\n",
      "UMAP\n",
      "UMAP(random_state=2, verbose=True)\n",
      "Wed Feb 19 00:05:13 2025 Construct fuzzy simplicial set\n"
     ]
    },
    {
     "name": "stderr",
     "output_type": "stream",
     "text": [
      "/data/cephfs-1/work/groups/ludwig/users/lzaschk_m/miniforge3/envs/elephant_analysis_env/lib/python3.11/site-packages/umap/umap_.py:1943: UserWarning: n_jobs value -1 overridden to 1 by setting random_state. Use no seed for parallelism.\n",
      "  warn(f\"n_jobs value {self.n_jobs} overridden to 1 by setting random_state. Use no seed for parallelism.\")\n"
     ]
    },
    {
     "name": "stdout",
     "output_type": "stream",
     "text": [
      "Wed Feb 19 00:05:23 2025 Finding Nearest Neighbors\n",
      "Wed Feb 19 00:05:23 2025 Finished Nearest Neighbor Search\n",
      "Wed Feb 19 00:05:23 2025 Construct embedding\n"
     ]
    },
    {
     "name": "stderr",
     "output_type": "stream",
     "text": [
      "Epochs completed:   2%| ▏          9/500 [00:01]"
     ]
    },
    {
     "name": "stdout",
     "output_type": "stream",
     "text": [
      "\tcompleted  0  /  500 epochs\n"
     ]
    },
    {
     "name": "stderr",
     "output_type": "stream",
     "text": [
      "Epochs completed:  11%| █▏         57/500 [00:02]"
     ]
    },
    {
     "name": "stdout",
     "output_type": "stream",
     "text": [
      "\tcompleted  50  /  500 epochs\n"
     ]
    },
    {
     "name": "stderr",
     "output_type": "stream",
     "text": [
      "Epochs completed:  22%| ██▏        111/500 [00:03]"
     ]
    },
    {
     "name": "stdout",
     "output_type": "stream",
     "text": [
      "\tcompleted  100  /  500 epochs\n"
     ]
    },
    {
     "name": "stderr",
     "output_type": "stream",
     "text": [
      "Epochs completed:  32%| ███▏       159/500 [00:04]"
     ]
    },
    {
     "name": "stdout",
     "output_type": "stream",
     "text": [
      "\tcompleted  150  /  500 epochs\n"
     ]
    },
    {
     "name": "stderr",
     "output_type": "stream",
     "text": [
      "Epochs completed:  41%| ████▏      207/500 [00:04]"
     ]
    },
    {
     "name": "stdout",
     "output_type": "stream",
     "text": [
      "\tcompleted  200  /  500 epochs\n"
     ]
    },
    {
     "name": "stderr",
     "output_type": "stream",
     "text": [
      "Epochs completed:  52%| █████▏     261/500 [00:05]"
     ]
    },
    {
     "name": "stdout",
     "output_type": "stream",
     "text": [
      "\tcompleted  250  /  500 epochs\n"
     ]
    },
    {
     "name": "stderr",
     "output_type": "stream",
     "text": [
      "Epochs completed:  62%| ██████▏    309/500 [00:06]"
     ]
    },
    {
     "name": "stdout",
     "output_type": "stream",
     "text": [
      "\tcompleted  300  /  500 epochs\n"
     ]
    },
    {
     "name": "stderr",
     "output_type": "stream",
     "text": [
      "Epochs completed:  71%| ███████▏   357/500 [00:07]"
     ]
    },
    {
     "name": "stdout",
     "output_type": "stream",
     "text": [
      "\tcompleted  350  /  500 epochs\n"
     ]
    },
    {
     "name": "stderr",
     "output_type": "stream",
     "text": [
      "Epochs completed:  82%| ████████▏  411/500 [00:08]"
     ]
    },
    {
     "name": "stdout",
     "output_type": "stream",
     "text": [
      "\tcompleted  400  /  500 epochs\n"
     ]
    },
    {
     "name": "stderr",
     "output_type": "stream",
     "text": [
      "Epochs completed:  92%| █████████▏ 459/500 [00:09]"
     ]
    },
    {
     "name": "stdout",
     "output_type": "stream",
     "text": [
      "\tcompleted  450  /  500 epochs\n"
     ]
    },
    {
     "name": "stderr",
     "output_type": "stream",
     "text": [
      "Epochs completed: 100%| ██████████ 500/500 [00:10]\n"
     ]
    },
    {
     "name": "stdout",
     "output_type": "stream",
     "text": [
      "Wed Feb 19 00:05:33 2025 Finished embedding\n",
      "TSNE\n",
      "--------------------------------------------------------------------------------\n",
      "TSNE(early_exaggeration=12, random_state=2, verbose=True)\n",
      "--------------------------------------------------------------------------------\n",
      "===> Finding 90 nearest neighbors using Annoy approximate search using euclidean distance...\n",
      "   --> Time elapsed: 2.46 seconds\n",
      "===> Calculating affinity matrix...\n",
      "   --> Time elapsed: 0.21 seconds\n",
      "===> Calculating PCA-based initialization...\n",
      "   --> Time elapsed: 0.03 seconds\n",
      "===> Running optimization with exaggeration=12.00, lr=320.83 for 250 iterations...\n",
      "Iteration   50, KL divergence 3.6360, 50 iterations in 8.2658 sec\n",
      "Iteration  100, KL divergence 3.7374, 50 iterations in 7.7046 sec\n",
      "Iteration  150, KL divergence 3.7404, 50 iterations in 7.4782 sec\n",
      "Iteration  200, KL divergence 3.7407, 50 iterations in 7.4782 sec\n",
      "Iteration  250, KL divergence 3.7406, 50 iterations in 7.7420 sec\n",
      "   --> Time elapsed: 38.67 seconds\n",
      "===> Running optimization with exaggeration=1.00, lr=3850.00 for 500 iterations...\n",
      "Iteration   50, KL divergence 1.4731, 50 iterations in 7.2564 sec\n",
      "Iteration  100, KL divergence 1.3490, 50 iterations in 7.1830 sec\n",
      "Iteration  150, KL divergence 1.3028, 50 iterations in 7.1675 sec\n",
      "Iteration  200, KL divergence 1.2796, 50 iterations in 7.2242 sec\n",
      "Iteration  250, KL divergence 1.2663, 50 iterations in 7.3090 sec\n",
      "Iteration  300, KL divergence 1.2568, 50 iterations in 7.3422 sec\n",
      "Iteration  350, KL divergence 1.2502, 50 iterations in 7.3622 sec\n",
      "Iteration  400, KL divergence 1.2458, 50 iterations in 7.3269 sec\n",
      "Iteration  450, KL divergence 1.2423, 50 iterations in 7.3969 sec\n",
      "Iteration  500, KL divergence 1.2386, 50 iterations in 7.4827 sec\n",
      "   --> Time elapsed: 73.05 seconds\n",
      "smartseq seed: 3 scaled: True\n",
      "PCA2\n",
      "PCA50\n",
      "UMAP\n",
      "UMAP(random_state=3, verbose=True)\n",
      "Wed Feb 19 00:07:29 2025 Construct fuzzy simplicial set\n"
     ]
    },
    {
     "name": "stderr",
     "output_type": "stream",
     "text": [
      "/data/cephfs-1/work/groups/ludwig/users/lzaschk_m/miniforge3/envs/elephant_analysis_env/lib/python3.11/site-packages/umap/umap_.py:1943: UserWarning: n_jobs value -1 overridden to 1 by setting random_state. Use no seed for parallelism.\n",
      "  warn(f\"n_jobs value {self.n_jobs} overridden to 1 by setting random_state. Use no seed for parallelism.\")\n"
     ]
    },
    {
     "name": "stdout",
     "output_type": "stream",
     "text": [
      "Wed Feb 19 00:07:38 2025 Finding Nearest Neighbors\n",
      "Wed Feb 19 00:07:38 2025 Finished Nearest Neighbor Search\n",
      "Wed Feb 19 00:07:38 2025 Construct embedding\n"
     ]
    },
    {
     "name": "stderr",
     "output_type": "stream",
     "text": [
      "Epochs completed:   2%| ▏          9/500 [00:01]"
     ]
    },
    {
     "name": "stdout",
     "output_type": "stream",
     "text": [
      "\tcompleted  0  /  500 epochs\n"
     ]
    },
    {
     "name": "stderr",
     "output_type": "stream",
     "text": [
      "Epochs completed:  11%| █▏         57/500 [00:01]"
     ]
    },
    {
     "name": "stdout",
     "output_type": "stream",
     "text": [
      "\tcompleted  50  /  500 epochs\n"
     ]
    },
    {
     "name": "stderr",
     "output_type": "stream",
     "text": [
      "Epochs completed:  22%| ██▏        111/500 [00:02]"
     ]
    },
    {
     "name": "stdout",
     "output_type": "stream",
     "text": [
      "\tcompleted  100  /  500 epochs\n"
     ]
    },
    {
     "name": "stderr",
     "output_type": "stream",
     "text": [
      "Epochs completed:  32%| ███▏       159/500 [00:03]"
     ]
    },
    {
     "name": "stdout",
     "output_type": "stream",
     "text": [
      "\tcompleted  150  /  500 epochs\n"
     ]
    },
    {
     "name": "stderr",
     "output_type": "stream",
     "text": [
      "Epochs completed:  43%| ████▎      213/500 [00:04]"
     ]
    },
    {
     "name": "stdout",
     "output_type": "stream",
     "text": [
      "\tcompleted  200  /  500 epochs\n"
     ]
    },
    {
     "name": "stderr",
     "output_type": "stream",
     "text": [
      "Epochs completed:  52%| █████▏     261/500 [00:05]"
     ]
    },
    {
     "name": "stdout",
     "output_type": "stream",
     "text": [
      "\tcompleted  250  /  500 epochs\n"
     ]
    },
    {
     "name": "stderr",
     "output_type": "stream",
     "text": [
      "Epochs completed:  62%| ██████▏    309/500 [00:06]"
     ]
    },
    {
     "name": "stdout",
     "output_type": "stream",
     "text": [
      "\tcompleted  300  /  500 epochs\n"
     ]
    },
    {
     "name": "stderr",
     "output_type": "stream",
     "text": [
      "Epochs completed:  71%| ███████▏   357/500 [00:07]"
     ]
    },
    {
     "name": "stdout",
     "output_type": "stream",
     "text": [
      "\tcompleted  350  /  500 epochs\n"
     ]
    },
    {
     "name": "stderr",
     "output_type": "stream",
     "text": [
      "Epochs completed:  82%| ████████▏  411/500 [00:08]"
     ]
    },
    {
     "name": "stdout",
     "output_type": "stream",
     "text": [
      "\tcompleted  400  /  500 epochs\n"
     ]
    },
    {
     "name": "stderr",
     "output_type": "stream",
     "text": [
      "Epochs completed:  92%| █████████▏ 459/500 [00:09]"
     ]
    },
    {
     "name": "stdout",
     "output_type": "stream",
     "text": [
      "\tcompleted  450  /  500 epochs\n"
     ]
    },
    {
     "name": "stderr",
     "output_type": "stream",
     "text": [
      "Epochs completed: 100%| ██████████ 500/500 [00:09]\n"
     ]
    },
    {
     "name": "stdout",
     "output_type": "stream",
     "text": [
      "Wed Feb 19 00:07:48 2025 Finished embedding\n",
      "TSNE\n",
      "--------------------------------------------------------------------------------\n",
      "TSNE(early_exaggeration=12, random_state=3, verbose=True)\n",
      "--------------------------------------------------------------------------------\n",
      "===> Finding 90 nearest neighbors using Annoy approximate search using euclidean distance...\n",
      "   --> Time elapsed: 2.48 seconds\n",
      "===> Calculating affinity matrix...\n",
      "   --> Time elapsed: 0.20 seconds\n",
      "===> Calculating PCA-based initialization...\n",
      "   --> Time elapsed: 0.02 seconds\n",
      "===> Running optimization with exaggeration=12.00, lr=320.83 for 250 iterations...\n",
      "Iteration   50, KL divergence 3.6295, 50 iterations in 8.2909 sec\n",
      "Iteration  100, KL divergence 3.7334, 50 iterations in 7.6877 sec\n",
      "Iteration  150, KL divergence 3.7359, 50 iterations in 7.6425 sec\n",
      "Iteration  200, KL divergence 3.7359, 50 iterations in 7.7877 sec\n",
      "Iteration  250, KL divergence 3.7358, 50 iterations in 7.7541 sec\n",
      "   --> Time elapsed: 39.16 seconds\n",
      "===> Running optimization with exaggeration=1.00, lr=3850.00 for 500 iterations...\n",
      "Iteration   50, KL divergence 1.4698, 50 iterations in 7.2163 sec\n",
      "Iteration  100, KL divergence 1.3471, 50 iterations in 7.1215 sec\n",
      "Iteration  150, KL divergence 1.3013, 50 iterations in 7.1819 sec\n",
      "Iteration  200, KL divergence 1.2784, 50 iterations in 7.2408 sec\n",
      "Iteration  250, KL divergence 1.2643, 50 iterations in 7.1883 sec\n",
      "Iteration  300, KL divergence 1.2553, 50 iterations in 7.2164 sec\n",
      "Iteration  350, KL divergence 1.2489, 50 iterations in 7.2608 sec\n",
      "Iteration  400, KL divergence 1.2442, 50 iterations in 7.2767 sec\n",
      "Iteration  450, KL divergence 1.2405, 50 iterations in 7.3048 sec\n",
      "Iteration  500, KL divergence 1.2373, 50 iterations in 7.3092 sec\n",
      "   --> Time elapsed: 72.32 seconds\n",
      "smartseq seed: 4 scaled: True\n",
      "PCA2\n",
      "PCA50\n",
      "UMAP\n",
      "UMAP(random_state=4, verbose=True)\n",
      "Wed Feb 19 00:09:43 2025 Construct fuzzy simplicial set\n"
     ]
    },
    {
     "name": "stderr",
     "output_type": "stream",
     "text": [
      "/data/cephfs-1/work/groups/ludwig/users/lzaschk_m/miniforge3/envs/elephant_analysis_env/lib/python3.11/site-packages/umap/umap_.py:1943: UserWarning: n_jobs value -1 overridden to 1 by setting random_state. Use no seed for parallelism.\n",
      "  warn(f\"n_jobs value {self.n_jobs} overridden to 1 by setting random_state. Use no seed for parallelism.\")\n"
     ]
    },
    {
     "name": "stdout",
     "output_type": "stream",
     "text": [
      "Wed Feb 19 00:09:53 2025 Finding Nearest Neighbors\n",
      "Wed Feb 19 00:09:53 2025 Finished Nearest Neighbor Search\n",
      "Wed Feb 19 00:09:53 2025 Construct embedding\n"
     ]
    },
    {
     "name": "stderr",
     "output_type": "stream",
     "text": [
      "Epochs completed:   2%| ▏          9/500 [00:01]"
     ]
    },
    {
     "name": "stdout",
     "output_type": "stream",
     "text": [
      "\tcompleted  0  /  500 epochs\n"
     ]
    },
    {
     "name": "stderr",
     "output_type": "stream",
     "text": [
      "Epochs completed:  11%| █▏         57/500 [00:01]"
     ]
    },
    {
     "name": "stdout",
     "output_type": "stream",
     "text": [
      "\tcompleted  50  /  500 epochs\n"
     ]
    },
    {
     "name": "stderr",
     "output_type": "stream",
     "text": [
      "Epochs completed:  22%| ██▏        111/500 [00:02]"
     ]
    },
    {
     "name": "stdout",
     "output_type": "stream",
     "text": [
      "\tcompleted  100  /  500 epochs\n"
     ]
    },
    {
     "name": "stderr",
     "output_type": "stream",
     "text": [
      "Epochs completed:  32%| ███▏       159/500 [00:03]"
     ]
    },
    {
     "name": "stdout",
     "output_type": "stream",
     "text": [
      "\tcompleted  150  /  500 epochs\n"
     ]
    },
    {
     "name": "stderr",
     "output_type": "stream",
     "text": [
      "Epochs completed:  41%| ████▏      207/500 [00:04]"
     ]
    },
    {
     "name": "stdout",
     "output_type": "stream",
     "text": [
      "\tcompleted  200  /  500 epochs\n"
     ]
    },
    {
     "name": "stderr",
     "output_type": "stream",
     "text": [
      "Epochs completed:  52%| █████▏     261/500 [00:05]"
     ]
    },
    {
     "name": "stdout",
     "output_type": "stream",
     "text": [
      "\tcompleted  250  /  500 epochs\n"
     ]
    },
    {
     "name": "stderr",
     "output_type": "stream",
     "text": [
      "Epochs completed:  62%| ██████▏    309/500 [00:06]"
     ]
    },
    {
     "name": "stdout",
     "output_type": "stream",
     "text": [
      "\tcompleted  300  /  500 epochs\n"
     ]
    },
    {
     "name": "stderr",
     "output_type": "stream",
     "text": [
      "Epochs completed:  71%| ███████▏   357/500 [00:07]"
     ]
    },
    {
     "name": "stdout",
     "output_type": "stream",
     "text": [
      "\tcompleted  350  /  500 epochs\n"
     ]
    },
    {
     "name": "stderr",
     "output_type": "stream",
     "text": [
      "Epochs completed:  82%| ████████▏  411/500 [00:08]"
     ]
    },
    {
     "name": "stdout",
     "output_type": "stream",
     "text": [
      "\tcompleted  400  /  500 epochs\n"
     ]
    },
    {
     "name": "stderr",
     "output_type": "stream",
     "text": [
      "Epochs completed:  92%| █████████▏ 459/500 [00:08]"
     ]
    },
    {
     "name": "stdout",
     "output_type": "stream",
     "text": [
      "\tcompleted  450  /  500 epochs\n"
     ]
    },
    {
     "name": "stderr",
     "output_type": "stream",
     "text": [
      "Epochs completed: 100%| ██████████ 500/500 [00:09]\n"
     ]
    },
    {
     "name": "stdout",
     "output_type": "stream",
     "text": [
      "Wed Feb 19 00:10:03 2025 Finished embedding\n",
      "TSNE\n",
      "--------------------------------------------------------------------------------\n",
      "TSNE(early_exaggeration=12, random_state=4, verbose=True)\n",
      "--------------------------------------------------------------------------------\n",
      "===> Finding 90 nearest neighbors using Annoy approximate search using euclidean distance...\n",
      "   --> Time elapsed: 2.47 seconds\n",
      "===> Calculating affinity matrix...\n",
      "   --> Time elapsed: 0.20 seconds\n",
      "===> Calculating PCA-based initialization...\n",
      "   --> Time elapsed: 0.02 seconds\n",
      "===> Running optimization with exaggeration=12.00, lr=320.83 for 250 iterations...\n",
      "Iteration   50, KL divergence 3.6320, 50 iterations in 8.2750 sec\n",
      "Iteration  100, KL divergence 3.7340, 50 iterations in 7.6305 sec\n",
      "Iteration  150, KL divergence 3.7366, 50 iterations in 7.7074 sec\n",
      "Iteration  200, KL divergence 3.7366, 50 iterations in 7.7617 sec\n",
      "Iteration  250, KL divergence 3.7365, 50 iterations in 7.7722 sec\n",
      "   --> Time elapsed: 39.15 seconds\n",
      "===> Running optimization with exaggeration=1.00, lr=3850.00 for 500 iterations...\n",
      "Iteration   50, KL divergence 1.4681, 50 iterations in 7.1748 sec\n",
      "Iteration  100, KL divergence 1.3414, 50 iterations in 7.0813 sec\n",
      "Iteration  150, KL divergence 1.2955, 50 iterations in 7.1964 sec\n",
      "Iteration  200, KL divergence 1.2722, 50 iterations in 7.2064 sec\n",
      "Iteration  250, KL divergence 1.2586, 50 iterations in 7.2374 sec\n",
      "Iteration  300, KL divergence 1.2499, 50 iterations in 7.2705 sec\n",
      "Iteration  350, KL divergence 1.2427, 50 iterations in 7.2900 sec\n",
      "Iteration  400, KL divergence 1.2368, 50 iterations in 7.2809 sec\n",
      "Iteration  450, KL divergence 1.2324, 50 iterations in 7.2691 sec\n",
      "Iteration  500, KL divergence 1.2287, 50 iterations in 7.2842 sec\n",
      "   --> Time elapsed: 72.29 seconds\n",
      "running only on unscaled data for mnist\n",
      "mnist seed: 0 scaled: False\n",
      "PCA2\n",
      "PCA50\n",
      "UMAP\n",
      "UMAP(random_state=0, verbose=True)\n",
      "Wed Feb 19 00:12:03 2025 Construct fuzzy simplicial set\n",
      "Wed Feb 19 00:12:04 2025 Finding Nearest Neighbors\n",
      "Wed Feb 19 00:12:04 2025 Building RP forest with 18 trees\n"
     ]
    },
    {
     "name": "stderr",
     "output_type": "stream",
     "text": [
      "/data/cephfs-1/work/groups/ludwig/users/lzaschk_m/miniforge3/envs/elephant_analysis_env/lib/python3.11/site-packages/umap/umap_.py:1943: UserWarning: n_jobs value -1 overridden to 1 by setting random_state. Use no seed for parallelism.\n",
      "  warn(f\"n_jobs value {self.n_jobs} overridden to 1 by setting random_state. Use no seed for parallelism.\")\n"
     ]
    },
    {
     "name": "stdout",
     "output_type": "stream",
     "text": [
      "Wed Feb 19 00:12:04 2025 NN descent for 16 iterations\n",
      "\t 1  /  16\n",
      "\t 2  /  16\n",
      "\t 3  /  16\n",
      "\t 4  /  16\n",
      "\tStopping threshold met -- exiting after 4 iterations\n",
      "Wed Feb 19 00:12:07 2025 Finished Nearest Neighbor Search\n",
      "Wed Feb 19 00:12:08 2025 Construct embedding\n"
     ]
    },
    {
     "name": "stderr",
     "output_type": "stream",
     "text": [
      "Epochs completed:   0%|            1/200 [00:00]"
     ]
    },
    {
     "name": "stdout",
     "output_type": "stream",
     "text": [
      "\tcompleted  0  /  200 epochs\n"
     ]
    },
    {
     "name": "stderr",
     "output_type": "stream",
     "text": [
      "Epochs completed:  10%| █          21/200 [00:07]"
     ]
    },
    {
     "name": "stdout",
     "output_type": "stream",
     "text": [
      "\tcompleted  20  /  200 epochs\n"
     ]
    },
    {
     "name": "stderr",
     "output_type": "stream",
     "text": [
      "Epochs completed:  20%| ██         41/200 [00:14]"
     ]
    },
    {
     "name": "stdout",
     "output_type": "stream",
     "text": [
      "\tcompleted  40  /  200 epochs\n"
     ]
    },
    {
     "name": "stderr",
     "output_type": "stream",
     "text": [
      "Epochs completed:  31%| ███        62/200 [00:21]"
     ]
    },
    {
     "name": "stdout",
     "output_type": "stream",
     "text": [
      "\tcompleted  60  /  200 epochs\n"
     ]
    },
    {
     "name": "stderr",
     "output_type": "stream",
     "text": [
      "Epochs completed:  41%| ████       82/200 [00:28]"
     ]
    },
    {
     "name": "stdout",
     "output_type": "stream",
     "text": [
      "\tcompleted  80  /  200 epochs\n"
     ]
    },
    {
     "name": "stderr",
     "output_type": "stream",
     "text": [
      "Epochs completed:  51%| █████      102/200 [00:35]"
     ]
    },
    {
     "name": "stdout",
     "output_type": "stream",
     "text": [
      "\tcompleted  100  /  200 epochs\n"
     ]
    },
    {
     "name": "stderr",
     "output_type": "stream",
     "text": [
      "Epochs completed:  61%| ██████     122/200 [00:41]"
     ]
    },
    {
     "name": "stdout",
     "output_type": "stream",
     "text": [
      "\tcompleted  120  /  200 epochs\n"
     ]
    },
    {
     "name": "stderr",
     "output_type": "stream",
     "text": [
      "Epochs completed:  70%| ███████    141/200 [00:48]"
     ]
    },
    {
     "name": "stdout",
     "output_type": "stream",
     "text": [
      "\tcompleted  140  /  200 epochs\n"
     ]
    },
    {
     "name": "stderr",
     "output_type": "stream",
     "text": [
      "Epochs completed:  81%| ████████   162/200 [00:55]"
     ]
    },
    {
     "name": "stdout",
     "output_type": "stream",
     "text": [
      "\tcompleted  160  /  200 epochs\n"
     ]
    },
    {
     "name": "stderr",
     "output_type": "stream",
     "text": [
      "Epochs completed:  91%| █████████  182/200 [01:02]"
     ]
    },
    {
     "name": "stdout",
     "output_type": "stream",
     "text": [
      "\tcompleted  180  /  200 epochs\n"
     ]
    },
    {
     "name": "stderr",
     "output_type": "stream",
     "text": [
      "Epochs completed: 100%| ██████████ 200/200 [01:08]\n"
     ]
    },
    {
     "name": "stdout",
     "output_type": "stream",
     "text": [
      "Wed Feb 19 00:13:22 2025 Finished embedding\n",
      "TSNE\n",
      "--------------------------------------------------------------------------------\n",
      "TSNE(early_exaggeration=12, random_state=0, verbose=True)\n",
      "--------------------------------------------------------------------------------\n",
      "===> Finding 90 nearest neighbors using Annoy approximate search using euclidean distance...\n",
      "   --> Time elapsed: 71.82 seconds\n",
      "===> Calculating affinity matrix...\n",
      "   --> Time elapsed: 5.85 seconds\n",
      "===> Calculating PCA-based initialization...\n",
      "   --> Time elapsed: 0.35 seconds\n",
      "===> Running optimization with exaggeration=12.00, lr=5833.33 for 250 iterations...\n",
      "Iteration   50, KL divergence 5.9802, 50 iterations in 10.0494 sec\n",
      "Iteration  100, KL divergence 5.7635, 50 iterations in 9.9969 sec\n",
      "Iteration  150, KL divergence 5.6987, 50 iterations in 9.9652 sec\n",
      "Iteration  200, KL divergence 5.6751, 50 iterations in 9.9738 sec\n",
      "Iteration  250, KL divergence 5.6637, 50 iterations in 9.9511 sec\n",
      "   --> Time elapsed: 49.94 seconds\n",
      "===> Running optimization with exaggeration=1.00, lr=70000.00 for 500 iterations...\n",
      "Iteration   50, KL divergence 3.5612, 50 iterations in 10.2444 sec\n",
      "Iteration  100, KL divergence 3.2915, 50 iterations in 12.0181 sec\n",
      "Iteration  150, KL divergence 3.1542, 50 iterations in 14.1824 sec\n",
      "Iteration  200, KL divergence 3.0647, 50 iterations in 16.0421 sec\n",
      "Iteration  250, KL divergence 2.9996, 50 iterations in 17.7846 sec\n",
      "Iteration  300, KL divergence 2.9492, 50 iterations in 19.8664 sec\n",
      "Iteration  350, KL divergence 2.9088, 50 iterations in 21.7019 sec\n",
      "Iteration  400, KL divergence 2.8751, 50 iterations in 24.6121 sec\n",
      "Iteration  450, KL divergence 2.8462, 50 iterations in 29.3623 sec\n",
      "Iteration  500, KL divergence 2.8220, 50 iterations in 30.5958 sec\n",
      "   --> Time elapsed: 196.41 seconds\n",
      "mnist seed: 1 scaled: False\n",
      "PCA2\n",
      "PCA50\n",
      "UMAP\n",
      "UMAP(random_state=1, verbose=True)\n",
      "Wed Feb 19 00:18:53 2025 Construct fuzzy simplicial set\n",
      "Wed Feb 19 00:18:53 2025 Finding Nearest Neighbors\n",
      "Wed Feb 19 00:18:53 2025 Building RP forest with 18 trees\n"
     ]
    },
    {
     "name": "stderr",
     "output_type": "stream",
     "text": [
      "/data/cephfs-1/work/groups/ludwig/users/lzaschk_m/miniforge3/envs/elephant_analysis_env/lib/python3.11/site-packages/umap/umap_.py:1943: UserWarning: n_jobs value -1 overridden to 1 by setting random_state. Use no seed for parallelism.\n",
      "  warn(f\"n_jobs value {self.n_jobs} overridden to 1 by setting random_state. Use no seed for parallelism.\")\n"
     ]
    },
    {
     "name": "stdout",
     "output_type": "stream",
     "text": [
      "Wed Feb 19 00:18:54 2025 NN descent for 16 iterations\n",
      "\t 1  /  16\n",
      "\t 2  /  16\n",
      "\t 3  /  16\n",
      "\t 4  /  16\n",
      "\tStopping threshold met -- exiting after 4 iterations\n",
      "Wed Feb 19 00:18:57 2025 Finished Nearest Neighbor Search\n",
      "Wed Feb 19 00:18:58 2025 Construct embedding\n"
     ]
    },
    {
     "name": "stderr",
     "output_type": "stream",
     "text": [
      "Epochs completed:   0%|            1/200 [00:01]"
     ]
    },
    {
     "name": "stdout",
     "output_type": "stream",
     "text": [
      "\tcompleted  0  /  200 epochs\n"
     ]
    },
    {
     "name": "stderr",
     "output_type": "stream",
     "text": [
      "Epochs completed:  11%| █          22/200 [00:07]"
     ]
    },
    {
     "name": "stdout",
     "output_type": "stream",
     "text": [
      "\tcompleted  20  /  200 epochs\n"
     ]
    },
    {
     "name": "stderr",
     "output_type": "stream",
     "text": [
      "Epochs completed:  21%| ██         42/200 [00:14]"
     ]
    },
    {
     "name": "stdout",
     "output_type": "stream",
     "text": [
      "\tcompleted  40  /  200 epochs\n"
     ]
    },
    {
     "name": "stderr",
     "output_type": "stream",
     "text": [
      "Epochs completed:  31%| ███        62/200 [00:21]"
     ]
    },
    {
     "name": "stdout",
     "output_type": "stream",
     "text": [
      "\tcompleted  60  /  200 epochs\n"
     ]
    },
    {
     "name": "stderr",
     "output_type": "stream",
     "text": [
      "Epochs completed:  40%| ████       81/200 [00:27]"
     ]
    },
    {
     "name": "stdout",
     "output_type": "stream",
     "text": [
      "\tcompleted  80  /  200 epochs\n"
     ]
    },
    {
     "name": "stderr",
     "output_type": "stream",
     "text": [
      "Epochs completed:  51%| █████      102/200 [00:34]"
     ]
    },
    {
     "name": "stdout",
     "output_type": "stream",
     "text": [
      "\tcompleted  100  /  200 epochs\n"
     ]
    },
    {
     "name": "stderr",
     "output_type": "stream",
     "text": [
      "Epochs completed:  61%| ██████     122/200 [00:41]"
     ]
    },
    {
     "name": "stdout",
     "output_type": "stream",
     "text": [
      "\tcompleted  120  /  200 epochs\n"
     ]
    },
    {
     "name": "stderr",
     "output_type": "stream",
     "text": [
      "Epochs completed:  70%| ███████    141/200 [00:47]"
     ]
    },
    {
     "name": "stdout",
     "output_type": "stream",
     "text": [
      "\tcompleted  140  /  200 epochs\n"
     ]
    },
    {
     "name": "stderr",
     "output_type": "stream",
     "text": [
      "Epochs completed:  81%| ████████   162/200 [00:55]"
     ]
    },
    {
     "name": "stdout",
     "output_type": "stream",
     "text": [
      "\tcompleted  160  /  200 epochs\n"
     ]
    },
    {
     "name": "stderr",
     "output_type": "stream",
     "text": [
      "Epochs completed:  90%| █████████  181/200 [01:01]"
     ]
    },
    {
     "name": "stdout",
     "output_type": "stream",
     "text": [
      "\tcompleted  180  /  200 epochs\n"
     ]
    },
    {
     "name": "stderr",
     "output_type": "stream",
     "text": [
      "Epochs completed: 100%| ██████████ 200/200 [01:07]\n"
     ]
    },
    {
     "name": "stdout",
     "output_type": "stream",
     "text": [
      "Wed Feb 19 00:20:11 2025 Finished embedding\n",
      "TSNE\n",
      "--------------------------------------------------------------------------------\n",
      "TSNE(early_exaggeration=12, random_state=1, verbose=True)\n",
      "--------------------------------------------------------------------------------\n",
      "===> Finding 90 nearest neighbors using Annoy approximate search using euclidean distance...\n",
      "   --> Time elapsed: 71.67 seconds\n",
      "===> Calculating affinity matrix...\n",
      "   --> Time elapsed: 5.80 seconds\n",
      "===> Calculating PCA-based initialization...\n",
      "   --> Time elapsed: 0.31 seconds\n",
      "===> Running optimization with exaggeration=12.00, lr=5833.33 for 250 iterations...\n",
      "Iteration   50, KL divergence 5.9835, 50 iterations in 10.0298 sec\n",
      "Iteration  100, KL divergence 5.7655, 50 iterations in 9.9377 sec\n",
      "Iteration  150, KL divergence 5.7005, 50 iterations in 9.9336 sec\n",
      "Iteration  200, KL divergence 5.6767, 50 iterations in 9.9220 sec\n",
      "Iteration  250, KL divergence 5.6651, 50 iterations in 9.9188 sec\n",
      "   --> Time elapsed: 49.74 seconds\n",
      "===> Running optimization with exaggeration=1.00, lr=70000.00 for 500 iterations...\n",
      "Iteration   50, KL divergence 3.5615, 50 iterations in 10.1962 sec\n",
      "Iteration  100, KL divergence 3.2924, 50 iterations in 11.9526 sec\n",
      "Iteration  150, KL divergence 3.1552, 50 iterations in 14.0866 sec\n",
      "Iteration  200, KL divergence 3.0658, 50 iterations in 15.9516 sec\n",
      "Iteration  250, KL divergence 3.0007, 50 iterations in 17.8632 sec\n",
      "Iteration  300, KL divergence 2.9505, 50 iterations in 19.7580 sec\n",
      "Iteration  350, KL divergence 2.9101, 50 iterations in 22.0580 sec\n",
      "Iteration  400, KL divergence 2.8764, 50 iterations in 26.2018 sec\n",
      "Iteration  450, KL divergence 2.8476, 50 iterations in 29.3179 sec\n",
      "Iteration  500, KL divergence 2.8237, 50 iterations in 30.6379 sec\n",
      "   --> Time elapsed: 198.02 seconds\n",
      "mnist seed: 2 scaled: False\n",
      "PCA2\n",
      "PCA50\n",
      "UMAP\n",
      "UMAP(random_state=2, verbose=True)\n",
      "Wed Feb 19 00:25:44 2025 Construct fuzzy simplicial set\n",
      "Wed Feb 19 00:25:44 2025 Finding Nearest Neighbors\n",
      "Wed Feb 19 00:25:44 2025 Building RP forest with 18 trees\n"
     ]
    },
    {
     "name": "stderr",
     "output_type": "stream",
     "text": [
      "/data/cephfs-1/work/groups/ludwig/users/lzaschk_m/miniforge3/envs/elephant_analysis_env/lib/python3.11/site-packages/umap/umap_.py:1943: UserWarning: n_jobs value -1 overridden to 1 by setting random_state. Use no seed for parallelism.\n",
      "  warn(f\"n_jobs value {self.n_jobs} overridden to 1 by setting random_state. Use no seed for parallelism.\")\n"
     ]
    },
    {
     "name": "stdout",
     "output_type": "stream",
     "text": [
      "Wed Feb 19 00:25:44 2025 NN descent for 16 iterations\n",
      "\t 1  /  16\n",
      "\t 2  /  16\n",
      "\t 3  /  16\n",
      "\t 4  /  16\n",
      "\tStopping threshold met -- exiting after 4 iterations\n",
      "Wed Feb 19 00:25:47 2025 Finished Nearest Neighbor Search\n",
      "Wed Feb 19 00:25:48 2025 Construct embedding\n"
     ]
    },
    {
     "name": "stderr",
     "output_type": "stream",
     "text": [
      "Epochs completed:   2%| ▏          3/200 [00:01]"
     ]
    },
    {
     "name": "stdout",
     "output_type": "stream",
     "text": [
      "\tcompleted  0  /  200 epochs\n"
     ]
    },
    {
     "name": "stderr",
     "output_type": "stream",
     "text": [
      "Epochs completed:  11%| █          22/200 [00:07]"
     ]
    },
    {
     "name": "stdout",
     "output_type": "stream",
     "text": [
      "\tcompleted  20  /  200 epochs\n"
     ]
    },
    {
     "name": "stderr",
     "output_type": "stream",
     "text": [
      "Epochs completed:  21%| ██         42/200 [00:14]"
     ]
    },
    {
     "name": "stdout",
     "output_type": "stream",
     "text": [
      "\tcompleted  40  /  200 epochs\n"
     ]
    },
    {
     "name": "stderr",
     "output_type": "stream",
     "text": [
      "Epochs completed:  30%| ███        61/200 [00:20]"
     ]
    },
    {
     "name": "stdout",
     "output_type": "stream",
     "text": [
      "\tcompleted  60  /  200 epochs\n"
     ]
    },
    {
     "name": "stderr",
     "output_type": "stream",
     "text": [
      "Epochs completed:  41%| ████       82/200 [00:27]"
     ]
    },
    {
     "name": "stdout",
     "output_type": "stream",
     "text": [
      "\tcompleted  80  /  200 epochs\n"
     ]
    },
    {
     "name": "stderr",
     "output_type": "stream",
     "text": [
      "Epochs completed:  51%| █████      102/200 [00:34]"
     ]
    },
    {
     "name": "stdout",
     "output_type": "stream",
     "text": [
      "\tcompleted  100  /  200 epochs\n"
     ]
    },
    {
     "name": "stderr",
     "output_type": "stream",
     "text": [
      "Epochs completed:  61%| ██████     122/200 [00:41]"
     ]
    },
    {
     "name": "stdout",
     "output_type": "stream",
     "text": [
      "\tcompleted  120  /  200 epochs\n"
     ]
    },
    {
     "name": "stderr",
     "output_type": "stream",
     "text": [
      "Epochs completed:  70%| ███████    141/200 [00:47]"
     ]
    },
    {
     "name": "stdout",
     "output_type": "stream",
     "text": [
      "\tcompleted  140  /  200 epochs\n"
     ]
    },
    {
     "name": "stderr",
     "output_type": "stream",
     "text": [
      "Epochs completed:  81%| ████████   162/200 [00:55]"
     ]
    },
    {
     "name": "stdout",
     "output_type": "stream",
     "text": [
      "\tcompleted  160  /  200 epochs\n"
     ]
    },
    {
     "name": "stderr",
     "output_type": "stream",
     "text": [
      "Epochs completed:  90%| █████████  181/200 [01:01]"
     ]
    },
    {
     "name": "stdout",
     "output_type": "stream",
     "text": [
      "\tcompleted  180  /  200 epochs\n"
     ]
    },
    {
     "name": "stderr",
     "output_type": "stream",
     "text": [
      "Epochs completed: 100%| ██████████ 200/200 [01:08]\n"
     ]
    },
    {
     "name": "stdout",
     "output_type": "stream",
     "text": [
      "Wed Feb 19 00:27:02 2025 Finished embedding\n",
      "TSNE\n",
      "--------------------------------------------------------------------------------\n",
      "TSNE(early_exaggeration=12, random_state=2, verbose=True)\n",
      "--------------------------------------------------------------------------------\n",
      "===> Finding 90 nearest neighbors using Annoy approximate search using euclidean distance...\n",
      "   --> Time elapsed: 71.25 seconds\n",
      "===> Calculating affinity matrix...\n",
      "   --> Time elapsed: 5.77 seconds\n",
      "===> Calculating PCA-based initialization...\n",
      "   --> Time elapsed: 0.37 seconds\n",
      "===> Running optimization with exaggeration=12.00, lr=5833.33 for 250 iterations...\n",
      "Iteration   50, KL divergence 5.9792, 50 iterations in 10.0595 sec\n",
      "Iteration  100, KL divergence 5.7624, 50 iterations in 10.0090 sec\n",
      "Iteration  150, KL divergence 5.6972, 50 iterations in 9.9860 sec\n",
      "Iteration  200, KL divergence 5.6738, 50 iterations in 9.9786 sec\n",
      "Iteration  250, KL divergence 5.6622, 50 iterations in 9.9853 sec\n",
      "   --> Time elapsed: 50.02 seconds\n",
      "===> Running optimization with exaggeration=1.00, lr=70000.00 for 500 iterations...\n",
      "Iteration   50, KL divergence 3.5597, 50 iterations in 10.2412 sec\n",
      "Iteration  100, KL divergence 3.2903, 50 iterations in 11.9895 sec\n",
      "Iteration  150, KL divergence 3.1531, 50 iterations in 14.0827 sec\n",
      "Iteration  200, KL divergence 3.0636, 50 iterations in 15.9193 sec\n",
      "Iteration  250, KL divergence 2.9987, 50 iterations in 17.7975 sec\n",
      "Iteration  300, KL divergence 2.9484, 50 iterations in 20.3079 sec\n",
      "Iteration  350, KL divergence 2.9084, 50 iterations in 23.7650 sec\n",
      "Iteration  400, KL divergence 2.8747, 50 iterations in 26.3243 sec\n",
      "Iteration  450, KL divergence 2.8458, 50 iterations in 29.3100 sec\n",
      "Iteration  500, KL divergence 2.8215, 50 iterations in 30.4145 sec\n",
      "   --> Time elapsed: 200.15 seconds\n",
      "mnist seed: 3 scaled: False\n",
      "PCA2\n",
      "PCA50\n",
      "UMAP\n",
      "UMAP(random_state=3, verbose=True)\n",
      "Wed Feb 19 00:32:36 2025 Construct fuzzy simplicial set\n",
      "Wed Feb 19 00:32:36 2025 Finding Nearest Neighbors\n",
      "Wed Feb 19 00:32:36 2025 Building RP forest with 18 trees\n"
     ]
    },
    {
     "name": "stderr",
     "output_type": "stream",
     "text": [
      "/data/cephfs-1/work/groups/ludwig/users/lzaschk_m/miniforge3/envs/elephant_analysis_env/lib/python3.11/site-packages/umap/umap_.py:1943: UserWarning: n_jobs value -1 overridden to 1 by setting random_state. Use no seed for parallelism.\n",
      "  warn(f\"n_jobs value {self.n_jobs} overridden to 1 by setting random_state. Use no seed for parallelism.\")\n"
     ]
    },
    {
     "name": "stdout",
     "output_type": "stream",
     "text": [
      "Wed Feb 19 00:32:36 2025 NN descent for 16 iterations\n",
      "\t 1  /  16\n",
      "\t 2  /  16\n",
      "\t 3  /  16\n",
      "\t 4  /  16\n",
      "\tStopping threshold met -- exiting after 4 iterations\n",
      "Wed Feb 19 00:32:39 2025 Finished Nearest Neighbor Search\n",
      "Wed Feb 19 00:32:40 2025 Construct embedding\n"
     ]
    },
    {
     "name": "stderr",
     "output_type": "stream",
     "text": [
      "Epochs completed:   0%|            1/200 [00:00]"
     ]
    },
    {
     "name": "stdout",
     "output_type": "stream",
     "text": [
      "\tcompleted  0  /  200 epochs\n"
     ]
    },
    {
     "name": "stderr",
     "output_type": "stream",
     "text": [
      "Epochs completed:  11%| █          22/200 [00:07]"
     ]
    },
    {
     "name": "stdout",
     "output_type": "stream",
     "text": [
      "\tcompleted  20  /  200 epochs\n"
     ]
    },
    {
     "name": "stderr",
     "output_type": "stream",
     "text": [
      "Epochs completed:  21%| ██         42/200 [00:14]"
     ]
    },
    {
     "name": "stdout",
     "output_type": "stream",
     "text": [
      "\tcompleted  40  /  200 epochs\n"
     ]
    },
    {
     "name": "stderr",
     "output_type": "stream",
     "text": [
      "Epochs completed:  31%| ███        62/200 [00:20]"
     ]
    },
    {
     "name": "stdout",
     "output_type": "stream",
     "text": [
      "\tcompleted  60  /  200 epochs\n"
     ]
    },
    {
     "name": "stderr",
     "output_type": "stream",
     "text": [
      "Epochs completed:  41%| ████       82/200 [00:27]"
     ]
    },
    {
     "name": "stdout",
     "output_type": "stream",
     "text": [
      "\tcompleted  80  /  200 epochs\n"
     ]
    },
    {
     "name": "stderr",
     "output_type": "stream",
     "text": [
      "Epochs completed:  51%| █████      102/200 [00:34]"
     ]
    },
    {
     "name": "stdout",
     "output_type": "stream",
     "text": [
      "\tcompleted  100  /  200 epochs\n"
     ]
    },
    {
     "name": "stderr",
     "output_type": "stream",
     "text": [
      "Epochs completed:  61%| ██████     122/200 [00:41]"
     ]
    },
    {
     "name": "stdout",
     "output_type": "stream",
     "text": [
      "\tcompleted  120  /  200 epochs\n"
     ]
    },
    {
     "name": "stderr",
     "output_type": "stream",
     "text": [
      "Epochs completed:  71%| ███████    142/200 [00:47]"
     ]
    },
    {
     "name": "stdout",
     "output_type": "stream",
     "text": [
      "\tcompleted  140  /  200 epochs\n"
     ]
    },
    {
     "name": "stderr",
     "output_type": "stream",
     "text": [
      "Epochs completed:  81%| ████████   162/200 [00:54]"
     ]
    },
    {
     "name": "stdout",
     "output_type": "stream",
     "text": [
      "\tcompleted  160  /  200 epochs\n"
     ]
    },
    {
     "name": "stderr",
     "output_type": "stream",
     "text": [
      "Epochs completed:  91%| █████████  182/200 [01:01]"
     ]
    },
    {
     "name": "stdout",
     "output_type": "stream",
     "text": [
      "\tcompleted  180  /  200 epochs\n"
     ]
    },
    {
     "name": "stderr",
     "output_type": "stream",
     "text": [
      "Epochs completed: 100%| ██████████ 200/200 [01:07]\n"
     ]
    },
    {
     "name": "stdout",
     "output_type": "stream",
     "text": [
      "Wed Feb 19 00:33:53 2025 Finished embedding\n",
      "TSNE\n",
      "--------------------------------------------------------------------------------\n",
      "TSNE(early_exaggeration=12, random_state=3, verbose=True)\n",
      "--------------------------------------------------------------------------------\n",
      "===> Finding 90 nearest neighbors using Annoy approximate search using euclidean distance...\n",
      "   --> Time elapsed: 71.62 seconds\n",
      "===> Calculating affinity matrix...\n",
      "   --> Time elapsed: 5.78 seconds\n",
      "===> Calculating PCA-based initialization...\n",
      "   --> Time elapsed: 0.40 seconds\n",
      "===> Running optimization with exaggeration=12.00, lr=5833.33 for 250 iterations...\n",
      "Iteration   50, KL divergence 5.9799, 50 iterations in 10.0305 sec\n",
      "Iteration  100, KL divergence 5.7620, 50 iterations in 9.9906 sec\n",
      "Iteration  150, KL divergence 5.6967, 50 iterations in 9.9649 sec\n",
      "Iteration  200, KL divergence 5.6729, 50 iterations in 9.9595 sec\n",
      "Iteration  250, KL divergence 5.6613, 50 iterations in 9.9586 sec\n",
      "   --> Time elapsed: 49.90 seconds\n",
      "===> Running optimization with exaggeration=1.00, lr=70000.00 for 500 iterations...\n",
      "Iteration   50, KL divergence 3.5603, 50 iterations in 10.3621 sec\n",
      "Iteration  100, KL divergence 3.2911, 50 iterations in 12.1230 sec\n",
      "Iteration  150, KL divergence 3.1538, 50 iterations in 14.1765 sec\n",
      "Iteration  200, KL divergence 3.0643, 50 iterations in 15.9445 sec\n",
      "Iteration  250, KL divergence 2.9995, 50 iterations in 17.7556 sec\n",
      "Iteration  300, KL divergence 2.9492, 50 iterations in 19.5762 sec\n",
      "Iteration  350, KL divergence 2.9090, 50 iterations in 22.5435 sec\n",
      "Iteration  400, KL divergence 2.8750, 50 iterations in 26.1893 sec\n",
      "Iteration  450, KL divergence 2.8462, 50 iterations in 29.2095 sec\n",
      "Iteration  500, KL divergence 2.8221, 50 iterations in 30.8077 sec\n",
      "   --> Time elapsed: 198.69 seconds\n",
      "mnist seed: 4 scaled: False\n",
      "PCA2\n",
      "PCA50\n",
      "UMAP\n",
      "UMAP(random_state=4, verbose=True)\n",
      "Wed Feb 19 00:39:27 2025 Construct fuzzy simplicial set\n",
      "Wed Feb 19 00:39:27 2025 Finding Nearest Neighbors\n",
      "Wed Feb 19 00:39:27 2025 Building RP forest with 18 trees\n"
     ]
    },
    {
     "name": "stderr",
     "output_type": "stream",
     "text": [
      "/data/cephfs-1/work/groups/ludwig/users/lzaschk_m/miniforge3/envs/elephant_analysis_env/lib/python3.11/site-packages/umap/umap_.py:1943: UserWarning: n_jobs value -1 overridden to 1 by setting random_state. Use no seed for parallelism.\n",
      "  warn(f\"n_jobs value {self.n_jobs} overridden to 1 by setting random_state. Use no seed for parallelism.\")\n"
     ]
    },
    {
     "name": "stdout",
     "output_type": "stream",
     "text": [
      "Wed Feb 19 00:39:27 2025 NN descent for 16 iterations\n",
      "\t 1  /  16\n",
      "\t 2  /  16\n",
      "\t 3  /  16\n",
      "\t 4  /  16\n",
      "\tStopping threshold met -- exiting after 4 iterations\n",
      "Wed Feb 19 00:39:30 2025 Finished Nearest Neighbor Search\n",
      "Wed Feb 19 00:39:31 2025 Construct embedding\n"
     ]
    },
    {
     "name": "stderr",
     "output_type": "stream",
     "text": [
      "Epochs completed:   2%| ▏          3/200 [00:01]"
     ]
    },
    {
     "name": "stdout",
     "output_type": "stream",
     "text": [
      "\tcompleted  0  /  200 epochs\n"
     ]
    },
    {
     "name": "stderr",
     "output_type": "stream",
     "text": [
      "Epochs completed:  11%| █          22/200 [00:07]"
     ]
    },
    {
     "name": "stdout",
     "output_type": "stream",
     "text": [
      "\tcompleted  20  /  200 epochs\n"
     ]
    },
    {
     "name": "stderr",
     "output_type": "stream",
     "text": [
      "Epochs completed:  21%| ██         42/200 [00:14]"
     ]
    },
    {
     "name": "stdout",
     "output_type": "stream",
     "text": [
      "\tcompleted  40  /  200 epochs\n"
     ]
    },
    {
     "name": "stderr",
     "output_type": "stream",
     "text": [
      "Epochs completed:  31%| ███        62/200 [00:21]"
     ]
    },
    {
     "name": "stdout",
     "output_type": "stream",
     "text": [
      "\tcompleted  60  /  200 epochs\n"
     ]
    },
    {
     "name": "stderr",
     "output_type": "stream",
     "text": [
      "Epochs completed:  41%| ████       82/200 [00:28]"
     ]
    },
    {
     "name": "stdout",
     "output_type": "stream",
     "text": [
      "\tcompleted  80  /  200 epochs\n"
     ]
    },
    {
     "name": "stderr",
     "output_type": "stream",
     "text": [
      "Epochs completed:  51%| █████      102/200 [00:35]"
     ]
    },
    {
     "name": "stdout",
     "output_type": "stream",
     "text": [
      "\tcompleted  100  /  200 epochs\n"
     ]
    },
    {
     "name": "stderr",
     "output_type": "stream",
     "text": [
      "Epochs completed:  61%| ██████     122/200 [00:41]"
     ]
    },
    {
     "name": "stdout",
     "output_type": "stream",
     "text": [
      "\tcompleted  120  /  200 epochs\n"
     ]
    },
    {
     "name": "stderr",
     "output_type": "stream",
     "text": [
      "Epochs completed:  71%| ███████    142/200 [00:48]"
     ]
    },
    {
     "name": "stdout",
     "output_type": "stream",
     "text": [
      "\tcompleted  140  /  200 epochs\n"
     ]
    },
    {
     "name": "stderr",
     "output_type": "stream",
     "text": [
      "Epochs completed:  81%| ████████   162/200 [00:55]"
     ]
    },
    {
     "name": "stdout",
     "output_type": "stream",
     "text": [
      "\tcompleted  160  /  200 epochs\n"
     ]
    },
    {
     "name": "stderr",
     "output_type": "stream",
     "text": [
      "Epochs completed:  91%| █████████  182/200 [01:02]"
     ]
    },
    {
     "name": "stdout",
     "output_type": "stream",
     "text": [
      "\tcompleted  180  /  200 epochs\n"
     ]
    },
    {
     "name": "stderr",
     "output_type": "stream",
     "text": [
      "Epochs completed: 100%| ██████████ 200/200 [01:08]\n"
     ]
    },
    {
     "name": "stdout",
     "output_type": "stream",
     "text": [
      "Wed Feb 19 00:40:46 2025 Finished embedding\n",
      "TSNE\n",
      "--------------------------------------------------------------------------------\n",
      "TSNE(early_exaggeration=12, random_state=4, verbose=True)\n",
      "--------------------------------------------------------------------------------\n",
      "===> Finding 90 nearest neighbors using Annoy approximate search using euclidean distance...\n",
      "   --> Time elapsed: 71.79 seconds\n",
      "===> Calculating affinity matrix...\n",
      "   --> Time elapsed: 5.79 seconds\n",
      "===> Calculating PCA-based initialization...\n",
      "   --> Time elapsed: 0.33 seconds\n",
      "===> Running optimization with exaggeration=12.00, lr=5833.33 for 250 iterations...\n",
      "Iteration   50, KL divergence 5.9799, 50 iterations in 10.4146 sec\n",
      "Iteration  100, KL divergence 5.7626, 50 iterations in 10.3675 sec\n",
      "Iteration  150, KL divergence 5.6972, 50 iterations in 10.3261 sec\n",
      "Iteration  200, KL divergence 5.6734, 50 iterations in 10.1396 sec\n",
      "Iteration  250, KL divergence 5.6619, 50 iterations in 10.1394 sec\n",
      "   --> Time elapsed: 51.39 seconds\n",
      "===> Running optimization with exaggeration=1.00, lr=70000.00 for 500 iterations...\n",
      "Iteration   50, KL divergence 3.5587, 50 iterations in 10.5455 sec\n",
      "Iteration  100, KL divergence 3.2902, 50 iterations in 12.1789 sec\n",
      "Iteration  150, KL divergence 3.1532, 50 iterations in 14.1983 sec\n",
      "Iteration  200, KL divergence 3.0638, 50 iterations in 15.9439 sec\n",
      "Iteration  250, KL divergence 2.9989, 50 iterations in 17.8652 sec\n",
      "Iteration  300, KL divergence 2.9487, 50 iterations in 19.8616 sec\n",
      "Iteration  350, KL divergence 2.9085, 50 iterations in 22.0251 sec\n",
      "Iteration  400, KL divergence 2.8753, 50 iterations in 26.1602 sec\n",
      "Iteration  450, KL divergence 2.8463, 50 iterations in 29.4885 sec\n",
      "Iteration  500, KL divergence 2.8220, 50 iterations in 30.6981 sec\n",
      "   --> Time elapsed: 198.97 seconds\n",
      "running only on unscaled data for exut-sim-theta-10-real-seqdepths\n",
      "exut-sim-theta-10-real-seqdepths seed: 0 scaled: False\n",
      "PCA2\n",
      "PCA50\n",
      "UMAP\n",
      "UMAP(random_state=0, verbose=True)\n",
      "Wed Feb 19 00:46:17 2025 Construct fuzzy simplicial set\n",
      "Wed Feb 19 00:46:17 2025 Finding Nearest Neighbors\n",
      "Wed Feb 19 00:46:17 2025 Building RP forest with 9 trees\n",
      "Wed Feb 19 00:46:18 2025 NN descent for 13 iterations\n"
     ]
    },
    {
     "name": "stderr",
     "output_type": "stream",
     "text": [
      "/data/cephfs-1/work/groups/ludwig/users/lzaschk_m/miniforge3/envs/elephant_analysis_env/lib/python3.11/site-packages/umap/umap_.py:1943: UserWarning: n_jobs value -1 overridden to 1 by setting random_state. Use no seed for parallelism.\n",
      "  warn(f\"n_jobs value {self.n_jobs} overridden to 1 by setting random_state. Use no seed for parallelism.\")\n"
     ]
    },
    {
     "name": "stdout",
     "output_type": "stream",
     "text": [
      "\t 1  /  13\n",
      "\t 2  /  13\n",
      "\t 3  /  13\n",
      "\t 4  /  13\n",
      "\t 5  /  13\n",
      "\tStopping threshold met -- exiting after 5 iterations\n",
      "Wed Feb 19 00:46:18 2025 Finished Nearest Neighbor Search\n",
      "Wed Feb 19 00:46:18 2025 Construct embedding\n"
     ]
    },
    {
     "name": "stderr",
     "output_type": "stream",
     "text": [
      "Epochs completed:   2%| ▏          10/500 [00:01]"
     ]
    },
    {
     "name": "stdout",
     "output_type": "stream",
     "text": [
      "\tcompleted  0  /  500 epochs\n"
     ]
    },
    {
     "name": "stderr",
     "output_type": "stream",
     "text": [
      "Epochs completed:  12%| █▏         58/500 [00:02]"
     ]
    },
    {
     "name": "stdout",
     "output_type": "stream",
     "text": [
      "\tcompleted  50  /  500 epochs\n"
     ]
    },
    {
     "name": "stderr",
     "output_type": "stream",
     "text": [
      "Epochs completed:  21%| ██         106/500 [00:04]"
     ]
    },
    {
     "name": "stdout",
     "output_type": "stream",
     "text": [
      "\tcompleted  100  /  500 epochs\n"
     ]
    },
    {
     "name": "stderr",
     "output_type": "stream",
     "text": [
      "Epochs completed:  32%| ███▏       162/500 [00:06]"
     ]
    },
    {
     "name": "stdout",
     "output_type": "stream",
     "text": [
      "\tcompleted  150  /  500 epochs\n"
     ]
    },
    {
     "name": "stderr",
     "output_type": "stream",
     "text": [
      "Epochs completed:  41%| ████       206/500 [00:07]"
     ]
    },
    {
     "name": "stdout",
     "output_type": "stream",
     "text": [
      "\tcompleted  200  /  500 epochs\n"
     ]
    },
    {
     "name": "stderr",
     "output_type": "stream",
     "text": [
      "Epochs completed:  52%| █████▏     258/500 [00:09]"
     ]
    },
    {
     "name": "stdout",
     "output_type": "stream",
     "text": [
      "\tcompleted  250  /  500 epochs\n"
     ]
    },
    {
     "name": "stderr",
     "output_type": "stream",
     "text": [
      "Epochs completed:  61%| ██████     306/500 [00:10]"
     ]
    },
    {
     "name": "stdout",
     "output_type": "stream",
     "text": [
      "\tcompleted  300  /  500 epochs\n"
     ]
    },
    {
     "name": "stderr",
     "output_type": "stream",
     "text": [
      "Epochs completed:  72%| ███████▏   358/500 [00:12]"
     ]
    },
    {
     "name": "stdout",
     "output_type": "stream",
     "text": [
      "\tcompleted  350  /  500 epochs\n"
     ]
    },
    {
     "name": "stderr",
     "output_type": "stream",
     "text": [
      "Epochs completed:  81%| ████████   406/500 [00:13]"
     ]
    },
    {
     "name": "stdout",
     "output_type": "stream",
     "text": [
      "\tcompleted  400  /  500 epochs\n"
     ]
    },
    {
     "name": "stderr",
     "output_type": "stream",
     "text": [
      "Epochs completed:  92%| █████████▏ 458/500 [00:15]"
     ]
    },
    {
     "name": "stdout",
     "output_type": "stream",
     "text": [
      "\tcompleted  450  /  500 epochs\n"
     ]
    },
    {
     "name": "stderr",
     "output_type": "stream",
     "text": [
      "Epochs completed: 100%| ██████████ 500/500 [00:16]\n"
     ]
    },
    {
     "name": "stdout",
     "output_type": "stream",
     "text": [
      "Wed Feb 19 00:46:35 2025 Finished embedding\n",
      "TSNE\n",
      "--------------------------------------------------------------------------------\n",
      "TSNE(early_exaggeration=12, random_state=0, verbose=True)\n",
      "--------------------------------------------------------------------------------\n",
      "===> Finding 90 nearest neighbors using Annoy approximate search using euclidean distance...\n",
      "   --> Time elapsed: 3.94 seconds\n",
      "===> Calculating affinity matrix...\n",
      "   --> Time elapsed: 0.31 seconds\n",
      "===> Calculating PCA-based initialization...\n",
      "   --> Time elapsed: 0.04 seconds\n",
      "===> Running optimization with exaggeration=12.00, lr=517.08 for 250 iterations...\n",
      "Iteration   50, KL divergence 3.1884, 50 iterations in 15.9791 sec\n",
      "Iteration  100, KL divergence 3.0042, 50 iterations in 14.7488 sec\n",
      "Iteration  150, KL divergence 2.9450, 50 iterations in 14.7589 sec\n",
      "Iteration  200, KL divergence 2.9094, 50 iterations in 14.7032 sec\n",
      "Iteration  250, KL divergence 2.8911, 50 iterations in 14.5757 sec\n",
      "   --> Time elapsed: 74.77 seconds\n",
      "===> Running optimization with exaggeration=1.00, lr=6205.00 for 500 iterations...\n",
      "Iteration   50, KL divergence 2.0824, 50 iterations in 13.4155 sec\n",
      "Iteration  100, KL divergence 1.9805, 50 iterations in 12.9560 sec\n",
      "Iteration  150, KL divergence 1.9400, 50 iterations in 13.0229 sec\n",
      "Iteration  200, KL divergence 1.9171, 50 iterations in 13.0591 sec\n",
      "Iteration  250, KL divergence 1.9026, 50 iterations in 13.0908 sec\n",
      "Iteration  300, KL divergence 1.8922, 50 iterations in 13.0749 sec\n",
      "Iteration  350, KL divergence 1.8846, 50 iterations in 13.0631 sec\n",
      "Iteration  400, KL divergence 1.8786, 50 iterations in 13.1364 sec\n",
      "Iteration  450, KL divergence 1.8738, 50 iterations in 13.1498 sec\n",
      "Iteration  500, KL divergence 1.8696, 50 iterations in 13.1350 sec\n",
      "   --> Time elapsed: 131.10 seconds\n",
      "exut-sim-theta-10-real-seqdepths seed: 1 scaled: False\n",
      "PCA2\n",
      "PCA50\n",
      "UMAP\n",
      "UMAP(random_state=1, verbose=True)\n",
      "Wed Feb 19 00:50:06 2025 Construct fuzzy simplicial set\n",
      "Wed Feb 19 00:50:06 2025 Finding Nearest Neighbors\n",
      "Wed Feb 19 00:50:06 2025 Building RP forest with 9 trees\n",
      "Wed Feb 19 00:50:06 2025 NN descent for 13 iterations\n"
     ]
    },
    {
     "name": "stderr",
     "output_type": "stream",
     "text": [
      "/data/cephfs-1/work/groups/ludwig/users/lzaschk_m/miniforge3/envs/elephant_analysis_env/lib/python3.11/site-packages/umap/umap_.py:1943: UserWarning: n_jobs value -1 overridden to 1 by setting random_state. Use no seed for parallelism.\n",
      "  warn(f\"n_jobs value {self.n_jobs} overridden to 1 by setting random_state. Use no seed for parallelism.\")\n"
     ]
    },
    {
     "name": "stdout",
     "output_type": "stream",
     "text": [
      "\t 1  /  13\n",
      "\t 2  /  13\n",
      "\t 3  /  13\n",
      "\t 4  /  13\n",
      "\tStopping threshold met -- exiting after 4 iterations\n",
      "Wed Feb 19 00:50:07 2025 Finished Nearest Neighbor Search\n",
      "Wed Feb 19 00:50:07 2025 Construct embedding\n"
     ]
    },
    {
     "name": "stderr",
     "output_type": "stream",
     "text": [
      "Epochs completed:   2%| ▏          10/500 [00:01]"
     ]
    },
    {
     "name": "stdout",
     "output_type": "stream",
     "text": [
      "\tcompleted  0  /  500 epochs\n"
     ]
    },
    {
     "name": "stderr",
     "output_type": "stream",
     "text": [
      "Epochs completed:  12%| █▏         62/500 [00:02]"
     ]
    },
    {
     "name": "stdout",
     "output_type": "stream",
     "text": [
      "\tcompleted  50  /  500 epochs\n"
     ]
    },
    {
     "name": "stderr",
     "output_type": "stream",
     "text": [
      "Epochs completed:  22%| ██▏        110/500 [00:04]"
     ]
    },
    {
     "name": "stdout",
     "output_type": "stream",
     "text": [
      "\tcompleted  100  /  500 epochs\n"
     ]
    },
    {
     "name": "stderr",
     "output_type": "stream",
     "text": [
      "Epochs completed:  32%| ███▏       158/500 [00:05]"
     ]
    },
    {
     "name": "stdout",
     "output_type": "stream",
     "text": [
      "\tcompleted  150  /  500 epochs\n"
     ]
    },
    {
     "name": "stderr",
     "output_type": "stream",
     "text": [
      "Epochs completed:  42%| ████▏      210/500 [00:07]"
     ]
    },
    {
     "name": "stdout",
     "output_type": "stream",
     "text": [
      "\tcompleted  200  /  500 epochs\n"
     ]
    },
    {
     "name": "stderr",
     "output_type": "stream",
     "text": [
      "Epochs completed:  52%| █████▏     258/500 [00:08]"
     ]
    },
    {
     "name": "stdout",
     "output_type": "stream",
     "text": [
      "\tcompleted  250  /  500 epochs\n"
     ]
    },
    {
     "name": "stderr",
     "output_type": "stream",
     "text": [
      "Epochs completed:  62%| ██████▏    310/500 [00:10]"
     ]
    },
    {
     "name": "stdout",
     "output_type": "stream",
     "text": [
      "\tcompleted  300  /  500 epochs\n"
     ]
    },
    {
     "name": "stderr",
     "output_type": "stream",
     "text": [
      "Epochs completed:  72%| ███████▏   362/500 [00:12]"
     ]
    },
    {
     "name": "stdout",
     "output_type": "stream",
     "text": [
      "\tcompleted  350  /  500 epochs\n"
     ]
    },
    {
     "name": "stderr",
     "output_type": "stream",
     "text": [
      "Epochs completed:  81%| ████████   406/500 [00:13]"
     ]
    },
    {
     "name": "stdout",
     "output_type": "stream",
     "text": [
      "\tcompleted  400  /  500 epochs\n"
     ]
    },
    {
     "name": "stderr",
     "output_type": "stream",
     "text": [
      "Epochs completed:  92%| █████████▏ 458/500 [00:15]"
     ]
    },
    {
     "name": "stdout",
     "output_type": "stream",
     "text": [
      "\tcompleted  450  /  500 epochs\n"
     ]
    },
    {
     "name": "stderr",
     "output_type": "stream",
     "text": [
      "Epochs completed: 100%| ██████████ 500/500 [00:16]\n"
     ]
    },
    {
     "name": "stdout",
     "output_type": "stream",
     "text": [
      "Wed Feb 19 00:50:24 2025 Finished embedding\n",
      "TSNE\n",
      "--------------------------------------------------------------------------------\n",
      "TSNE(early_exaggeration=12, random_state=1, verbose=True)\n",
      "--------------------------------------------------------------------------------\n",
      "===> Finding 90 nearest neighbors using Annoy approximate search using euclidean distance...\n",
      "   --> Time elapsed: 3.92 seconds\n",
      "===> Calculating affinity matrix...\n",
      "   --> Time elapsed: 0.30 seconds\n",
      "===> Calculating PCA-based initialization...\n",
      "   --> Time elapsed: 0.06 seconds\n",
      "===> Running optimization with exaggeration=12.00, lr=517.08 for 250 iterations...\n",
      "Iteration   50, KL divergence 3.1630, 50 iterations in 15.8424 sec\n",
      "Iteration  100, KL divergence 3.0022, 50 iterations in 14.8436 sec\n",
      "Iteration  150, KL divergence 2.9379, 50 iterations in 14.6343 sec\n",
      "Iteration  200, KL divergence 2.9080, 50 iterations in 14.3511 sec\n",
      "Iteration  250, KL divergence 2.8916, 50 iterations in 14.3614 sec\n",
      "   --> Time elapsed: 74.03 seconds\n",
      "===> Running optimization with exaggeration=1.00, lr=6205.00 for 500 iterations...\n",
      "Iteration   50, KL divergence 2.0795, 50 iterations in 13.5486 sec\n",
      "Iteration  100, KL divergence 1.9802, 50 iterations in 12.9855 sec\n",
      "Iteration  150, KL divergence 1.9411, 50 iterations in 12.8004 sec\n",
      "Iteration  200, KL divergence 1.9198, 50 iterations in 12.7370 sec\n",
      "Iteration  250, KL divergence 1.9059, 50 iterations in 12.7249 sec\n",
      "Iteration  300, KL divergence 1.8961, 50 iterations in 12.7374 sec\n",
      "Iteration  350, KL divergence 1.8884, 50 iterations in 12.7274 sec\n",
      "Iteration  400, KL divergence 1.8822, 50 iterations in 12.7587 sec\n",
      "Iteration  450, KL divergence 1.8772, 50 iterations in 12.8066 sec\n",
      "Iteration  500, KL divergence 1.8731, 50 iterations in 12.7817 sec\n",
      "   --> Time elapsed: 128.61 seconds\n",
      "exut-sim-theta-10-real-seqdepths seed: 2 scaled: False\n",
      "PCA2\n",
      "PCA50\n",
      "UMAP\n",
      "UMAP(random_state=2, verbose=True)\n",
      "Wed Feb 19 00:53:52 2025 Construct fuzzy simplicial set\n",
      "Wed Feb 19 00:53:52 2025 Finding Nearest Neighbors\n",
      "Wed Feb 19 00:53:52 2025 Building RP forest with 9 trees\n",
      "Wed Feb 19 00:53:52 2025 NN descent for 13 iterations\n"
     ]
    },
    {
     "name": "stderr",
     "output_type": "stream",
     "text": [
      "/data/cephfs-1/work/groups/ludwig/users/lzaschk_m/miniforge3/envs/elephant_analysis_env/lib/python3.11/site-packages/umap/umap_.py:1943: UserWarning: n_jobs value -1 overridden to 1 by setting random_state. Use no seed for parallelism.\n",
      "  warn(f\"n_jobs value {self.n_jobs} overridden to 1 by setting random_state. Use no seed for parallelism.\")\n"
     ]
    },
    {
     "name": "stdout",
     "output_type": "stream",
     "text": [
      "\t 1  /  13\n",
      "\t 2  /  13\n",
      "\t 3  /  13\n",
      "\t 4  /  13\n",
      "\tStopping threshold met -- exiting after 4 iterations\n",
      "Wed Feb 19 00:53:52 2025 Finished Nearest Neighbor Search\n",
      "Wed Feb 19 00:53:52 2025 Construct embedding\n"
     ]
    },
    {
     "name": "stderr",
     "output_type": "stream",
     "text": [
      "Epochs completed:   2%| ▏          10/500 [00:01]"
     ]
    },
    {
     "name": "stdout",
     "output_type": "stream",
     "text": [
      "\tcompleted  0  /  500 epochs\n"
     ]
    },
    {
     "name": "stderr",
     "output_type": "stream",
     "text": [
      "Epochs completed:  12%| █▏         58/500 [00:02]"
     ]
    },
    {
     "name": "stdout",
     "output_type": "stream",
     "text": [
      "\tcompleted  50  /  500 epochs\n"
     ]
    },
    {
     "name": "stderr",
     "output_type": "stream",
     "text": [
      "Epochs completed:  21%| ██         106/500 [00:04]"
     ]
    },
    {
     "name": "stdout",
     "output_type": "stream",
     "text": [
      "\tcompleted  100  /  500 epochs\n"
     ]
    },
    {
     "name": "stderr",
     "output_type": "stream",
     "text": [
      "Epochs completed:  32%| ███▏       162/500 [00:05]"
     ]
    },
    {
     "name": "stdout",
     "output_type": "stream",
     "text": [
      "\tcompleted  150  /  500 epochs\n"
     ]
    },
    {
     "name": "stderr",
     "output_type": "stream",
     "text": [
      "Epochs completed:  41%| ████       206/500 [00:07]"
     ]
    },
    {
     "name": "stdout",
     "output_type": "stream",
     "text": [
      "\tcompleted  200  /  500 epochs\n"
     ]
    },
    {
     "name": "stderr",
     "output_type": "stream",
     "text": [
      "Epochs completed:  52%| █████▏     258/500 [00:08]"
     ]
    },
    {
     "name": "stdout",
     "output_type": "stream",
     "text": [
      "\tcompleted  250  /  500 epochs\n"
     ]
    },
    {
     "name": "stderr",
     "output_type": "stream",
     "text": [
      "Epochs completed:  61%| ██████     306/500 [00:10]"
     ]
    },
    {
     "name": "stdout",
     "output_type": "stream",
     "text": [
      "\tcompleted  300  /  500 epochs\n"
     ]
    },
    {
     "name": "stderr",
     "output_type": "stream",
     "text": [
      "Epochs completed:  72%| ███████▏   362/500 [00:12]"
     ]
    },
    {
     "name": "stdout",
     "output_type": "stream",
     "text": [
      "\tcompleted  350  /  500 epochs\n"
     ]
    },
    {
     "name": "stderr",
     "output_type": "stream",
     "text": [
      "Epochs completed:  81%| ████████   406/500 [00:13]"
     ]
    },
    {
     "name": "stdout",
     "output_type": "stream",
     "text": [
      "\tcompleted  400  /  500 epochs\n"
     ]
    },
    {
     "name": "stderr",
     "output_type": "stream",
     "text": [
      "Epochs completed:  92%| █████████▏ 458/500 [00:15]"
     ]
    },
    {
     "name": "stdout",
     "output_type": "stream",
     "text": [
      "\tcompleted  450  /  500 epochs\n"
     ]
    },
    {
     "name": "stderr",
     "output_type": "stream",
     "text": [
      "Epochs completed: 100%| ██████████ 500/500 [00:16]\n"
     ]
    },
    {
     "name": "stdout",
     "output_type": "stream",
     "text": [
      "Wed Feb 19 00:54:09 2025 Finished embedding\n",
      "TSNE\n",
      "--------------------------------------------------------------------------------\n",
      "TSNE(early_exaggeration=12, random_state=2, verbose=True)\n",
      "--------------------------------------------------------------------------------\n",
      "===> Finding 90 nearest neighbors using Annoy approximate search using euclidean distance...\n",
      "   --> Time elapsed: 3.94 seconds\n",
      "===> Calculating affinity matrix...\n",
      "   --> Time elapsed: 0.30 seconds\n",
      "===> Calculating PCA-based initialization...\n",
      "   --> Time elapsed: 0.02 seconds\n",
      "===> Running optimization with exaggeration=12.00, lr=517.08 for 250 iterations...\n",
      "Iteration   50, KL divergence 3.1604, 50 iterations in 15.8823 sec\n",
      "Iteration  100, KL divergence 3.0004, 50 iterations in 14.4917 sec\n",
      "Iteration  150, KL divergence 2.9367, 50 iterations in 14.2923 sec\n",
      "Iteration  200, KL divergence 2.9070, 50 iterations in 14.1578 sec\n",
      "Iteration  250, KL divergence 2.8899, 50 iterations in 14.1500 sec\n",
      "   --> Time elapsed: 72.97 seconds\n",
      "===> Running optimization with exaggeration=1.00, lr=6205.00 for 500 iterations...\n",
      "Iteration   50, KL divergence 2.0765, 50 iterations in 13.3723 sec\n",
      "Iteration  100, KL divergence 1.9786, 50 iterations in 12.7953 sec\n",
      "Iteration  150, KL divergence 1.9386, 50 iterations in 12.6821 sec\n",
      "Iteration  200, KL divergence 1.9167, 50 iterations in 12.8321 sec\n",
      "Iteration  250, KL divergence 1.9022, 50 iterations in 12.8027 sec\n",
      "Iteration  300, KL divergence 1.8921, 50 iterations in 12.7687 sec\n",
      "Iteration  350, KL divergence 1.8845, 50 iterations in 12.7585 sec\n",
      "Iteration  400, KL divergence 1.8784, 50 iterations in 12.6572 sec\n",
      "Iteration  450, KL divergence 1.8737, 50 iterations in 12.6020 sec\n",
      "Iteration  500, KL divergence 1.8696, 50 iterations in 12.6611 sec\n",
      "   --> Time elapsed: 127.93 seconds\n",
      "exut-sim-theta-10-real-seqdepths seed: 3 scaled: False\n",
      "PCA2\n",
      "PCA50\n",
      "UMAP\n",
      "UMAP(random_state=3, verbose=True)\n",
      "Wed Feb 19 00:57:36 2025 Construct fuzzy simplicial set\n",
      "Wed Feb 19 00:57:36 2025 Finding Nearest Neighbors\n",
      "Wed Feb 19 00:57:36 2025 Building RP forest with 9 trees\n",
      "Wed Feb 19 00:57:36 2025 NN descent for 13 iterations\n"
     ]
    },
    {
     "name": "stderr",
     "output_type": "stream",
     "text": [
      "/data/cephfs-1/work/groups/ludwig/users/lzaschk_m/miniforge3/envs/elephant_analysis_env/lib/python3.11/site-packages/umap/umap_.py:1943: UserWarning: n_jobs value -1 overridden to 1 by setting random_state. Use no seed for parallelism.\n",
      "  warn(f\"n_jobs value {self.n_jobs} overridden to 1 by setting random_state. Use no seed for parallelism.\")\n"
     ]
    },
    {
     "name": "stdout",
     "output_type": "stream",
     "text": [
      "\t 1  /  13\n",
      "\t 2  /  13\n",
      "\t 3  /  13\n",
      "\t 4  /  13\n",
      "\t 5  /  13\n",
      "\tStopping threshold met -- exiting after 5 iterations\n",
      "Wed Feb 19 00:57:36 2025 Finished Nearest Neighbor Search\n",
      "Wed Feb 19 00:57:36 2025 Construct embedding\n"
     ]
    },
    {
     "name": "stderr",
     "output_type": "stream",
     "text": [
      "Epochs completed:   1%| ▏          7/500 [00:01]"
     ]
    },
    {
     "name": "stdout",
     "output_type": "stream",
     "text": [
      "\tcompleted  0  /  500 epochs\n"
     ]
    },
    {
     "name": "stderr",
     "output_type": "stream",
     "text": [
      "Epochs completed:  11%| █          55/500 [00:02]"
     ]
    },
    {
     "name": "stdout",
     "output_type": "stream",
     "text": [
      "\tcompleted  50  /  500 epochs\n"
     ]
    },
    {
     "name": "stderr",
     "output_type": "stream",
     "text": [
      "Epochs completed:  21%| ██▏        107/500 [00:04]"
     ]
    },
    {
     "name": "stdout",
     "output_type": "stream",
     "text": [
      "\tcompleted  100  /  500 epochs\n"
     ]
    },
    {
     "name": "stderr",
     "output_type": "stream",
     "text": [
      "Epochs completed:  31%| ███        155/500 [00:05]"
     ]
    },
    {
     "name": "stdout",
     "output_type": "stream",
     "text": [
      "\tcompleted  150  /  500 epochs\n"
     ]
    },
    {
     "name": "stderr",
     "output_type": "stream",
     "text": [
      "Epochs completed:  41%| ████▏      207/500 [00:07]"
     ]
    },
    {
     "name": "stdout",
     "output_type": "stream",
     "text": [
      "\tcompleted  200  /  500 epochs\n"
     ]
    },
    {
     "name": "stderr",
     "output_type": "stream",
     "text": [
      "Epochs completed:  51%| █████      255/500 [00:08]"
     ]
    },
    {
     "name": "stdout",
     "output_type": "stream",
     "text": [
      "\tcompleted  250  /  500 epochs\n"
     ]
    },
    {
     "name": "stderr",
     "output_type": "stream",
     "text": [
      "Epochs completed:  61%| ██████▏    307/500 [00:10]"
     ]
    },
    {
     "name": "stdout",
     "output_type": "stream",
     "text": [
      "\tcompleted  300  /  500 epochs\n"
     ]
    },
    {
     "name": "stderr",
     "output_type": "stream",
     "text": [
      "Epochs completed:  72%| ███████▏   359/500 [00:12]"
     ]
    },
    {
     "name": "stdout",
     "output_type": "stream",
     "text": [
      "\tcompleted  350  /  500 epochs\n"
     ]
    },
    {
     "name": "stderr",
     "output_type": "stream",
     "text": [
      "Epochs completed:  82%| ████████▏  411/500 [00:13]"
     ]
    },
    {
     "name": "stdout",
     "output_type": "stream",
     "text": [
      "\tcompleted  400  /  500 epochs\n"
     ]
    },
    {
     "name": "stderr",
     "output_type": "stream",
     "text": [
      "Epochs completed:  92%| █████████▏ 459/500 [00:15]"
     ]
    },
    {
     "name": "stdout",
     "output_type": "stream",
     "text": [
      "\tcompleted  450  /  500 epochs\n"
     ]
    },
    {
     "name": "stderr",
     "output_type": "stream",
     "text": [
      "Epochs completed: 100%| ██████████ 500/500 [00:16]\n"
     ]
    },
    {
     "name": "stdout",
     "output_type": "stream",
     "text": [
      "Wed Feb 19 00:57:53 2025 Finished embedding\n",
      "TSNE\n",
      "--------------------------------------------------------------------------------\n",
      "TSNE(early_exaggeration=12, random_state=3, verbose=True)\n",
      "--------------------------------------------------------------------------------\n",
      "===> Finding 90 nearest neighbors using Annoy approximate search using euclidean distance...\n",
      "   --> Time elapsed: 3.94 seconds\n",
      "===> Calculating affinity matrix...\n",
      "   --> Time elapsed: 0.31 seconds\n",
      "===> Calculating PCA-based initialization...\n",
      "   --> Time elapsed: 0.03 seconds\n",
      "===> Running optimization with exaggeration=12.00, lr=517.08 for 250 iterations...\n",
      "Iteration   50, KL divergence 3.1769, 50 iterations in 15.9866 sec\n",
      "Iteration  100, KL divergence 3.0120, 50 iterations in 15.1590 sec\n",
      "Iteration  150, KL divergence 2.9412, 50 iterations in 14.8412 sec\n",
      "Iteration  200, KL divergence 2.9083, 50 iterations in 14.6252 sec\n",
      "Iteration  250, KL divergence 2.8917, 50 iterations in 14.6875 sec\n",
      "   --> Time elapsed: 75.30 seconds\n",
      "===> Running optimization with exaggeration=1.00, lr=6205.00 for 500 iterations...\n",
      "Iteration   50, KL divergence 2.0875, 50 iterations in 13.6296 sec\n",
      "Iteration  100, KL divergence 1.9857, 50 iterations in 13.2495 sec\n",
      "Iteration  150, KL divergence 1.9431, 50 iterations in 13.2723 sec\n",
      "Iteration  200, KL divergence 1.9199, 50 iterations in 13.2923 sec\n",
      "Iteration  250, KL divergence 1.9046, 50 iterations in 13.1958 sec\n",
      "Iteration  300, KL divergence 1.8940, 50 iterations in 13.1171 sec\n",
      "Iteration  350, KL divergence 1.8859, 50 iterations in 13.1492 sec\n",
      "Iteration  400, KL divergence 1.8796, 50 iterations in 13.1259 sec\n",
      "Iteration  450, KL divergence 1.8746, 50 iterations in 13.1447 sec\n",
      "Iteration  500, KL divergence 1.8705, 50 iterations in 13.2031 sec\n",
      "   --> Time elapsed: 132.38 seconds\n",
      "exut-sim-theta-10-real-seqdepths seed: 4 scaled: False\n",
      "PCA2\n",
      "PCA50\n",
      "UMAP\n",
      "UMAP(random_state=4, verbose=True)\n",
      "Wed Feb 19 01:01:26 2025 Construct fuzzy simplicial set\n",
      "Wed Feb 19 01:01:26 2025 Finding Nearest Neighbors\n",
      "Wed Feb 19 01:01:26 2025 Building RP forest with 9 trees\n"
     ]
    },
    {
     "name": "stderr",
     "output_type": "stream",
     "text": [
      "/data/cephfs-1/work/groups/ludwig/users/lzaschk_m/miniforge3/envs/elephant_analysis_env/lib/python3.11/site-packages/umap/umap_.py:1943: UserWarning: n_jobs value -1 overridden to 1 by setting random_state. Use no seed for parallelism.\n",
      "  warn(f\"n_jobs value {self.n_jobs} overridden to 1 by setting random_state. Use no seed for parallelism.\")\n"
     ]
    },
    {
     "name": "stdout",
     "output_type": "stream",
     "text": [
      "Wed Feb 19 01:01:26 2025 NN descent for 13 iterations\n",
      "\t 1  /  13\n",
      "\t 2  /  13\n",
      "\t 3  /  13\n",
      "\t 4  /  13\n",
      "\t 5  /  13\n",
      "\tStopping threshold met -- exiting after 5 iterations\n",
      "Wed Feb 19 01:01:27 2025 Finished Nearest Neighbor Search\n",
      "Wed Feb 19 01:01:27 2025 Construct embedding\n"
     ]
    },
    {
     "name": "stderr",
     "output_type": "stream",
     "text": [
      "Epochs completed:   2%| ▏          10/500 [00:01]"
     ]
    },
    {
     "name": "stdout",
     "output_type": "stream",
     "text": [
      "\tcompleted  0  /  500 epochs\n"
     ]
    },
    {
     "name": "stderr",
     "output_type": "stream",
     "text": [
      "Epochs completed:  12%| █▏         58/500 [00:02]"
     ]
    },
    {
     "name": "stdout",
     "output_type": "stream",
     "text": [
      "\tcompleted  50  /  500 epochs\n"
     ]
    },
    {
     "name": "stderr",
     "output_type": "stream",
     "text": [
      "Epochs completed:  22%| ██▏        110/500 [00:04]"
     ]
    },
    {
     "name": "stdout",
     "output_type": "stream",
     "text": [
      "\tcompleted  100  /  500 epochs\n"
     ]
    },
    {
     "name": "stderr",
     "output_type": "stream",
     "text": [
      "Epochs completed:  32%| ███▏       162/500 [00:06]"
     ]
    },
    {
     "name": "stdout",
     "output_type": "stream",
     "text": [
      "\tcompleted  150  /  500 epochs\n"
     ]
    },
    {
     "name": "stderr",
     "output_type": "stream",
     "text": [
      "Epochs completed:  42%| ████▏      210/500 [00:07]"
     ]
    },
    {
     "name": "stdout",
     "output_type": "stream",
     "text": [
      "\tcompleted  200  /  500 epochs\n"
     ]
    },
    {
     "name": "stderr",
     "output_type": "stream",
     "text": [
      "Epochs completed:  52%| █████▏     258/500 [00:09]"
     ]
    },
    {
     "name": "stdout",
     "output_type": "stream",
     "text": [
      "\tcompleted  250  /  500 epochs\n"
     ]
    },
    {
     "name": "stderr",
     "output_type": "stream",
     "text": [
      "Epochs completed:  62%| ██████▏    310/500 [00:10]"
     ]
    },
    {
     "name": "stdout",
     "output_type": "stream",
     "text": [
      "\tcompleted  300  /  500 epochs\n"
     ]
    },
    {
     "name": "stderr",
     "output_type": "stream",
     "text": [
      "Epochs completed:  72%| ███████▏   358/500 [00:12]"
     ]
    },
    {
     "name": "stdout",
     "output_type": "stream",
     "text": [
      "\tcompleted  350  /  500 epochs\n"
     ]
    },
    {
     "name": "stderr",
     "output_type": "stream",
     "text": [
      "Epochs completed:  82%| ████████▏  410/500 [00:14]"
     ]
    },
    {
     "name": "stdout",
     "output_type": "stream",
     "text": [
      "\tcompleted  400  /  500 epochs\n"
     ]
    },
    {
     "name": "stderr",
     "output_type": "stream",
     "text": [
      "Epochs completed:  92%| █████████▏ 458/500 [00:15]"
     ]
    },
    {
     "name": "stdout",
     "output_type": "stream",
     "text": [
      "\tcompleted  450  /  500 epochs\n"
     ]
    },
    {
     "name": "stderr",
     "output_type": "stream",
     "text": [
      "Epochs completed: 100%| ██████████ 500/500 [00:16]\n"
     ]
    },
    {
     "name": "stdout",
     "output_type": "stream",
     "text": [
      "Wed Feb 19 01:01:44 2025 Finished embedding\n",
      "TSNE\n",
      "--------------------------------------------------------------------------------\n",
      "TSNE(early_exaggeration=12, random_state=4, verbose=True)\n",
      "--------------------------------------------------------------------------------\n",
      "===> Finding 90 nearest neighbors using Annoy approximate search using euclidean distance...\n",
      "   --> Time elapsed: 3.94 seconds\n",
      "===> Calculating affinity matrix...\n",
      "   --> Time elapsed: 0.31 seconds\n",
      "===> Calculating PCA-based initialization...\n",
      "   --> Time elapsed: 0.06 seconds\n",
      "===> Running optimization with exaggeration=12.00, lr=517.08 for 250 iterations...\n",
      "Iteration   50, KL divergence 3.1905, 50 iterations in 15.8611 sec\n",
      "Iteration  100, KL divergence 3.0195, 50 iterations in 14.7147 sec\n",
      "Iteration  150, KL divergence 2.9524, 50 iterations in 14.2060 sec\n",
      "Iteration  200, KL divergence 2.9190, 50 iterations in 14.3387 sec\n",
      "Iteration  250, KL divergence 2.8997, 50 iterations in 14.3771 sec\n",
      "   --> Time elapsed: 73.50 seconds\n",
      "===> Running optimization with exaggeration=1.00, lr=6205.00 for 500 iterations...\n",
      "Iteration   50, KL divergence 2.0871, 50 iterations in 13.5689 sec\n",
      "Iteration  100, KL divergence 1.9860, 50 iterations in 12.9351 sec\n",
      "Iteration  150, KL divergence 1.9458, 50 iterations in 12.8692 sec\n",
      "Iteration  200, KL divergence 1.9235, 50 iterations in 12.9169 sec\n",
      "Iteration  250, KL divergence 1.9088, 50 iterations in 12.9267 sec\n",
      "Iteration  300, KL divergence 1.8986, 50 iterations in 12.8525 sec\n",
      "Iteration  350, KL divergence 1.8910, 50 iterations in 12.8104 sec\n",
      "Iteration  400, KL divergence 1.8848, 50 iterations in 12.8374 sec\n",
      "Iteration  450, KL divergence 1.8797, 50 iterations in 12.8788 sec\n",
      "Iteration  500, KL divergence 1.8752, 50 iterations in 12.8407 sec\n",
      "   --> Time elapsed: 129.44 seconds\n"
     ]
    },
    {
     "data": {
      "text/plain": [
       "[None, None, None, None, None]"
      ]
     },
     "execution_count": 6,
     "metadata": {},
     "output_type": "execute_result"
    }
   ],
   "source": [
    "[compute_embeddings(ad=ad,seeds=np.arange(5)) for ad in datasets]"
   ]
  },
  {
   "cell_type": "markdown",
   "id": "9acd584a-1520-4a8d-ace2-f6f9536bbef3",
   "metadata": {},
   "source": [
    "### Package versions"
   ]
  },
  {
   "cell_type": "code",
   "execution_count": 6,
   "id": "219d702c-dd81-40da-81bf-dbf62bbaf1f0",
   "metadata": {
    "tags": []
   },
   "outputs": [
    {
     "data": {
      "text/plain": [
       "'1.24.3'"
      ]
     },
     "execution_count": 6,
     "metadata": {},
     "output_type": "execute_result"
    }
   ],
   "source": [
    "np.__version__"
   ]
  },
  {
   "cell_type": "code",
   "execution_count": 7,
   "id": "49c79276-0eca-4f74-87c0-fd40d09c24ed",
   "metadata": {
    "tags": []
   },
   "outputs": [
    {
     "data": {
      "text/plain": [
       "'0.10.3'"
      ]
     },
     "execution_count": 7,
     "metadata": {},
     "output_type": "execute_result"
    }
   ],
   "source": [
    "anndata.__version__"
   ]
  },
  {
   "cell_type": "code",
   "execution_count": 8,
   "id": "0f3632c4-64eb-4987-8774-9b46ca2d9176",
   "metadata": {
    "tags": []
   },
   "outputs": [
    {
     "data": {
      "text/plain": [
       "'1.3.0'"
      ]
     },
     "execution_count": 8,
     "metadata": {},
     "output_type": "execute_result"
    }
   ],
   "source": [
    "import sklearn; sklearn.__version__"
   ]
  },
  {
   "cell_type": "code",
   "execution_count": 9,
   "id": "6ac6198c-2bd5-4c18-b67b-1a2a16ec41cb",
   "metadata": {
    "tags": []
   },
   "outputs": [
    {
     "data": {
      "text/plain": [
       "'0.5.5'"
      ]
     },
     "execution_count": 9,
     "metadata": {},
     "output_type": "execute_result"
    }
   ],
   "source": [
    "import umap; umap.__version__"
   ]
  },
  {
   "cell_type": "code",
   "execution_count": 10,
   "id": "65aff982-3363-4eb4-85b7-9a23b55811e9",
   "metadata": {
    "tags": []
   },
   "outputs": [
    {
     "data": {
      "text/plain": [
       "'1.0.1'"
      ]
     },
     "execution_count": 10,
     "metadata": {},
     "output_type": "execute_result"
    }
   ],
   "source": [
    "import openTSNE; openTSNE.__version__"
   ]
  },
  {
   "cell_type": "code",
   "execution_count": null,
   "id": "c561d729-0d8f-4290-a58d-3ecb381fc56d",
   "metadata": {},
   "outputs": [],
   "source": []
  }
 ],
 "metadata": {
  "kernelspec": {
   "display_name": "Python 3 (ipykernel)",
   "language": "python",
   "name": "python3"
  },
  "language_info": {
   "codemirror_mode": {
    "name": "ipython",
    "version": 3
   },
   "file_extension": ".py",
   "mimetype": "text/x-python",
   "name": "python",
   "nbconvert_exporter": "python",
   "pygments_lexer": "ipython3",
   "version": "3.11.5"
  },
  "toc-autonumbering": true
 },
 "nbformat": 4,
 "nbformat_minor": 5
}
